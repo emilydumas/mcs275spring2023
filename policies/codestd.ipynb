{
 "cells": [
  {
   "cell_type": "markdown",
   "id": "3e3e41b4",
   "metadata": {},
   "source": [
    "# MCS 275 - Spring 2023 - Emily Dumas\n",
    "## Coding standards"
   ]
  },
  {
   "cell_type": "markdown",
   "id": "2811c1cd",
   "metadata": {},
   "source": [
    "## Enforcement\n",
    "\n",
    "To receive full credit, Python code submitted for a graded MCS 275 assignment must follow the rules in this document.\n",
    "\n",
    "There are several rules, and we know it may take time to learn them. The level of enforcement will be increased over time, with feedback but no point deduction for most infractions of these rules on the first\n",
    "homework."
   ]
  },
  {
   "cell_type": "markdown",
   "id": "aa42eb5d",
   "metadata": {},
   "source": [
    "## Requirements\n",
    "\n",
    "This is the only section of the document you absolutely need to read.  The rest of the document might help you understand these rules better, but the rules themselves are just:\n",
    "\n",
    "* **CS1 - Header:** The first few lines of the main Python file of any assignment must be comment lines (i.e. start with `#`), and these lines must contain this information:\n",
    "    * The course (MCS 275 Spring 2023) and assignment (e.g. Homework 5 or Project 3)\n",
    "    * Your name\n",
    "    * A statement about whether you are the author of the work, and whether you followed the rules in the syllabus.  (Sometimes you will be given template code to modify and submit, in which case the expected answer is that you are the author of the changes to the provided template.)\n",
    "    \n",
    "* **CS2 - Docstrings:** Every function, module, and class must have a descriptive docstring (a string literal, not a comment, that is the first statement in a module, class body, or function body).  *Descriptive* means that it explains *what* the code does (without much concern for *how* it does it).\n",
    "\n",
    "* **CS3 - Comments:** Explanatory text is included, when appropriate, in the form of comment lines (starting with `#`) and not in any other way.  For example, including string literals with explanatory text is not acceptable unless the string literal is a docstring.  Comments are appropriate to explain *why* and *how* things are done.\n",
    "\n",
    "* **CS4 - Names:** Names of functions, variables, and classes should be descriptive and not abbreviated to the point of incomprehensibility. Iterator variables used in a short loop or comprehension are exceptions, where single character or abbreviated names are permitted.\n",
    "\n",
    "* **CS5 - Indenting:** Each indented code block should be indented by the same amount relative to the surrounding code, and that amount must be at least two spaces (preferred) or one tab (discouraged).\n",
    "\n",
    "* **CS6 - Avoid pointless conversions:** Don’t use `str()` on something that is already a string, don't use `int()` on something that is already an integer, don’t convert a string to a list just to index it (strings already support indexing!), etc.\n",
    "\n",
    "* **CS7 - Forbidden `range(len())`:** In most cases, if `range(len(...))` appears in your code, there is a preferred alternative that uses Python's iteration features in a more natural way that you must use instead.  If you think you are in one of the rare situations where `range(len(...))` should appear, ask the instructor or TA for advice before proceeding."
   ]
  },
  {
   "cell_type": "markdown",
   "id": "ec751ecb",
   "metadata": {},
   "source": [
    "## Examples and discussion\n",
    "\n",
    "The list of requirements from Section 2 is duplicated here, with a rationale for each rule and at least one code example.\n"
   ]
  },
  {
   "cell_type": "markdown",
   "id": "9d715d35",
   "metadata": {},
   "source": [
    "### CS1 - Header\n",
    "\n",
    "> The first few lines of the main Python file of any assignment must be comment lines (i.e. start with `#`), and these lines must contain this information:\n",
    ">     * The course (MCS 275 Spring 2023) and assignment (e.g. Homework 5 or Project 3)\n",
    ">     * Your name\n",
    ">     * A statement about whether you are the author of the work, and whether you followed the rules in the syllabus.  (Sometimes you will be given template code to modify and submit, in which case the expected answer is that you are the author of the changes to the provided template.)"
   ]
  },
  {
   "cell_type": "markdown",
   "id": "73457066",
   "metadata": {},
   "source": [
    "#### Why we have this rule\n",
    "\n",
    "Several reasons:\n",
    "\n",
    "* It is helpful to have this header in your source file to avoid any accidental confusion between different students' submissions during the grading and testing process.  We take other steps to avoid that as well, but this label is an extra layer of protection against mistakes.\n",
    "\n",
    "* We want the existence of rules about collaboration, use of external resources, etc., to be evident in every aspect of the course, to avoid surprises.  Asking you to write a statement about following those rules builds a quick reminder of this into each assignement."
   ]
  },
  {
   "cell_type": "markdown",
   "id": "e8b4b483",
   "metadata": {},
   "source": [
    "#### <span style=\"color: green\">Compliant example</span>\n",
    "For a Python file written by a student from scratch.  It includes a docstring after the header, too, and while the header includes \"metadata\" like the student name and assignment number, the docstring is the only part that is a description of the file contents."
   ]
  },
  {
   "cell_type": "code",
   "execution_count": null,
   "id": "3879bdd0",
   "metadata": {},
   "outputs": [],
   "source": [
    "# MCS 275 Spring 2023 Homework 38\n",
    "# Marie Curie\n",
    "# I am the sole author of this program, and I followed the rules given\n",
    "# in the assignment and in the course syllabus.\n",
    "\"\"\"\n",
    "Program to convert electrical discharge measurements into\n",
    "estimate of radioactivity of a sample.\n",
    "\"\"\""
   ]
  },
  {
   "cell_type": "markdown",
   "id": "cb77ea48",
   "metadata": {},
   "source": [
    "#### <span style=\"color: green\">Compliant example</span>\n",
    "For an assignment where the course staff provide\n",
    "some kind of template code that students are expected to modify or add to."
   ]
  },
  {
   "cell_type": "code",
   "execution_count": null,
   "id": "a04482b9",
   "metadata": {},
   "outputs": [],
   "source": [
    "# MCS 275 Spring 2023 Homework 38\n",
    "# Emmy Noether\n",
    "# I am the sole author of the changes to the template that was provided\n",
    "# by course staff, and I followed the rules in the course syllabus and assignment.\n",
    "\"\"\"\n",
    "Given a symmetry of a physical system, find an expression for the\n",
    "corresponding conserved quantity.\n",
    "\"\"\""
   ]
  },
  {
   "cell_type": "markdown",
   "id": "ea82eaf8",
   "metadata": {},
   "source": [
    "### CS2 - Docstrings\n",
    "\n",
    "> Every function, module, and class must have a descriptive docstring (a string literal, not a comment, that is the first statement in a module, class body, or function body).  *Descriptive* means that it explains *what* the code does (without much concern for *how* it does it)."
   ]
  },
  {
   "cell_type": "markdown",
   "id": "2b1ac15a",
   "metadata": {},
   "source": [
    "#### Why we have this rule\n",
    "\n",
    "Documentation is extremely important in computer programming.  Being able to explain your work and ideas in written form is broadly important throughout computer science (indeed all of science).\n",
    "\n",
    "Python has a dedicated feature for connecting a short documentation string (docstring) with logical units of a program (modules, classes, functions) in a way that is understood and used by the Python interpreter.  For example, the docstring of a module, class, or function will be shown if you ask the interpreter for `help()` on an object.  Always including docstrings is a good practice, and one that is helpful for anyone who reads your code (e.g. course staff)."
   ]
  },
  {
   "cell_type": "markdown",
   "id": "5ec102d7",
   "metadata": {},
   "source": [
    "#### <span style=\"color: red\">Non-compliant example</span>\n",
    "\n",
    "This function lacks a docstring."
   ]
  },
  {
   "cell_type": "code",
   "execution_count": null,
   "id": "24a5d269",
   "metadata": {},
   "outputs": [],
   "source": [
    "def prefix(s):\n",
    "    # <-- PROBLEM HERE\n",
    "    return s[:3]"
   ]
  },
  {
   "cell_type": "markdown",
   "id": "19781122",
   "metadata": {},
   "source": [
    "#### <span style=\"color: green\">Compliant example</span>\n",
    "This modified version is acceptable."
   ]
  },
  {
   "cell_type": "code",
   "execution_count": null,
   "id": "d4217bf8",
   "metadata": {},
   "outputs": [],
   "source": [
    "def prefix(s):\n",
    "    \"\"\"Return the first three characters of a string ‘s‘\"\"\"\n",
    "    return s[:3]"
   ]
  },
  {
   "cell_type": "markdown",
   "id": "1b990612",
   "metadata": {},
   "source": [
    "#### <span style=\"color: red\">Non-compliant example</span>\n",
    "\n",
    "If the content of a `.py` file is as shown below, then it lacks a module docstring and is thus not compliant.  It does have function docstrings, but not an overall docstring for the module."
   ]
  },
  {
   "cell_type": "code",
   "execution_count": null,
   "id": "7378595f",
   "metadata": {},
   "outputs": [],
   "source": [
    "# Contents of a module that has function docstrings but no module docstring\n",
    "# <-- PROBLEM HERE\n",
    "\n",
    "def lerp(a,b,t):\n",
    "    \"\"\"\n",
    "    Linearly interpolate between `a` and `b` at `t=0` and `t=1` respectively, but\n",
    "    cap the return values at `a` for `t<0` and `b` for `t>1`.\n",
    "    \"\"\"\n",
    "    if t<0:\n",
    "        return a\n",
    "    elif t>1:\n",
    "        return b\n",
    "    else:\n",
    "        return (1-t)*a + t*b\n",
    "\n",
    "def smooth_lerp(a,b,t):\n",
    "    \"\"\"\n",
    "    Interpolate between `a` and `b` at `t=0` and `t=1` respectively, but\n",
    "    cap the return values at `a` for `t<0` and `b` for `t>1`.  Use an \n",
    "    interpolation that has a slow start and gradual stop.\n",
    "    \"\"\"\n",
    "    if t<0:\n",
    "        return a\n",
    "    elif t>1:\n",
    "        return b\n",
    "    else:\n",
    "        return lerp(a,b,3*t**2 - 2*t**3)"
   ]
  },
  {
   "cell_type": "markdown",
   "id": "f56fc7c9",
   "metadata": {},
   "source": [
    "#### <span style=\"color: green\">Compliant example</span>\n",
    "This modified version is acceptable."
   ]
  },
  {
   "cell_type": "code",
   "execution_count": null,
   "id": "98a3e37a",
   "metadata": {},
   "outputs": [],
   "source": [
    "# Contents of a module.  The next line is the docstring!\n",
    "\"Single-variable two-point interpolation schemes\"\n",
    "\n",
    "\n",
    "def lerp(a,b,t):\n",
    "    \"\"\"\n",
    "    Linearly interpolate between `a` and `b` at `t=0` and `t=1` respectively, but\n",
    "    cap the return values at `a` for `t<0` and `b` for `t>1`.\n",
    "    \"\"\"\n",
    "    if t<0:\n",
    "        return a\n",
    "    elif t>1:\n",
    "        return b\n",
    "    else:\n",
    "        return (1-t)*a + t*b\n",
    "\n",
    "def smooth_lerp(a,b,t):\n",
    "    \"\"\"\n",
    "    Interpolate between `a` and `b` at `t=0` and `t=1` respectively, but\n",
    "    cap the return values at `a` for `t<0` and `b` for `t>1`.  Use an \n",
    "    interpolation that has a slow start and gradual stop.\n",
    "    \"\"\"\n",
    "    if t<0:\n",
    "        return a\n",
    "    elif t>1:\n",
    "        return b\n",
    "    else:\n",
    "        return lerp(a,b,3*t**2 - 2*t**3)"
   ]
  },
  {
   "cell_type": "markdown",
   "id": "f283ae20",
   "metadata": {},
   "source": [
    "### CS3 - Comments\n",
    "\n",
    "> Explanatory text is included, when appropriate, in the form of comment lines (starting with `#`) and not in any other way.  For example, including string literals with explanatory text is not acceptable unless the string literal is a docstring.  Comments are appropriate to explain *why* and *how* things are done."
   ]
  },
  {
   "cell_type": "markdown",
   "id": "382e17d5",
   "metadata": {},
   "source": [
    "#### Why we have this rule\n",
    "\n",
    "Python has a specific way to include comments, so that should be the one that is used.  String literals that are not used in any way will be ignored by the interpreter, but may make a program a bit slower to start up.  Also, string literals and comments are styled in different ways by most code editors (e.g. different colors or typfaces).  By keeping explanatory text in comments, such syntax highlighting will its intended effect of making functional code and explanatory text visually distinct."
   ]
  },
  {
   "cell_type": "markdown",
   "id": "540d4ae9",
   "metadata": {},
   "source": [
    "#### <span style=\"color: red\">Non-compliant example</span>\n",
    "\n",
    "This loop is not acceptable, because it uses a string literal instead of a\n",
    "comment. (It isn’t a docstring, because loops do not have docstrings.)"
   ]
  },
  {
   "cell_type": "code",
   "execution_count": null,
   "id": "17407eda",
   "metadata": {},
   "outputs": [],
   "source": [
    "for item in container:\n",
    "    \"\"\"Display the weight of this item (units will be added by the item.weight object)\"\"\"  # <-- PROBLEM HERE\n",
    "    print(item.weight)"
   ]
  },
  {
   "cell_type": "markdown",
   "id": "1d9322e2",
   "metadata": {},
   "source": [
    "#### <span style=\"color: green\">Compliant example</span>\n",
    "This modified version is acceptable."
   ]
  },
  {
   "cell_type": "code",
   "execution_count": null,
   "id": "bf65eb75",
   "metadata": {},
   "outputs": [],
   "source": [
    "for item in container:\n",
    "    # Display the weight of this item (units will be added by the item.weight object)\n",
    "    print(item.weight)"
   ]
  },
  {
   "cell_type": "markdown",
   "id": "3860eced",
   "metadata": {},
   "source": [
    "### CS4 Names:\n",
    "\n",
    "> Names of functions, variables, and classes should be descriptive and not abbreviated to the point of incomprehensibility. Iterator variables used in a short loop or comprehension are exceptions, where single character or abbreviated names are permitted."
   ]
  },
  {
   "cell_type": "markdown",
   "id": "dd95fc4d",
   "metadata": {},
   "source": [
    "#### Why we have this rule\n",
    "\n",
    "It is immensely more difficult to understand and evaluate programs where objects have non-descriptive names.  Moreover, it is easier to make mistakes while writing or modifying programs that use poor names."
   ]
  },
  {
   "cell_type": "markdown",
   "id": "ba176d7a",
   "metadata": {},
   "source": [
    "#### <span style=\"color: red\">Non-compliant example</span>\n",
    "\n",
    "This code defines two variables (presumably for later use) whose names give no clear indication of their purpose or contents."
   ]
  },
  {
   "cell_type": "code",
   "execution_count": null,
   "id": "569218af",
   "metadata": {},
   "outputs": [],
   "source": [
    "L1 = [ i+1 for i in range(8) ] # <-- PROBLEM HERE\n",
    "LL = [ i-4 for i in L1 ]       # <-- PROBLEM HERE\n",
    "Lsp1 = [ x*x+1 for x in L1 ]   # <-- PROBLEM HERE"
   ]
  },
  {
   "cell_type": "markdown",
   "id": "a575858b",
   "metadata": {},
   "source": [
    "#### <span style=\"color: green\">Compliant example</span>\n",
    "This modified version is acceptable."
   ]
  },
  {
   "cell_type": "code",
   "execution_count": null,
   "id": "5eadfdd3",
   "metadata": {},
   "outputs": [],
   "source": [
    "whole_number_range = [ i+1 for i in range(8) ]\n",
    "shifted_range = [ i-4 for i in whole_number_range ]\n",
    "squares_plus_one = [ x*x+1 for x in whole_number_range ]"
   ]
  },
  {
   "cell_type": "markdown",
   "id": "21d83448",
   "metadata": {},
   "source": [
    "#### <span style=\"color: green\">Compliant example</span>\n",
    "This modified version is also acceptable, and uses list comprehensions to make the code shorter and more readable."
   ]
  },
  {
   "cell_type": "code",
   "execution_count": null,
   "id": "b86da80b",
   "metadata": {},
   "outputs": [],
   "source": [
    "shifted_range = [ i-3 for i in range(8) ]\n",
    "squares_plus_one = [ (i+1)*(i+1)+1 for i in range(8) ]"
   ]
  },
  {
   "cell_type": "markdown",
   "id": "3b813b4e",
   "metadata": {},
   "source": [
    "### CS5 Indenting\n",
    "\n",
    "> Each indented code block should be indented by the same amount relative to the surrounding code, and that amount must be at least two spaces (preferred) or one tab (discouraged)."
   ]
  },
  {
   "cell_type": "markdown",
   "id": "375df1bc",
   "metadata": {},
   "source": [
    "#### Why we have this rule\n",
    "\n",
    "Inconsistently indented code, or code that uses only one space to indent blocks, is difficult to read.\n",
    "\n",
    "Some syntax highlighting systems also fail when different amounts of indenting are used.\n",
    "\n",
    "Finally, some variations in indenting are Python syntax errors."
   ]
  },
  {
   "cell_type": "markdown",
   "id": "ef530015",
   "metadata": {},
   "source": [
    "#### <span style=\"color: red\">Non-compliant example</span>\n",
    "\n",
    "This code example uses various indent lengths, including one below 2 spaces."
   ]
  },
  {
   "cell_type": "code",
   "execution_count": null,
   "id": "fdef7d1e",
   "metadata": {},
   "outputs": [],
   "source": [
    "# The problem in this example is the *different* indent lengths in various blocks\n",
    "\n",
    "def is_alien_invasion():\n",
    "  \"Determine whether aliens appear to be invading\"   # <-- indented 2 spaces\n",
    "  return infrastructure_compromised() and unrecognized_life_forms()\n",
    "\n",
    "if is_alien_invasion:\n",
    " print(\"Welcome, space wasp overlords!\")  # <-- indented 1 space\n",
    "else:\n",
    "     print(\"Welcome to MCS 275.\")  # <-- indented 5 spaces"
   ]
  },
  {
   "cell_type": "markdown",
   "id": "9c132fe6",
   "metadata": {},
   "source": [
    "#### <span style=\"color: green\">Compliant example</span>\n",
    "Make all indent lengths 4 spaces."
   ]
  },
  {
   "cell_type": "code",
   "execution_count": null,
   "id": "343ef4a3",
   "metadata": {},
   "outputs": [],
   "source": [
    "def is_alien_invasion():\n",
    "    \"Determine whether aliens appear to be invading\"\n",
    "    return infrastructure_compromised() and unrecognized_life_forms()\n",
    "\n",
    "if is_alien_invasion:\n",
    "    print(\"Welcome, space wasp overlords!\")\n",
    "else:\n",
    "    print(\"Welcome to MCS 275.\")"
   ]
  },
  {
   "cell_type": "markdown",
   "id": "9a3fe6ba",
   "metadata": {},
   "source": [
    "### CS6 - Avoid pointless conversions\n",
    "\n",
    "> Don’t use `str()` on something that is already a string, don't use `int()` on something that is already an integer, don’t convert a string to a list just to index it (strings already support indexing!), etc."
   ]
  },
  {
   "cell_type": "markdown",
   "id": "e7b53077",
   "metadata": {},
   "source": [
    "### Why we have this rule\n",
    "\n",
    "Pointless conversions perpetuate uncertainty about return types and allowed operations that are benficial to resolve early in the process of learning a programming language.  Also, removing pointless conversions makes programs easier to read and understand."
   ]
  },
  {
   "cell_type": "markdown",
   "id": "4ffeb8fa",
   "metadata": {},
   "source": [
    "#### <span style=\"color: red\">Non-compliant example</span>\n",
    "\n",
    "The return value of `input()` is already a string, so there's no need to convert it."
   ]
  },
  {
   "cell_type": "code",
   "execution_count": null,
   "id": "8771153d",
   "metadata": {},
   "outputs": [],
   "source": [
    "s = str(input(\"Enter a line of text: \"))"
   ]
  },
  {
   "cell_type": "markdown",
   "id": "7653d5be",
   "metadata": {},
   "source": [
    "#### <span style=\"color: green\">Compliant example</span>"
   ]
  },
  {
   "cell_type": "code",
   "execution_count": null,
   "id": "c3dfcb95",
   "metadata": {},
   "outputs": [],
   "source": [
    "s = input(\"Enter a line of text: \")"
   ]
  },
  {
   "cell_type": "markdown",
   "id": "af297014",
   "metadata": {},
   "source": [
    "#### <span style=\"color: red\">Non-compliant example</span>\n",
    "\n",
    "Strings support indexing, so there is no need to convert to a list just to get a character by index."
   ]
  },
  {
   "cell_type": "code",
   "execution_count": null,
   "id": "9ed9cbfb",
   "metadata": {},
   "outputs": [],
   "source": [
    "s = \"Python strings support indexing!\"\n",
    "L = list(s) # <-- PROBLEM HERE\n",
    "print(L[5],L[11])"
   ]
  },
  {
   "cell_type": "markdown",
   "id": "240fedc3",
   "metadata": {},
   "source": [
    "#### <span style=\"color: green\">Compliant example</span>"
   ]
  },
  {
   "cell_type": "code",
   "execution_count": null,
   "id": "363a636e",
   "metadata": {},
   "outputs": [],
   "source": [
    "s = \"Python strings support indexing!\"\n",
    "print(s[5],s[11])"
   ]
  },
  {
   "cell_type": "markdown",
   "id": "b91aeaf4",
   "metadata": {},
   "source": [
    "\n",
    "In most cases, if `range(len(...))` appears in your code, there is a preferred alternative that uses Python's iteration features in a more natural way that you must use instead.  If you think you are in one of the rare situations where `range(len(...))` should appear, ask the instructor or TA for advice before proceeding."
   ]
  },
  {
   "cell_type": "markdown",
   "id": "2258c7f2",
   "metadata": {},
   "source": [
    "### CS7 - Forbidden `range(len())`\n",
    "\n",
    "> In most cases, if range(len(...)) appears in your code, there is a preferred alternative that uses Python's iteration features in a more natural way that you must use instead. If you think you are in one of the rare  situations where range(len(...)) should appear, ask the instructor or TA for advice before proceeding."
   ]
  },
  {
   "cell_type": "markdown",
   "id": "3ea83e40",
   "metadata": {},
   "source": [
    "#### Why we have this rule\n",
    "\n",
    "Python has features that make it easy to iterate over all the values in a container (such as a `list`, `set`, or all the keys of a `dict`) without using explicit integer indices.  Using these features is not just a convenience, but a good design practice, because it allows the container to control the iteration process.  It also usually results in code that is shorter and easier to read."
   ]
  },
  {
   "cell_type": "markdown",
   "id": "a7033ba8",
   "metadata": {},
   "source": [
    "#### <span style=\"color: red\">Non-compliant example</span>\n",
    "\n",
    "Using `range(len(...))` to generate integer indices just so we can visit each element of a list using a `for` loop."
   ]
  },
  {
   "cell_type": "code",
   "execution_count": null,
   "id": "52d1a279",
   "metadata": {},
   "outputs": [],
   "source": [
    "for i in range(len(users)):   #<-- PROBLEM HERE\n",
    "    print(\"Username:\",users[i])"
   ]
  },
  {
   "cell_type": "markdown",
   "id": "f73ba11a",
   "metadata": {},
   "source": [
    "#### <span style=\"color: green\">Compliant example</span>\n",
    "\n",
    "This correction instead uses the fact that Python `list` objects are iterable---they can appear after `in` in a for loop, and yield each of their elements in order."
   ]
  },
  {
   "cell_type": "code",
   "execution_count": null,
   "id": "baf80b6a",
   "metadata": {},
   "outputs": [],
   "source": [
    "for user in users:\n",
    "    print(\"Username:\",user)"
   ]
  },
  {
   "cell_type": "markdown",
   "id": "40c74a0b",
   "metadata": {},
   "source": [
    "#### <span style=\"color: red\">Non-compliant example</span>"
   ]
  },
  {
   "cell_type": "code",
   "execution_count": null,
   "id": "b6a09a99",
   "metadata": {},
   "outputs": [],
   "source": [
    "for i in range(len(users)):  #<-- PROBLEM HERE\n",
    "    print(\"User\",i,\"has username\",users[i])"
   ]
  },
  {
   "cell_type": "markdown",
   "id": "80e49456",
   "metadata": {},
   "source": [
    "#### <span style=\"color: green\">Compliant example</span>\n",
    "\n",
    "One way to fix this example is to use `enumerate` to generate a sequence of pairs `index, item` from the list.  This brings the benefit that an ordered container (like `list`) could be replaced by an unordered one (like `set`) and the loop would still work."
   ]
  },
  {
   "cell_type": "code",
   "execution_count": null,
   "id": "4b99b990",
   "metadata": {},
   "outputs": [],
   "source": [
    "for i,username in enumerate(users):\n",
    "    print(\"User\",i,\"has username\",username)"
   ]
  },
  {
   "cell_type": "markdown",
   "id": "34b400e2",
   "metadata": {},
   "source": [
    "## Additional code style requests\n",
    "\n",
    "These are suggestions, not requirements, but they encourage some good habits and code style.\n",
    "* Use exactly four spaces for indenting code blocks.\n",
    "* Use either `\"` or `\"\"\"` to delimit a string, unless the string itself contains the double quote character.  (In general, using one string delimiter consistently is more important than whether you use single or double quote characters.)\n",
    "* Limit lines of code to a length of 100 characters.\n",
    "* Avoid the single-letter variable names `l` (lower case letter ell), `O` (upper case letter oh), `I` (upper case letter eye) which are easy to confuse with other symbols in some typefaces.\n",
    "* Rather than relying on your memory of the rules, before your final submission of any assignment, look through your code with this document open and check each rule in sequence, e.g. read through to check for (CS1), then (CS2), etc."
   ]
  },
  {
   "cell_type": "markdown",
   "id": "a3b66af5",
   "metadata": {},
   "source": [
    "## Note about future changes to this document\n",
    "\n",
    "Most likely, this document will not change during the course. However, if this document is updated, an\n",
    "announcement will be made on the course web page and in lecture. Rules added or changed will only apply to\n",
    "assignments or projects published after the update to this document appears. The list of changes made to this document and the dates they appeared can be found below."
   ]
  },
  {
   "cell_type": "markdown",
   "id": "c58318fa",
   "metadata": {},
   "source": [
    "## Revision history\n",
    "\n",
    "* 2023-01-06 Initial publication"
   ]
  }
 ],
 "metadata": {
  "kernelspec": {
   "display_name": "Python 3 (ipykernel)",
   "language": "python",
   "name": "python3"
  },
  "language_info": {
   "codemirror_mode": {
    "name": "ipython",
    "version": 3
   },
   "file_extension": ".py",
   "mimetype": "text/x-python",
   "name": "python",
   "nbconvert_exporter": "python",
   "pygments_lexer": "ipython3",
   "version": "3.10.6"
  }
 },
 "nbformat": 4,
 "nbformat_minor": 5
}
