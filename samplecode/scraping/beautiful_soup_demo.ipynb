{
 "cells": [
  {
   "cell_type": "code",
   "execution_count": 1,
   "id": "6e642681",
   "metadata": {},
   "outputs": [],
   "source": [
    "from bs4 import BeautifulSoup"
   ]
  },
  {
   "cell_type": "code",
   "execution_count": 2,
   "id": "ef2d7489",
   "metadata": {},
   "outputs": [
    {
     "data": {
      "text/plain": [
       "'/home/ddumas/Dropbox/teaching/mcs275/slides'"
      ]
     },
     "execution_count": 2,
     "metadata": {},
     "output_type": "execute_result"
    }
   ],
   "source": [
    "import os\n",
    "os.chdir(\"/home/ddumas/teaching/mcs275/slides/\")\n",
    "os.getcwd()"
   ]
  },
  {
   "cell_type": "code",
   "execution_count": 18,
   "id": "cb900bbd",
   "metadata": {},
   "outputs": [],
   "source": [
    "with open(\"lecture37.html\") as fp:\n",
    "    soup = BeautifulSoup(fp, \"html.parser\")"
   ]
  },
  {
   "cell_type": "code",
   "execution_count": 4,
   "id": "98a7ddd0",
   "metadata": {},
   "outputs": [
    {
     "data": {
      "text/plain": [
       "bs4.BeautifulSoup"
      ]
     },
     "execution_count": 4,
     "metadata": {},
     "output_type": "execute_result"
    }
   ],
   "source": [
    "type(soup)"
   ]
  },
  {
   "cell_type": "code",
   "execution_count": 7,
   "id": "3892e56c",
   "metadata": {},
   "outputs": [],
   "source": [
    "from urllib.request import urlopen\n",
    "import time"
   ]
  },
  {
   "cell_type": "code",
   "execution_count": 10,
   "id": "930af2e8",
   "metadata": {},
   "outputs": [],
   "source": [
    "time.sleep(1)\n",
    "with urlopen(\"https://example.com/\") as r:\n",
    "    # Recall urlopen returns an object that\n",
    "    # behaves like a file object.\n",
    "    soup = BeautifulSoup(r, \"html.parser\")"
   ]
  },
  {
   "cell_type": "code",
   "execution_count": 11,
   "id": "6a2acf22",
   "metadata": {},
   "outputs": [
    {
     "data": {
      "text/plain": [
       "<!DOCTYPE html>\n",
       "\n",
       "<html>\n",
       "<head>\n",
       "<title>Example Domain</title>\n",
       "<meta charset=\"utf-8\"/>\n",
       "<meta content=\"text/html; charset=utf-8\" http-equiv=\"Content-type\"/>\n",
       "<meta content=\"width=device-width, initial-scale=1\" name=\"viewport\"/>\n",
       "<style type=\"text/css\">\n",
       "    body {\n",
       "        background-color: #f0f0f2;\n",
       "        margin: 0;\n",
       "        padding: 0;\n",
       "        font-family: -apple-system, system-ui, BlinkMacSystemFont, \"Segoe UI\", \"Open Sans\", \"Helvetica Neue\", Helvetica, Arial, sans-serif;\n",
       "        \n",
       "    }\n",
       "    div {\n",
       "        width: 600px;\n",
       "        margin: 5em auto;\n",
       "        padding: 2em;\n",
       "        background-color: #fdfdff;\n",
       "        border-radius: 0.5em;\n",
       "        box-shadow: 2px 3px 7px 2px rgba(0,0,0,0.02);\n",
       "    }\n",
       "    a:link, a:visited {\n",
       "        color: #38488f;\n",
       "        text-decoration: none;\n",
       "    }\n",
       "    @media (max-width: 700px) {\n",
       "        div {\n",
       "            margin: 0 auto;\n",
       "            width: auto;\n",
       "        }\n",
       "    }\n",
       "    </style>\n",
       "</head>\n",
       "<body>\n",
       "<div>\n",
       "<h1>Example Domain</h1>\n",
       "<p>This domain is for use in illustrative examples in documents. You may use this\n",
       "    domain in literature without prior coordination or asking for permission.</p>\n",
       "<p><a href=\"https://www.iana.org/domains/example\">More information...</a></p>\n",
       "</div>\n",
       "</body>\n",
       "</html>"
      ]
     },
     "execution_count": 11,
     "metadata": {},
     "output_type": "execute_result"
    }
   ],
   "source": [
    "soup"
   ]
  },
  {
   "cell_type": "code",
   "execution_count": 13,
   "id": "50692901",
   "metadata": {},
   "outputs": [],
   "source": [
    "ugly_html = \"\"\"<html>\n",
    "<head><title>My \n",
    "\n",
    "\n",
    "title</title><body><p>\n",
    "This is the body</p>\n",
    "\n",
    "\n",
    "\n",
    "\n",
    "\n",
    "</body></html>\"\"\""
   ]
  },
  {
   "cell_type": "code",
   "execution_count": 14,
   "id": "ce4b0d60",
   "metadata": {},
   "outputs": [],
   "source": [
    "soup = BeautifulSoup(ugly_html)"
   ]
  },
  {
   "cell_type": "code",
   "execution_count": 15,
   "id": "db98a34b",
   "metadata": {},
   "outputs": [
    {
     "data": {
      "text/plain": [
       "<html>\n",
       "<head><title>My \n",
       "\n",
       "\n",
       "title</title></head><body><p>\n",
       "This is the body</p>\n",
       "</body></html>"
      ]
     },
     "execution_count": 15,
     "metadata": {},
     "output_type": "execute_result"
    }
   ],
   "source": [
    "soup"
   ]
  },
  {
   "cell_type": "code",
   "execution_count": 17,
   "id": "31cecef5",
   "metadata": {},
   "outputs": [
    {
     "name": "stdout",
     "output_type": "stream",
     "text": [
      "<html>\n",
      " <head>\n",
      "  <title>\n",
      "   My \n",
      "\n",
      "\n",
      "title\n",
      "  </title>\n",
      " </head>\n",
      " <body>\n",
      "  <p>\n",
      "   This is the body\n",
      "  </p>\n",
      " </body>\n",
      "</html>\n"
     ]
    }
   ],
   "source": [
    "print(soup.prettify())"
   ]
  },
  {
   "cell_type": "code",
   "execution_count": 21,
   "id": "076614d9",
   "metadata": {},
   "outputs": [],
   "source": [
    "t = soup.title  # find and return the title tags"
   ]
  },
  {
   "cell_type": "code",
   "execution_count": 22,
   "id": "cfdc2725",
   "metadata": {},
   "outputs": [
    {
     "data": {
      "text/plain": [
       "<title>Lec 37: Parsing and scraping HTML</title>"
      ]
     },
     "execution_count": 22,
     "metadata": {},
     "output_type": "execute_result"
    }
   ],
   "source": [
    "t"
   ]
  },
  {
   "cell_type": "code",
   "execution_count": 23,
   "id": "35e2d3fe",
   "metadata": {},
   "outputs": [
    {
     "data": {
      "text/plain": [
       "bs4.element.Tag"
      ]
     },
     "execution_count": 23,
     "metadata": {},
     "output_type": "execute_result"
    }
   ],
   "source": [
    "type(t)"
   ]
  },
  {
   "cell_type": "code",
   "execution_count": 24,
   "id": "e03af455",
   "metadata": {},
   "outputs": [
    {
     "data": {
      "text/plain": [
       "'<title>Lec 37: Parsing and scraping HTML</title>'"
      ]
     },
     "execution_count": 24,
     "metadata": {},
     "output_type": "execute_result"
    }
   ],
   "source": [
    "str(t)"
   ]
  },
  {
   "cell_type": "code",
   "execution_count": 25,
   "id": "f8a0af32",
   "metadata": {},
   "outputs": [
    {
     "data": {
      "text/plain": [
       "<title>Lec 37: Parsing and scraping HTML</title>"
      ]
     },
     "execution_count": 25,
     "metadata": {},
     "output_type": "execute_result"
    }
   ],
   "source": [
    "soup.find(\"title\")"
   ]
  },
  {
   "cell_type": "code",
   "execution_count": 26,
   "id": "c8e8d6df",
   "metadata": {},
   "outputs": [
    {
     "data": {
      "text/plain": [
       "<h1>Lecture 37</h1>"
      ]
     },
     "execution_count": 26,
     "metadata": {},
     "output_type": "execute_result"
    }
   ],
   "source": [
    "soup.find(\"h1\")"
   ]
  },
  {
   "cell_type": "code",
   "execution_count": 28,
   "id": "a7304097",
   "metadata": {},
   "outputs": [],
   "source": [
    "# Let's find all of the links in the lecture 37 slides\n",
    "atags = soup.find_all(\"a\")"
   ]
  },
  {
   "cell_type": "code",
   "execution_count": 29,
   "id": "c525c60a",
   "metadata": {},
   "outputs": [
    {
     "data": {
      "text/plain": [
       "bs4.element.ResultSet"
      ]
     },
     "execution_count": 29,
     "metadata": {},
     "output_type": "execute_result"
    }
   ],
   "source": [
    "type(atags)"
   ]
  },
  {
   "cell_type": "code",
   "execution_count": 31,
   "id": "c5b99b01",
   "metadata": {},
   "outputs": [
    {
     "data": {
      "text/plain": [
       "14"
      ]
     },
     "execution_count": 31,
     "metadata": {},
     "output_type": "execute_result"
    }
   ],
   "source": [
    "len(atags)"
   ]
  },
  {
   "cell_type": "code",
   "execution_count": 35,
   "id": "d85620c2",
   "metadata": {},
   "outputs": [
    {
     "data": {
      "text/plain": [
       "'https://www.dumas.io/teaching/2023/spring/mcs275/nbview/projects/project4.html'"
      ]
     },
     "execution_count": 35,
     "metadata": {},
     "output_type": "execute_result"
    }
   ],
   "source": [
    "atags[0][\"href\"]"
   ]
  },
  {
   "cell_type": "code",
   "execution_count": 37,
   "id": "de3a0fdd",
   "metadata": {},
   "outputs": [
    {
     "name": "stdout",
     "output_type": "stream",
     "text": [
      "In the slides, there is a link with text:\n",
      "Project 4\n",
      "That goes to URL:\n",
      "https://www.dumas.io/teaching/2023/spring/mcs275/nbview/projects/project4.html\n",
      "\n",
      "In the slides, there is a link with text:\n",
      "a demo program that shows how to generate and serve an image in Flask\n",
      "That goes to URL:\n",
      "https://github.com/emilydumas/mcs275spring2023/blob/main/samplecode/html/flaskimage/imagedemo.py\n",
      "\n",
      "In the slides, there is a link with text:\n",
      "html.parser\n",
      "That goes to URL:\n",
      "https://docs.python.org/3/library/html.parser.html\n",
      "\n",
      "In the slides, there is a link with text:\n",
      "Beautiful Soup\n",
      "That goes to URL:\n",
      "https://www.crummy.com/software/BeautifulSoup/bs4/doc/\n",
      "\n",
      "In the slides, there is a link with text:\n",
      "Scrapy\n",
      "That goes to URL:\n",
      "https://scrapy.org/\n",
      "\n",
      "In the slides, there is a link with text:\n",
      "Selenium\n",
      "That goes to URL:\n",
      "https://selenium-python.readthedocs.io/\n",
      "\n",
      "In the slides, there is a link with text:\n",
      "formal specification\n",
      "That goes to URL:\n",
      "https://dom.spec.whatwg.org/\n",
      "\n",
      "In the slides, there is a link with text:\n",
      "Birger Eriksson\n",
      "That goes to URL:\n",
      "https://commons.wikimedia.org/wiki/File:DOM-model.svg\n",
      "\n",
      "In the slides, there is a link with text:\n",
      "Birger Eriksson\n",
      "That goes to URL:\n",
      "https://commons.wikimedia.org/wiki/File:DOM-model.svg\n",
      "\n",
      "In the slides, there is a link with text:\n",
      "2014\n",
      "That goes to URL:\n",
      "https://github.com/reddit/reddit/blob/85f9cff3e2ab9bb8f19b96acd8da4ebacc079f04/r2/r2/lib/media.py\n",
      "\n",
      "In the slides, there is a link with text:\n",
      "ethics of connecting to web servers from programs\n",
      "That goes to URL:\n",
      "#ethics\n",
      "\n",
      "In the slides, there is a link with text:\n",
      "robots.txt\n",
      "That goes to URL:\n",
      "https://en.wikipedia.org/wiki/Robots_exclusion_standard\n",
      "\n",
      "In the slides, there is a link with text:\n",
      "urllib documentation\n",
      "That goes to URL:\n",
      "https://docs.python.org/3.8/library/urllib.html\n",
      "\n",
      "In the slides, there is a link with text:\n",
      "Beautiful Soup documentation\n",
      "That goes to URL:\n",
      "https://www.crummy.com/software/BeautifulSoup/bs4/doc/\n",
      "\n"
     ]
    }
   ],
   "source": [
    "for t in soup.find_all(\"a\"):\n",
    "    print(\"In the slides, there is a link with text:\")\n",
    "    print(t.string)  # link text is just text inside the `a` tag\n",
    "    print(\"That goes to URL:\")\n",
    "    print(t[\"href\"])  # URL linked to is an attribute\n",
    "    print()"
   ]
  },
  {
   "cell_type": "code",
   "execution_count": 39,
   "id": "bbaaad95",
   "metadata": {},
   "outputs": [
    {
     "data": {
      "text/plain": [
       "<section>\n",
       "<h1>Lecture 37</h1>\n",
       "<h2>Parsing and scraping HTML</h2>\n",
       "<p class=\"center\">\n",
       "        MCS 275 Spring 2023<br/>\n",
       "        Emily Dumas\n",
       "    </p>\n",
       "</section>"
      ]
     },
     "execution_count": 39,
     "metadata": {},
     "output_type": "execute_result"
    }
   ],
   "source": [
    "soup.h1.parent"
   ]
  },
  {
   "cell_type": "code",
   "execution_count": 41,
   "id": "30ab76f3",
   "metadata": {},
   "outputs": [
    {
     "name": "stdout",
     "output_type": "stream",
     "text": [
      "Parsing and scraping HTML\n",
      "Getting data from the web\n",
      "Today\n",
      "Simple HTML processing\n",
      "HTML document as an object\n",
      "DOM\n",
      "Beautiful Soup\n",
      "Minimal soup\n",
      "Minimal soup\n",
      "Minimal soup\n",
      "Scraping and spiders\n",
      "Minimal soup\n",
      "BS4 basics\n",
      "Working with tags\n",
      "Searching\n",
      "Simulating CSS\n"
     ]
    }
   ],
   "source": [
    "# Find all slide titles in lecture 37\n",
    "for t in soup.find_all(\"section\"):\n",
    "    # t is now a slide\n",
    "    h2tag = t.h2\n",
    "    if h2tag != None:\n",
    "        print(t.h2.string)"
   ]
  },
  {
   "cell_type": "code",
   "execution_count": null,
   "id": "fbe557d8",
   "metadata": {},
   "outputs": [],
   "source": []
  }
 ],
 "metadata": {
  "kernelspec": {
   "display_name": "Python 3 (ipykernel)",
   "language": "python",
   "name": "python3"
  },
  "language_info": {
   "codemirror_mode": {
    "name": "ipython",
    "version": 3
   },
   "file_extension": ".py",
   "mimetype": "text/x-python",
   "name": "python",
   "nbconvert_exporter": "python",
   "pygments_lexer": "ipython3",
   "version": "3.10.6"
  }
 },
 "nbformat": 4,
 "nbformat_minor": 5
}
