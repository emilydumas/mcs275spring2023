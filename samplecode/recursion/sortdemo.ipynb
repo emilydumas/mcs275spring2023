{
 "cells": [
  {
   "cell_type": "markdown",
   "id": "25b1ee70",
   "metadata": {},
   "source": [
    "# Experiments with Mergesort and Quicksort"
   ]
  },
  {
   "cell_type": "markdown",
   "id": "dfd5c492",
   "metadata": {},
   "source": [
    "## Mergesort"
   ]
  },
  {
   "cell_type": "code",
   "execution_count": 1,
   "id": "8176388c",
   "metadata": {},
   "outputs": [],
   "source": [
    "import sorts"
   ]
  },
  {
   "cell_type": "code",
   "execution_count": 2,
   "id": "484fa1e5",
   "metadata": {},
   "outputs": [
    {
     "name": "stdout",
     "output_type": "stream",
     "text": [
      "Took 1 from L1\n",
      "Took 2 from L1\n",
      "Took 3 from L0\n",
      "Took 4 from L0\n",
      "Took 5 from L1\n",
      "Took 6 from L0\n",
      "Took 7 from L1\n",
      "Copying over unused element 8 from L0\n"
     ]
    },
    {
     "data": {
      "text/plain": [
       "[1, 2, 3, 4, 5, 6, 7, 8]"
      ]
     },
     "execution_count": 2,
     "metadata": {},
     "output_type": "execute_result"
    }
   ],
   "source": [
    "sorts.merge([3,4,6,8],[1,2,5,7],verbose=True)"
   ]
  },
  {
   "cell_type": "code",
   "execution_count": 2,
   "id": "521dd3be",
   "metadata": {},
   "outputs": [
    {
     "name": "stdout",
     "output_type": "stream",
     "text": [
      "mergesort called on [8, 6, 4, 3, 5, 7, 1, 2]\n",
      "mergesort called on [8, 6, 4, 3]\n",
      "mergesort called on [8, 6]\n",
      "mergesort called on [8]\n",
      "returning [8] as it is already sorted\n",
      "mergesort called on [6]\n",
      "returning [6] as it is already sorted\n",
      "Recursive calls yielded sorted sublists [8] and [6]\n",
      "Merged to obtain [6, 8]\n",
      "mergesort called on [4, 3]\n",
      "mergesort called on [4]\n",
      "returning [4] as it is already sorted\n",
      "mergesort called on [3]\n",
      "returning [3] as it is already sorted\n",
      "Recursive calls yielded sorted sublists [4] and [3]\n",
      "Merged to obtain [3, 4]\n",
      "Recursive calls yielded sorted sublists [6, 8] and [3, 4]\n",
      "Merged to obtain [3, 4, 6, 8]\n",
      "mergesort called on [5, 7, 1, 2]\n",
      "mergesort called on [5, 7]\n",
      "mergesort called on [5]\n",
      "returning [5] as it is already sorted\n",
      "mergesort called on [7]\n",
      "returning [7] as it is already sorted\n",
      "Recursive calls yielded sorted sublists [5] and [7]\n",
      "Merged to obtain [5, 7]\n",
      "mergesort called on [1, 2]\n",
      "mergesort called on [1]\n",
      "returning [1] as it is already sorted\n",
      "mergesort called on [2]\n",
      "returning [2] as it is already sorted\n",
      "Recursive calls yielded sorted sublists [1] and [2]\n",
      "Merged to obtain [1, 2]\n",
      "Recursive calls yielded sorted sublists [5, 7] and [1, 2]\n",
      "Merged to obtain [1, 2, 5, 7]\n",
      "Recursive calls yielded sorted sublists [3, 4, 6, 8] and [1, 2, 5, 7]\n",
      "Merged to obtain [1, 2, 3, 4, 5, 6, 7, 8]\n"
     ]
    },
    {
     "data": {
      "text/plain": [
       "[1, 2, 3, 4, 5, 6, 7, 8]"
      ]
     },
     "execution_count": 2,
     "metadata": {},
     "output_type": "execute_result"
    }
   ],
   "source": [
    "sorts.mergesort([8,6,4,3,5,7,1,2],verbose=True)"
   ]
  },
  {
   "cell_type": "markdown",
   "id": "5e27f9fc",
   "metadata": {},
   "source": [
    "## Quicksort"
   ]
  },
  {
   "cell_type": "code",
   "execution_count": 15,
   "id": "9cd07792",
   "metadata": {},
   "outputs": [],
   "source": [
    "import sorts"
   ]
  },
  {
   "cell_type": "code",
   "execution_count": 17,
   "id": "3d7b6d34",
   "metadata": {},
   "outputs": [
    {
     "name": "stdout",
     "output_type": "stream",
     "text": [
      "Partitioned into: [1, 2, 3, 5, 4, 6, 7]   8   []\n",
      "Partitioned into: [1, 2, 3, 5, 4, 6]   7   []\n",
      "Partitioned into: [1, 2, 3, 5, 4]   6   []\n",
      "Partitioned into: [1, 2, 3]   4   [5]\n",
      "Partitioned into: [1, 2]   3   []\n",
      "Partitioned into: [1]   2   []\n"
     ]
    }
   ],
   "source": [
    "sorts.quicksort([1,2,3,5,4,6,7,8],verbose=True)"
   ]
  },
  {
   "cell_type": "code",
   "execution_count": 2,
   "id": "4f744355",
   "metadata": {},
   "outputs": [],
   "source": [
    "L = [7,6,2,3,5,8,1,4]"
   ]
  },
  {
   "cell_type": "code",
   "execution_count": 3,
   "id": "210142ad",
   "metadata": {},
   "outputs": [
    {
     "name": "stdout",
     "output_type": "stream",
     "text": [
      "Partitioned into: [2, 3, 1] 4 [5, 8, 7, 6]\n"
     ]
    },
    {
     "data": {
      "text/plain": [
       "3"
      ]
     },
     "execution_count": 3,
     "metadata": {},
     "output_type": "execute_result"
    }
   ],
   "source": [
    "sorts.partition(L,start=0,end=len(L),verbose=True)"
   ]
  },
  {
   "cell_type": "code",
   "execution_count": 4,
   "id": "fa37c888",
   "metadata": {},
   "outputs": [],
   "source": [
    "L = [7,6,2,3,5,8,1,4]"
   ]
  },
  {
   "cell_type": "code",
   "execution_count": 5,
   "id": "d8e33d4f",
   "metadata": {},
   "outputs": [
    {
     "name": "stdout",
     "output_type": "stream",
     "text": [
      "Partitioned into: [2, 3, 1] 4 [5, 8, 7, 6]\n",
      "Partitioned into: [] 1 [3, 2]\n",
      "Partitioned into: [] 2 [3]\n",
      "Partitioned into: [5] 6 [7, 8]\n",
      "Partitioned into: [7] 8 []\n"
     ]
    }
   ],
   "source": [
    "sorts.quicksort(L)"
   ]
  },
  {
   "cell_type": "code",
   "execution_count": 6,
   "id": "3bbfbf0d",
   "metadata": {},
   "outputs": [
    {
     "data": {
      "text/plain": [
       "[1, 2, 3, 4, 5, 6, 7, 8]"
      ]
     },
     "execution_count": 6,
     "metadata": {},
     "output_type": "execute_result"
    }
   ],
   "source": [
    "L"
   ]
  },
  {
   "cell_type": "markdown",
   "id": "7aeee8fc",
   "metadata": {},
   "source": [
    "## Proper test\n",
    "\n",
    "Let's sort 10,000 random orderings of the integers 0..99.  Then test that in each case, the result is `[0,1,...,99]`."
   ]
  },
  {
   "cell_type": "code",
   "execution_count": 4,
   "id": "15df13ec",
   "metadata": {},
   "outputs": [],
   "source": [
    "import sorts\n",
    "import random"
   ]
  },
  {
   "cell_type": "code",
   "execution_count": 5,
   "id": "dc4730cf",
   "metadata": {},
   "outputs": [
    {
     "name": "stdout",
     "output_type": "stream",
     "text": [
      "The fact that no AssertionError stopped execution means that quicksort behaved as intended.\n"
     ]
    }
   ],
   "source": [
    "for _ in range(10000):\n",
    "    orig = list(range(100))\n",
    "    copy = list(orig)\n",
    "    random.shuffle(copy)\n",
    "    sorts.quicksort(copy)\n",
    "    assert orig==copy\n",
    "\n",
    "print(\"The fact that no AssertionError stopped execution means that quicksort behaved as intended.\")"
   ]
  },
  {
   "cell_type": "markdown",
   "id": "13425329",
   "metadata": {},
   "source": [
    "## Timing test\n",
    "\n",
    "The graphical part of this section uses `matplotlib`, which can be installed with\n",
    "```\n",
    "python3 -m pip install matplotlib\n",
    "```\n",
    "(or replace `python3` with your interpreter name)."
   ]
  },
  {
   "cell_type": "markdown",
   "id": "05dd74c4",
   "metadata": {},
   "source": [
    "### Gathering data (small scale)\n",
    "\n",
    "Let's test `mergesort` and `quicksort` on lists of different sizes.  For simplicity we'll use lists with no repeated elements, but it would also be a good idea to test when there are repeats."
   ]
  },
  {
   "cell_type": "code",
   "execution_count": 18,
   "id": "a7e13bc4",
   "metadata": {},
   "outputs": [],
   "source": [
    "import random\n",
    "import sorts\n",
    "import time"
   ]
  },
  {
   "cell_type": "code",
   "execution_count": 19,
   "id": "7a3633e8",
   "metadata": {},
   "outputs": [
    {
     "name": "stdout",
     "output_type": "stream",
     "text": [
      "Finished 100 trials at size n=500\n",
      "Finished 100 trials at size n=1000\n",
      "Finished 100 trials at size n=1500\n",
      "Finished 100 trials at size n=2000\n",
      "Finished 100 trials at size n=2500\n",
      "Finished 100 trials at size n=3000\n",
      "Finished 100 trials at size n=3500\n",
      "Finished 100 trials at size n=4000\n",
      "Finished 100 trials at size n=4500\n",
      "Finished 100 trials at size n=5000\n",
      "Finished 100 trials at size n=5500\n",
      "Finished 100 trials at size n=6000\n",
      "Finished 100 trials at size n=6500\n",
      "Finished 100 trials at size n=7000\n"
     ]
    }
   ],
   "source": [
    "# Dictionaries will map a size to a list of times taken to sort\n",
    "# `trials` sample lists of that size.  That is,  if `trials` is 100\n",
    "# quicksort_timings[80] would be a list of 100 measurements of the\n",
    "# time taken to sort a list of length 80.\n",
    "quicksort_timings = {}\n",
    "mergesort_timings = {}\n",
    "\n",
    "trials = 100\n",
    "for n in range(0,7_001,500):\n",
    "    if not n:\n",
    "        continue\n",
    "    quicksort_timings[n]=[]\n",
    "    mergesort_timings[n]=[]\n",
    "    # Create shuffled lists to be sorted\n",
    "    inputs = []\n",
    "    for _ in range(trials):\n",
    "        L = list(range(n))\n",
    "        random.shuffle(L)\n",
    "        inputs.append(L)\n",
    "    # Do the sorting, record time\n",
    "    for L in inputs:\n",
    "        # We need to do mergesort first, since quicksort modifies\n",
    "        # its argument!\n",
    "        t0 = time.time()\n",
    "        sorts.mergesort(L)\n",
    "        t1 = time.time()\n",
    "        mergesort_timings[n].append(t1-t0)\n",
    "        # Now test quicksort, letting it modify the list\n",
    "        t0 = time.time()\n",
    "        sorts.quicksort(L)\n",
    "        t1 = time.time()\n",
    "        quicksort_timings[n].append(t1-t0)\n",
    "    print(\"Finished {} trials at size n={}\".format(trials,n))"
   ]
  },
  {
   "cell_type": "code",
   "execution_count": 20,
   "id": "c54baf28",
   "metadata": {},
   "outputs": [
    {
     "data": {
      "text/plain": [
       "[0.0022661685943603516,\n",
       " 0.0022253990173339844,\n",
       " 0.002222776412963867,\n",
       " 0.002206087112426758,\n",
       " 0.002252340316772461,\n",
       " 0.0022215843200683594,\n",
       " 0.0022275447845458984,\n",
       " 0.0021758079528808594,\n",
       " 0.0022432804107666016,\n",
       " 0.002260446548461914]"
      ]
     },
     "execution_count": 20,
     "metadata": {},
     "output_type": "execute_result"
    }
   ],
   "source": [
    "mergesort_timings[1000][:10]"
   ]
  },
  {
   "cell_type": "code",
   "execution_count": 10,
   "id": "31186a34",
   "metadata": {},
   "outputs": [
    {
     "data": {
      "text/plain": [
       "[0.001329183578491211,\n",
       " 0.0012578964233398438,\n",
       " 0.0012750625610351562,\n",
       " 0.0012257099151611328,\n",
       " 0.0012066364288330078,\n",
       " 0.0011332035064697266,\n",
       " 0.0012493133544921875,\n",
       " 0.0012521743774414062,\n",
       " 0.0012252330780029297,\n",
       " 0.001096963882446289]"
      ]
     },
     "execution_count": 10,
     "metadata": {},
     "output_type": "execute_result"
    }
   ],
   "source": [
    "quicksort_timings[1000][:10]"
   ]
  },
  {
   "cell_type": "code",
   "execution_count": 11,
   "id": "f05e57f4",
   "metadata": {},
   "outputs": [],
   "source": [
    "import matplotlib.pyplot as plt\n",
    "import numpy as np"
   ]
  },
  {
   "cell_type": "code",
   "execution_count": 21,
   "id": "85cd185a",
   "metadata": {},
   "outputs": [
    {
     "data": {
      "image/png": "[encoded data removed]",
      "text/plain": [
       "<Figure size 960x720 with 1 Axes>"
      ]
     },
     "metadata": {
      "needs_background": "light"
     },
     "output_type": "display_data"
    }
   ],
   "source": [
    "plt.figure(figsize=(8,6),dpi=120)\n",
    "nn = sorted(quicksort_timings.keys())\n",
    "nnsparse = [k for k in nn if k%1000==0]\n",
    "plt.errorbar(nnsparse,[np.mean(quicksort_timings[n]) for n in nnsparse],yerr=[np.std(quicksort_timings[n]) for n in nnsparse],color=\"powderblue\",ls=\"none\")\n",
    "plt.errorbar(nnsparse,[np.mean(mergesort_timings[n]) for n in nnsparse],yerr=[np.std(quicksort_timings[n]) for n in nnsparse],color=\"sandybrown\",ls=\"none\")\n",
    "plt.plot(nn,[np.mean(quicksort_timings[n]) for n in nn],label=\"Quicksort\")\n",
    "plt.plot(nn,[np.mean(mergesort_timings[n]) for n in nn],label=\"Mergesort\")\n",
    "plt.title(\"Recursive sort timing\")\n",
    "plt.xlabel(\"n\")\n",
    "plt.ylabel(\"sort time (s)\")\n",
    "plt.legend()\n",
    "plt.show()"
   ]
  },
  {
   "cell_type": "markdown",
   "id": "54e3a015",
   "metadata": {},
   "source": [
    "### Gathering data (full scale)"
   ]
  },
  {
   "cell_type": "code",
   "execution_count": 90,
   "id": "895ab7a4",
   "metadata": {},
   "outputs": [],
   "source": [
    "import random\n",
    "import sorts\n",
    "import time"
   ]
  },
  {
   "cell_type": "code",
   "execution_count": 96,
   "id": "dab3998c",
   "metadata": {},
   "outputs": [
    {
     "name": "stdout",
     "output_type": "stream",
     "text": [
      "Finished 100 trials at size n=500\n",
      "Finished 100 trials at size n=1000\n",
      "Finished 100 trials at size n=1500\n",
      "Finished 100 trials at size n=2000\n",
      "Finished 100 trials at size n=2500\n",
      "Finished 100 trials at size n=3000\n",
      "Finished 100 trials at size n=3500\n",
      "Finished 100 trials at size n=4000\n",
      "Finished 100 trials at size n=4500\n",
      "Finished 100 trials at size n=5000\n",
      "Finished 100 trials at size n=5500\n",
      "Finished 100 trials at size n=6000\n",
      "Finished 100 trials at size n=6500\n",
      "Finished 100 trials at size n=7000\n",
      "Finished 100 trials at size n=7500\n",
      "Finished 100 trials at size n=8000\n",
      "Finished 100 trials at size n=8500\n",
      "Finished 100 trials at size n=9000\n",
      "Finished 100 trials at size n=9500\n",
      "Finished 100 trials at size n=10000\n",
      "Finished 100 trials at size n=10500\n",
      "Finished 100 trials at size n=11000\n",
      "Finished 100 trials at size n=11500\n",
      "Finished 100 trials at size n=12000\n",
      "Finished 100 trials at size n=12500\n",
      "Finished 100 trials at size n=13000\n",
      "Finished 100 trials at size n=13500\n",
      "Finished 100 trials at size n=14000\n",
      "Finished 100 trials at size n=14500\n",
      "Finished 100 trials at size n=15000\n",
      "Finished 100 trials at size n=15500\n",
      "Finished 100 trials at size n=16000\n",
      "Finished 100 trials at size n=16500\n",
      "Finished 100 trials at size n=17000\n",
      "Finished 100 trials at size n=17500\n",
      "Finished 100 trials at size n=18000\n",
      "Finished 100 trials at size n=18500\n",
      "Finished 100 trials at size n=19000\n",
      "Finished 100 trials at size n=19500\n",
      "Finished 100 trials at size n=20000\n"
     ]
    }
   ],
   "source": [
    "quicksort_timings = {}\n",
    "mergesort_timings = {}\n",
    "timsort_timings = {}\n",
    "\n",
    "trials = 100\n",
    "for n in range(0,20_001,500):\n",
    "    if not n:\n",
    "        continue\n",
    "    quicksort_timings[n]=[]\n",
    "    mergesort_timings[n]=[]\n",
    "    timsort_timings[n]=[]\n",
    "    # Create shuffled lists to be sorted\n",
    "    inputs = []\n",
    "    for _ in range(trials):\n",
    "        L = list(range(n))\n",
    "        random.shuffle(L)\n",
    "        inputs.append(L)\n",
    "    # Do the sorting, record time\n",
    "    for L in inputs:\n",
    "        # We need to do mergesort first, since quicksort modifies\n",
    "        # its argument!\n",
    "        t0 = time.time()\n",
    "        sorts.mergesort(L)\n",
    "        t1 = time.time()\n",
    "        mergesort_timings[n].append(t1-t0)\n",
    "        L2 = L[:]\n",
    "        t0 = time.time()\n",
    "        sorts.quicksort(L2)\n",
    "        t1 = time.time()\n",
    "        quicksort_timings[n].append(t1-t0)\n",
    "        L2 = L[:]\n",
    "        t0 = time.time()\n",
    "        L2.sort()\n",
    "        t1 = time.time()\n",
    "        timsort_timings[n].append(t1-t0)\n",
    "    print(\"Finished {} trials at size n={}\".format(trials,n))"
   ]
  },
  {
   "cell_type": "code",
   "execution_count": 97,
   "id": "08245c36",
   "metadata": {},
   "outputs": [
    {
     "data": {
      "text/plain": [
       "[0.0010478496551513672,\n",
       " 0.0010330677032470703,\n",
       " 0.0010371208190917969,\n",
       " 0.0010306835174560547,\n",
       " 0.0010387897491455078,\n",
       " 0.0010371208190917969,\n",
       " 0.0010383129119873047,\n",
       " 0.0010623931884765625,\n",
       " 0.0010538101196289062,\n",
       " 0.001039266586303711]"
      ]
     },
     "execution_count": 97,
     "metadata": {},
     "output_type": "execute_result"
    }
   ],
   "source": [
    "mergesort_timings[1000][:10]"
   ]
  },
  {
   "cell_type": "code",
   "execution_count": 98,
   "id": "e6e36341",
   "metadata": {},
   "outputs": [
    {
     "data": {
      "text/plain": [
       "[0.0006625652313232422,\n",
       " 0.00061798095703125,\n",
       " 0.0006487369537353516,\n",
       " 0.00057220458984375,\n",
       " 0.0006372928619384766,\n",
       " 0.0005958080291748047,\n",
       " 0.0006604194641113281,\n",
       " 0.0006108283996582031,\n",
       " 0.000598907470703125,\n",
       " 0.0006234645843505859]"
      ]
     },
     "execution_count": 98,
     "metadata": {},
     "output_type": "execute_result"
    }
   ],
   "source": [
    "quicksort_timings[1000][:10]"
   ]
  },
  {
   "cell_type": "code",
   "execution_count": 22,
   "id": "d974a624",
   "metadata": {},
   "outputs": [],
   "source": [
    "L = [3,6,1,2,9,8]\n",
    "L.sort()"
   ]
  },
  {
   "cell_type": "code",
   "execution_count": 23,
   "id": "174d23a5",
   "metadata": {},
   "outputs": [
    {
     "data": {
      "text/plain": [
       "[1, 2, 3, 6, 8, 9]"
      ]
     },
     "execution_count": 23,
     "metadata": {},
     "output_type": "execute_result"
    }
   ],
   "source": [
    "L"
   ]
  },
  {
   "cell_type": "code",
   "execution_count": 99,
   "id": "da6ecce8",
   "metadata": {},
   "outputs": [
    {
     "data": {
      "text/plain": [
       "[5.745887756347656e-05,\n",
       " 5.507469177246094e-05,\n",
       " 5.4836273193359375e-05,\n",
       " 5.412101745605469e-05,\n",
       " 5.3882598876953125e-05,\n",
       " 5.435943603515625e-05,\n",
       " 5.412101745605469e-05,\n",
       " 5.459785461425781e-05,\n",
       " 5.507469177246094e-05,\n",
       " 5.459785461425781e-05]"
      ]
     },
     "execution_count": 99,
     "metadata": {},
     "output_type": "execute_result"
    }
   ],
   "source": [
    "timsort_timings[1000][:10]"
   ]
  },
  {
   "cell_type": "code",
   "execution_count": 94,
   "id": "1e427204",
   "metadata": {},
   "outputs": [],
   "source": [
    "import matplotlib.pyplot as plt\n",
    "import numpy as np"
   ]
  },
  {
   "cell_type": "code",
   "execution_count": 101,
   "id": "3936fc12",
   "metadata": {},
   "outputs": [
    {
     "data": {
      "image/png": "[encoded data removed]",
      "text/plain": [
       "<Figure size 960x720 with 1 Axes>"
      ]
     },
     "metadata": {
      "needs_background": "light"
     },
     "output_type": "display_data"
    }
   ],
   "source": [
    "plt.figure(figsize=(8,6),dpi=120)\n",
    "nn = sorted(quicksort_timings.keys())\n",
    "nnsparse = [k for k in nn if k%2000==0]\n",
    "plt.errorbar(nnsparse,[np.mean(quicksort_timings[n]) for n in nnsparse],yerr=[np.std(quicksort_timings[n]) for n in nnsparse],color=\"powderblue\",ls=\"none\")\n",
    "plt.errorbar(nnsparse,[np.mean(mergesort_timings[n]) for n in nnsparse],yerr=[np.std(quicksort_timings[n]) for n in nnsparse],color=\"sandybrown\",ls=\"none\")\n",
    "plt.errorbar(nnsparse,[np.mean(timsort_timings[n]) for n in nnsparse],yerr=[np.std(quicksort_timings[n]) for n in nnsparse],color=\"lightgreen\",ls=\"none\")\n",
    "plt.plot(nn,[np.mean(quicksort_timings[n]) for n in nn],label=\"Quicksort\")\n",
    "plt.plot(nn,[np.mean(mergesort_timings[n]) for n in nn],label=\"Mergesort\")\n",
    "plt.plot(nn,[np.mean(timsort_timings[n]) for n in nn],label=\"list.sort()\")\n",
    "plt.title(\"Recursive sort timing\")\n",
    "plt.xlabel(\"n\")\n",
    "plt.ylabel(\"sort time (s)\")\n",
    "plt.legend()\n",
    "plt.show()"
   ]
  },
  {
   "cell_type": "markdown",
   "id": "92719331",
   "metadata": {},
   "source": [
    "Qualitative interpretation:\n",
    "* It's hard to tell whether we are seeing linear growth or growth like $C n \\log(n)$.\n",
    "* Mergesort seems to take about 2x as long as quicksort for this range of $n$\n",
    "* Python's built-in `sort()` method is dramatically faster."
   ]
  }
 ],
 "metadata": {
  "kernelspec": {
   "display_name": "Python 3 (ipykernel)",
   "language": "python",
   "name": "python3"
  },
  "language_info": {
   "codemirror_mode": {
    "name": "ipython",
    "version": 3
   },
   "file_extension": ".py",
   "mimetype": "text/x-python",
   "name": "python",
   "nbconvert_exporter": "python",
   "pygments_lexer": "ipython3",
   "version": "3.10.6"
  }
 },
 "nbformat": 4,
 "nbformat_minor": 5
}
