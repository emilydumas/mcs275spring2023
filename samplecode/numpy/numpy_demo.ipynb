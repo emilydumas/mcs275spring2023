{
 "cells": [
  {
   "cell_type": "markdown",
   "id": "90415c86",
   "metadata": {},
   "source": [
    "# Demo of some `numpy` features\n",
    "\n",
    "## MCS 275 Spring 2023 - Emily Dumas\n",
    "\n",
    "This is a quick tour of some `numpy` features.  For more detail see:\n",
    "* [Chapter 2 of VanderPlas](https://jakevdp.github.io/PythonDataScienceHandbook/02.00-introduction-to-numpy.html)\n",
    "* [The numpy documentation](https://numpy.org/doc/stable/)"
   ]
  },
  {
   "cell_type": "markdown",
   "id": "d5ffa02e",
   "metadata": {},
   "source": [
    "## Importing the module"
   ]
  },
  {
   "cell_type": "code",
   "execution_count": 1,
   "id": "0600cf50",
   "metadata": {},
   "outputs": [
    {
     "data": {
      "text/plain": [
       "'1.21.5'"
      ]
     },
     "execution_count": 1,
     "metadata": {},
     "output_type": "execute_result"
    }
   ],
   "source": [
    "import numpy as np\n",
    "np.__version__"
   ]
  },
  {
   "cell_type": "markdown",
   "id": "91294334",
   "metadata": {},
   "source": [
    "## Creating arrays\n",
    "\n",
    "[List of built-in dtypes](https://numpy.org/doc/stable/reference/arrays.scalars.html#arrays-scalars-built-in)."
   ]
  },
  {
   "cell_type": "code",
   "execution_count": 2,
   "id": "9bdfb984",
   "metadata": {},
   "outputs": [],
   "source": [
    "# `np.array` will convert from an iterable\n",
    "x = np.array([2,4,8,16,32])"
   ]
  },
  {
   "cell_type": "code",
   "execution_count": 4,
   "id": "56dfa920",
   "metadata": {},
   "outputs": [
    {
     "data": {
      "text/plain": [
       "array([ 2,  4,  8, 16, 32])"
      ]
     },
     "execution_count": 4,
     "metadata": {},
     "output_type": "execute_result"
    }
   ],
   "source": [
    "x"
   ]
  },
  {
   "cell_type": "code",
   "execution_count": 5,
   "id": "d2ef9af4",
   "metadata": {},
   "outputs": [
    {
     "data": {
      "text/plain": [
       "numpy.ndarray"
      ]
     },
     "execution_count": 5,
     "metadata": {},
     "output_type": "execute_result"
    }
   ],
   "source": [
    "type(x)"
   ]
  },
  {
   "cell_type": "code",
   "execution_count": 6,
   "id": "a4da6e09",
   "metadata": {},
   "outputs": [
    {
     "data": {
      "text/plain": [
       "1"
      ]
     },
     "execution_count": 6,
     "metadata": {},
     "output_type": "execute_result"
    }
   ],
   "source": [
    "x.ndim # how many dimensions?"
   ]
  },
  {
   "cell_type": "code",
   "execution_count": 3,
   "id": "536111f4",
   "metadata": {},
   "outputs": [
    {
     "data": {
      "text/plain": [
       "(5,)"
      ]
     },
     "execution_count": 3,
     "metadata": {},
     "output_type": "execute_result"
    }
   ],
   "source": [
    "x.shape # size in each dimension, as a tuple"
   ]
  },
  {
   "cell_type": "code",
   "execution_count": 8,
   "id": "8174347f",
   "metadata": {},
   "outputs": [
    {
     "data": {
      "text/plain": [
       "5"
      ]
     },
     "execution_count": 8,
     "metadata": {},
     "output_type": "execute_result"
    }
   ],
   "source": [
    "len(x) # first element of `shape` attribute"
   ]
  },
  {
   "cell_type": "code",
   "execution_count": 9,
   "id": "6faadb20",
   "metadata": {
    "scrolled": true
   },
   "outputs": [
    {
     "data": {
      "text/plain": [
       "dtype('int64')"
      ]
     },
     "execution_count": 9,
     "metadata": {},
     "output_type": "execute_result"
    }
   ],
   "source": [
    "x.dtype # int64 means (signed) integer, 64 bits"
   ]
  },
  {
   "cell_type": "code",
   "execution_count": 10,
   "id": "9948f445",
   "metadata": {},
   "outputs": [],
   "source": [
    "# Given a mix of integers and floats, numpy\n",
    "# will choose a floating point dtype\n",
    "y= np.array([5,6,7,7.289])"
   ]
  },
  {
   "cell_type": "code",
   "execution_count": 11,
   "id": "6c108850",
   "metadata": {},
   "outputs": [
    {
     "data": {
      "text/plain": [
       "array([5.   , 6.   , 7.   , 7.289])"
      ]
     },
     "execution_count": 11,
     "metadata": {},
     "output_type": "execute_result"
    }
   ],
   "source": [
    "y"
   ]
  },
  {
   "cell_type": "code",
   "execution_count": 12,
   "id": "ca425485",
   "metadata": {},
   "outputs": [
    {
     "data": {
      "text/plain": [
       "dtype('float64')"
      ]
     },
     "execution_count": 12,
     "metadata": {},
     "output_type": "execute_result"
    }
   ],
   "source": [
    "y.dtype # float64 means float, 64 bits (double)"
   ]
  },
  {
   "cell_type": "code",
   "execution_count": 15,
   "id": "d5298ad4",
   "metadata": {},
   "outputs": [],
   "source": [
    "# Let's make an array and manually specify the dtype\n",
    "\n",
    "# uint8 means UNSIGNED integer, 8 bits\n",
    "# UNSIGNED = only 0 and positive values\n",
    "# range is 0...255\n",
    "z = np.array([1,-1,2,100,300,500,800,16384], dtype=\"uint8\")"
   ]
  },
  {
   "cell_type": "code",
   "execution_count": 16,
   "id": "bb6c1229",
   "metadata": {},
   "outputs": [
    {
     "data": {
      "text/plain": [
       "array([  1, 255,   2, 100,  44, 244,  32,   0], dtype=uint8)"
      ]
     },
     "execution_count": 16,
     "metadata": {},
     "output_type": "execute_result"
    }
   ],
   "source": [
    "z"
   ]
  },
  {
   "cell_type": "code",
   "execution_count": 17,
   "id": "7f664b18",
   "metadata": {},
   "outputs": [
    {
     "data": {
      "text/plain": [
       "44"
      ]
     },
     "execution_count": 17,
     "metadata": {},
     "output_type": "execute_result"
    }
   ],
   "source": [
    "# Why did 300 appear as 44 in the array above?\n",
    "300 % 256"
   ]
  },
  {
   "cell_type": "code",
   "execution_count": 4,
   "id": "e98259db",
   "metadata": {},
   "outputs": [],
   "source": [
    "# Make a 2D array from a list of lists\n",
    "A = np.array( [[3,4,5,6], [1,10,100,1000]], dtype=\"float64\")"
   ]
  },
  {
   "cell_type": "code",
   "execution_count": 21,
   "id": "f4df6b96",
   "metadata": {},
   "outputs": [
    {
     "data": {
      "text/plain": [
       "array([[   3.,    4.,    5.,    6.],\n",
       "       [   1.,   10.,  100., 1000.]])"
      ]
     },
     "execution_count": 21,
     "metadata": {},
     "output_type": "execute_result"
    }
   ],
   "source": [
    "A"
   ]
  },
  {
   "cell_type": "code",
   "execution_count": 22,
   "id": "75726baf",
   "metadata": {},
   "outputs": [
    {
     "data": {
      "text/plain": [
       "(2, 4)"
      ]
     },
     "execution_count": 22,
     "metadata": {},
     "output_type": "execute_result"
    }
   ],
   "source": [
    "A.shape"
   ]
  },
  {
   "cell_type": "markdown",
   "id": "5930ca0e",
   "metadata": {},
   "source": [
    "## Filled arrays"
   ]
  },
  {
   "cell_type": "code",
   "execution_count": 24,
   "id": "6bbcae39",
   "metadata": {},
   "outputs": [
    {
     "data": {
      "text/plain": [
       "array([[0, 0, 0, 0, 0, 0, 0, 0, 0, 0, 0, 0],\n",
       "       [0, 0, 0, 0, 0, 0, 0, 0, 0, 0, 0, 0],\n",
       "       [0, 0, 0, 0, 0, 0, 0, 0, 0, 0, 0, 0]])"
      ]
     },
     "execution_count": 24,
     "metadata": {},
     "output_type": "execute_result"
    }
   ],
   "source": [
    "# Filled with zeros\n",
    "np.zeros( (3,12), dtype=\"int64\")"
   ]
  },
  {
   "cell_type": "code",
   "execution_count": 5,
   "id": "b41b412e",
   "metadata": {},
   "outputs": [
    {
     "data": {
      "text/plain": [
       "array([[1., 1.],\n",
       "       [1., 1.],\n",
       "       [1., 1.],\n",
       "       [1., 1.],\n",
       "       [1., 1.],\n",
       "       [1., 1.]])"
      ]
     },
     "execution_count": 5,
     "metadata": {},
     "output_type": "execute_result"
    }
   ],
   "source": [
    "# Filled with ones\n",
    "np.ones( (6,2), dtype=\"float64\")"
   ]
  },
  {
   "cell_type": "code",
   "execution_count": 26,
   "id": "fdfb778c",
   "metadata": {},
   "outputs": [
    {
     "data": {
      "text/plain": [
       "array([[42, 42, 42, 42],\n",
       "       [42, 42, 42, 42],\n",
       "       [42, 42, 42, 42],\n",
       "       [42, 42, 42, 42],\n",
       "       [42, 42, 42, 42],\n",
       "       [42, 42, 42, 42],\n",
       "       [42, 42, 42, 42]], dtype=uint8)"
      ]
     },
     "execution_count": 26,
     "metadata": {},
     "output_type": "execute_result"
    }
   ],
   "source": [
    "# Filled with one value\n",
    "np.full( (7,4), 42, dtype=\"uint8\" )"
   ]
  },
  {
   "cell_type": "code",
   "execution_count": 4,
   "id": "726f9b74",
   "metadata": {},
   "outputs": [
    {
     "data": {
      "text/plain": [
       "array([[0.18356939, 0.18984025, 0.82520915, 0.55699318, 0.53622515],\n",
       "       [0.62208731, 0.73505179, 0.06832574, 0.40692692, 0.81277066],\n",
       "       [0.50103065, 0.59539456, 0.48778655, 0.2054196 , 0.37571201],\n",
       "       [0.75318401, 0.15764748, 0.458812  , 0.76400134, 0.0328593 ]])"
      ]
     },
     "execution_count": 4,
     "metadata": {},
     "output_type": "execute_result"
    }
   ],
   "source": [
    "# Filled with random numbers between 0 and 1\n",
    "np.random.random( (4,5) )  # argument is the shape"
   ]
  },
  {
   "cell_type": "markdown",
   "id": "3d234ed0",
   "metadata": {},
   "source": [
    "## Special things about 2D arrays"
   ]
  },
  {
   "cell_type": "code",
   "execution_count": 6,
   "id": "2a32613d",
   "metadata": {},
   "outputs": [
    {
     "data": {
      "text/plain": [
       "array([[1, 0, 0, 0, 0],\n",
       "       [0, 1, 0, 0, 0],\n",
       "       [0, 0, 1, 0, 0],\n",
       "       [0, 0, 0, 1, 0],\n",
       "       [0, 0, 0, 0, 1]], dtype=uint8)"
      ]
     },
     "execution_count": 6,
     "metadata": {},
     "output_type": "execute_result"
    }
   ],
   "source": [
    "# Identity matrix\n",
    "np.eye(5, dtype=\"uint8\")  # identity matrix of size (5,5)"
   ]
  },
  {
   "cell_type": "code",
   "execution_count": 7,
   "id": "096d3cd9",
   "metadata": {},
   "outputs": [
    {
     "data": {
      "text/plain": [
       "array([[1, 2, 3],\n",
       "       [9, 8, 7]])"
      ]
     },
     "execution_count": 7,
     "metadata": {},
     "output_type": "execute_result"
    }
   ],
   "source": [
    "A = np.array([[1,2,3],[9,8,7]])\n",
    "A"
   ]
  },
  {
   "cell_type": "code",
   "execution_count": 8,
   "id": "58b903f0",
   "metadata": {
    "scrolled": true
   },
   "outputs": [
    {
     "data": {
      "text/plain": [
       "array([[1, 9],\n",
       "       [2, 8],\n",
       "       [3, 7]])"
      ]
     },
     "execution_count": 8,
     "metadata": {},
     "output_type": "execute_result"
    }
   ],
   "source": [
    "# The transpose of A, which switches row and column roles\n",
    "A.T"
   ]
  },
  {
   "cell_type": "code",
   "execution_count": 9,
   "id": "aeacb9f3",
   "metadata": {},
   "outputs": [
    {
     "name": "stdout",
     "output_type": "stream",
     "text": [
      "3\n",
      "3\n"
     ]
    }
   ],
   "source": [
    "# defining property\n",
    "i=0\n",
    "j=2\n",
    "print(A[i,j])\n",
    "print(A.T[j,i])\n",
    "# whenever i,j are integers so that the first makes sense"
   ]
  },
  {
   "cell_type": "markdown",
   "id": "c6237fb2",
   "metadata": {},
   "source": [
    "## Vector algebra"
   ]
  },
  {
   "cell_type": "code",
   "execution_count": 11,
   "id": "a82c5829",
   "metadata": {},
   "outputs": [],
   "source": [
    "# two 3-dimensional vectors\n",
    "v = np.array([1,2,5])\n",
    "w = np.array([4,-8,0])"
   ]
  },
  {
   "cell_type": "code",
   "execution_count": 12,
   "id": "7210680d",
   "metadata": {},
   "outputs": [
    {
     "data": {
      "text/plain": [
       "-12"
      ]
     },
     "execution_count": 12,
     "metadata": {},
     "output_type": "execute_result"
    }
   ],
   "source": [
    "v.dot(w) # dot product\n",
    "#   1*4 + 2*(-8) + 5*0"
   ]
  },
  {
   "cell_type": "code",
   "execution_count": 13,
   "id": "0ce5e815",
   "metadata": {},
   "outputs": [
    {
     "data": {
      "text/plain": [
       "5.477225575051661"
      ]
     },
     "execution_count": 13,
     "metadata": {},
     "output_type": "execute_result"
    }
   ],
   "source": [
    "v.dot(v)**0.5 # length"
   ]
  },
  {
   "cell_type": "code",
   "execution_count": 14,
   "id": "36124058",
   "metadata": {},
   "outputs": [
    {
     "data": {
      "text/plain": [
       "array([1.8, 3.6, 9. ])"
      ]
     },
     "execution_count": 14,
     "metadata": {},
     "output_type": "execute_result"
    }
   ],
   "source": [
    "1.8 * v # scalar multiplication"
   ]
  },
  {
   "cell_type": "code",
   "execution_count": 15,
   "id": "ef0ab4fc",
   "metadata": {},
   "outputs": [
    {
     "data": {
      "text/plain": [
       "array([ 5, -6,  5])"
      ]
     },
     "execution_count": 15,
     "metadata": {},
     "output_type": "execute_result"
    }
   ],
   "source": [
    "v+w # elementwise sum"
   ]
  },
  {
   "cell_type": "code",
   "execution_count": 16,
   "id": "60ad74fb",
   "metadata": {},
   "outputs": [
    {
     "data": {
      "text/plain": [
       "array([  4, -16,   0])"
      ]
     },
     "execution_count": 16,
     "metadata": {},
     "output_type": "execute_result"
    }
   ],
   "source": [
    "v*w # elementwise product"
   ]
  },
  {
   "cell_type": "markdown",
   "id": "03b09226",
   "metadata": {},
   "source": [
    "## Arithmetic progressions"
   ]
  },
  {
   "cell_type": "code",
   "execution_count": 30,
   "id": "f5b7b36d",
   "metadata": {},
   "outputs": [
    {
     "data": {
      "text/plain": [
       "[3, 5, 7, 9, 11, 13, 15, 17, 19]"
      ]
     },
     "execution_count": 30,
     "metadata": {},
     "output_type": "execute_result"
    }
   ],
   "source": [
    "# Recall how you get a list of integer values\n",
    "# in arithmetic progression using built-in stuff\n",
    "list(range(3,20,2))"
   ]
  },
  {
   "cell_type": "code",
   "execution_count": 31,
   "id": "f0c6f1bf",
   "metadata": {},
   "outputs": [
    {
     "data": {
      "text/plain": [
       "array([2. , 2.1, 2.2, 2.3, 2.4, 2.5, 2.6, 2.7, 2.8, 2.9])"
      ]
     },
     "execution_count": 31,
     "metadata": {},
     "output_type": "execute_result"
    }
   ],
   "source": [
    "# From 2 up to but not including 3 in steps of size 0.1\n",
    "np.arange(2,3,0.1)   # start, stop (not included), step"
   ]
  },
  {
   "cell_type": "code",
   "execution_count": 34,
   "id": "1aee99f1",
   "metadata": {},
   "outputs": [
    {
     "data": {
      "text/plain": [
       "array([12. , 12.4, 12.8, 13.2, 13.6, 14. ])"
      ]
     },
     "execution_count": 34,
     "metadata": {},
     "output_type": "execute_result"
    }
   ],
   "source": [
    "# From 12 to 14 in 6 steps; \n",
    "np.linspace( 12, 14, 6 )   # first, last, number of elements"
   ]
  },
  {
   "cell_type": "markdown",
   "id": "6ecc13e2",
   "metadata": {},
   "source": [
    "## Accessing items"
   ]
  },
  {
   "cell_type": "code",
   "execution_count": 35,
   "id": "e1732002",
   "metadata": {},
   "outputs": [],
   "source": [
    "A = np.array([[1,2,3],[4,5,6],[7,8,9]])"
   ]
  },
  {
   "cell_type": "code",
   "execution_count": 36,
   "id": "42fa399e",
   "metadata": {},
   "outputs": [
    {
     "data": {
      "text/plain": [
       "array([[1, 2, 3],\n",
       "       [4, 5, 6],\n",
       "       [7, 8, 9]])"
      ]
     },
     "execution_count": 36,
     "metadata": {},
     "output_type": "execute_result"
    }
   ],
   "source": [
    "A"
   ]
  },
  {
   "cell_type": "code",
   "execution_count": 37,
   "id": "55edb60b",
   "metadata": {},
   "outputs": [],
   "source": [
    "# A[i,j] refers to the entry in row i, column j  (0-based)"
   ]
  },
  {
   "cell_type": "code",
   "execution_count": 38,
   "id": "0fcb4697",
   "metadata": {},
   "outputs": [
    {
     "data": {
      "text/plain": [
       "6"
      ]
     },
     "execution_count": 38,
     "metadata": {},
     "output_type": "execute_result"
    }
   ],
   "source": [
    "A[1,2] # row index 1, col index 2"
   ]
  },
  {
   "cell_type": "code",
   "execution_count": 39,
   "id": "e050a8a5",
   "metadata": {},
   "outputs": [
    {
     "data": {
      "text/plain": [
       "array([7, 8, 9])"
      ]
     },
     "execution_count": 39,
     "metadata": {},
     "output_type": "execute_result"
    }
   ],
   "source": [
    "A[2]  # means row index 2"
   ]
  },
  {
   "cell_type": "code",
   "execution_count": 40,
   "id": "5a613566",
   "metadata": {},
   "outputs": [
    {
     "data": {
      "text/plain": [
       "array([1, 4, 7])"
      ]
     },
     "execution_count": 40,
     "metadata": {},
     "output_type": "execute_result"
    }
   ],
   "source": [
    "# column 0 from A?\n",
    "# its entries are A[---,0]\n",
    "# numpy notation for that is A[:,0]\n",
    "# : means \"anything\" in numpy indexing\n",
    "A[:,0]"
   ]
  },
  {
   "cell_type": "code",
   "execution_count": 41,
   "id": "7acd7206",
   "metadata": {},
   "outputs": [
    {
     "data": {
      "text/plain": [
       "array([[1, 2, 3],\n",
       "       [4, 5, 6],\n",
       "       [7, 8, 9]])"
      ]
     },
     "execution_count": 41,
     "metadata": {},
     "output_type": "execute_result"
    }
   ],
   "source": [
    "A"
   ]
  },
  {
   "cell_type": "code",
   "execution_count": 42,
   "id": "11f91cfe",
   "metadata": {},
   "outputs": [],
   "source": [
    "B = np.array([[2,4,8,16,32],[1,-1,1,-1,1],[0,0,0,5,6],[7,6,5,4,3]])"
   ]
  },
  {
   "cell_type": "code",
   "execution_count": 43,
   "id": "9abafe4a",
   "metadata": {},
   "outputs": [
    {
     "data": {
      "text/plain": [
       "array([[ 2,  4,  8, 16, 32],\n",
       "       [ 1, -1,  1, -1,  1],\n",
       "       [ 0,  0,  0,  5,  6],\n",
       "       [ 7,  6,  5,  4,  3]])"
      ]
     },
     "execution_count": 43,
     "metadata": {},
     "output_type": "execute_result"
    }
   ],
   "source": [
    "B"
   ]
  },
  {
   "cell_type": "code",
   "execution_count": 44,
   "id": "62741b22",
   "metadata": {},
   "outputs": [
    {
     "data": {
      "text/plain": [
       "(4, 5)"
      ]
     },
     "execution_count": 44,
     "metadata": {},
     "output_type": "execute_result"
    }
   ],
   "source": [
    "B.shape"
   ]
  },
  {
   "cell_type": "markdown",
   "id": "bc5f6813",
   "metadata": {},
   "source": [
    "## Assigning items\n",
    "\n",
    "**`numpy` arrays are mutable**"
   ]
  },
  {
   "cell_type": "code",
   "execution_count": 45,
   "id": "8ba81949",
   "metadata": {},
   "outputs": [],
   "source": [
    "# row,col\n",
    "B[2,0] = 275"
   ]
  },
  {
   "cell_type": "code",
   "execution_count": 46,
   "id": "78b6aa73",
   "metadata": {},
   "outputs": [
    {
     "data": {
      "text/plain": [
       "array([[  2,   4,   8,  16,  32],\n",
       "       [  1,  -1,   1,  -1,   1],\n",
       "       [275,   0,   0,   5,   6],\n",
       "       [  7,   6,   5,   4,   3]])"
      ]
     },
     "execution_count": 46,
     "metadata": {},
     "output_type": "execute_result"
    }
   ],
   "source": [
    "B"
   ]
  },
  {
   "cell_type": "code",
   "execution_count": 48,
   "id": "d1b1b2fd",
   "metadata": {},
   "outputs": [],
   "source": [
    "B[3] = 567  # entire row 3 of B should have its entries set to 567"
   ]
  },
  {
   "cell_type": "code",
   "execution_count": 49,
   "id": "eb8f89e3",
   "metadata": {},
   "outputs": [
    {
     "data": {
      "text/plain": [
       "array([[  2,   4,   8,  16,  32],\n",
       "       [  1,  -1,   1,  -1,   1],\n",
       "       [275,   0,   0,   5,   6],\n",
       "       [567, 567, 567, 567, 567]])"
      ]
     },
     "execution_count": 49,
     "metadata": {},
     "output_type": "execute_result"
    }
   ],
   "source": [
    "B"
   ]
  },
  {
   "cell_type": "code",
   "execution_count": 50,
   "id": "eee78f19",
   "metadata": {},
   "outputs": [],
   "source": [
    "# Change an entire row at one time\n",
    "B[3] = [1,10,-1,-10,78]  # set the values in row 3 to 1, 10, ..."
   ]
  },
  {
   "cell_type": "code",
   "execution_count": 51,
   "id": "888bc756",
   "metadata": {},
   "outputs": [
    {
     "data": {
      "text/plain": [
       "array([[  2,   4,   8,  16,  32],\n",
       "       [  1,  -1,   1,  -1,   1],\n",
       "       [275,   0,   0,   5,   6],\n",
       "       [  1,  10,  -1, -10,  78]])"
      ]
     },
     "execution_count": 51,
     "metadata": {},
     "output_type": "execute_result"
    }
   ],
   "source": [
    "B"
   ]
  },
  {
   "cell_type": "markdown",
   "id": "caeef09f",
   "metadata": {},
   "source": [
    "## Slices"
   ]
  },
  {
   "cell_type": "code",
   "execution_count": 53,
   "id": "36bd8bb5",
   "metadata": {},
   "outputs": [],
   "source": [
    "C = B[ 1:3 , 1:4 ]  # the submatrix from rows 1 and 2 and columns 1,2,3"
   ]
  },
  {
   "cell_type": "code",
   "execution_count": 54,
   "id": "9d66cf00",
   "metadata": {},
   "outputs": [
    {
     "data": {
      "text/plain": [
       "array([[-1,  1, -1],\n",
       "       [ 0,  0,  5]])"
      ]
     },
     "execution_count": 54,
     "metadata": {},
     "output_type": "execute_result"
    }
   ],
   "source": [
    "C"
   ]
  },
  {
   "cell_type": "markdown",
   "id": "ab73bf2b",
   "metadata": {},
   "source": [
    "Slices return **views**, not copies."
   ]
  },
  {
   "cell_type": "code",
   "execution_count": 64,
   "id": "7ec55c56",
   "metadata": {},
   "outputs": [],
   "source": [
    "C[:,:] = 51 # set every entry in C to 51"
   ]
  },
  {
   "cell_type": "code",
   "execution_count": 65,
   "id": "3f1e9ea4",
   "metadata": {},
   "outputs": [
    {
     "data": {
      "text/plain": [
       "array([[51, 51, 51],\n",
       "       [51, 51, 51]])"
      ]
     },
     "execution_count": 65,
     "metadata": {},
     "output_type": "execute_result"
    }
   ],
   "source": [
    "C"
   ]
  },
  {
   "cell_type": "code",
   "execution_count": 66,
   "id": "f76d82bc",
   "metadata": {},
   "outputs": [
    {
     "data": {
      "text/plain": [
       "array([[  2,   4,   8,  16,  32],\n",
       "       [  1,  51,  51,  51,   1],\n",
       "       [275,  51,  51,  51,   6],\n",
       "       [  1,  10,  -1, -10,  78]])"
      ]
     },
     "execution_count": 66,
     "metadata": {},
     "output_type": "execute_result"
    }
   ],
   "source": [
    "# Let's inspect B.\n",
    "B"
   ]
  },
  {
   "cell_type": "markdown",
   "id": "efafd77f",
   "metadata": {},
   "source": [
    "Note that `B` changed when we modified `C`, because `C` is simply a view of part of `B`."
   ]
  },
  {
   "cell_type": "code",
   "execution_count": 17,
   "id": "ca8e1c1d",
   "metadata": {},
   "outputs": [],
   "source": [
    "v = np.array([2,4,6,8,10])\n",
    "w = np.array([2,4,8,16,32])"
   ]
  },
  {
   "cell_type": "code",
   "execution_count": 21,
   "id": "51db0373",
   "metadata": {},
   "outputs": [
    {
     "data": {
      "text/plain": [
       "array([ True,  True, False, False, False])"
      ]
     },
     "execution_count": 21,
     "metadata": {},
     "output_type": "execute_result"
    }
   ],
   "source": [
    "v == w  # gives an array of booleans"
   ]
  },
  {
   "cell_type": "code",
   "execution_count": 22,
   "id": "fd3610c2",
   "metadata": {},
   "outputs": [
    {
     "ename": "ValueError",
     "evalue": "The truth value of an array with more than one element is ambiguous. Use a.any() or a.all()",
     "output_type": "error",
     "traceback": [
      "\u001b[0;31m---------------------------------------------------------------------------\u001b[0m",
      "\u001b[0;31mValueError\u001b[0m                                Traceback (most recent call last)",
      "\u001b[0;32m/tmp/ipykernel_52085/3625848643.py\u001b[0m in \u001b[0;36m<module>\u001b[0;34m\u001b[0m\n\u001b[0;32m----> 1\u001b[0;31m \u001b[0;32mif\u001b[0m \u001b[0mv\u001b[0m \u001b[0;34m==\u001b[0m \u001b[0mw\u001b[0m\u001b[0;34m:\u001b[0m\u001b[0;34m\u001b[0m\u001b[0;34m\u001b[0m\u001b[0m\n\u001b[0m\u001b[1;32m      2\u001b[0m     \u001b[0mprint\u001b[0m\u001b[0;34m(\u001b[0m\u001b[0;34m\"v and w are equal\"\u001b[0m\u001b[0;34m)\u001b[0m\u001b[0;34m\u001b[0m\u001b[0;34m\u001b[0m\u001b[0m\n\u001b[1;32m      3\u001b[0m \u001b[0;32melse\u001b[0m\u001b[0;34m:\u001b[0m\u001b[0;34m\u001b[0m\u001b[0;34m\u001b[0m\u001b[0m\n\u001b[1;32m      4\u001b[0m     \u001b[0mprint\u001b[0m\u001b[0;34m(\u001b[0m\u001b[0;34m\"v and w are not equal\"\u001b[0m\u001b[0;34m)\u001b[0m\u001b[0;34m\u001b[0m\u001b[0;34m\u001b[0m\u001b[0m\n",
      "\u001b[0;31mValueError\u001b[0m: The truth value of an array with more than one element is ambiguous. Use a.any() or a.all()"
     ]
    }
   ],
   "source": [
    "if v == w:\n",
    "    print(\"v and w are equal\")\n",
    "else:\n",
    "    print(\"v and w are not equal\")"
   ]
  },
  {
   "cell_type": "markdown",
   "id": "e9e85219",
   "metadata": {},
   "source": []
  },
  {
   "cell_type": "code",
   "execution_count": null,
   "id": "f59a5017",
   "metadata": {},
   "outputs": [],
   "source": [
    "if np.array([ True,  True, False, False, False] ):\n",
    "    print(\"v and w are equal\")\n",
    "else:\n",
    "    print(\"v and w are not equal\")"
   ]
  },
  {
   "cell_type": "code",
   "execution_count": 24,
   "id": "301b9154",
   "metadata": {},
   "outputs": [
    {
     "data": {
      "text/plain": [
       "False"
      ]
     },
     "execution_count": 24,
     "metadata": {},
     "output_type": "execute_result"
    }
   ],
   "source": [
    "# proper ways to test elementwise equality of arrays\n",
    "np.array_equal(v,w)"
   ]
  },
  {
   "cell_type": "code",
   "execution_count": 25,
   "id": "23d514a6",
   "metadata": {},
   "outputs": [
    {
     "data": {
      "text/plain": [
       "False"
      ]
     },
     "execution_count": 25,
     "metadata": {},
     "output_type": "execute_result"
    }
   ],
   "source": [
    "(v==w).all()"
   ]
  },
  {
   "cell_type": "markdown",
   "id": "bb914bb5",
   "metadata": {},
   "source": [
    "## Ufuncs\n",
    "\n",
    "Functions that automatically apply to each entry in an array."
   ]
  },
  {
   "cell_type": "markdown",
   "id": "f816ad3b",
   "metadata": {},
   "source": [
    "### Some arrays to operate on"
   ]
  },
  {
   "cell_type": "code",
   "execution_count": 26,
   "id": "ed19bcbe",
   "metadata": {},
   "outputs": [
    {
     "data": {
      "text/plain": [
       "array([-5, -4, -3, -2, -1,  0,  1,  2,  3,  4,  5])"
      ]
     },
     "execution_count": 26,
     "metadata": {},
     "output_type": "execute_result"
    }
   ],
   "source": [
    "v = np.arange(-5,6,1)\n",
    "v"
   ]
  },
  {
   "cell_type": "code",
   "execution_count": 29,
   "id": "4ec43c05",
   "metadata": {},
   "outputs": [
    {
     "data": {
      "text/plain": [
       "array([[ 1,  2,  3,  4,  5],\n",
       "       [ 6,  7,  8,  9, 10],\n",
       "       [11, 12, 13, 14, 15]])"
      ]
     },
     "execution_count": 29,
     "metadata": {},
     "output_type": "execute_result"
    }
   ],
   "source": [
    "A = np.array(range(1,16)).reshape((3,5)) # (15,) -> (3,5)\n",
    "A"
   ]
  },
  {
   "cell_type": "markdown",
   "id": "99440cd0",
   "metadata": {},
   "source": [
    "### Examples of numpy ufuncs"
   ]
  },
  {
   "cell_type": "code",
   "execution_count": null,
   "id": "19c79bef",
   "metadata": {},
   "outputs": [],
   "source": []
  },
  {
   "cell_type": "code",
   "execution_count": 30,
   "id": "d69f8118",
   "metadata": {},
   "outputs": [
    {
     "data": {
      "text/plain": [
       "array([6.73794700e-03, 1.83156389e-02, 4.97870684e-02, 1.35335283e-01,\n",
       "       3.67879441e-01, 1.00000000e+00, 2.71828183e+00, 7.38905610e+00,\n",
       "       2.00855369e+01, 5.45981500e+01, 1.48413159e+02])"
      ]
     },
     "execution_count": 30,
     "metadata": {},
     "output_type": "execute_result"
    }
   ],
   "source": [
    "np.exp(v) # apply e^x to each entry"
   ]
  },
  {
   "cell_type": "code",
   "execution_count": 31,
   "id": "8920517d",
   "metadata": {},
   "outputs": [
    {
     "data": {
      "text/plain": [
       "0.006737947"
      ]
     },
     "execution_count": 31,
     "metadata": {},
     "output_type": "execute_result"
    }
   ],
   "source": [
    "6.73794700 * 10**(-3)"
   ]
  },
  {
   "cell_type": "code",
   "execution_count": 32,
   "id": "e5a75364",
   "metadata": {},
   "outputs": [
    {
     "data": {
      "text/plain": [
       "array([-125,  -64,  -27,   -8,   -1,    0,    1,    8,   27,   64,  125])"
      ]
     },
     "execution_count": 32,
     "metadata": {},
     "output_type": "execute_result"
    }
   ],
   "source": [
    "v**3 # cube each entry"
   ]
  },
  {
   "cell_type": "code",
   "execution_count": 33,
   "id": "b3e2e073",
   "metadata": {},
   "outputs": [
    {
     "data": {
      "text/plain": [
       "array([[    1,    16,    81,   256,   625],\n",
       "       [ 1296,  2401,  4096,  6561, 10000],\n",
       "       [14641, 20736, 28561, 38416, 50625]])"
      ]
     },
     "execution_count": 33,
     "metadata": {},
     "output_type": "execute_result"
    }
   ],
   "source": [
    "A**4"
   ]
  },
  {
   "cell_type": "code",
   "execution_count": 36,
   "id": "5f0b18aa",
   "metadata": {},
   "outputs": [
    {
     "data": {
      "text/plain": [
       "array([-5, -4, -3, -2, -1,  0,  1,  2,  3,  4,  5])"
      ]
     },
     "execution_count": 36,
     "metadata": {},
     "output_type": "execute_result"
    }
   ],
   "source": [
    "v"
   ]
  },
  {
   "cell_type": "code",
   "execution_count": 34,
   "id": "80d379da",
   "metadata": {},
   "outputs": [
    {
     "data": {
      "text/plain": [
       "array([ 0.28366219, -0.65364362, -0.9899925 , -0.41614684,  0.54030231,\n",
       "        1.        ,  0.54030231, -0.41614684, -0.9899925 , -0.65364362,\n",
       "        0.28366219])"
      ]
     },
     "execution_count": 34,
     "metadata": {},
     "output_type": "execute_result"
    }
   ],
   "source": [
    "np.cos(v) # Take cosine of each entry"
   ]
  },
  {
   "cell_type": "code",
   "execution_count": 35,
   "id": "9d3a0290",
   "metadata": {},
   "outputs": [
    {
     "data": {
      "text/plain": [
       "array([ 3.38051501, -1.15782128,  0.14254654,  2.18503986, -1.55740772,\n",
       "        0.        ,  1.55740772, -2.18503986, -0.14254654,  1.15782128,\n",
       "       -3.38051501])"
      ]
     },
     "execution_count": 35,
     "metadata": {},
     "output_type": "execute_result"
    }
   ],
   "source": [
    "np.tan(v)"
   ]
  },
  {
   "cell_type": "code",
   "execution_count": 37,
   "id": "efde5cf6",
   "metadata": {},
   "outputs": [
    {
     "name": "stderr",
     "output_type": "stream",
     "text": [
      "/tmp/ipykernel_52085/957696640.py:1: RuntimeWarning: divide by zero encountered in log\n",
      "  np.log(v)\n",
      "/tmp/ipykernel_52085/957696640.py:1: RuntimeWarning: invalid value encountered in log\n",
      "  np.log(v)\n"
     ]
    },
    {
     "data": {
      "text/plain": [
       "array([       nan,        nan,        nan,        nan,        nan,\n",
       "             -inf, 0.        , 0.69314718, 1.09861229, 1.38629436,\n",
       "       1.60943791])"
      ]
     },
     "execution_count": 37,
     "metadata": {},
     "output_type": "execute_result"
    }
   ],
   "source": [
    "np.log(v)"
   ]
  },
  {
   "cell_type": "code",
   "execution_count": 38,
   "id": "2ae9e9b9",
   "metadata": {},
   "outputs": [
    {
     "data": {
      "text/plain": [
       "array([[ 0.54030231, -0.41614684, -0.9899925 , -0.65364362,  0.28366219],\n",
       "       [ 0.96017029,  0.75390225, -0.14550003, -0.91113026, -0.83907153],\n",
       "       [ 0.0044257 ,  0.84385396,  0.90744678,  0.13673722, -0.75968791]])"
      ]
     },
     "execution_count": 38,
     "metadata": {},
     "output_type": "execute_result"
    }
   ],
   "source": [
    "np.cos(A) # Works the same for 2D arrays"
   ]
  },
  {
   "cell_type": "code",
   "execution_count": 39,
   "id": "eada0e0c",
   "metadata": {},
   "outputs": [
    {
     "data": {
      "text/plain": [
       "array([[1.        , 0.5       , 0.33333333, 0.25      , 0.2       ],\n",
       "       [0.16666667, 0.14285714, 0.125     , 0.11111111, 0.1       ],\n",
       "       [0.09090909, 0.08333333, 0.07692308, 0.07142857, 0.06666667]])"
      ]
     },
     "execution_count": 39,
     "metadata": {},
     "output_type": "execute_result"
    }
   ],
   "source": [
    "1/A # reciprocal of each entry"
   ]
  },
  {
   "cell_type": "code",
   "execution_count": 40,
   "id": "bc0d153d",
   "metadata": {},
   "outputs": [
    {
     "data": {
      "text/plain": [
       "array([[ 1,  2,  3,  4,  5],\n",
       "       [ 6,  7,  8,  9, 10],\n",
       "       [11, 12, 13, 14, 15]])"
      ]
     },
     "execution_count": 40,
     "metadata": {},
     "output_type": "execute_result"
    }
   ],
   "source": [
    "A"
   ]
  },
  {
   "cell_type": "markdown",
   "id": "5750b807",
   "metadata": {},
   "source": [
    "Let $f(x) = 3x^2 - 8x + 14$.  Apply $f$ to each element of array `v`."
   ]
  },
  {
   "cell_type": "code",
   "execution_count": 41,
   "id": "bc56f57d",
   "metadata": {},
   "outputs": [],
   "source": [
    "def f(x):\n",
    "    return 3*(x**2) - 8*x + 14"
   ]
  },
  {
   "cell_type": "code",
   "execution_count": 43,
   "id": "0276d920",
   "metadata": {},
   "outputs": [
    {
     "data": {
      "text/plain": [
       "array([129,  94,  65,  42,  25,  14,   9,  10,  17,  30,  49])"
      ]
     },
     "execution_count": 43,
     "metadata": {},
     "output_type": "execute_result"
    }
   ],
   "source": [
    "np.array([f(x) for x in v])"
   ]
  },
  {
   "cell_type": "code",
   "execution_count": 44,
   "id": "f14a827b",
   "metadata": {},
   "outputs": [
    {
     "data": {
      "text/plain": [
       "array([129,  94,  65,  42,  25,  14,   9,  10,  17,  30,  49])"
      ]
     },
     "execution_count": 44,
     "metadata": {},
     "output_type": "execute_result"
    }
   ],
   "source": [
    "3*(v**2) - 8*v + 14  # shorter, also faster"
   ]
  },
  {
   "cell_type": "markdown",
   "id": "f86a385f",
   "metadata": {},
   "source": [
    "## Broadcasting"
   ]
  },
  {
   "cell_type": "code",
   "execution_count": 45,
   "id": "06c7803e",
   "metadata": {},
   "outputs": [
    {
     "data": {
      "text/plain": [
       "array([[ 1,  2,  3,  4,  5],\n",
       "       [ 6,  7,  8,  9, 10],\n",
       "       [11, 12, 13, 14, 15]])"
      ]
     },
     "execution_count": 45,
     "metadata": {},
     "output_type": "execute_result"
    }
   ],
   "source": [
    "A = np.array(range(1,16)).reshape((3,5))\n",
    "A"
   ]
  },
  {
   "cell_type": "code",
   "execution_count": 46,
   "id": "1b387514",
   "metadata": {},
   "outputs": [
    {
     "data": {
      "text/plain": [
       "array([[ 6,  7,  8,  9, 10],\n",
       "       [11, 12, 13, 14, 15],\n",
       "       [16, 17, 18, 19, 20]])"
      ]
     },
     "execution_count": 46,
     "metadata": {},
     "output_type": "execute_result"
    }
   ],
   "source": [
    "A + 5   # A shape (3,5)   5 ???"
   ]
  },
  {
   "cell_type": "code",
   "execution_count": 47,
   "id": "ce8860cd",
   "metadata": {},
   "outputs": [
    {
     "data": {
      "text/plain": [
       "array([[ 6,  7,  8,  9, 10],\n",
       "       [11, 12, 13, 14, 15],\n",
       "       [16, 17, 18, 19, 20]])"
      ]
     },
     "execution_count": 47,
     "metadata": {},
     "output_type": "execute_result"
    }
   ],
   "source": [
    "A + [[5,5,5,5,5],[5,5,5,5,5],[5,5,5,5,5]]"
   ]
  },
  {
   "cell_type": "code",
   "execution_count": 48,
   "id": "8c9200d6",
   "metadata": {},
   "outputs": [
    {
     "data": {
      "text/plain": [
       "array([[ 1,  2,  3,  4,  5],\n",
       "       [ 6,  7,  8,  9, 10],\n",
       "       [11, 12, 13, 14, 15]])"
      ]
     },
     "execution_count": 48,
     "metadata": {},
     "output_type": "execute_result"
    }
   ],
   "source": [
    "A"
   ]
  },
  {
   "cell_type": "code",
   "execution_count": 49,
   "id": "d8b7d373",
   "metadata": {},
   "outputs": [
    {
     "data": {
      "text/plain": [
       "array([ 6,  7,  8,  9, 10])"
      ]
     },
     "execution_count": 49,
     "metadata": {},
     "output_type": "execute_result"
    }
   ],
   "source": [
    "A[1]"
   ]
  },
  {
   "cell_type": "code",
   "execution_count": 50,
   "id": "d7871ce9",
   "metadata": {},
   "outputs": [
    {
     "data": {
      "text/plain": [
       "array([[ 1,  2,  3,  4,  5],\n",
       "       [27, 27, 27, 27, 27],\n",
       "       [11, 12, 13, 14, 15]])"
      ]
     },
     "execution_count": 50,
     "metadata": {},
     "output_type": "execute_result"
    }
   ],
   "source": [
    "A[1] = 27 # A[1] is a row, 27 is a number\n",
    "A"
   ]
  },
  {
   "cell_type": "code",
   "execution_count": 51,
   "id": "02d0f203",
   "metadata": {},
   "outputs": [
    {
     "data": {
      "text/plain": [
       "array([[ 2,  3,  4,  5,  6],\n",
       "       [28, 28, 28, 28, 28],\n",
       "       [12, 13, 14, 15, 16]])"
      ]
     },
     "execution_count": 51,
     "metadata": {},
     "output_type": "execute_result"
    }
   ],
   "source": [
    "A += 1 # increase everything by one\n",
    "A"
   ]
  },
  {
   "cell_type": "code",
   "execution_count": 52,
   "id": "986fd078",
   "metadata": {},
   "outputs": [],
   "source": [
    "A *= 2\n"
   ]
  },
  {
   "cell_type": "code",
   "execution_count": 54,
   "id": "ce270f4f",
   "metadata": {},
   "outputs": [
    {
     "data": {
      "text/plain": [
       "array([[ 4,  6,  8, 10, 12],\n",
       "       [56, 56, 56, 56, 56],\n",
       "       [24, 26, 28, 30, 32]])"
      ]
     },
     "execution_count": 54,
     "metadata": {},
     "output_type": "execute_result"
    }
   ],
   "source": [
    "A"
   ]
  },
  {
   "cell_type": "code",
   "execution_count": 56,
   "id": "88898749",
   "metadata": {},
   "outputs": [
    {
     "data": {
      "text/plain": [
       "array([[ 9,  1,  3, 15, 12],\n",
       "       [61, 51, 51, 61, 56],\n",
       "       [29, 21, 23, 35, 32]])"
      ]
     },
     "execution_count": 56,
     "metadata": {},
     "output_type": "execute_result"
    }
   ],
   "source": [
    "A + [5,-5,-5,5,0] # gets added to every row\n",
    "#(3,5)  + (5,)"
   ]
  },
  {
   "cell_type": "code",
   "execution_count": 55,
   "id": "b0e70583",
   "metadata": {},
   "outputs": [
    {
     "data": {
      "text/plain": [
       "array([[ 9,  1,  3, 15, 12],\n",
       "       [61, 51, 51, 61, 56],\n",
       "       [29, 21, 23, 35, 32]])"
      ]
     },
     "execution_count": 55,
     "metadata": {},
     "output_type": "execute_result"
    }
   ],
   "source": [
    "A + [[5,-5,-5,5,0],[5,-5,-5,5,0],[5,-5,-5,5,0]]"
   ]
  },
  {
   "cell_type": "markdown",
   "id": "dd2318f3",
   "metadata": {},
   "source": [
    "## Aggregations\n",
    "\n",
    "`sum`, `max`, `min`, `argmax`, `argmin`, `mean`, `all`, `any`, `array_equal`"
   ]
  },
  {
   "cell_type": "code",
   "execution_count": 58,
   "id": "a94fbc85",
   "metadata": {},
   "outputs": [
    {
     "data": {
      "text/plain": [
       "array([0.18727418, 0.60942275, 0.69341366, 0.04816357, 0.70953069,\n",
       "       0.55591148, 0.0825111 , 0.02229469, 0.68578798, 0.50285539])"
      ]
     },
     "execution_count": 58,
     "metadata": {},
     "output_type": "execute_result"
    }
   ],
   "source": [
    "x = np.random.random( (10,) )\n",
    "x"
   ]
  },
  {
   "cell_type": "code",
   "execution_count": 59,
   "id": "5fb1766a",
   "metadata": {},
   "outputs": [
    {
     "data": {
      "text/plain": [
       "4.097165477078023"
      ]
     },
     "execution_count": 59,
     "metadata": {},
     "output_type": "execute_result"
    }
   ],
   "source": [
    "np.sum(x)  #fast - C for loop"
   ]
  },
  {
   "cell_type": "code",
   "execution_count": 60,
   "id": "f683aef2",
   "metadata": {},
   "outputs": [
    {
     "data": {
      "text/plain": [
       "4.097165477078023"
      ]
     },
     "execution_count": 60,
     "metadata": {},
     "output_type": "execute_result"
    }
   ],
   "source": [
    "sum(x) #slower - Python for loop"
   ]
  },
  {
   "cell_type": "code",
   "execution_count": 61,
   "id": "cd180b9a",
   "metadata": {},
   "outputs": [
    {
     "data": {
      "text/plain": [
       "0.7095306860279971"
      ]
     },
     "execution_count": 61,
     "metadata": {},
     "output_type": "execute_result"
    }
   ],
   "source": [
    "np.max(x)"
   ]
  },
  {
   "cell_type": "code",
   "execution_count": 62,
   "id": "fa25f81b",
   "metadata": {},
   "outputs": [
    {
     "data": {
      "text/plain": [
       "0.022294687886910802"
      ]
     },
     "execution_count": 62,
     "metadata": {},
     "output_type": "execute_result"
    }
   ],
   "source": [
    "np.min(x)"
   ]
  },
  {
   "cell_type": "code",
   "execution_count": 64,
   "id": "d2e11fd3",
   "metadata": {},
   "outputs": [
    {
     "data": {
      "text/plain": [
       "4"
      ]
     },
     "execution_count": 64,
     "metadata": {},
     "output_type": "execute_result"
    }
   ],
   "source": [
    "np.argmax(x)  # index of the (first) largest element in x"
   ]
  },
  {
   "cell_type": "code",
   "execution_count": 65,
   "id": "68efbd67",
   "metadata": {},
   "outputs": [
    {
     "data": {
      "text/plain": [
       "0.7095306860279971"
      ]
     },
     "execution_count": 65,
     "metadata": {},
     "output_type": "execute_result"
    }
   ],
   "source": [
    "x[4]"
   ]
  },
  {
   "cell_type": "code",
   "execution_count": null,
   "id": "9cf0be51",
   "metadata": {},
   "outputs": [],
   "source": [
    "np.all()  # are all of the elements nonzero\n",
    "np.any()  # is there at least one nonzero element"
   ]
  },
  {
   "cell_type": "code",
   "execution_count": 66,
   "id": "5a6bd7ec",
   "metadata": {},
   "outputs": [],
   "source": [
    "A = np.array([[1,2,5,8,9],[4,3,4,-2,-91],[0,0,0,3,4]])"
   ]
  },
  {
   "cell_type": "code",
   "execution_count": 67,
   "id": "5b43f718",
   "metadata": {},
   "outputs": [
    {
     "data": {
      "text/plain": [
       "array([[  1,   2,   5,   8,   9],\n",
       "       [  4,   3,   4,  -2, -91],\n",
       "       [  0,   0,   0,   3,   4]])"
      ]
     },
     "execution_count": 67,
     "metadata": {},
     "output_type": "execute_result"
    }
   ],
   "source": [
    "A"
   ]
  },
  {
   "cell_type": "code",
   "execution_count": 69,
   "id": "b2042016",
   "metadata": {},
   "outputs": [
    {
     "data": {
      "text/plain": [
       "-3.3333333333333335"
      ]
     },
     "execution_count": 69,
     "metadata": {},
     "output_type": "execute_result"
    }
   ],
   "source": [
    "np.mean(A) # average of all the entries"
   ]
  },
  {
   "cell_type": "code",
   "execution_count": 71,
   "id": "5a28686c",
   "metadata": {},
   "outputs": [
    {
     "data": {
      "text/plain": [
       "array([  1.66666667,   1.66666667,   3.        ,   3.        ,\n",
       "       -26.        ])"
      ]
     },
     "execution_count": 71,
     "metadata": {},
     "output_type": "execute_result"
    }
   ],
   "source": [
    "# vector of column averages\n",
    "np.mean(A,axis=0)  # average out all possible values for index 0\n",
    "# average A[:,j]"
   ]
  },
  {
   "cell_type": "code",
   "execution_count": 73,
   "id": "52595cf9",
   "metadata": {},
   "outputs": [
    {
     "data": {
      "text/plain": [
       "array([  5. , -16.4,   1.4])"
      ]
     },
     "execution_count": 73,
     "metadata": {},
     "output_type": "execute_result"
    }
   ],
   "source": [
    "# vector of row averages\n",
    "np.mean(A,axis=1)"
   ]
  },
  {
   "cell_type": "markdown",
   "id": "08858554",
   "metadata": {},
   "source": [
    "## Masks"
   ]
  },
  {
   "cell_type": "code",
   "execution_count": 76,
   "id": "6c2f7134",
   "metadata": {},
   "outputs": [],
   "source": [
    "A = np.zeros( (6,6) ) + [1,2,5,8,9,14]"
   ]
  },
  {
   "cell_type": "code",
   "execution_count": 77,
   "id": "224b6f54",
   "metadata": {},
   "outputs": [
    {
     "data": {
      "text/plain": [
       "array([[ 1.,  2.,  5.,  8.,  9., 14.],\n",
       "       [ 1.,  2.,  5.,  8.,  9., 14.],\n",
       "       [ 1.,  2.,  5.,  8.,  9., 14.],\n",
       "       [ 1.,  2.,  5.,  8.,  9., 14.],\n",
       "       [ 1.,  2.,  5.,  8.,  9., 14.],\n",
       "       [ 1.,  2.,  5.,  8.,  9., 14.]])"
      ]
     },
     "execution_count": 77,
     "metadata": {},
     "output_type": "execute_result"
    }
   ],
   "source": [
    "A"
   ]
  },
  {
   "cell_type": "code",
   "execution_count": 78,
   "id": "78b17c8e",
   "metadata": {},
   "outputs": [
    {
     "data": {
      "text/plain": [
       "array([[ 1.,  1.,  1.,  1.,  1.,  1.],\n",
       "       [ 2.,  2.,  2.,  2.,  2.,  2.],\n",
       "       [ 5.,  5.,  5.,  5.,  5.,  5.],\n",
       "       [ 8.,  8.,  8.,  8.,  8.,  8.],\n",
       "       [ 9.,  9.,  9.,  9.,  9.,  9.],\n",
       "       [14., 14., 14., 14., 14., 14.]])"
      ]
     },
     "execution_count": 78,
     "metadata": {},
     "output_type": "execute_result"
    }
   ],
   "source": [
    "A.T"
   ]
  },
  {
   "cell_type": "code",
   "execution_count": 81,
   "id": "e731da51",
   "metadata": {},
   "outputs": [
    {
     "data": {
      "text/plain": [
       "array([[ 2.,  3.,  6.,  9., 10., 15.],\n",
       "       [ 3.,  4.,  7., 10., 11., 16.],\n",
       "       [ 6.,  7., 10., 13., 14., 19.],\n",
       "       [ 9., 10., 13., 16., 17., 22.],\n",
       "       [10., 11., 14., 17., 18., 23.],\n",
       "       [15., 16., 19., 22., 23., 28.]])"
      ]
     },
     "execution_count": 81,
     "metadata": {},
     "output_type": "execute_result"
    }
   ],
   "source": [
    "B = A + A.T\n",
    "B"
   ]
  },
  {
   "cell_type": "code",
   "execution_count": 84,
   "id": "56a7bef5",
   "metadata": {},
   "outputs": [
    {
     "data": {
      "text/plain": [
       "array([[ -4.,  -3.,  12.,  45.,  60., 165.],\n",
       "       [ -3.,   0.,  21.,  60.,  77., 192.],\n",
       "       [ 12.,  21.,  60., 117., 140., 285.],\n",
       "       [ 45.,  60., 117., 192., 221., 396.],\n",
       "       [ 60.,  77., 140., 221., 252., 437.],\n",
       "       [165., 192., 285., 396., 437., 672.]])"
      ]
     },
     "execution_count": 84,
     "metadata": {},
     "output_type": "execute_result"
    }
   ],
   "source": [
    "C = B**2 - 4*B\n",
    "C"
   ]
  },
  {
   "cell_type": "code",
   "execution_count": 87,
   "id": "c5acfc34",
   "metadata": {},
   "outputs": [
    {
     "data": {
      "text/plain": [
       "array([[False, False, False, False, False,  True],\n",
       "       [False, False, False, False, False,  True],\n",
       "       [False, False, False,  True,  True,  True],\n",
       "       [False, False,  True,  True,  True,  True],\n",
       "       [False, False,  True,  True,  True,  True],\n",
       "       [ True,  True,  True,  True,  True,  True]])"
      ]
     },
     "execution_count": 87,
     "metadata": {},
     "output_type": "execute_result"
    }
   ],
   "source": [
    "is_big = C > 100   # MASK\n",
    "is_big"
   ]
  },
  {
   "cell_type": "code",
   "execution_count": 88,
   "id": "616fe38b",
   "metadata": {},
   "outputs": [
    {
     "data": {
      "text/plain": [
       "array([165., 192., 117., 140., 285., 117., 192., 221., 396., 140., 221.,\n",
       "       252., 437., 165., 192., 285., 396., 437., 672.])"
      ]
     },
     "execution_count": 88,
     "metadata": {},
     "output_type": "execute_result"
    }
   ],
   "source": [
    "C[is_big]  # 2d array indexed using a 2d array of booleans\n",
    "# means: Give me all the values corresponding to \"True\" positions"
   ]
  },
  {
   "cell_type": "markdown",
   "id": "fd794bc1",
   "metadata": {},
   "source": [
    "In array `C`, find all the values larger than 100 and replace them with -50."
   ]
  },
  {
   "cell_type": "code",
   "execution_count": 89,
   "id": "b2c4526c",
   "metadata": {},
   "outputs": [],
   "source": [
    "C[C>100] = -50  # expression of intent: C, where bigger than 100, is set equal to -50"
   ]
  },
  {
   "cell_type": "code",
   "execution_count": 90,
   "id": "49aacdbd",
   "metadata": {},
   "outputs": [
    {
     "data": {
      "text/plain": [
       "array([[ -4.,  -3.,  12.,  45.,  60., -50.],\n",
       "       [ -3.,   0.,  21.,  60.,  77., -50.],\n",
       "       [ 12.,  21.,  60., -50., -50., -50.],\n",
       "       [ 45.,  60., -50., -50., -50., -50.],\n",
       "       [ 60.,  77., -50., -50., -50., -50.],\n",
       "       [-50., -50., -50., -50., -50., -50.]])"
      ]
     },
     "execution_count": 90,
     "metadata": {},
     "output_type": "execute_result"
    }
   ],
   "source": [
    "C"
   ]
  },
  {
   "cell_type": "markdown",
   "id": "9909646e",
   "metadata": {},
   "source": [
    "## Pillow integration\n",
    "\n",
    "* `np.array(img)` just works, if `img` is a `PIL.Image` object\n",
    "* Use `PIL.Image.fromarray(A)` to make an image from an array\n",
    "    * Shape `(height,width)` and dtype `uint8` for grayscale\n",
    "    * Shape `(height,width,3)` and dtype `uint8` for color (last axis is red, green, blue)"
   ]
  },
  {
   "cell_type": "code",
   "execution_count": 91,
   "id": "3e263734",
   "metadata": {},
   "outputs": [],
   "source": [
    "import PIL.Image"
   ]
  },
  {
   "cell_type": "code",
   "execution_count": 93,
   "id": "42f13bbc",
   "metadata": {},
   "outputs": [],
   "source": [
    "A = np.random.random((256,256))"
   ]
  },
  {
   "cell_type": "code",
   "execution_count": 94,
   "id": "fbcd71bc",
   "metadata": {},
   "outputs": [
    {
     "data": {
      "text/plain": [
       "array([[0.0134065 , 0.90105807, 0.91543535, ..., 0.02828057, 0.34336364,\n",
       "        0.72064901],\n",
       "       [0.72750154, 0.02836251, 0.22307256, ..., 0.97292326, 0.8461659 ,\n",
       "        0.4078381 ],\n",
       "       [0.6233079 , 0.87224472, 0.91842192, ..., 0.26463918, 0.34587583,\n",
       "        0.07294757],\n",
       "       ...,\n",
       "       [0.30778629, 0.80968986, 0.06001571, ..., 0.85371841, 0.31115892,\n",
       "        0.21749124],\n",
       "       [0.84737652, 0.85970629, 0.10829529, ..., 0.88356236, 0.30798818,\n",
       "        0.83837335],\n",
       "       [0.67100848, 0.84164515, 0.99521068, ..., 0.92152041, 0.23771473,\n",
       "        0.90253976]])"
      ]
     },
     "execution_count": 94,
     "metadata": {},
     "output_type": "execute_result"
    }
   ],
   "source": [
    "A"
   ]
  },
  {
   "cell_type": "code",
   "execution_count": 101,
   "id": "0b6ebd5b",
   "metadata": {},
   "outputs": [],
   "source": [
    "D = (A*255).astype(\"uint8\")\n",
    "D[D>64] = 255"
   ]
  },
  {
   "cell_type": "code",
   "execution_count": 103,
   "id": "43926051",
   "metadata": {},
   "outputs": [],
   "source": [
    "PIL.Image.fromarray(D).save(\"sparse_noise.png\")"
   ]
  },
  {
   "cell_type": "code",
   "execution_count": null,
   "id": "c08d231a",
   "metadata": {},
   "outputs": [],
   "source": []
  }
 ],
 "metadata": {
  "kernelspec": {
   "display_name": "Python 3 (ipykernel)",
   "language": "python",
   "name": "python3"
  },
  "language_info": {
   "codemirror_mode": {
    "name": "ipython",
    "version": 3
   },
   "file_extension": ".py",
   "mimetype": "text/x-python",
   "name": "python",
   "nbconvert_exporter": "python",
   "pygments_lexer": "ipython3",
   "version": "3.10.6"
  }
 },
 "nbformat": 4,
 "nbformat_minor": 5
}
