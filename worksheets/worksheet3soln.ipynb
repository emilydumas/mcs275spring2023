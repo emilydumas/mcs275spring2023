{
 "cells": [
  {
   "cell_type": "markdown",
   "metadata": {},
   "source": [
    "# MCS 275 Spring 2023 Worksheet 3 Solutions\n",
    "\n",
    "* Course instructor: Emily Dumas\n",
    "* Contributors to this document: Emily Dumas, Johnny Joyce, Kylash Viswanathan"
   ]
  },
  {
   "cell_type": "markdown",
   "metadata": {},
   "source": [
    "## Topics\n",
    "\n",
    "This worksheet deviates from the original plan in order to account for the lost week of lecture time during the UICUF strike (Jan 17-22, 2023).\n",
    "\n",
    "It includes some material on object-oriented programming, based on the discussion from the end of our Python tour (lecture 3) and the material on operator overloading in lecture 4.\n",
    "\n",
    "Some of you will complete this worksheet after lecture 5, but that material will be covered on worksheet 4.  In general, each worksheet after this one will focus on the previous week's lecture material.  Usually that will mean 3 lectures of material is available for exploration on a worksheet."
   ]
  },
  {
   "cell_type": "markdown",
   "metadata": {},
   "source": [
    "## Resources\n",
    "\n",
    "These things might be helpful while working on the problems.  Remember that for worksheets,  we don't strictly limit what resources you can consult, so these are only suggestions.\n",
    "\n",
    "* [Lecture 4 - Operator Overloading](https://www.dumas.io/teaching/2023/spring/mcs275/slides/lecture4.html)\n",
    "* [MCS 275 Python Tour](https://www.dumas.io/teaching/2023/spring/mcs275/nbview/samplecode/python_tour.html)\n",
    "* [Downey's book](https://greenteapress.com/thinkpython2/html/)\n",
    "* MCS 260 course materials from Fall 2021:\n",
    "    * [Slides, homework, worksheets, and projects](https://www.dumas.io/teaching/2021/fall/mcs260/)\n",
    "    * [Sample programs](https://github.com/emilydumas/mcs260fall2021/tree/main/samplecode)"
   ]
  },
  {
   "cell_type": "markdown",
   "metadata": {},
   "source": [
    "## 1. Adding features to the `plane` module\n",
    "\n",
    "First, download the `plane.py` module we wrote in lecture and save it somewhere you can find in the terminal and in VS code:\n",
    "\n",
    "* [plane.py](https://raw.githubusercontent.com/daviddumas/mcs275spring2023/main/samplecode/oop/plane.py) - download from the course sample code repo\n",
    "\n",
    "It has a couple of features we didn't discuss in lecture, such as scalar multiplication, e.g."
   ]
  },
  {
   "cell_type": "code",
   "execution_count": 4,
   "metadata": {},
   "outputs": [
    {
     "data": {
      "text/plain": [
       "Vector2(10,50)"
      ]
     },
     "execution_count": 4,
     "metadata": {},
     "output_type": "execute_result"
    }
   ],
   "source": [
    "v = Vector2(1,5)\n",
    "v*10  # test out Vector2.__mul__"
   ]
  },
  {
   "cell_type": "markdown",
   "metadata": {},
   "source": [
    "and the reflected version, where the scalar comes before the vector but the vector object still handles the computation:"
   ]
  },
  {
   "cell_type": "code",
   "execution_count": 5,
   "metadata": {},
   "outputs": [
    {
     "data": {
      "text/plain": [
       "Vector2(5,25)"
      ]
     },
     "execution_count": 5,
     "metadata": {},
     "output_type": "execute_result"
    }
   ],
   "source": [
    "5*v  # test out Vector2.__rmul__"
   ]
  },
  {
   "cell_type": "markdown",
   "metadata": {},
   "source": [
    "I've also added unary plus and minus for vectors:"
   ]
  },
  {
   "cell_type": "code",
   "execution_count": 6,
   "metadata": {},
   "outputs": [
    {
     "data": {
      "text/plain": [
       "Vector2(-1,-5)"
      ]
     },
     "execution_count": 6,
     "metadata": {},
     "output_type": "execute_result"
    }
   ],
   "source": [
    "-v  # negates all components"
   ]
  },
  {
   "cell_type": "code",
   "execution_count": 7,
   "metadata": {},
   "outputs": [
    {
     "data": {
      "text/plain": [
       "Vector2(1,5)"
      ]
     },
     "execution_count": 7,
     "metadata": {},
     "output_type": "execute_result"
    }
   ],
   "source": [
    "+v  # same as v"
   ]
  },
  {
   "cell_type": "markdown",
   "metadata": {},
   "source": [
    "Finally, there is now a method `__abs__` that makes it so `abs(v)` returns a float which is the length of the vector `v`.  It's natural to use `abs` for this since in mathematics, both the length of a vector and the absolute value of a real number are referred to as the \"magnitude\" of the corresponding object."
   ]
  },
  {
   "cell_type": "code",
   "execution_count": 8,
   "metadata": {},
   "outputs": [
    {
     "data": {
      "text/plain": [
       "5.0990195135927845"
      ]
     },
     "execution_count": 8,
     "metadata": {},
     "output_type": "execute_result"
    }
   ],
   "source": [
    "abs(v)"
   ]
  },
  {
   "cell_type": "markdown",
   "metadata": {},
   "source": [
    "This means you can find the distance between two points using `abs(P-Q)`!"
   ]
  },
  {
   "cell_type": "code",
   "execution_count": 10,
   "metadata": {},
   "outputs": [
    {
     "data": {
      "text/plain": [
       "5.0"
      ]
     },
     "execution_count": 10,
     "metadata": {},
     "output_type": "execute_result"
    }
   ],
   "source": [
    "# Distance from (1,2) to (4,6) should be 5\n",
    "abs(Point2(1,2) - Point2(4,6))"
   ]
  },
  {
   "cell_type": "markdown",
   "metadata": {},
   "source": [
    "However, some things are missing, and this problem asks you to add them."
   ]
  },
  {
   "cell_type": "markdown",
   "metadata": {},
   "source": [
    "### A. Vector subtraction\n",
    "\n",
    "At the moment, vectors support addition but not subtraction.  Fix that.  The difference of two vectors `u-v` should give a new vector with the property that `(u-v)+v` is equal to `u`."
   ]
  },
  {
   "cell_type": "code",
   "execution_count": 11,
   "metadata": {},
   "outputs": [
    {
     "data": {
      "text/plain": [
       "Vector2(0,0)"
      ]
     },
     "execution_count": 11,
     "metadata": {},
     "output_type": "execute_result"
    }
   ],
   "source": [
    "v-v  # subtraction doesn't work yet"
   ]
  },
  {
   "cell_type": "markdown",
   "metadata": {},
   "source": [
    "### B. Boolean coercion"
   ]
  },
  {
   "cell_type": "markdown",
   "metadata": {},
   "source": [
    "The special method `__bool__` decides whether an object evaluates to `True` or `False` if used in a place where a boolean is expected (e.g. `if A:` is equivalent to `if A.__bool__():`).\n",
    "\n",
    "For numbers in Python, zero converts to False and all other numbers convert to True.\n",
    "\n",
    "It would be natural to make `Vector2` objects behave similarly, where the zero vector (with components `0,0`) evaluates to `False` and all other vectors evaluate to `True`.\n",
    "\n",
    "Add a `__bool__` method to the `Vector2` class for this purpose.  You can find more info about the `__bool__` method at [`https://docs.python.org/3/reference/datamodel.html#object.__bool__`](https://docs.python.org/3/reference/datamodel.html#object.__bool__)"
   ]
  },
  {
   "cell_type": "code",
   "execution_count": 20,
   "metadata": {},
   "outputs": [
    {
     "name": "stdout",
     "output_type": "stream",
     "text": [
      "Zero Vector\n"
     ]
    }
   ],
   "source": [
    "if v:\n",
    "    print(\"Not the zero vector\")\n",
    "else:\n",
    "    print(\"Zero Vector\")"
   ]
  },
  {
   "cell_type": "markdown",
   "metadata": {},
   "source": [
    "### C. Indexed item access\n",
    "\n",
    "If `v` is a vector or point, we can get the x component with `v.x`.  In some cases, it might be natural to also treat the vector or point like a list and retrieve the x component with `v[0]`.  Similarly, we'd want `v[1]` to give the y component.\n",
    "\n",
    "Thankfully, Python translates `v[i]` into the method call `v.__getitem__(i)`, so this is possible!  Write a `__getitem__` method for the `Vector2` and `Point2` classes so that index 0 gives the x component, index 1 gives the y component, and any other index raises the same type of error (`IndexError`) you get when you ask for an invalid index from a list:"
   ]
  },
  {
   "cell_type": "code",
   "execution_count": 24,
   "metadata": {},
   "outputs": [
    {
     "name": "stdout",
     "output_type": "stream",
     "text": [
      "1\n",
      "5\n"
     ]
    },
    {
     "ename": "IndexError",
     "evalue": "list index out of range",
     "output_type": "error",
     "traceback": [
      "\u001b[0;31m---------------------------------------------------------------------------\u001b[0m",
      "\u001b[0;31mIndexError\u001b[0m                                Traceback (most recent call last)",
      "\u001b[0;32m/var/folders/q8/vvlly3bd5q79nhv8sphycr3w0000gn/T/ipykernel_16884/2319442406.py\u001b[0m in \u001b[0;36m<module>\u001b[0;34m\u001b[0m\n\u001b[1;32m      1\u001b[0m \u001b[0mprint\u001b[0m\u001b[0;34m(\u001b[0m\u001b[0mv\u001b[0m\u001b[0;34m[\u001b[0m\u001b[0;36m0\u001b[0m\u001b[0;34m]\u001b[0m\u001b[0;34m)\u001b[0m\u001b[0;34m\u001b[0m\u001b[0;34m\u001b[0m\u001b[0m\n\u001b[1;32m      2\u001b[0m \u001b[0mprint\u001b[0m\u001b[0;34m(\u001b[0m\u001b[0mv\u001b[0m\u001b[0;34m[\u001b[0m\u001b[0;36m1\u001b[0m\u001b[0;34m]\u001b[0m\u001b[0;34m)\u001b[0m\u001b[0;34m\u001b[0m\u001b[0;34m\u001b[0m\u001b[0m\n\u001b[0;32m----> 3\u001b[0;31m \u001b[0mprint\u001b[0m\u001b[0;34m(\u001b[0m\u001b[0mv\u001b[0m\u001b[0;34m[\u001b[0m\u001b[0;36m2\u001b[0m\u001b[0;34m]\u001b[0m\u001b[0;34m)\u001b[0m\u001b[0;34m\u001b[0m\u001b[0;34m\u001b[0m\u001b[0m\n\u001b[0m",
      "\u001b[0;32m/var/folders/q8/vvlly3bd5q79nhv8sphycr3w0000gn/T/ipykernel_16884/3204550560.py\u001b[0m in \u001b[0;36m__getitem__\u001b[0;34m(self, index)\u001b[0m\n\u001b[1;32m    158\u001b[0m             \u001b[0;32mreturn\u001b[0m \u001b[0mself\u001b[0m\u001b[0;34m.\u001b[0m\u001b[0my\u001b[0m\u001b[0;34m\u001b[0m\u001b[0;34m\u001b[0m\u001b[0m\n\u001b[1;32m    159\u001b[0m         \u001b[0;32melse\u001b[0m\u001b[0;34m:\u001b[0m\u001b[0;34m\u001b[0m\u001b[0;34m\u001b[0m\u001b[0m\n\u001b[0;32m--> 160\u001b[0;31m             \u001b[0;32mraise\u001b[0m \u001b[0mIndexError\u001b[0m\u001b[0;34m(\u001b[0m\u001b[0;34m'list index out of range'\u001b[0m\u001b[0;34m)\u001b[0m\u001b[0;34m\u001b[0m\u001b[0;34m\u001b[0m\u001b[0m\n\u001b[0m",
      "\u001b[0;31mIndexError\u001b[0m: list index out of range"
     ]
    }
   ],
   "source": [
    "print(v[0])\n",
    "print(v[1])\n",
    "print(v[2])"
   ]
  },
  {
   "cell_type": "markdown",
   "metadata": {},
   "source": [
    "### Solution"
   ]
  },
  {
   "cell_type": "code",
   "execution_count": 1,
   "metadata": {},
   "outputs": [],
   "source": [
    "class Point2:\n",
    "    \"Point in the plane\"\n",
    "    # Note: Base code (without additions) obtained from MCS 275 Spring 2023 Lecture 4 (plane.py)\n",
    "    def __init__(self, x, y):\n",
    "        \"Initialize new point from x and y coordinates\"\n",
    "        self.x = x\n",
    "        self.y = y\n",
    "\n",
    "    def __eq__(self, other):\n",
    "        \"points are equal if and only if they have same coordinates\"\n",
    "        if isinstance(other, Point2):\n",
    "            return (self.x == other.x) and (self.y == other.y)\n",
    "        else:\n",
    "            return False\n",
    "\n",
    "    def __add__(self, other):\n",
    "        \"point+vector addition\"\n",
    "        if isinstance(other, Vector2):\n",
    "            # we have been asked to add this Point2 to another Vector2\n",
    "            return Point2(self.x + other.x, self.y + other.y)\n",
    "        else:\n",
    "            # we have been asked to add this Point2 to some other object\n",
    "            # we don't want to allow this\n",
    "            return NotImplemented  # return this to forbid the requested operation\n",
    "    \n",
    "    def __sub__(self, other):\n",
    "        \"point+vector subtraction\"\n",
    "        if isinstance(other, Vector2):\n",
    "            # we have been asked to add this Point2 to another Vector2\n",
    "            return Point2(self.x - other.x, self.y - other.y)\n",
    "        else:\n",
    "            # we have been asked to add this Point2 to some other object\n",
    "            # we don't want to allow this\n",
    "            return NotImplemented  # return this to forbid the requested operation        \n",
    "\n",
    "    def __getitem__(self, index):\n",
    "        \"obtain the x and y coordinates in list access format\"\n",
    "        if index == 0:\n",
    "            return self.x\n",
    "        elif index == 1:\n",
    "            return self.y\n",
    "        else:\n",
    "            raise IndexError('list index out of range')\n",
    "            \n",
    "    def __str__(self):\n",
    "        \"human-readable string representation\"\n",
    "        return \"Point2({},{})\".format(self.x, self.y)\n",
    "\n",
    "    def __repr__(self):\n",
    "        \"unambiguous string representation\"\n",
    "        return str(self)\n",
    "\n",
    "    def distance_to(self, other):\n",
    "        \"get distance between two points\"\n",
    "        if isinstance(other, Point2):\n",
    "            return abs(self - other)\n",
    "        else:\n",
    "            raise TypeError(\"distance_to requires argument of type Point2\")\n",
    "    \n",
    "    def __getitem__(self, index):\n",
    "        \"obtain the  x and y coordinates in list access format\"\n",
    "        if index == 0:\n",
    "            return self.x\n",
    "        elif index == 1:\n",
    "            return self.y\n",
    "        else:\n",
    "            raise IndexError('list index out of range')\n",
    "            \n",
    "class Vector2:\n",
    "    \"Displacement vector in the plane\"\n",
    "\n",
    "    def __init__(self, x, y):\n",
    "        \"Initialize new vector from x and y components\"\n",
    "        self.x = x\n",
    "        self.y = y\n",
    "\n",
    "    def __eq__(self, other):\n",
    "        \"vectors are equal if and only if they have same components\"\n",
    "        if isinstance(other, Vector2):\n",
    "            return (self.x == other.x) and (self.y == other.y)\n",
    "        else:\n",
    "            return False\n",
    "\n",
    "    def __add__(self, other):\n",
    "        \"vector addition\"\n",
    "        if isinstance(other, Vector2):\n",
    "            # vector+vector = vector\n",
    "            return Vector2(self.x + other.x, self.y + other.y)\n",
    "        elif isinstance(other, Point2):\n",
    "            # vector + point = point\n",
    "            return Point2(self.x + other.x, self.y + other.y)\n",
    "        else:\n",
    "            # vector + anything else = nonsense\n",
    "            return NotImplemented  # return this to forbid the requested operation\n",
    "        \n",
    "    def __sub__(self, other):\n",
    "        \"vector subtraction\"\n",
    "        if isinstance(other, Vector2):\n",
    "            # vector-vector = vector\n",
    "            return Vector2(self.x - other.x, self.y - other.y)\n",
    "        else:\n",
    "            # vector - anything else = nonsense\n",
    "            return NotImplemented  # return this to forbid the requested operation\n",
    "\n",
    "    def __mul__(self, other):\n",
    "        \"vector-scalar multiplication\"\n",
    "        if isinstance(other, (float, int)):  # isinstance allows a tuple of types\n",
    "            # vector*scalar is vector\n",
    "            return Vector2(self.x * other, self.y * other)\n",
    "        else:\n",
    "            return NotImplemented\n",
    "\n",
    "    def __rmul__(self, other):\n",
    "        \"scalar-vector multiplication\"\n",
    "        # Called if other*self already attempted but failed\n",
    "        # for example if other is an int or float and self is a Vector2\n",
    "        # This \"second chance\" reflected version of multiplication lets the\n",
    "        # right hand operand decide what to do.  In this case, we just decide\n",
    "        # that other*self is the same as self*other (handled by Vector2.__mul__ above)\n",
    "        return self * other\n",
    "\n",
    "    def __neg__(self):\n",
    "        \"unary minus\"\n",
    "        return Vector2(-self.x, -self.y)\n",
    "\n",
    "    def __pos__(self):\n",
    "        \"unary plus: return a copy of the object\"\n",
    "        return self\n",
    "\n",
    "    def __bool__(self):\n",
    "        \"vector is not the zero vector\"\n",
    "        return not(self.x == 0 and self.y == 0)\n",
    "\n",
    "    def __abs__(self):\n",
    "        \"abs means length of a vector\"\n",
    "        return (self.x * self.x + self.y * self.y) ** 0.5  # sqrt( deltax^2 + deltay^2 )\n",
    "\n",
    "    def __str__(self):\n",
    "        \"human-readable string representation\"\n",
    "        return \"Vector2({},{})\".format(self.x, self.y)\n",
    "\n",
    "    def __repr__(self):\n",
    "        \"unambiguous string representation\"\n",
    "        return str(self)\n",
    "    \n",
    "    def __getitem__(self, index):\n",
    "        \"obtain the vector x and y coordinates in list access format\"\n",
    "        if index == 0:\n",
    "            return self.x\n",
    "        elif index == 1:\n",
    "            return self.y\n",
    "        else:\n",
    "            raise IndexError('list index out of range')"
   ]
  },
  {
   "cell_type": "markdown",
   "metadata": {},
   "source": [
    "## 2. `Antistr`\n",
    "\n",
    "In Physics, antimatter refers to a type of matter composed of particles that are \"opposite\" of the ones that make up the majority of the matter around us.  For example, there are antiprotons, antielectrons (positrons), etc..\n",
    "\n",
    "When a particle of matter collides with its corresponding antiparticle, the two particles annihilate and a huge amount of energy is released.  (For this reason, keeping any amount of antimatter around is both dangerous and difficult.)\n",
    "\n",
    "Make a class `Antistr` that behaves like an \"antimatter\" to ordinary Python strings:  An `Antistr` can be created from a string, but then represents the sequence of \"anticharacters\" of all the characters in the string.\n",
    "\n",
    "Adding strings is like putting matter together.  Usually, when you add two Python strings you just get a longer string obtained by joining the two strings together:"
   ]
  },
  {
   "cell_type": "code",
   "execution_count": 15,
   "metadata": {},
   "outputs": [
    {
     "data": {
      "text/plain": [
       "'vanilla'"
      ]
     },
     "execution_count": 15,
     "metadata": {},
     "output_type": "execute_result"
    }
   ],
   "source": [
    "\"van\" + \"illa\""
   ]
  },
  {
   "cell_type": "markdown",
   "metadata": {},
   "source": [
    "But if you add a Python string to the corresponding antistring (`Antistr`), they should annihilate and release energy.  This should correspond to the message \"BOOM!\" being printed on the terminal, and an empty string being returned:"
   ]
  },
  {
   "cell_type": "code",
   "execution_count": 26,
   "metadata": {},
   "outputs": [
    {
     "name": "stdout",
     "output_type": "stream",
     "text": [
      "BOOM!\n"
     ]
    },
    {
     "data": {
      "text/plain": [
       "''"
      ]
     },
     "execution_count": 26,
     "metadata": {},
     "output_type": "execute_result"
    }
   ],
   "source": [
    "Antistr(\"quail\") + \"quail\"  # prints a message about energy release, then returns empty str"
   ]
  },
  {
   "cell_type": "code",
   "execution_count": 14,
   "metadata": {},
   "outputs": [
    {
     "name": "stdout",
     "output_type": "stream",
     "text": [
      "BOOM!\n"
     ]
    },
    {
     "data": {
      "text/plain": [
       "''"
      ]
     },
     "execution_count": 14,
     "metadata": {},
     "output_type": "execute_result"
    }
   ],
   "source": [
    "Antistr(\"quail\") + \"quail\"  # prints a message about energy release, then returns empty str"
   ]
  },
  {
   "cell_type": "code",
   "execution_count": 15,
   "metadata": {},
   "outputs": [
    {
     "name": "stdout",
     "output_type": "stream",
     "text": [
      "BOOM!\n"
     ]
    },
    {
     "data": {
      "text/plain": [
       "''"
      ]
     },
     "execution_count": 15,
     "metadata": {},
     "output_type": "execute_result"
    }
   ],
   "source": [
    "\"shark\" + Antistr(\"shark\")"
   ]
  },
  {
   "cell_type": "markdown",
   "metadata": {},
   "source": [
    "More generally, it should be possible for an antistring to annihilate just part of a string, as long as the string ends with or begins with the same characters as are in the antistring:"
   ]
  },
  {
   "cell_type": "code",
   "execution_count": 16,
   "metadata": {},
   "outputs": [
    {
     "name": "stdout",
     "output_type": "stream",
     "text": [
      "BOOM!\n"
     ]
    },
    {
     "data": {
      "text/plain": [
       "'car'"
      ]
     },
     "execution_count": 16,
     "metadata": {},
     "output_type": "execute_result"
    }
   ],
   "source": [
    "\"carpet\" + Antistr(\"pet\")  # anti-pet annihilates pet, leaving just car"
   ]
  },
  {
   "cell_type": "code",
   "execution_count": 29,
   "metadata": {},
   "outputs": [
    {
     "name": "stdout",
     "output_type": "stream",
     "text": [
      "BOOM!\n"
     ]
    },
    {
     "data": {
      "text/plain": [
       "'inspired'"
      ]
     },
     "execution_count": 29,
     "metadata": {},
     "output_type": "execute_result"
    }
   ],
   "source": [
    "Antistr(\"un\") + \"uninspired\""
   ]
  },
  {
   "cell_type": "markdown",
   "metadata": {},
   "source": [
    "However, if any anticharacters are left over in this process (don't annihilate identical characters from the string), then an exception should be raised."
   ]
  },
  {
   "cell_type": "code",
   "execution_count": 28,
   "metadata": {},
   "outputs": [
    {
     "ename": "ValueError",
     "evalue": "Operation results in dangerous unshielded antistring",
     "output_type": "error",
     "traceback": [
      "\u001b[0;31m---------------------------------------------------------------------------\u001b[0m",
      "\u001b[0;31mValueError\u001b[0m                                Traceback (most recent call last)",
      "\u001b[0;32m/var/folders/q8/vvlly3bd5q79nhv8sphycr3w0000gn/T/ipykernel_16884/633364138.py\u001b[0m in \u001b[0;36m<module>\u001b[0;34m\u001b[0m\n\u001b[1;32m      1\u001b[0m \u001b[0;31m# time and anti-time annihilate, but antistring \" for a snack\" is left\u001b[0m\u001b[0;34m\u001b[0m\u001b[0;34m\u001b[0m\u001b[0m\n\u001b[1;32m      2\u001b[0m \u001b[0;31m# and that is an error\u001b[0m\u001b[0;34m\u001b[0m\u001b[0;34m\u001b[0m\u001b[0m\n\u001b[0;32m----> 3\u001b[0;31m \u001b[0;34m\"extensive downtime\"\u001b[0m \u001b[0;34m+\u001b[0m \u001b[0mAntistr\u001b[0m\u001b[0;34m(\u001b[0m\u001b[0;34m\"time for a snack\"\u001b[0m\u001b[0;34m)\u001b[0m\u001b[0;34m\u001b[0m\u001b[0;34m\u001b[0m\u001b[0m\n\u001b[0m",
      "\u001b[0;32m/var/folders/q8/vvlly3bd5q79nhv8sphycr3w0000gn/T/ipykernel_16884/3389070780.py\u001b[0m in \u001b[0;36m__radd__\u001b[0;34m(self, other)\u001b[0m\n\u001b[1;32m     19\u001b[0m                 \u001b[0;32mreturn\u001b[0m \u001b[0mother\u001b[0m\u001b[0;34m[\u001b[0m\u001b[0;34m:\u001b[0m\u001b[0;34m-\u001b[0m\u001b[0mlen\u001b[0m\u001b[0;34m(\u001b[0m\u001b[0mself\u001b[0m\u001b[0;34m.\u001b[0m\u001b[0ms\u001b[0m\u001b[0;34m)\u001b[0m\u001b[0;34m]\u001b[0m\u001b[0;34m\u001b[0m\u001b[0;34m\u001b[0m\u001b[0m\n\u001b[1;32m     20\u001b[0m             \u001b[0;32melse\u001b[0m\u001b[0;34m:\u001b[0m\u001b[0;34m\u001b[0m\u001b[0;34m\u001b[0m\u001b[0m\n\u001b[0;32m---> 21\u001b[0;31m                 \u001b[0;32mraise\u001b[0m \u001b[0mValueError\u001b[0m\u001b[0;34m(\u001b[0m\u001b[0;34m\"Operation results in dangerous unshielded antistring\"\u001b[0m\u001b[0;34m)\u001b[0m\u001b[0;34m\u001b[0m\u001b[0;34m\u001b[0m\u001b[0m\n\u001b[0m\u001b[1;32m     22\u001b[0m \u001b[0;34m\u001b[0m\u001b[0m\n\u001b[1;32m     23\u001b[0m     \u001b[0;32mdef\u001b[0m \u001b[0m__repr__\u001b[0m\u001b[0;34m(\u001b[0m\u001b[0mself\u001b[0m\u001b[0;34m)\u001b[0m\u001b[0;34m:\u001b[0m\u001b[0;34m\u001b[0m\u001b[0;34m\u001b[0m\u001b[0m\n",
      "\u001b[0;31mValueError\u001b[0m: Operation results in dangerous unshielded antistring"
     ]
    }
   ],
   "source": [
    "# time and anti-time annihilate, but antistring \" for a snack\" is left \n",
    "# and that is an error\n",
    "\"extensive downtime\" + Antistr(\"time for a snack\") "
   ]
  },
  {
   "cell_type": "markdown",
   "metadata": {},
   "source": [
    "To do this, you'll need to have suitable `__add__` and `__radd__` methods in your `Antistr` class, as well as a constructor that accepts a string."
   ]
  },
  {
   "cell_type": "markdown",
   "metadata": {},
   "source": [
    "### Solution"
   ]
  },
  {
   "cell_type": "code",
   "execution_count": 27,
   "metadata": {},
   "outputs": [],
   "source": [
    "class Antistr:\n",
    "    \"Antistr class models behavior of an antistring\"\n",
    "    def __init__(self,s):\n",
    "        \"Initialize a new antistring with a string attribute\"\n",
    "        self.s = s\n",
    "    def __add__(self,other):\n",
    "        \"antistring addition/annihilation operation\"\n",
    "        if isinstance(other,str):\n",
    "            if other.startswith(self.s):\n",
    "                print(\"BOOM!\")\n",
    "                return other[len(self.s):]\n",
    "            else:\n",
    "                raise ValueError(\"Operation results in dangerous unshielded antistring\")\n",
    "    def __radd__(self,other):\n",
    "        \"antistring right operand addition/annihilation operation\"\n",
    "        if isinstance(other,str):\n",
    "            if other.endswith(self.s):\n",
    "                print(\"BOOM!\")\n",
    "                return other[:-len(self.s)]\n",
    "            else:\n",
    "                raise ValueError(\"Operation results in dangerous unshielded antistring\")\n",
    "\n",
    "    def __repr__(self):\n",
    "        \"unambiguous string representation\"\n",
    "        return str(self)"
   ]
  },
  {
   "cell_type": "markdown",
   "metadata": {},
   "source": [
    "## 3. Thermostat model\n",
    "\n",
    "This exercise is about making a class that can change state depending on a specified pattern of responses to external input.  It's not about operator overloading.\n",
    "\n",
    "Imagine a simplified thermostat that controls heating and cooling of a hotel room.\n",
    "\n",
    "It has three buttons:  Up, Down, and Mode.  It keeps track of the user's desired temperature, the room temperature, and it can turn two devices on or off: a heater and an air conditioner.\n",
    "\n",
    "Pressing `\"up\"` increases the desired temperature by one degree, unless the system is in \"off\" mode in which case it does nothing.\n",
    "Pressing `\"down\"` increases the desired temperature by one degree, unless the system is in \"off\" mode in which case it does nothing.\n",
    "Pressing `\"mode\"` button cycles between operating modes in this order: heat -> cool -> auto -> off (after which it repeats the cycle, going back to Heat).\n",
    "When the system is in Heat, Cool, or Auto mode, it shows the desired temperature on its display panel.  But in Off mode, it knows the last-set desired temperature, but does not show it anywhere.\n",
    "\n",
    "The mode, desired temp, and room temp determine what the thermostat does as follows:\n",
    "* If the system is in Heat or Auto mode, the heater is turned on exactly when the room temperature is lower than the desired temperature; in any other mode, the heater is off.\n",
    "* If the system is in Cool or Auto mode, the AC is turned on exactly when the room temperature is higher than the desired temperature; in any other mode, the AC if off.\n",
    "\n",
    "Write a class `Thermostat` with the following attributes and methods that can be used to simulate this system:\n",
    "* `ac_is_on` - attribute, a boolean, always indicating whether the AC is turned on\n",
    "* `heat_is_on` - attribute, a boolean, always indicating whether the heater is turned on\n",
    "* `__init__(self)` - method, initializes a new thermostat in which the mode is `\"off\"`, and both the room and the desired temperature are `68`.\n",
    "* `room_temp(self,x)` - method, tells the thermostat that the room temperature is `x` and have it react accordingly.\n",
    "* `press(self,btn)` - method, simulates the press of a button; the value of `btn` should be one of `\"up\"`, `\"down\"`, or `\"mode\"`.\n",
    "* `get_display(self)` -  method, retrieves the text currently displayed on the control panel, in one of these formats:\n",
    "    * `\"72/cool\"` in cool mode (with 72 being the desired temp)\n",
    "    * `\"65/heat\"` in heat mode (with 65 being the desired temp)\n",
    "    * `\"70/auto\"` in auto mode (with 70 being the desired temp)\n",
    "    * `\"--/off\"` in off mode\n",
    "* `__str__(self)` and `__repr__(self)` - methods that return the same thing, a string in this format:\n",
    "```\n",
    "Thermostat(mode=\"off\",display=\"--/off\",room=68,desired=68,ac_is_on=False,heat_is_on=False)\n",
    "```\n",
    "\n",
    "Hints:\n",
    "* Have attributes of the class that represent its current state (i.e. mode, room temp, desired temp)\n",
    "* The response to button presses will behave differently depending on aspects of that state, and may modify the state attributes\n",
    "\n",
    "Below is an example of using the class, with commentary."
   ]
  },
  {
   "cell_type": "code",
   "execution_count": 32,
   "metadata": {},
   "outputs": [
    {
     "name": "stdout",
     "output_type": "stream",
     "text": [
      "Thermostat(mode=\"off\",display=\"--/off\",room=68,desired=68,ac_is_on=False,heat_is_on=False)\n"
     ]
    }
   ],
   "source": [
    "T = Thermostat()\n",
    "print(T) # Shows initial state"
   ]
  },
  {
   "cell_type": "code",
   "execution_count": 33,
   "metadata": {},
   "outputs": [
    {
     "name": "stdout",
     "output_type": "stream",
     "text": [
      "Thermostat(mode=\"off\",display=\"--/off\",room=68,desired=68,ac_is_on=False,heat_is_on=False)\n"
     ]
    }
   ],
   "source": [
    "T.press(\"up\") # In \"off\" mode, pressing up does nothing.  Still set to 68\n",
    "print(T)"
   ]
  },
  {
   "cell_type": "code",
   "execution_count": 34,
   "metadata": {},
   "outputs": [
    {
     "name": "stdout",
     "output_type": "stream",
     "text": [
      "Thermostat(mode=\"heat\",display=\"68/heat\",room=68,desired=68,ac_is_on=False,heat_is_on=False)\n"
     ]
    }
   ],
   "source": [
    "T.press(\"mode\") # Cycle from \"off\" to \"heat\" mode\n",
    "# Room still at desired temp, so heater and AC are both off\n",
    "print(T)"
   ]
  },
  {
   "cell_type": "code",
   "execution_count": 35,
   "metadata": {},
   "outputs": [
    {
     "name": "stdout",
     "output_type": "stream",
     "text": [
      "Thermostat(mode=\"heat\",display=\"68/heat\",room=67,desired=68,ac_is_on=False,heat_is_on=True)\n"
     ]
    }
   ],
   "source": [
    "T.room_temp(67) # Temp now too low, so the heater will turn on\n",
    "print(T)"
   ]
  },
  {
   "cell_type": "code",
   "execution_count": 36,
   "metadata": {},
   "outputs": [
    {
     "name": "stdout",
     "output_type": "stream",
     "text": [
      "Thermostat(mode=\"heat\",display=\"67/heat\",room=67,desired=67,ac_is_on=False,heat_is_on=False)\n"
     ]
    }
   ],
   "source": [
    "T.press(\"down\") # Desired temp goes down, now equal to room temp, so heater off\n",
    "print(T)"
   ]
  },
  {
   "cell_type": "code",
   "execution_count": 37,
   "metadata": {},
   "outputs": [
    {
     "name": "stdout",
     "output_type": "stream",
     "text": [
      "Thermostat(mode=\"cool\",display=\"67/cool\",room=67,desired=67,ac_is_on=False,heat_is_on=False)\n"
     ]
    }
   ],
   "source": [
    "T.press(\"mode\") # Cycle from \"heat\" to \"cool\" mode.  Heater and AC off.\n",
    "print(T)"
   ]
  },
  {
   "cell_type": "code",
   "execution_count": 38,
   "metadata": {},
   "outputs": [
    {
     "name": "stdout",
     "output_type": "stream",
     "text": [
      "Thermostat(mode=\"auto\",display=\"67/auto\",room=67,desired=67,ac_is_on=False,heat_is_on=False)\n"
     ]
    }
   ],
   "source": [
    "T.press(\"mode\") # Cycle from \"cool\" to \"auto\" mode.  Heater and AC off.\n",
    "print(T)"
   ]
  },
  {
   "cell_type": "code",
   "execution_count": 39,
   "metadata": {},
   "outputs": [
    {
     "name": "stdout",
     "output_type": "stream",
     "text": [
      "Thermostat(mode=\"auto\",display=\"67/auto\",room=72,desired=67,ac_is_on=True,heat_is_on=False)\n"
     ]
    }
   ],
   "source": [
    "T.room_temp(72) # Room temp is now too high, AC will turn on.\n",
    "print(T)"
   ]
  },
  {
   "cell_type": "code",
   "execution_count": 40,
   "metadata": {},
   "outputs": [
    {
     "name": "stdout",
     "output_type": "stream",
     "text": [
      "Thermostat(mode=\"auto\",display=\"67/auto\",room=59,desired=67,ac_is_on=False,heat_is_on=True)\n"
     ]
    }
   ],
   "source": [
    "T.room_temp(59) # Room temp is now too low, heater will turn on.\n",
    "print(T)"
   ]
  },
  {
   "cell_type": "code",
   "execution_count": 41,
   "metadata": {},
   "outputs": [
    {
     "name": "stdout",
     "output_type": "stream",
     "text": [
      "Thermostat(mode=\"auto\",display=\"66/auto\",room=59,desired=66,ac_is_on=False,heat_is_on=True)\n",
      "Thermostat(mode=\"auto\",display=\"65/auto\",room=59,desired=65,ac_is_on=False,heat_is_on=True)\n",
      "Thermostat(mode=\"auto\",display=\"64/auto\",room=59,desired=64,ac_is_on=False,heat_is_on=True)\n",
      "Thermostat(mode=\"auto\",display=\"63/auto\",room=59,desired=63,ac_is_on=False,heat_is_on=True)\n",
      "Thermostat(mode=\"auto\",display=\"62/auto\",room=59,desired=62,ac_is_on=False,heat_is_on=True)\n",
      "Thermostat(mode=\"auto\",display=\"61/auto\",room=59,desired=61,ac_is_on=False,heat_is_on=True)\n",
      "Thermostat(mode=\"auto\",display=\"60/auto\",room=59,desired=60,ac_is_on=False,heat_is_on=True)\n",
      "Thermostat(mode=\"auto\",display=\"59/auto\",room=59,desired=59,ac_is_on=False,heat_is_on=False)\n",
      "Thermostat(mode=\"auto\",display=\"58/auto\",room=59,desired=58,ac_is_on=True,heat_is_on=False)\n",
      "Thermostat(mode=\"auto\",display=\"57/auto\",room=59,desired=57,ac_is_on=True,heat_is_on=False)\n"
     ]
    }
   ],
   "source": [
    "# Repeatedly lower the desired temp while in auto mode\n",
    "# For a while, heat will stay on.\n",
    "# Then the room temp and desired temp will be equal, and both heat and AC will be off\n",
    "# Then the room temp will be higher than the desired temp, and the AC will turn on\n",
    "for i in range(10):\n",
    "    T.press(\"down\")\n",
    "    print(T)"
   ]
  },
  {
   "cell_type": "markdown",
   "metadata": {},
   "source": [
    "### Solution"
   ]
  },
  {
   "cell_type": "code",
   "execution_count": 31,
   "metadata": {},
   "outputs": [],
   "source": [
    "class Thermostat:\n",
    "    \"Thermostat module class models thermostat status and state transitions\"\n",
    "    def __init__(self):\n",
    "        \"Initialize a new thermostat object with default settings\"\n",
    "        self.next_mode = {\n",
    "            \"off\": \"heat\",\n",
    "            \"heat\": \"cool\",\n",
    "            \"cool\": \"auto\",\n",
    "            \"auto\": \"off\",\n",
    "        }\n",
    "        self.mode = \"off\"\n",
    "        self.room = 68\n",
    "        self.desired = 68\n",
    "        self.ac_is_on = False\n",
    "        self.heat_is_on = False\n",
    "        \n",
    "    def room_temp(self,x):\n",
    "        \"set the room temperature and update state status\"\n",
    "        self.room = x\n",
    "        self.update()\n",
    "    \n",
    "    def ac_is_on(self):\n",
    "        \"is the ac on?\"\n",
    "        return self.ac_is_on\n",
    "    \n",
    "    def heat_is_on(self):\n",
    "        \"is the heat on?\"\n",
    "        return self.heat_is_on\n",
    "        \n",
    "    def get_display(self):\n",
    "        \"retrieves the control panel text\"\n",
    "        if self.mode == \"off\":\n",
    "            numstr = \"--\"\n",
    "        else:\n",
    "            numstr = str(self.desired)\n",
    "        return numstr + \"/\" + self.mode\n",
    "    \n",
    "    def press(self,btn):\n",
    "        \"pressing a button on panel and adjusting temperature settings\"\n",
    "        if btn == \"mode\":\n",
    "            self.mode = self.next_mode[self.mode]\n",
    "        else:\n",
    "            if self.mode == \"off\":\n",
    "                return\n",
    "            elif btn == \"up\":\n",
    "                self.desired += 1\n",
    "            elif btn == \"down\":\n",
    "                self.desired -= 1\n",
    "        self.update()\n",
    "            \n",
    "    def update(self):\n",
    "        \"adjusts heat/ac control based on desired temp and room temp\"\n",
    "        self.heat_is_on = (self.mode in [\"heat\",\"auto\"]) and (self.room < self.desired)\n",
    "        self.ac_is_on = (self.mode in [\"ac\",\"auto\"]) and (self.room > self.desired)\n",
    "    \n",
    "    def __str__(self):\n",
    "        \"readable display of thermostat status data\"\n",
    "        return \"Thermostat(mode=\\\"{}\\\",display=\\\"{}\\\",room={},desired={},ac_is_on={},heat_is_on={})\".format(\n",
    "        self.mode,\n",
    "        self.get_display(),\n",
    "        self.room,\n",
    "        self.desired,\n",
    "        self.ac_is_on,\n",
    "        self.heat_is_on)\n",
    "    def __repr__(self):\n",
    "        \"readable display of thermostat status data\"\n",
    "        return str(self)"
   ]
  }
 ],
 "metadata": {
  "kernelspec": {
   "display_name": "Python 3 (ipykernel)",
   "language": "python",
   "name": "python3"
  },
  "language_info": {
   "codemirror_mode": {
    "name": "ipython",
    "version": 3
   },
   "file_extension": ".py",
   "mimetype": "text/x-python",
   "name": "python",
   "nbconvert_exporter": "python",
   "pygments_lexer": "ipython3",
   "version": "3.10.6"
  }
 },
 "nbformat": 4,
 "nbformat_minor": 4
}
