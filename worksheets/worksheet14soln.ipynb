{
 "cells": [
  {
   "cell_type": "markdown",
   "metadata": {},
   "source": [
    "# MCS 275 Spring 2023 Worksheet 14 Solutions\n",
    "\n",
    "* Course instructor: Emily Dumas\n",
    "* Contributors to this document: Johnny Joyce, Kylash Viswanathan"
   ]
  },
  {
   "cell_type": "markdown",
   "metadata": {},
   "source": [
    "## Topics\n",
    "\n",
    "\n",
    "This worksheet focuses on **Flask web applications** \n",
    "\n",
    "## Resources\n",
    "\n",
    "These things might be helpful while working on the problems.  Remember that for worksheets,  we don't strictly limit what resources you can consult, so these are only suggestions.\n",
    "\n",
    "\n",
    "* [Lecture 29 - HTML and CSS](http://dumas.io/teaching/2023/spring/mcs275/slides/lecture29.html)\n",
    "* [Lecture 30 - Planning our web app](http://dumas.io/teaching/2023/spring/mcs275/slides/lecture30.html)\n",
    "* [Lecture 31 - HTTP and Flask](http://dumas.io/teaching/2023/spring/mcs275/slides/lecture31.html)\n",
    "* [Lecture 32 - Using Flask](http://dumas.io/teaching/2023/spring/mcs275/slides/lecture32.html)\n",
    "* [Lecture 33 - Forms](http://dumas.io/teaching/2023/spring/mcs275/slides/lecture33.html)\n",
    "* [Lecture 34 - Web application wrap-up](http://dumas.io/teaching/2023/spring/mcs275/slides/lecture34.html)\n",
    "* [Lecture 35 - Anonymous functions and decorators](http://dumas.io/teaching/2023/spring/mcs275/slides/lecture35.html)\n",
    "* [w3schools HTML tutorial](https://www.w3schools.com/html/)\n",
    "* [w3schools CSS tutorial](https://www.w3schools.com/css/)\n",
    "* [Flask tutorial](https://flask.palletsprojects.com/en/1.1.x/tutorial/)\n",
    "* [JSFiddle](https://jsfiddle.net/) - place to quickly test HTML+CSS without leaving your browser\n",
    "* Course sample code:\n",
    "    * [html examples (including OrderNova, TrackFlow, and a simple Flask demo](https://github.com/emilydumas/mcs275spring2023/tree/main/samplecode/html) )\n",
    "    * [lambda_and_decorators.ipynb](https://github.com/emilydumas/mcs275spring2023/blob/main/samplecode/lambda_and_decorators.ipynb)"
   ]
  },
  {
   "cell_type": "markdown",
   "metadata": {},
   "source": [
    "## 1. Get OrderNova or TrackFlow running locally\n",
    "\n",
    "The Flask application written in lecture was called OrderNova in the 12pm section, and TrackFlow in the 1pm section.  The applications are quite similar, and use a SQLite database to manage a queue of work orders that can be created, assigned to workers, and marked as completed.\n",
    "\n",
    "To prepare for the next problem, download a copy of the Flask application for your section and get it running on your computer.\n",
    "\n",
    "### A. Download\n",
    "\n",
    "The application has a number of files, so you can do it in either of these ways:\n",
    "* Download and extract the ZIP file linked below, which contains a snapshot of the application as it was on April 16, 2023.\n",
    "    * [ordernova.zip](https://www.dumas.io/teaching/2023/spring/mcs275/data/ordernova.zip)\n",
    "    * [trackflow.zip](https://www.dumas.io/teaching/2023/spring/mcs275/data/trackflow.zip)\n",
    "* Or, download the files one by one from the course sample code repository (see below for the list of files you need)\n",
    "    * [samplecode/html/ordernova](https://github.com/emilydumas/mcs275spring2023/tree/main/samplecode/html/ordernova)\n",
    "    * [samplecode/html/trackflow](https://github.com/emilydumas/mcs275spring2023/tree/main/samplecode/html/trackflow)\n",
    "\n",
    "#### List of files needed to run TrackFlow\n",
    "\n",
    "* `trackflow.py` - Main program\n",
    "* `createdb.py` - Utility to reset database\n",
    "* `timefmt.py` - Module for time formatting\n",
    "* `static/` - Subdirectory for static files\n",
    "* `static/trackflow.css` - Main stylesheet\n",
    "* `templates/` - Subdirectory for templates\n",
    "* `templates/tf-showorder.html` - Template for displaying work order status\n",
    "* `templates/tf-workerview.html` - Template for displaying worker view\n",
    "* `templates/tf-neworder.html` - Template for new work order form\n",
    "\n",
    "#### List of files needed to run OrderNova\n",
    "\n",
    "* `ordernova.py` - Main program\n",
    "* `createdb.py` - Utility to reset database\n",
    "* `timefmt.py` - Module for time formatting\n",
    "* `static/` - Subdirectory for static files\n",
    "* `static/ordernova.css` - Main stylesheet\n",
    "* `templates/` - Subdirectory for templates\n",
    "* `templates/on-showorder.html` - Template for displaying work order status\n",
    "* `templates/on-workerview.html` - Template for displaying worker view\n",
    "* `templates/on-neworder.html` - Template for new work order form\n"
   ]
  },
  {
   "cell_type": "markdown",
   "metadata": {},
   "source": [
    "### B. Test it out\n",
    "\n",
    "Open a terminal and `cd` to the location of the main `.py` script (`ordernova.py` or `trackflow.py`).  Run that script with Python, e.g. using a command\n",
    "```bash\n",
    "python3 ordernova.py\n",
    "```\n",
    "or similarly with your interpreter name and possibly replacing `ordernova` with `trackflow`.\n",
    "\n",
    "You should see output similar to this:\n",
    "\n",
    "```text\n",
    "The database 'ordernova.sqlite' was not found.  Creating it.\n",
    "Making sure the DB contains the necessary tables...Done\n",
    "Populating DB with sample data, since it was empty...Done\n",
    " * Serving Flask app 'OrderNova'\n",
    " * Debug mode: off\n",
    "WARNING: This is a development server. Do not use it in a production deployment. Use a production WSGI server instead.\n",
    " * Running on http://127.0.0.1:5000\n",
    "Press CTRL+C to quit\n",
    "```\n",
    "\n",
    "Notice the port number `5000` on the second-to-last line.  It might not be `5000` for you, but you need to know it.\n",
    "\n",
    "Now, open a browser and visit `http://localhost:5000/`, replacing `5000` with the port number as needed.\n",
    "\n",
    "You should see a simple white home page with links to some of the application endpoints.  Try them out.  Create a work order.  Take it on as an assignment.  Complete it."
   ]
  },
  {
   "cell_type": "markdown",
   "metadata": {},
   "source": [
    "## 2. New features\n",
    "\n",
    "Modify the work order tracking application to add these new features.  Test them to make sure they work."
   ]
  },
  {
   "cell_type": "markdown",
   "metadata": {},
   "source": [
    "### A. Workers list\n",
    "\n",
    "This application doesn't have a table to store workers, but you can generate a list of workers that have appeared as the assigned worker for some task in the table (whether completed or not).\n",
    "\n",
    "Make a route `/workerlist/` that generates a page styled similarly to the work order view page, but which gives a bulleted list of all the workers currently in the database.  Each worker's name should only appear once.  The worker's username should be a link to their worker view page.\n",
    "\n",
    "So for example you might see a list like this:\n",
    "\n",
    "#### Workers\n",
    "\n",
    "* ddumas\n",
    "* gwashington\n",
    "\n",
    "And the first item would link to `/worker/ddumas/`, and the next one to `/worker/gwashington/`"
   ]
  },
  {
   "cell_type": "markdown",
   "metadata": {},
   "source": [
    "### B. On this day\n",
    "\n",
    "Here's a function that can take a day described by its year, month, and day numbers and return two time stamps `ts0,ts1` so that a timestamp `x` lies within that day if and only if `ts0 <= x < ts1`."
   ]
  },
  {
   "cell_type": "code",
   "execution_count": 7,
   "metadata": {},
   "outputs": [],
   "source": [
    "import datetime\n",
    "\n",
    "def timestamp_range_for_day(year,month,day):\n",
    "    \"\"\"\n",
    "    Return the timestamps when a calendar day\n",
    "    begins and ends.\n",
    "    \"\"\"\n",
    "    ts0 = datetime.datetime(year,month,day).timestamp()\n",
    "    ts1 = (datetime.datetime(year,month,day)+datetime.timedelta(days=1)).timestamp()\n",
    "    return ts0,ts1"
   ]
  },
  {
   "cell_type": "markdown",
   "metadata": {},
   "source": [
    "Use this to add the following feature to the work order tracking application:  Visiting a URL of the form `/reports/day/2023/04/15/` will show a page listing the work orders created on that day, assigned on that day, and completed on that day.  These should be in three separate sections, and modeled after the worker view template."
   ]
  },
  {
   "cell_type": "markdown",
   "metadata": {},
   "source": [
    "## Solution\n",
    "\n",
    "It would be quite difficult to place all of the solutions in cells in this notebook. Instead, the following links can be used to download full versions of the apps that include all of the changes we need to make:\n",
    "\n",
    "* [ordernova-soln.zip](https://drive.google.com/file/d/1vZmBgaPgHMOG3GWwOUXWkC_MrKsAtvj3/view?usp=share_link)\n",
    "* [trackflow-soln.zip](https://drive.google.com/file/d/1p2D3_wiFinbI-7Amo3AmOEXKsVflLDWe/view?usp=sharing)\n",
    "\n",
    "The changes are as follows:\n",
    "\n",
    "* `ordernova.py` *(respectively `trackflow.py`)* was renamed to `ordernova-soln.py` *(resp. `trackflow-soln.py`)*. Functions named `workerlist()` and `orders_by_day()` were added, which account for the new routes.\n",
    "\n",
    "* A new template `on-workerlist.html` *(respectively `tf-workerlist.html`)* was created for part A\n",
    "\n",
    "* A new template `on-tasksbyday.html` *(respectively `tf-tasksbyday.html`)* was created for part B\n",
    "\n",
    "* The function `timestamp_range_for_day()` that was given in part B was added to `timefmt.py`"
   ]
  },
  {
   "cell_type": "markdown",
   "metadata": {},
   "source": [
    "## 3. Custom sorts and max/min\n",
    "\n",
    "Use anonymous functions (`lambda`) with Python's `sorted()`, `max()`, and `min()` functions to answer these questions."
   ]
  },
  {
   "cell_type": "markdown",
   "metadata": {},
   "source": [
    "### A. \n",
    "\n",
    "Generate the first 20 powers of 7 (meaning $7^1$ to $7^{20}$) and sort them according to how many different decimal digits they use.  That is, 343 would appear near the start of the list since it uses only two distinct digits, while 1628413597910449 would appear near the end, as it uses all 10 digits."
   ]
  },
  {
   "cell_type": "markdown",
   "metadata": {},
   "source": [
    "### Solution:"
   ]
  },
  {
   "cell_type": "code",
   "execution_count": 1,
   "metadata": {},
   "outputs": [
    {
     "data": {
      "text/plain": [
       "[7,\n",
       " 49,\n",
       " 343,\n",
       " 2401,\n",
       " 16807,\n",
       " 117649,\n",
       " 823543,\n",
       " 40353607,\n",
       " 282475249,\n",
       " 79792266297612001,\n",
       " 5764801,\n",
       " 1977326743,\n",
       " 13841287201,\n",
       " 96889010407,\n",
       " 33232930569601,\n",
       " 11398895185373143,\n",
       " 678223072849,\n",
       " 4747561509943,\n",
       " 232630513987207,\n",
       " 1628413597910449]"
      ]
     },
     "execution_count": 1,
     "metadata": {},
     "output_type": "execute_result"
    }
   ],
   "source": [
    "sorted([7**x for x in range(1,21)], key = lambda x: len(set(str(x))))"
   ]
  },
  {
   "cell_type": "markdown",
   "metadata": {},
   "source": [
    "### B. \n",
    "\n",
    "Here's a text file with 10000 English words, one per line:\n",
    "* [https://www.mit.edu/~ecprice/wordlist.10000](https://www.mit.edu/~ecprice/wordlist.10000)\n",
    "\n",
    "Let's say the *endscore* of a word is the number of times its last letter appears in the word.  For example,\n",
    "\"plasma\" has an endscore of 2 because the last letter, a, appears twice.  And \"associates\" has an endscope of 3 because it contains 3 copies of the last letter, s.\n",
    "\n",
    "Using custom sorting and `lambda`, find 20 words with the highest endscores in this list."
   ]
  },
  {
   "cell_type": "markdown",
   "metadata": {},
   "source": [
    "### Solution"
   ]
  },
  {
   "cell_type": "markdown",
   "metadata": {},
   "source": [
    "We can use the following cell to open the list of words:"
   ]
  },
  {
   "cell_type": "code",
   "execution_count": 1,
   "metadata": {},
   "outputs": [],
   "source": [
    "words = [x.strip() for x in open(\"wordlist.10000.txt\",\"rt\").readlines()]"
   ]
  },
  {
   "cell_type": "markdown",
   "metadata": {},
   "source": [
    "Then the following lambda function counts the number of occurrences of the final letter:\n",
    "`lambda w: w.count(w[-1]))`.\n",
    "\n",
    "This results in the following answer:"
   ]
  },
  {
   "cell_type": "code",
   "execution_count": 2,
   "metadata": {},
   "outputs": [
    {
     "data": {
      "text/plain": [
       "['evanescence',\n",
       " 'everywhere',\n",
       " 'excellence',\n",
       " 'experience',\n",
       " 'independence',\n",
       " 'interference',\n",
       " 'massachusetts',\n",
       " 'mississippi',\n",
       " 'possess',\n",
       " 'preference',\n",
       " 'reference',\n",
       " 'refrigerator',\n",
       " 'representative',\n",
       " 'sessions',\n",
       " 'submissions',\n",
       " 'sunglasses',\n",
       " 'tennessee',\n",
       " 'volleyball',\n",
       " 'assessments',\n",
       " 'documentcreatetextnode']"
      ]
     },
     "execution_count": 2,
     "metadata": {},
     "output_type": "execute_result"
    }
   ],
   "source": [
    "sorted(words, key = lambda w: w.count(w[-1]))[-20:]"
   ]
  },
  {
   "cell_type": "markdown",
   "metadata": {},
   "source": [
    "### C. \n",
    "\n",
    "Use the same word list as the last problem.  Suppose we say the *variety* of a word is the ratio of the number of distinct letters to the length of the word.  For example, \"cameras\" has 6 distinct letters and has a length of 7, so its variety is $\\approx 0.85714$.\n",
    "\n",
    "Among words with at least four letters, find one that has the lowest variety."
   ]
  },
  {
   "cell_type": "markdown",
   "metadata": {},
   "source": [
    "### Solution"
   ]
  },
  {
   "cell_type": "markdown",
   "metadata": {},
   "source": [
    "To find the variety of a word `w`, we can use `len(set(w))/len(w)`. So the answer is as follows:"
   ]
  },
  {
   "cell_type": "code",
   "execution_count": 3,
   "metadata": {},
   "outputs": [
    {
     "data": {
      "text/plain": [
       "['mississippi',\n",
       " 'barbara',\n",
       " 'tennessee',\n",
       " 'engineering',\n",
       " 'anna',\n",
       " 'annotation',\n",
       " 'assess',\n",
       " 'assessed',\n",
       " 'banana',\n",
       " 'boob']"
      ]
     },
     "execution_count": 3,
     "metadata": {},
     "output_type": "execute_result"
    }
   ],
   "source": [
    "sorted([ w for w in words if len(w)>=4], key = lambda w: len(set(w))/len(w))[:10]"
   ]
  },
  {
   "cell_type": "markdown",
   "metadata": {},
   "source": [
    "To verify that this formula works, let's find the position of the word `\"cameras\"` in the list:"
   ]
  },
  {
   "cell_type": "code",
   "execution_count": 4,
   "metadata": {},
   "outputs": [
    {
     "name": "stdout",
     "output_type": "stream",
     "text": [
      "1300\n"
     ]
    }
   ],
   "source": [
    "idx = words.index(\"cameras\")\n",
    "print(idx)"
   ]
  },
  {
   "cell_type": "markdown",
   "metadata": {},
   "source": [
    "Then the cell below shows us that the variety is approximately 0.85714, as expected"
   ]
  },
  {
   "cell_type": "code",
   "execution_count": 6,
   "metadata": {},
   "outputs": [
    {
     "name": "stdout",
     "output_type": "stream",
     "text": [
      "The word cameras has variety 0.8571428571428571\n"
     ]
    }
   ],
   "source": [
    "print(\"The word {} has variety {}\".format(words[idx], len(set(words[idx]))/len(words[idx])))"
   ]
  }
 ],
 "metadata": {
  "kernelspec": {
   "display_name": "Python 3 (ipykernel)",
   "language": "python",
   "name": "python3"
  },
  "language_info": {
   "codemirror_mode": {
    "name": "ipython",
    "version": 3
   },
   "file_extension": ".py",
   "mimetype": "text/x-python",
   "name": "python",
   "nbconvert_exporter": "python",
   "pygments_lexer": "ipython3",
   "version": "3.10.6"
  }
 },
 "nbformat": 4,
 "nbformat_minor": 4
}
