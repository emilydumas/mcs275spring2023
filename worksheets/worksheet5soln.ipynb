{
 "cells": [
  {
   "cell_type": "markdown",
   "metadata": {},
   "source": [
    "# MCS 275 Spring 2023 Worksheet 5 Solutions\n",
    "\n",
    "* Course instructor: Emily Dumas\n",
    "\n",
    "* Contributors to this document: Johnny Joyce, Kylash Viswanathan"
   ]
  },
  {
   "cell_type": "markdown",
   "metadata": {},
   "source": [
    "## Topics\n",
    "\n",
    "This worksheet focuses on three small topics from week 4 lectures: the Jupyter notebook interface, context managers, and our first lecture on recursion."
   ]
  },
  {
   "cell_type": "markdown",
   "metadata": {},
   "source": [
    "## Resources\n",
    "\n",
    "These things might be helpful while working on the problems.  Remember that for worksheets,  we don't strictly limit what resources you can consult, so these are only suggestions.\n",
    "\n",
    "* [Lecture 7 - Notebooks](https://www.dumas.io/teaching/2023/spring/mcs275/slides/lecture7.html)\n",
    "* [Lecture 8 - Context managers](https://www.dumas.io/teaching/2023/spring/mcs275/slides/lecture8.html)\n",
    "* [Lecture 9 - Recursion](https://www.dumas.io/teaching/2023/spring/mcs275/slides/lecture9.html)\n",
    "* [Sample programs](https://github.com/emilydumas/mcs275spring2023/tree/main/samplecode)\n",
    "* [Downey's book](https://greenteapress.com/thinkpython2/html/)\n",
    "* MCS 260 course materials from Fall 2021:\n",
    "    * [Slides, homework, worksheets, and projects](https://www.dumas.io/teaching/2021/fall/mcs260/)\n",
    "    * [Sample programs](https://github.com/emilydumas/mcs260fall2021/tree/main/samplecode)"
   ]
  },
  {
   "cell_type": "markdown",
   "metadata": {},
   "source": [
    "## 1. Work in a notebook\n",
    "\n",
    "To get some experience using the notebook interface, work on this assignment in a notebook.  For this problem, just get that set up as follows:\n",
    "* If you plan to work locally (on your own computer):\n",
    "    * Install the notebook interface (usually `python3 -m pip install notebook` will do it)\n",
    "    * Check that you can start it up (usually `python3 -m notebook` in the directory where you want your notebook files to go)\n",
    "    * Create a new Python 3 notebook, giving it a name like `lab5.ipynb`\n",
    "* If you want to avoid installing anything:\n",
    "    * Log in to [Google Colab](https://colab.research.google.com/) with your `netid@uic.edu` account (or any other google account)\n",
    "    * Create a new Python 3 notebook in Colab, giving it a name like `lab5`"
   ]
  },
  {
   "cell_type": "markdown",
   "metadata": {},
   "source": [
    "## 2. Sequence\n",
    "\n",
    "There is a sequence of integers $T_n$ defined by the conditions\n",
    "\n",
    "$$\\begin{split}\n",
    "T_0 &= 0\\\\\n",
    "T_1 &= 1\\\\\n",
    "T_2 &= 2\\\\\n",
    "T_{n} &= T_{n-1} + T_{n-2} + T_{n-3} \\text{ if } n \\geq 3\\end{split}$$\n",
    "\n",
    "This sequence begins $0, 1, 2, 3, 6, 11, 20, 37, 68, 125, 230, 423, 778, 1431, 2632, \\ldots$.\n",
    "\n",
    "### A. Recursive implementation\n",
    "\n",
    "Write a recursive function that calculates $T_n$.\n",
    "\n",
    "### B. Iterative implementation\n",
    "\n",
    "Write an iterative function that calculates $T_n$.\n",
    "\n",
    "### C. Call counts\n",
    "\n",
    "Add code to the recursive function that will allow you to count how many times the function is called in any single computation.  (You probably want to have a global dictionary in which every function call changes the value associated with a certain key.)\n",
    "\n",
    "Make a table of how many calls are involved for $n=1,2,3,\\ldots,15$.\n",
    "\n",
    "### D. Theoretical analysis (optional challenge)\n",
    "\n",
    "Suppose we define a new sequence $c_n$ as follows:  $c_n$ is the number of function calls that occur when calculating $T_n$ recursively.\n",
    "\n",
    "Can you determine a formula that gives $c_n$, perhaps as a sum of previous terms?"
   ]
  },
  {
   "cell_type": "markdown",
   "metadata": {},
   "source": [
    "## Solution\n",
    "\n",
    "### A."
   ]
  },
  {
   "cell_type": "code",
   "execution_count": null,
   "metadata": {},
   "outputs": [],
   "source": [
    "def T(n):\n",
    "    \"\"\"Returns n-th entry in sequence T\"\"\"\n",
    "    if n == 0 or n == 1 or n == 2:\n",
    "        return n\n",
    "    elif n > 0:\n",
    "        return T(n-1) + T(n-2) + T(n-3)\n",
    "    else:\n",
    "        raise ValueError(\"Please enter a positive number.\")"
   ]
  },
  {
   "cell_type": "markdown",
   "metadata": {},
   "source": [
    "### B."
   ]
  },
  {
   "cell_type": "code",
   "execution_count": null,
   "metadata": {},
   "outputs": [],
   "source": [
    "def T_iterative(n):\n",
    "    \"\"\"Iterative version of T_n\"\"\"\n",
    "    T_vals = [0,1,2]\n",
    "    \n",
    "    while len(T_vals) <= n:\n",
    "        \n",
    "        vals.append(T_vals[-1] + T_vals[-2] + T_vals[-3])\n",
    "        \n",
    "    return T_vals[-1]"
   ]
  },
  {
   "cell_type": "markdown",
   "metadata": {},
   "source": [
    "### C."
   ]
  },
  {
   "cell_type": "code",
   "execution_count": null,
   "metadata": {},
   "outputs": [],
   "source": [
    "def T_count(n):\n",
    "    \"\"\"Returns number of times T calls itself when calculating T_n\"\"\"\n",
    "    if n == 0 or n == 1 or n == 2:\n",
    "        return 1\n",
    "    else:\n",
    "        return count(n-1) + count(n-2) + count(n-3) + 1"
   ]
  },
  {
   "cell_type": "markdown",
   "metadata": {},
   "source": [
    "### D.\n",
    "\n",
    "The following recursive formula can be used:\n",
    "\n",
    "$$\\begin{split}\n",
    "c_0 &= 1\\\\\n",
    "c_1 &= 1\\\\\n",
    "c_2 &= 1\\\\\n",
    "c_{n} &= c_{n-1} + c_{n-2} + c_{n-3} + 1 \\; \\text{ if } n \\geq 3\\end{split}$$\n",
    "\n",
    "We have $c_0 = c_1 = c_2 = 1$ because only one call is needed. For the recursive step, we add up the number of calls made for $n-1$, $n-2$, and $n-3$, then add 1 because we already made another call with input $n$."
   ]
  },
  {
   "cell_type": "markdown",
   "metadata": {},
   "source": [
    "## 3. Lockfile context manager\n",
    "\n",
    "Sometimes, a program will read or write files that might also be accessed by another program at the same time.  In such cases, it may be necessary for one program to have exclusive access to the files at certain times so that it can make changes or process data without concern that it will be\n",
    "\n",
    "There are a lot of mechanisms for handling this situation.  One of the oldest approaches involves a cooperative agreement between all the programs that might need to touch a certain file that:\n",
    "* When one of the programs needs exclusive access, it creates another file (the \"lock file\") that indicates the need for such exclusivity\n",
    "* If such a file already exists, then the program knows another one is using the file, and it must wait\n",
    "* When the program is finished using a file, it removes the lock file so that it becomes possible for other programs to use it exclusively when needed.\n",
    "\n",
    "To make this precise, imagine there might be a file called `keyring.dat` that is used by a password manager system.  The system might include a Python program that lets users add, list, edit, and remove passwords from the database.  It might also include a browser extension that allows passwords to be pasted directly into login forms.  Both the Python client and the browser extension may need exclusive access to `keyring.dat` at various times.  Without that, the browser extension might try to read a password that is in the process of being changed or removed by the Python client.  A lockfile system for this purpose might look like this:\n",
    "* When any program wants exclusive access to `keyring.dat`, it checks to see whether a different file named `locked-keyring.dat` already exists\n",
    "    * If so, the program pauses for 0.1 seconds and tries again\n",
    "    * If not, the program creates an empty file named `locked-keyring.dat` and considers its exclusive access to `keyring.dat` to be obtained\n",
    "* When a program that is exclusively using `keyring.dat` is finished using it, it removes `locked-keyring.dat`, allowing other programs to claim exclusive use of it.\n",
    "\n",
    "While there can be problems with lock files in general, this structure is a good candidate for implementation using a context manager.\n",
    "\n",
    "### A. Basic version\n",
    "\n",
    "Make a context manager class `OpenWithLock` whose constructor accepts a filename `fn` (such as `keyring.dat`) and a `mode` (such as `\"w\"` or `\"r\"` or `\"a\"`, specifying the type of access to a file).  When entering an associated `with`-block, this context manager will\n",
    "* Wait 0.1 seconds repeatedly until there is no file named `\"locked-\"+fn` exists\n",
    "* Create (i.e. open and then close) an empty file called `\"locked-\"+fn`\n",
    "* Open the file named `fn` in mode `mode` and return the file object\n",
    "\n",
    "And when exiting the `with`-block, this context manager will\n",
    "* Close `fn`\n",
    "* Delete `\"locked-\"+fn`\n",
    "\n",
    "You might use this context manager as follows:"
   ]
  },
  {
   "cell_type": "code",
   "execution_count": null,
   "metadata": {},
   "outputs": [],
   "source": [
    "print(\"I'm about to attempt to open reserved-seats.txt for exclusive use.\")\n",
    "print(\"If another process already has it locked, there may be a delay.\")\n",
    "\n",
    "with OpenWithLock(\"reserved-seats.txt\",\"r\") as fp:\n",
    "    print(\"Ok, I have exclusive access to reserved-seats.txt\")\n",
    "    print(\"A lock file named 'locked-reserved-seats.txt' was created so other programs know that.\")\n",
    "    x = fp.read()\n",
    "    # maybe do things with x...\n",
    "    \n",
    "print(\"I have relinquished my exclusive access to reserved-seats.txt\")\n",
    "print(\"The lock file has been removed.\")"
   ]
  },
  {
   "cell_type": "markdown",
   "metadata": {},
   "source": [
    "#### Something to think about\n",
    "\n",
    "How can you test that this context manager behaves as expected?  If you haven't tested the behavior when the lock file already exists, it is hard to know whether the context manager is working!\n",
    "\n",
    "### B. Refined version (as time allows)\n",
    "\n",
    "It would be nice if the lock file didn't just capture the fact that *some* program was using a file, but also *which* program.\n",
    "\n",
    "The module `os` contains a function `os.getpid()` which returns a numerical identifier (process ID or PID) that the operating system gives to the currently-running program, like so:"
   ]
  },
  {
   "cell_type": "code",
   "execution_count": 1,
   "metadata": {},
   "outputs": [
    {
     "data": {
      "text/plain": [
       "21256"
      ]
     },
     "execution_count": 1,
     "metadata": {},
     "output_type": "execute_result"
    }
   ],
   "source": [
    "import os\n",
    "os.getpid()"
   ]
  },
  {
   "cell_type": "markdown",
   "metadata": {},
   "source": [
    "Modify the `OpenWithLock` class so that the lock file's name is not fixed, but instead incorporates the PID of the program that locked it.  Thus if process `21256` locks `keyring.dat`, it would do so by creating a file named `locked-21256-keyring.dat`\n",
    "\n",
    "But when the class is checking whether or not the file is already locked, it needs to look for any file whose name begins with `\"locked-\"` and ends with `\"-keyring.dat\"`.  If any such file exists, then it waits until that file is gone before creating its own lock file.\n",
    "\n",
    "To check whether a file whose name matches a certain pattern exists, you have a couple of choices:\n",
    "* Use `glob.glob`, a function built for enumerating all files whose names match a pattern; read how to use it in [Python documentation of the `glob` module](https://docs.python.org/3/library/glob.html)\n",
    "* Use `os.listdir` to get a listing of all files, and then check them one by one to see if they start with `\"locked-\"` and end with `\"-\" + fn`."
   ]
  },
  {
   "cell_type": "markdown",
   "metadata": {},
   "source": [
    "## Solution\n",
    "\n",
    "### A."
   ]
  },
  {
   "cell_type": "code",
   "execution_count": null,
   "metadata": {},
   "outputs": [],
   "source": [
    "class OpenWithLock:\n",
    "    \"\"\"Context manager for locking a file when in use\"\"\"\n",
    "    \n",
    "    def __init__(self, fn, mode):\n",
    "        \"\"\"Save file name and file opening mode as attributes\"\"\"\n",
    "        self.fn = fn\n",
    "        self.mode = mode\n",
    "    \n",
    "    def __enter__(self):\n",
    "        \"\"\"Wait until lockfile no longer exists, then create lockfile and open given file\"\"\"\n",
    "        \n",
    "        # Wait until lockfile no longer exists\n",
    "        while os.path.exists(\"locked-\" + self.fn):\n",
    "            time.sleep(0.1)\n",
    "            \n",
    "        # Create lockfile by opening and closing\n",
    "        open(\"locked-\" + self.fn, \"a\").close()\n",
    "        \n",
    "        self.file = open(self.fn, self.mode)\n",
    "        return self.file\n",
    "        \n",
    "    def __exit__(self, exc_type, exc, tb):\n",
    "        \"\"\"When finished, close file and remove lockfile.\"\"\"\n",
    "        self.file.close()\n",
    "        os.remove(\"locked-\" + self.fn)"
   ]
  },
  {
   "cell_type": "markdown",
   "metadata": {},
   "source": [
    "### B."
   ]
  },
  {
   "cell_type": "code",
   "execution_count": null,
   "metadata": {},
   "outputs": [],
   "source": [
    "class OpenWithLock:\n",
    "    \"\"\"Context manager for locking a file when in use\"\"\"\n",
    "    \n",
    "    def __init__(self, fn, mode):\n",
    "        \"\"\"Save file name and file opening mode as attributes\"\"\"\n",
    "        self.fn = fn\n",
    "        self.mode = mode\n",
    "        \n",
    "    def is_locked(self):\n",
    "        \"\"\"Helper function. Checks whether a lockfile exists.\"\"\"\n",
    "        for filename in os.listdir():\n",
    "            if filename.startswith(\"locked-\") and filename.endswith(self.fn):\n",
    "                return True\n",
    "        return False\n",
    "    \n",
    "    def __enter__(self):\n",
    "        \"\"\"Wait until lockfile no longer exists, then create lockfile and open given file\"\"\"\n",
    "        while self.is_locked():\n",
    "            time.sleep(0.1)\n",
    "            \n",
    "        # Create lockfile by opening and closing\n",
    "        open(\"locked-\" + os.getpid() + self.fn, \"a\").close()\n",
    "        \n",
    "        self.file = open(self.fn, self.mode)\n",
    "        return self.file\n",
    "        \n",
    "    def __exit__(self, exc_type, exc, tb):\n",
    "        \"\"\"When finished, close file and remove lockfile.\"\"\"\n",
    "        self.file.close()\n",
    "        os.remove(\"locked-\" + os.getpid() + self.fn, \"a\")"
   ]
  },
  {
   "cell_type": "markdown",
   "metadata": {},
   "source": [
    "## 4. Parentheses\n",
    "\n",
    "If we write `a+b+c+d`, then we are using the associativity of addition to avoid the need for any parentheses.\n",
    "\n",
    "There are lots of ways to put parentheses into the expression so that each time we use addition, it is a binary operation.  For example:\n",
    "* `((a+b)+(c+d))`  (i.e. first add `a+b`, then add `c+d`, then sum the results)\n",
    "* `(a+(b+(c+d)))`  (i.e. first add `c+d`, then add `b` to that, then add `a` to that)\n",
    "* and more\n",
    "\n",
    "Write a Python function that takes a list of integers and returns all possible ways of parenthesizing the sum fully.\n",
    "\n",
    "This requires a choice of how to represent the input sum and output parenthesized sums.  Instead of using strings, make your function so it expects a list of summands as input and returns a list of possible parenthesized versions that use nested Python lists to represent the parentheses, as in the following example:"
   ]
  },
  {
   "cell_type": "code",
   "execution_count": 2,
   "metadata": {},
   "outputs": [
    {
     "data": {
      "text/plain": [
       "[[2, [1, [5, 8]]],\n",
       " [2, [[1, 5], 8]],\n",
       " [[2, 1], [5, 8]],\n",
       " [[2, [1, 5]], 8],\n",
       " [[[2, 1], 5], 8]]"
      ]
     },
     "execution_count": 2,
     "metadata": {},
     "output_type": "execute_result"
    }
   ],
   "source": [
    "put_parens([2,1,5,8]) # find all ways to put parentheses in the expression 2+1+5+8"
   ]
  },
  {
   "cell_type": "markdown",
   "metadata": {},
   "source": [
    "The return value is a list of length 5, which means there are five ways to add parentheses.  Each item in the list describes one of the ways in to add parentheses, with nested lists instead of nested parentheses.  So the five items shown above represent the expressions:\n",
    "```\n",
    "(2+(1+(5+8)))\n",
    "(2+((1+5)+8))\n",
    "(2+1)+(5+8)\n",
    "((2+(1+5))+8)\n",
    "(((2+1)+5)+8)\n",
    "```\n",
    "\n",
    "### Hints\n",
    "\n",
    "1. Why is this a natural candidate for recursion?\n",
    "2. Unlike the recursion examples in lecture 9, this one will involve a *loop* of recursive calls.  That is, the function `put_parens` may call itself many times, with the exact number of times depending on its argument."
   ]
  },
  {
   "cell_type": "markdown",
   "metadata": {},
   "source": [
    "## Solution"
   ]
  },
  {
   "cell_type": "markdown",
   "metadata": {},
   "source": [
    "In the solution below, the `for` loop uses the `range(len(..))` constructor. \n",
    "\n",
    "If we want to avoid this, we can use the `enumerate` function instead, which iterates over both the indices and the list entries at the same time. This means we'd change the `for` loop into the following:\n",
    "\n",
    "`for i, val in enumerate(L[1:], 1):`\n",
    "\n",
    "(Note here that the \"`, 1`\" means that we should start counting from 1)"
   ]
  },
  {
   "cell_type": "code",
   "execution_count": 1,
   "metadata": {},
   "outputs": [],
   "source": [
    "def put_parens(L):\n",
    "    \"\"\"Finds all ways to put parentheses\"\"\"\n",
    "    \n",
    "    if len(L) == 1: # No way to put parentheses\n",
    "        return L\n",
    "    if len(L) == 2: # Only one way to put parentheses\n",
    "        return [L]\n",
    "    \n",
    "    output = []\n",
    "    \n",
    "    # At each index `i`, split the list into two halves\n",
    "    for i in range(1, len(L)):\n",
    "        \n",
    "        # Make a recursive call on each half\n",
    "        first_halves = put_parens(L[:i])\n",
    "        second_halves = put_parens(L[i:])\n",
    "        \n",
    "        # Then for every possible combination of parentheses from the first half, ...\n",
    "        # ... match them with a possible combination from the second half.\n",
    "        # This gives us every combination of parentheses for the whole list `L`.\n",
    "        for first in first_halves:\n",
    "            for second in second_halves:\n",
    "                output.append([first, second])\n",
    "    \n",
    "    return output"
   ]
  },
  {
   "cell_type": "code",
   "execution_count": 2,
   "metadata": {},
   "outputs": [
    {
     "data": {
      "text/plain": [
       "[[2, [1, [5, 8]]],\n",
       " [2, [[1, 5], 8]],\n",
       " [[2, 1], [5, 8]],\n",
       " [[2, [1, 5]], 8],\n",
       " [[[2, 1], 5], 8]]"
      ]
     },
     "execution_count": 2,
     "metadata": {},
     "output_type": "execute_result"
    }
   ],
   "source": [
    "put_parens([2,1,5,8]) # find all ways to put parentheses in the expression 2+1+5+8"
   ]
  }
 ],
 "metadata": {
  "kernelspec": {
   "display_name": "Python 3 (ipykernel)",
   "language": "python",
   "name": "python3"
  },
  "language_info": {
   "codemirror_mode": {
    "name": "ipython",
    "version": 3
   },
   "file_extension": ".py",
   "mimetype": "text/x-python",
   "name": "python",
   "nbconvert_exporter": "python",
   "pygments_lexer": "ipython3",
   "version": "3.8.12"
  }
 },
 "nbformat": 4,
 "nbformat_minor": 4
}
