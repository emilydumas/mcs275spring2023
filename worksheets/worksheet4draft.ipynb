{
 "cells": [
  {
   "cell_type": "markdown",
   "metadata": {},
   "source": [
    "# MCS 275 Spring 2023 Worksheet 4\n",
    "\n",
    "* Course instructor: Emily Dumas"
   ]
  },
  {
   "cell_type": "markdown",
   "metadata": {},
   "source": [
    "## Topics\n",
    "\n",
    "This worksheet focuses on subclasses and inheritance.  Part of it involves extending the robot simulation from lectures 5 and 6."
   ]
  },
  {
   "cell_type": "markdown",
   "metadata": {},
   "source": [
    "## Resources\n",
    "\n",
    "These things might be helpful while working on the problems.  Remember that for worksheets,  we don't strictly limit what resources you can consult, so these are only suggestions.\n",
    "\n",
    "* [Lecture 4 - Operator Overloading](https://www.dumas.io/teaching/2023/spring/mcs275/slides/lecture4.html)\n",
    "* [Lecture 5 - Inheritance](https://www.dumas.io/teaching/2023/spring/mcs275/slides/lecture5.html)\n",
    "* [Lecture 6 - Inheritance part 2](https://www.dumas.io/teaching/2023/spring/mcs275/slides/lecture6.html)\n",
    "* [MCS 275 Python Tour](https://www.dumas.io/teaching/2023/spring/mcs275/nbview/samplecode/python_tour.html)\n",
    "* [Downey's book](https://greenteapress.com/thinkpython2/html/)\n",
    "* MCS 260 course materials from Fall 2021:\n",
    "    * [Slides, homework, worksheets, and projects](https://www.dumas.io/teaching/2021/fall/mcs260/)\n",
    "    * [Sample programs](https://github.com/emilydumas/mcs260fall2021/tree/main/samplecode)"
   ]
  },
  {
   "cell_type": "markdown",
   "metadata": {},
   "source": [
    "## 1. Get the Project 1 starter pack\n",
    "\n",
    "\n",
    "[Project 1](https://www.dumas.io/teaching/2023/spring/mcs275/nbview/projects/project1.html) is due on 10 February.  To prepare for working on it, please download and extract ths starter pack, which is a ZIP file:\n",
    "\n",
    "* [MCS 275 Spring 2023 Project 1 starter pack](https://github.com/emilydumas/mcs275spring2023/blob/main/projects/mcs275proj1starter.zip?raw=true)\n",
    "\n",
    "You don't just want to view the contents of the ZIP file in Windows explorer; it's important to actually extract the files so they exist in a directory where you can do your project work.\n",
    "\n",
    "When you've extracted the starter pack, check that you know the location of `simulation.py` and that you can run it in the terminal.\n",
    "\n",
    "The point of asking you to do it during lab is to ensure the TA can help you if you run into any problems."
   ]
  },
  {
   "cell_type": "markdown",
   "metadata": {},
   "source": [
    "## 2. Additional bots\n",
    "\n",
    "Download these files related to the robot simulation from the course sample code repository and put them in a directory where you'll do your work for this problem.\n",
    "\n",
    "* [plane.py](https://raw.githubusercontent.com/daviddumas/mcs275spring2023/main/samplecode/oop/plane.py)\n",
    "* [bots.py](https://raw.githubusercontent.com/daviddumas/mcs275spring2023/main/samplecode/oop/bots.py)\n",
    "* [botsimulation_fancy.py](https://raw.githubusercontent.com/daviddumas/mcs275spring2023/main/samplecode/oop/botsimulation_fancy.py)\n",
    "\n",
    "Then, build these new robots in `bots.py` that are subclasses of `Bot`:\n",
    "* class `DelayMarchBot`\n",
    "  * A robot that waits for a specified number of time units, and thereafter marches in a direction (default is `Vector(1,0)`, but any direction can be specified in an optional constructor argument)\n",
    "\n",
    "* class `ParallelogramPatrolBot`\n",
    "  * The constructor takes two vectors `v1` and `v2` and two integers `n1` and `n2`.\n",
    "  * The robot marches in a parallelogram (as shown below) by\n",
    "      * Taking `n1` steps in direction `v1`, then\n",
    "      * Taking `n2` steps in direction `v2`, then\n",
    "      * Taking `n1` steps in direction `-v1`, then\n",
    "      * Taking `n2` steps in direction `-v2`, then\n",
    "      * Repeating this cycle\n",
    "      \n",
    "![](images/ws4-parallelogram.png)\n",
    "\n",
    "* class `RandomItinerantBot`\n",
    "  * At any given time, this robot can be in either of two \"modes\": *walking* or *waiting*\n",
    "  * When waiting, at each time step there is a 5% chance it decides to switch to walking mode, and a 95% chance it stays in waiting mode.  (Use the `random` module to decide.)\n",
    "  * When switching to walking mode, the robot chooses two parameters:\n",
    "      * A `direction`, which is a `Vector2` randomly selected from a list of four vectors representing up, down, left, and right.\n",
    "      * A `length`, which is the number of steps it will take in this direction\n",
    "  * When in walking mode, the robot takes another step in the chosen direction.  If it has completed `length` steps, then it switches back to waiting mode.\n",
    "  * **Finally, this class has a new method `startle()` that, when called, will make it so that the robot switches to walking mode the next time `update()` is called.**\n",
    "  * Overall, the route of this robot might look like the one shown below (but will be different each time the simulation is run).\n",
    "  \n",
    "![](images/ws4-itinerant.png)\n",
    "  \n",
    "Add these robots to the simulation and confirm they exhibit the expected behavior.  Use class attributes to give the new robot classes their own symbols."
   ]
  },
  {
   "cell_type": "markdown",
   "metadata": {},
   "source": [
    "## 3. `UnitVector2`\n",
    "\n",
    "In [plane.py](https://raw.githubusercontent.com/daviddumas/mcs275spring2023/main/samplecode/oop/plane.py) add a subclass `UnitVector2` of `Vector2` that represents a unit vector (a vector of length 1) in a specified direction.  The constructor should accept a single float `theta` instead of the two coordinates `x` and `y` that are expected by the `Vector2` constructor.  The constructor should then initialize the object so that the `x` coordinate is `cos(theta)` and the `y` coordinate is `sin(theta)`.  All three quantities (`theta`, `x`, `y`) should be stored as instance attributes.\n",
    "\n",
    "The functions `sin` and `cos` are found in the `math` module.\n",
    "\n",
    "Also, recall that `Vector2` objects support addition and scalar multiplication.  But the sum of two unit vectors is usually not a unit vector, nor is a scalar multiple of a unit vector.  Is this going to cause problems?  If you add two `UnitVector2` instances, do you get a `UnitVector2` or `Vector2`?"
   ]
  },
  {
   "cell_type": "markdown",
   "metadata": {},
   "source": [
    "## Bonus round\n",
    "\n",
    "Work on these open-ended problems if you finish the exercises above.  We don't plan to include solutions to these in the worksheet solutions.\n",
    "\n",
    "### ParametricWanderBot\n",
    "\n",
    "Make a robot class that behaves like `WanderBot` or `FastWanderBot`, but which allows any list of possible `direction` vectors to be given as an argument to the constructor.  The robot then chooses a random element of the provided list of vectors for each step.\n",
    "\n",
    "### NotifyDestructBot\n",
    "\n",
    "Make a robot class (a subclass of `DestructBot`) that stands still for a specified number of steps and then deactivates.  But before it does so, this class calls a user-specified function.  The function is given as an argument to the constructor.  So, for example:\n",
    "\n",
    "```\n",
    "def bye():\n",
    "    \"\"\"Robot says goodbye\"\"\"\n",
    "    print(\"Thanks for including me in this simulation.  My battery is running low so if it's OK with you I'll just power down now. Bye.\")\n",
    "    \n",
    "R = bots.NotifyDestructBot(position=Point(3,3),active_time=10,action=bye)\n",
    "\n",
    "# ... code to run the simulation ...\n",
    "```\n",
    "should make a robot that sits at position (3,3) for 10 steps, prints a message, and then deactivates.\n",
    "\n",
    "The `action` argument of the constructor should default to `None`, and the class should know to not do anything if `action==None`.  That way, any code that works with `DestructBot` will also work with `NotifyDestructBot`."
   ]
  }
 ],
 "metadata": {
  "kernelspec": {
   "display_name": "Python 3 (ipykernel)",
   "language": "python",
   "name": "python3"
  },
  "language_info": {
   "codemirror_mode": {
    "name": "ipython",
    "version": 3
   },
   "file_extension": ".py",
   "mimetype": "text/x-python",
   "name": "python",
   "nbconvert_exporter": "python",
   "pygments_lexer": "ipython3",
   "version": "3.10.6"
  }
 },
 "nbformat": 4,
 "nbformat_minor": 4
}
