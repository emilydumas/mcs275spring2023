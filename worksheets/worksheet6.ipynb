{
 "cells": [
  {
   "cell_type": "markdown",
   "metadata": {},
   "source": [
    "# MCS 275 Spring 2023 Worksheet 6\n",
    "\n",
    "* Course instructor: Emily Dumas"
   ]
  },
  {
   "cell_type": "markdown",
   "metadata": {},
   "source": [
    "## Topics\n",
    "\n",
    "The main topic of this worksheet is **recursion with backtracking**, building on the maze-solving example from lecture.\n",
    "\n",
    "## Resources\n",
    "\n",
    "These things might be helpful while working on the problems.  Remember that for worksheets,  we don't strictly limit what resources you can consult, so these are only suggestions.\n",
    "\n",
    "* [Lecture 10 - Recursion vs iteration](http://dumas.io/teaching/2023/spring/mcs275/slides/lecture10.html)\n",
    "* [Lecture 11 - Recursion vs iteration II](http://dumas.io/teaching/2023/spring/mcs275/slides/lecture11.html)\n",
    "* [Lecture 12 - Recursion with backtracking](http://dumas.io/teaching/2023/spring/mcs275/slides/lecture13.html)\n",
    "* [maze.py](https://github.com/emilydumas/mcs275spring2023/blob/main/samplecode/recursion/maze.py)\n",
    "    * which uses [plane.py](https://github.com/emilydumas/mcs275spring2023/blob/main/samplecode/recursion/plane.py) , the old Point2/Vector2 module from week 2\n",
    "* [solvemaze.py](https://github.com/emilydumas/mcs275spring2023/blob/main/samplecode/recursion/solvemaze.py)\n",
    "* [Downey's book](https://greenteapress.com/thinkpython2/html/)\n",
    "* MCS 260 course materials from Fall 2021:\n",
    "    * [Slides, homework, worksheets, and projects](https://www.dumas.io/teaching/2021/fall/mcs260/)\n",
    "    * [Sample programs](https://github.com/emilydumas/mcs260fall2021/tree/main/samplecode)"
   ]
  },
  {
   "cell_type": "markdown",
   "metadata": {},
   "source": [
    "## 1. Learn a little more about `maze.py`\n",
    "\n",
    "This problem involves reading and learning more about the module `maze` we discussed in Lecture 15.  You'll use the things you learn about here in subsequent problems.\n",
    "\n",
    "In Lecture 11 we discussed a minimal way of using the module:\n",
    "* Create a `Maze` object (e.g. with `M = maze.Maze(xsize=7,ysize=7)`\n",
    "* Set some squares to blocked (using `M.set_blocked` for individual squares, and/or `M.apply_border` which makes all of the edge squares blocked)\n",
    "* Set the start and goal (`M.start` and `M.goal`) locations\n",
    "* Use a recursive backtracking function to find a path from the start to the goal\n",
    "The function created in the last step can be found in [solvemaze.py](https://github.com/emilydumas/mcs275spring2023/blob/main/samplecode/recursion/solvemaze.py).\n",
    "\n",
    "The module `maze` has several other features:\n",
    "\n",
    "#### Saving a maze as SVG file\n",
    "\n",
    "`Maze` objects have a method `save_svg(filename)` that writes a graphical representation of the maze to a file in the SVG format.  This is a vector graphics format (scalable, not pixel-based) that can be viewed in most web browsers.\n",
    "\n",
    "This method also accepts an optional argument `highlight`, which if given should be a list of `(x,y)` pairs that indicate squares in the maze that should be higlighted in light blue.  For example,\n",
    "```\n",
    "mymaze.save_svg(\"cool.svg\",highlight=[ Point2(2,1), Point2(3,1), Point2(4,1) ])\n",
    "```\n",
    "will save the maze to `cool.svg`, and highlight three squares in blue.  (This assumes you've already run `from plane import Point2` to get the `Point2` class.)\n",
    "\n",
    "The `highlight` argument is provided as a way to indicate the solution of a maze, or any other feature you might choose to display.\n",
    "\n",
    "#### Saving a maze as a PNG file\n",
    "\n",
    "For this feature, you need to install a module that isn't in Python's standard library.  The module `PIL` is from a package called *Pillow*, and is used to work with image files.  The following command should install it:\n",
    "```\n",
    "python3 -m pip install pillow\n",
    "```\n",
    "\n",
    "After installing Pillow, you can save a maze object as a PNG file (a bitmap graphics format supported by nearly every program that deals with images) using the `save_png` method.  Its arguments are:\n",
    "```\n",
    "save_png(filename,scale=1,highlight=[])\n",
    "```\n",
    "The argument `scale` is a positive integer controlling the width of each maze square in pixels.  The default, `scale=1`, will result in a tiny image file where each pixel is a maze square.  To get a reasonable size output image, try `scale=10` or `scale=30`.\n",
    "\n",
    "#### Random Mazes\n",
    "\n",
    "The class `PrimRandomMaze` inherits from `Maze` and automatically generates a random maze that has exactly one path from the start to the goal.  Its constructor takes only two arguments\n",
    "\n",
    "```\n",
    "PrimRandomMaze(xsize,ysize)\n",
    "```\n",
    "and both `xsize` and `ysize` must be **odd** numbers.  This random maze generator uses [Prim's algorithm](https://en.wikipedia.org/wiki/Prim%27s_algorithm), which is known for producing mazes of moderate difficulty, with many short dead ends."
   ]
  },
  {
   "cell_type": "markdown",
   "metadata": {},
   "source": [
    "## 2. Arbitrary size solved maze image script\n",
    "\n",
    "Upgrade the script part of `solvemaze` so it does the following:\n",
    "\n",
    "* If run with no command line arguments, it assumes the maze should have size `127x127`\n",
    "* If one command line argument if given, convert that to an integer `n` and us it as both `xsize` and `ysize`\n",
    "* If two command line arguments are given, convert them to integers and use the first as `xsize` and the second as `ysize`\n",
    "* Generate a Prim-algorithm random maze of the given size\n",
    "* Solve the maze by recursive backtracking\n",
    "* Write the solved maze (with solution highlighted) to a SVG file whose name involves the size (e.g. `maze127x127.svg`)\n",
    "\n",
    "Test the program, loading the SVG file it produces in a web browser.\n",
    "\n",
    "Also try the same but with a PNG file as the output image type.  You may need to adjust the `scale` keyword argument of `save_png` to make an image large enough to easily see.\n",
    "\n",
    "If everything works, your images should look a bit like [this](https://dumas.io/teaching/2023/spring/mcs275/slides/images/example-maze-solved.png)."
   ]
  },
  {
   "cell_type": "markdown",
   "metadata": {},
   "source": [
    "## 3. Solution history\n",
    "\n",
    "Add a new function `depth_first_maze_solution_history()` to `solvemaze.py` that works similarly to `depth_first_maze_solution()` but which returns a list of every path considered (rather than just a single path that is a solution).  Thus the last item in the returned list will be a solution, if a solution exists.\n",
    "\n",
    "Then, write a script that uses `depth_first_maze_solution_history` to do the following:\n",
    "* Take a command line argument, an odd integer `n`\n",
    "* Generate a random `n` by `n` maze\n",
    "* Solve the maze, keeping track of the history of paths considered\n",
    "* Save a sequence of output image files with names like `dfs001.png`, `dfs002.png`, etc., that highlight the paths considered by the solver\n",
    "\n",
    "Run this on a maze of moderate size (e.g. 9x9) and flip through the resulting images in your platform's image viewer to make a crude animation of the recursive process."
   ]
  },
  {
   "cell_type": "markdown",
   "metadata": {
    "scrolled": true
   },
   "source": [
    "## 4. Simple custom mazes\n",
    "\n",
    "Instead of using the `PrimRandomMaze` class to generate a maze, write your own subclass of `Maze` that creates a maze in which `start` and `goal` are set, the border is fully blocked, and so that it is possible to get from `start` to `goal`.  The constructor should create some obstacles between the start and goal, to make the maze more interesting.\n",
    "\n",
    "For example, you might make a class that simply places a large rectangle of blocked squares in the middle of the maze, so that a solution must either go along the top and right, or bottom and left.  Or you might make some walls coming out of the sides, so that a solution needs to turn back and forth several times.  Or you could make the start at the center, and surround it by walls that force any solution to take a spiral path out to a goal on the edge.\n",
    "\n",
    "The key characteristics you are looking for are:\n",
    "\n",
    "* Ability to generate a maze of a given size (specified as arguments to the constructor)\n",
    "* Certainty that the maze always has a solution\n",
    "\n",
    "It's OK for the constructor to decide a size is too small or is otherwise unacceptable, and raise an exception.  But to keep things interesting, it *should* allow arbitrarily large mazes.\n",
    "\n",
    "Write a script that instantiates your class and then uses `solvemaze` to find a solution.  Save the solved maze to a SVG file."
   ]
  },
  {
   "cell_type": "markdown",
   "metadata": {},
   "source": [
    "## 5. Guided choice of next step\n",
    "\n",
    "The version of `depth_first_maze_solution` we developed always considers its next possible steps in the order returned by `Maze.free_neighbors`, which in turn is dictated by the class attribute `neighbor_disps` of class `Maze`.  This always tries movement vectors in the following order: `[Vector2(-1, 0), Vector2(0, -1), Vector2(1, 0), Vector2(0, 1)]`\n",
    "\n",
    "This means that for mazes with multiple solutions, `depth_first_maze_solution` will always find the same solution and will do so by exhibiting a preference for moving in direction `Vector(-1,0)` whenever it is possible to do so, reverting to `Vector2(0,-1)` only when a dead end is reached, and so on.\n",
    "\n",
    "Modify `depth_first_maze_solution` so that it has an additional keyword argument called `strategy` which defaults to the string `\"fixed\"`.  Depending on the value of `strategy` it will consider possible next steps in a different order:\n",
    "* If `strategy` is `\"fixed\"`, it uses the order provided by `Maze.free_neighbors`.  That's what `depth_first_maze_solution` developed in lecture does.\n",
    "* If `strategy` is `\"random\"`, it considers the possible next steps provided by `Maze.free_neighbors` in a random order (see e.g. `random.shuffle` in Python's random module).  Thus, the solution found may vary from one call to the next, if the maze has multiple solutions.\n",
    "* If `strategy` is `\"closest\"`, then among all possible next steps, it tries them in order of increasing Euclidean distance to the goal.  That is, the first step it tries is the one that has the smallest distance to the goal among available steps.  Then it moves to the second-smallest distance, etc.\n",
    "\n",
    "Try these strategies on a maze that is wide open, having only walls on the edges, to compare their behavior."
   ]
  }
 ],
 "metadata": {
  "kernelspec": {
   "display_name": "Python 3 (ipykernel)",
   "language": "python",
   "name": "python3"
  },
  "language_info": {
   "codemirror_mode": {
    "name": "ipython",
    "version": 3
   },
   "file_extension": ".py",
   "mimetype": "text/x-python",
   "name": "python",
   "nbconvert_exporter": "python",
   "pygments_lexer": "ipython3",
   "version": "3.10.6"
  }
 },
 "nbformat": 4,
 "nbformat_minor": 4
}
