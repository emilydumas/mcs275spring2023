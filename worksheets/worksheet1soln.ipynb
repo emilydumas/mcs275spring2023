{
 "cells": [
  {
   "cell_type": "markdown",
   "metadata": {},
   "source": [
    "# MCS 275 Spring 2023 Worksheet 1 Solutions\n",
    "\n",
    "* Course instructor: Emily Dumas\n",
    "* Contributors to this document: Johnny Joyce, Kylash Viswanathan, Jennifer Vaccaro"
   ]
  },
  {
   "cell_type": "markdown",
   "metadata": {},
   "source": [
    "## Topics\n",
    "\n",
    "This worksheet covers some initial setup and installation of software, followed by some coding exercises that use material from prerequisite courses."
   ]
  },
  {
   "cell_type": "markdown",
   "metadata": {},
   "source": [
    "## Instructions\n",
    "* This isn't collected or graded.\n",
    "* If you took MCS 260 recently you may have some or all of the necessary tools installed already.  That's fine.  Be sure to test them out and read through the worksheet carefully to be sure you know what is assumed from now on."
   ]
  },
  {
   "cell_type": "markdown",
   "metadata": {},
   "source": [
    "## Part I: Setting up a development enviroment"
   ]
  },
  {
   "cell_type": "markdown",
   "metadata": {},
   "source": [
    "The tasks in this part of the worksheet expand on the Getting Started steps listed in the course web page.\n",
    "\n",
    "If you plan to use your own computer to complete MCS 275 work, you need to make sure some things are installed.  If you plan to use UIC lab computers to do all of your work, the necessary software should already be installed there (but these steps will verify that)."
   ]
  },
  {
   "cell_type": "markdown",
   "metadata": {},
   "source": [
    "### 1. Install Python"
   ]
  },
  {
   "cell_type": "markdown",
   "metadata": {},
   "source": [
    "You'll need Python 3, version 3.8 or higher, installed on your computer to develop code for MCS 275.  The recommended method of installation depends on your platform:\n",
    "* Windows:  Install from the Microsoft Store (https://apps.microsoft.com/store/detail/python-310/9PJPW5LDXLZ5)\n",
    "* MacOS: Most likely, Python 3 will be pre-installed; That's the case in all recent versions of MacOS. Check by running the command `python3` in a terminal.  If it is not already installed, we recommend installing using the packages from python.org:  https://www.python.org/downloads/\n",
    "* Linux: It is probably pre-installed.  If not, yse your distribution package manager to find and install the latest version of Python 3, and confirm that it is version 3.8 or higher."
   ]
  },
  {
   "cell_type": "markdown",
   "metadata": {},
   "source": [
    "### 2. Open a terminal"
   ]
  },
  {
   "cell_type": "markdown",
   "metadata": {},
   "source": [
    "We'll do almost everything in MCS 275 using a text- and keyboard-based interface to your operating system.  This takes the form of a *terminal*.  The exact name will depend on your operating system.  Test that you can find and open this program on your computer:\n",
    "* Windows: The terminals we support for MCS 275 are [**Windows Terminal**](https://apps.microsoft.com/store/detail/windows-terminal/9N0DX20HK701?hl=en-us&gl=us&rtc=1) (available for free from the Microsoft Store) and **Windows Powershell** (already installed if you have windows 7+).\n",
    "* MacOS: The terminal application is simply called **Terminal**, and is installed by default.\n",
    "* Linux: The name and method of starting a terminal application depends on the distribution.  In Ubuntu, the application menu will contain an entry simply called **Terminal**.\n",
    "\n",
    "Once you have a terminal open, check that you can list the files in the current directory with the command\n",
    "```\n",
    "ls\n",
    "```\n",
    "\n",
    "Retrieve the name of the current directory with the command\n",
    "```\n",
    "pwd\n",
    "```\n",
    "\n",
    "You can change to a new directory using the command\n",
    "```\n",
    "cd NEWDIRECTORY\n",
    "```\n",
    "replacing `NEWDIRECTORY` with the relative path or full path of the directory you want to move to. Typically, you'll want to move to the directory containing your Python programs as a first step in any work session.\n",
    "\n",
    "If you'd like a more detailed review of how files, paths, and directories work, check out these slides from the first lab in MCS 260:\n",
    "* [MCS 260 Fall 2021 Lab 1: Files and directories](https://www.dumas.io/teaching/2021/fall/mcs260/slides/week1discussion.html#/)"
   ]
  },
  {
   "cell_type": "markdown",
   "metadata": {},
   "source": [
    "### 3. Determine your interpreter name\n",
    "\n",
    "Now that you know how to start a terminal, you need to determine how to start Python 3 (version 3.8 or later), which you have installed at this point, from within the terminal.\n",
    "\n",
    "Most likely, one of these commands can be intered into the terminal to start Python 3:\n",
    "```\n",
    "python3\n",
    "python\n",
    "```\n",
    "\n",
    "It is possible that one of these commands might start a different programming language (Python 2), so it's important to look at what is printed when you run the command and find the one that opens Python 3.  Here is what it looked like in virtual lab last year:\n",
    "\n",
    "```\n",
    "PS C:\\windows\\system32\\WindowsPowerShell\\v1.0> python\n",
    "Python 3.9.1 (tags/v3.9.1:1e5d33e, Dec  7 2020, 17:08:21) [MSC v.1927 64 bit (AMD64)] on win32\n",
    "Type \"help\", \"copyright\", \"credits\" or \"license\" for more information.\n",
    ">>>\n",
    "```\n",
    "\n",
    "Note that this shows Python version 3.9.1.  The currently-installed version might be newer.\n",
    "\n",
    "At the `>>>` prompt that Python displays, you can type\n",
    "```\n",
    "exit()\n",
    "```\n",
    "to quit Python and go back to the terminal.\n",
    "\n",
    "The command you use to run Python 3 is your **interpreter name**.  Make note of it, because you'll use it a lot.  Since it will be different for each student, the instructions for subsequent tasks require you to know your interpreter name.  That is, any time you see `python` or `python3` appearing in a command that a worksheet suggests you run, you will need to replace it with your interpreter name."
   ]
  },
  {
   "cell_type": "markdown",
   "metadata": {},
   "source": [
    "### 4. Install Microsoft VS Code\n",
    "\n",
    "You'll need a programming text editor to work on MCS 275 assignments.  The one we support directly in the course, and which we ask everyone to install, is\n",
    "\n",
    "* [Microsoft VS Code](https://code.visualstudio.com/)\n",
    "\n",
    "This is a free program available for Windows, MacOS, and Linux.\n",
    "\n",
    "Install it using the instructions at the link above.\n",
    "\n",
    "(It is already installed in the Virtual Computer Lab.)\n",
    "\n",
    "After installing it, figure out how to start VS code, for example by using an icon on the desktop, the start menu, or whatever method your operating system uses to launch applications."
   ]
  },
  {
   "cell_type": "markdown",
   "metadata": {},
   "source": [
    "### 5. Write a short program in VS code\n",
    "\n",
    "Create a new file in VS code and paste the following text into it:\n",
    "\n",
    "```\n",
    "print(\"Hello world!\")\n",
    "x = 2**2023\n",
    "print(\"2 raised to the power 2023 is equal to\",x)\n",
    "```\n",
    "\n",
    "Save it with a filename `hello.py`.  When you save it, make note of where it ends up.  On Windows or MacOS, the default save location may be the Desktop, or the Documents folder.\n",
    "\n",
    "After you've saved the file, you can get a definitive answer about exactly where the file is stored on your computer as follows:  Right-click on the filename tab in the VS code window, and select \"Copy path\" from the menu that pops up.  Now, you can paste (Control-V) the filename into another application, such as the terminal. Try this.  The filename might look something like\n",
    "```\n",
    "C:\\Users\\ddumas\\Desktop\\hello.py\n",
    "```\n",
    "on Windows, or\n",
    "```\n",
    "/home/ddumas/Desktop/hello.py\n",
    "```\n",
    "on Linux.  The key point is that it shows the full name of the directory (e.g. `C:\\Users\\ddumas\\Desktop\\`) that contains the file."
   ]
  },
  {
   "cell_type": "markdown",
   "metadata": {},
   "source": [
    "### 6. Run your program in the terminal\n",
    "\n",
    "VS code may show you a button that can run a Python program; it's a green triangle in the upper right corner.  **Please don't use that button.**  If you do, it will work sometimes but fail in confusing ways at other times, because VS code runs your program with the working directory set to a different directory than the one that contains the source code. We'll also write a lot of programs that deal with command line arguments, which can't be run using that button.\n",
    "\n",
    "Open the terminal and change the working directory to the one containing the file `hello.py` you created in task 5.  The `cd` command is used to do this.  For example, on my Windows computer, the command to change directory is\n",
    "```\n",
    "cd C:\\Users\\ddumas\\Desktop\n",
    "```\n",
    "while on my Linux laptop it is instead\n",
    "```\n",
    "cd /home/ddumas/desktop\n",
    "```\n",
    "In general, the directory will be the initial part of the full path you get from VS code's \"Copy path\" menu option, all the way up to the last \"/\" or \"\\\" that appears in the path.\n",
    "\n",
    "* Potential \"gotcha\":  If the name of a file or directory contains spaces, you need to put the entire thing in quotation marks to use it with a command in the terminal, e.g.\n",
    "```\n",
    "cd C:\\Users\\ddumas\\Desktop\\MCS260   # ok\n",
    "cd C:\\Users\\ddumas\\Desktop\\MCS 260  # NOT OK\n",
    "cd \"C:\\Users\\ddumas\\Desktop\\MCS 260\" # ok\n",
    "```\n",
    "\n",
    "Confirm that you're in the right directory by asking for a list of files.  The terminal command for this is\n",
    "\n",
    "```\n",
    "ls\n",
    "```\n",
    "\n",
    "You should see `hello.py` in the output of that command.\n",
    "\n",
    "Once you're in the right directory, run the script `hello.py` using a command that consists of the interpreter name followed by the filename `hello.py`.  That means it will probably be one of these:\n",
    "\n",
    "```\n",
    "python3 hello.py\n",
    "python hello.py\n",
    "```\n",
    "\n",
    "If this works, you should see output similar to\n",
    "```\n",
    "Hello world!\n",
    "2 raised to the power 2023 is equal to 963121833542317369601573845406471251262548645428284526828835768327851746644612875378048462019053502788803516653832734212104068969204751285764221918179043624419894139984279754512017898273159626328827668380262481220865017731267802600915375183179264380651165421367773563947903391466768557089792263481734108493385146063258300495764165365295546337808852673629710735621386935094923561594142327134318905856137785813985574356271679918694447015294481691849341917432346559501502683303082591585074576786963085039546446281095048723669230856548339087909922753762884060607659880382812905450025751549153093939827557015748608\n",
    "```"
   ]
  },
  {
   "cell_type": "markdown",
   "metadata": {},
   "source": [
    "### 7. Download and run the \"python checkup\" script\n",
    "\n",
    "Now that you have your development environment set up, let's run a script that checks to make sure your Python version is as expected (3.8+) and that your process of running scripts in the terminal works.  Download this Python script and save it somewhere that you can find in the terminal:\n",
    "* [checkup.py](https://raw.githubusercontent.com/daviddumas/mcs275spring2023/main/samplecode/checkup.py)\n",
    "\n",
    "Now, open a terminal, `cd` to the directory containing `checkup.py`, and then run that script.  After you've changed directory, the command will probably be one of these:\n",
    "```\n",
    "python3 checkup.py\n",
    "python checkup.py\n",
    "```\n",
    "\n",
    "The script will print a bunch of messages to the terminal, and may give `WARNING:` or `ERROR:` messages if something looks wrong.  It will also try to display some emoji, shaded rectangles, and colored text, to check if your terminal supports these.  Here's what the output looks like on my linux computer:\n",
    "![output of checkup.py](images/ws1-checkup-output.png)\n",
    "\n",
    "If the script shows any warnings or errors, try to fix the issues using the suggestions printed to the terminal"
   ]
  },
  {
   "cell_type": "markdown",
   "metadata": {},
   "source": [
    "## Part II: Python Calisthenics\n",
    "\n",
    "This section gives a series of exercises (of roughly increasing complexity) in which you'll write programs that are based on things you are expected to have seen in a prerequisite course.  We'll talk about these in Lectures 2-3 as well, and the first quiz will cover the same kind of review material.\n",
    "\n",
    "These start very easy and build up."
   ]
  },
  {
   "cell_type": "markdown",
   "metadata": {},
   "source": [
    "### 8. Squares\n",
    "\n",
    "Create a simple program `squares.py` that prints the squares of the first 10 positive integers, so its output should look like\n",
    "```\n",
    "1\n",
    "4\n",
    "9\n",
    "...\n",
    "100\n",
    "```\n",
    "\n",
    "Then, add a feature to this program where it accepts an optional command line argument which is the largest integer whose square should be printed (while 10 remains the default if no argument is given).  Recall that command line arguments appear in the list `sys.argv` which is accessible after you import the `sys` module, and the items in this list are strings.  So `sys.argv[1]` would be a string containing the first word or number on the command line after the name of the script.\n",
    "\n",
    "Thus, for example, if you run the modified script as\n",
    "```\n",
    "python3 squares.py 3\n",
    "```\n",
    "then it would be expected to produce the output\n",
    "```\n",
    "1\n",
    "4\n",
    "9\n",
    "```"
   ]
  },
  {
   "cell_type": "markdown",
   "metadata": {},
   "source": [
    "### Solution"
   ]
  },
  {
   "cell_type": "code",
   "execution_count": null,
   "metadata": {},
   "outputs": [],
   "source": [
    "import sys\n",
    "\n",
    "max_int = int(sys.argv[1])\n",
    "\n",
    "for i in range(1, max_int + 1): # Use `max_int + 1` so that the loop includes the last squared number\n",
    "    print(i ** 2)"
   ]
  },
  {
   "cell_type": "markdown",
   "metadata": {},
   "source": [
    "### 9. Getting to know our coding standards\n",
    "\n",
    "Now that you've written a simple program from scratch, and have a full Python setup working, it's time to get acquainted with some code style rules.\n",
    "\n",
    "All code you submit for credit needs to follow the rules described in the \n",
    "* [MCS 275 Spring 2023 Coding Standards](https://www.dumas.io/teaching/2023/spring/mcs275/nbview/policies/codestd.html)\n",
    "These rules enforce good coding practices and ensure your programs are readable to both humans and computers.\n",
    "\n",
    "**Read that document now.**  Take your time, and ask the TA for help if you are unsure about any part of it.\n",
    "\n",
    "Then, take the program below (which works!) and fix it so that it does the same thing but complies with the MCS 275 rules.  (Note: The rules say you need to add a declaration stating that the program is your own work, or that it is derived solely from a template provided by the instructor.  That's because all graded work in MCS 275 is done individually.  Since this is a worksheet, collaboration is allowed, and in this case your declaration should instead list your collaborators.)\n",
    "\n",
    "```\n",
    "# I am a program that doesn't follow MCS 275 coding guidelines\n",
    "# Please fix me.\n",
    "def thing(x):\n",
    " return \"{} is one greater than {}\".format(x,x-1)\n",
    "\n",
    "def thing2(x):\n",
    "  return \"{} is one less than {}\".format(x,x+1)\n",
    "\n",
    "s = str(input(\"Please enter your name\"))\n",
    "print(\"Hello\",s,\", this is a sample Python program.\")\n",
    "\n",
    "ss = list(range(5))\n",
    "sss = [ x+5 for x in ss ]\n",
    "ssss = [ 10*x for x in sss ]\n",
    "\n",
    "for i in range(len(ssss)):\n",
    "      sssss = 'Some things that are true:\\n' + thing(ssss[i]) + \"\\n\" + thing2(ssss[i]) + '\\n\\n'\n",
    "      print(sssss)\n",
    "```"
   ]
  },
  {
   "cell_type": "markdown",
   "metadata": {},
   "source": [
    "### Solution"
   ]
  },
  {
   "cell_type": "markdown",
   "metadata": {},
   "source": [
    "The code below includes the following changes according to each coding standard:\n",
    "\n",
    "* **CS1:** Added a header\n",
    "* **CS2:** Added docstrings to the two functions\n",
    "* **CS3:** Added some comments where it's helpful\n",
    "* **CS4:** Renamed all variables and function names to be more helpful\n",
    "* **CS5:** Made all indentation consistent to 1 tab\n",
    "* **CS6:** Removed unnecessary type conversion on `name` variable\n",
    "* **CS7:** Removed `range(len(...))` in the final `for` loop"
   ]
  },
  {
   "cell_type": "code",
   "execution_count": null,
   "metadata": {},
   "outputs": [],
   "source": [
    "# MCS 275 Spring 2023 Worksheet 1\n",
    "# Johnny Joyce\n",
    "# I am the author of this work and I followed the rules outlined in the syllabus\n",
    "\n",
    "\n",
    "def one_greater_than(x):\n",
    "    \"\"\"Given a number `x`, returns string stating that x is one greater than x-1\"\"\"\n",
    "    return \"{} is one greater than {}\".format(x,x-1)\n",
    "\n",
    "def one_less_than(x):\n",
    "    \"\"\"Given a number `x`, returns string stating that x is one less than x+1\"\"\"\n",
    "    return \"{} is one less than {}\".format(x,x+1)\n",
    "\n",
    "name = input(\"Please enter your name\")\n",
    "print(\"Hello\", name, \", this is a sample Python program.\")\n",
    "\n",
    "# Lists renamed to describe what they contain\n",
    "zero_to_four = list(range(5))\n",
    "five_to_nine = [ x+5 for x in zero_to_four ]\n",
    "fifty_to_ninety = [ 10*x for x in five_to_nine ]\n",
    "\n",
    "for num in fifty_to_ninety: # `range(len(...))` removed\n",
    "    output_string = 'Some things that are true:\\n' + one_greater_than(num) + \"\\n\" + one_less_than(num) + '\\n\\n'\n",
    "    print(output_string)"
   ]
  },
  {
   "cell_type": "markdown",
   "metadata": {},
   "source": [
    "### 10. Thinking inside the box\n",
    "\n",
    "One of the nice things about Python is that strings can contain any Unicode character (as opposed to strings in some other programming languages where the set of available characters is much more limited).\n",
    "\n",
    "Some Unicode characters are made for drawing \"text graphics\" boxes, like this:\n",
    "```\n",
    "╔══════════╗ \n",
    "║  Look,   ║\n",
    "║  a box!  ║\n",
    "╚══════════╝ \n",
    "```\n",
    "The box drawing characters used above are:\n",
    "* `\\u2550`  or `═`\n",
    "* `\\u2551`  or `║`\n",
    "* `\\u2554` or `╔`\n",
    "* `\\u2557` or `╗`\n",
    "* `\\u255a`  or `╚`\n",
    "* `\\u255d`  or `╝`\n",
    "\n",
    "Write a program `box.py` that prints a unicode text box of specified width and height to an output text file.  It should expect three command line arguments.  The first, `sys.argv[1]`, will be the the output filename.  The other arguments are integers giving the width and height of the box.\n",
    "\n",
    "The program should open the output file for writing, and then write lines of text to that file that create the desired box.\n",
    "\n",
    "So, for example, the command\n",
    "```\n",
    "python box.py boxtest1.txt 3 4\n",
    "```\n",
    "should result in a file `boxtest1.txt` being created that contains the following text, exactly:\n",
    "```\n",
    "╔═╗\n",
    "║ ║\n",
    "║ ║\n",
    "╚═╝\n",
    "```\n",
    "(This box has a width of 3 characters and a height of 4 lines).\n",
    "Similarly, the command\n",
    "```\n",
    "python box.py boxtest2.txt 12 2\n",
    "```\n",
    "should result in a file `boxtest2.txt` being created that contains the following text, exactly:\n",
    "```\n",
    "╔══════════╗\n",
    "╚══════════╝\n",
    "```\n",
    "\n",
    "Recommended structure of your program:\n",
    "\n",
    "There are three different lines in the output file: The top of the box, the line that repeats some number of times to make the middle of the box, and the bottom of the box.\n",
    "\n",
    "I suggest you generate these three lines and store them in strings, and then use a loop to print the middle-of-box line the right number of times.\n",
    "\n",
    "To generate these strings, you can use the fact that multiplication of a string by an integer will repeat the string a certain number of times.  For example, `\"foo\"*3` evaluates to `\"foofoofoo\"`.\n",
    "\n",
    "It would be a good idea to put the part of the program that writes the boxto a file into a function which accepts a file object as its only argument.  That function should expect the file to already be opened for writing.\n",
    "\n",
    "Then, the main program would parse the command line arguments, open the output file, and call the function that saves the box."
   ]
  },
  {
   "cell_type": "markdown",
   "metadata": {},
   "source": [
    "### Solution"
   ]
  },
  {
   "cell_type": "code",
   "execution_count": null,
   "metadata": {},
   "outputs": [],
   "source": [
    "import sys\n",
    "\n",
    "outfile = sys.argv[1]\n",
    "width = int(sys.argv[2])\n",
    "height = int(sys.argv[3])\n",
    "\n",
    "\n",
    "def write_box_to_file(f):\n",
    "    \"\"\"Given an already-opened file f, writes the box to the file\"\"\"\n",
    "    \n",
    "    # Create the top of the box\n",
    "    # We subtract 2 from the width to account for the corners\n",
    "    f.write(\"╔\" + \"═\"*(width-2) + \"╗\")     # Looks like e.g.: ╔═════╗\n",
    "    f.write(\"\\n\") # Move to a new line\n",
    "    \n",
    "    # Create the left and right sides of the box\n",
    "    for i in range(height-2):\n",
    "        f.write(\"║\" + \" \"*(width-2) + \"║\") # Looks like e.g.: ║     ║\n",
    "        f.write(\"\\n\") # Move to a new line\n",
    "    \n",
    "    \n",
    "    # Create the bottom of the box\n",
    "    f.write(\"╚\" + \"═\"*(width-2) + \"╝\")     # Looks like e.g.: ╚═════╝\n",
    "    f.write(\"\\n\") # Move to a new line\n",
    "    \n",
    "    \n",
    "    \n",
    "# By setting encoding to UTF-8, we can use the Unicode characters as specified\n",
    "with open(outfile, \"w\", encoding=\"UTF-8\") as f:\n",
    "    write_box_to_file(f)"
   ]
  },
  {
   "cell_type": "markdown",
   "metadata": {},
   "source": [
    "## Bonus round"
   ]
  },
  {
   "cell_type": "markdown",
   "metadata": {},
   "source": [
    "Work on this more challenging exercise if you finish the rest of the worksheet before discussion ends.  The solutions to the worksheet won't include solutions for the bonus problem, but it's still good practice!"
   ]
  },
  {
   "cell_type": "markdown",
   "metadata": {},
   "source": [
    "### 11. Digits to word lengths\n",
    "\n",
    "Consider this process:  Start with a positive integer like \n",
    "> 2781\n",
    "\n",
    "Write out each digit as an english word:\n",
    "> two, seven, eight, one\n",
    "\n",
    "Then replace each word with its number of letters (e.g. \"two\" has 3 letters, \"seven\" as 5, etc.):\n",
    "> 3 5 5 3\n",
    "\n",
    "Use these numbers as digits of a new integer\n",
    "> 3553\n",
    "\n",
    "Finally, take the average of the new integer and the old one, and if the result is not an integer, round it down to the nearest integer:\n",
    "> (2781 + 3553) / 2 = 3167 (no rounding needed)\n",
    "\n",
    "**Write a Python function** `dwl(n)` that takes an integer `n` and returns the integer that results from this process.  So, for example we have:"
   ]
  },
  {
   "cell_type": "code",
   "execution_count": 3,
   "metadata": {},
   "outputs": [
    {
     "data": {
      "text/plain": [
       "3167"
      ]
     },
     "execution_count": 3,
     "metadata": {},
     "output_type": "execute_result"
    }
   ],
   "source": [
    "dwl(2781)"
   ]
  },
  {
   "cell_type": "markdown",
   "metadata": {},
   "source": [
    "Now, consider what happens when you apply this function over and over again, e.g. start with `n`, compute `dwl(n)`, then `dwl(dwl(n))`, then `dwl(dwl(dwl(n)))`, etc., to get a sequence.  For `2781` this sequence looks \n",
    "like:\n",
    "> 2781, 3167, 4251, 4297, 4321, 4427, 4431, 4442, 4442, 4442, 4442, ...\n",
    "\n",
    "It continues with `4442` repeating forever.\n",
    "\n",
    "That's what happened when starting with `2781`, but what happens when you do the same thing but start with a different value of `n`?  Does it always seem to end up repeating some number over and over again?"
   ]
  }
 ],
 "metadata": {
  "kernelspec": {
   "display_name": "Python 3 (ipykernel)",
   "language": "python",
   "name": "python3"
  },
  "language_info": {
   "codemirror_mode": {
    "name": "ipython",
    "version": 3
   },
   "file_extension": ".py",
   "mimetype": "text/x-python",
   "name": "python",
   "nbconvert_exporter": "python",
   "pygments_lexer": "ipython3",
   "version": "3.8.12"
  }
 },
 "nbformat": 4,
 "nbformat_minor": 4
}
