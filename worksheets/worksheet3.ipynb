{
 "cells": [
  {
   "cell_type": "markdown",
   "metadata": {},
   "source": [
    "# MCS 275 Spring 2022 Worksheet 3\n",
    "\n",
    "* Course instructor: Emily Dumas"
   ]
  },
  {
   "cell_type": "markdown",
   "metadata": {},
   "source": [
    "## Topics\n",
    "\n",
    "This worksheet deviates from the original plan in order to account for the lost week of lecture time during the UICUF strike (Jan 17-22, 2023).\n",
    "\n",
    "It includes some material on object-oriented programming, based on the discussion from the end of our Python tour (lecture 3) and the material on operator overloading in lecture 4.\n",
    "\n",
    "Some of you will complete this worksheet after lecture 5, but that material will be covered on worksheet 4.  In general, each worksheet after this one will focus on the previous week's lecture material.  Usually that will mean 3 lectures of material is available for exploration on a worksheet."
   ]
  },
  {
   "cell_type": "markdown",
   "metadata": {},
   "source": [
    "## Resources\n",
    "\n",
    "These things might be helpful while working on the problems.  Remember that for worksheets,  we don't strictly limit what resources you can consult, so these are only suggestions.\n",
    "\n",
    "* [Lecture 4 - Operator Overloading](https://www.dumas.io/teaching/2023/spring/mcs275/slides/lecture4.html)\n",
    "* [MCS 275 Python Tour](https://www.dumas.io/teaching/2023/spring/mcs275/nbview/samplecode/python_tour.html)\n",
    "* [Downey's book](https://greenteapress.com/thinkpython2/html/)\n",
    "* MCS 260 course materials from Fall 2021:\n",
    "    * [Slides, homework, worksheets, and projects](https://www.dumas.io/teaching/2021/fall/mcs260/)\n",
    "    * [Sample programs](https://github.com/emilydumas/mcs260fall2021/tree/main/samplecode)"
   ]
  },
  {
   "cell_type": "markdown",
   "metadata": {},
   "source": [
    "## 1. Adding features to the `plane` module\n",
    "\n",
    "First, download the `plane.py` module we wrote in lecture and save it somewhere you can find in the terminal and in VS code:\n",
    "\n",
    "* [plane.py](https://raw.githubusercontent.com/daviddumas/mcs275spring2023/main/samplecode/oop/plane.py) - download from the course sample code repo\n",
    "\n",
    "It has a couple of features we didn't discuss in lecture, such as scalar multiplication, e.g."
   ]
  },
  {
   "cell_type": "code",
   "execution_count": 3,
   "metadata": {},
   "outputs": [
    {
     "data": {
      "text/plain": [
       "Vector2(10,50)"
      ]
     },
     "execution_count": 3,
     "metadata": {},
     "output_type": "execute_result"
    }
   ],
   "source": [
    "v = plane.Vector2(1,5)\n",
    "v*10  # test out Vector2.__mul__"
   ]
  },
  {
   "cell_type": "markdown",
   "metadata": {},
   "source": [
    "and the reflected version, where the scalar comes before the vector but the vector object still handles the computation:"
   ]
  },
  {
   "cell_type": "code",
   "execution_count": 4,
   "metadata": {},
   "outputs": [
    {
     "data": {
      "text/plain": [
       "Vector2(5,25)"
      ]
     },
     "execution_count": 4,
     "metadata": {},
     "output_type": "execute_result"
    }
   ],
   "source": [
    "5*v  # test out Vector2.__rmul__"
   ]
  },
  {
   "cell_type": "markdown",
   "metadata": {},
   "source": [
    "I've also added unary plus and minus for vectors:"
   ]
  },
  {
   "cell_type": "code",
   "execution_count": 5,
   "metadata": {},
   "outputs": [
    {
     "data": {
      "text/plain": [
       "Vector2(-1,-5)"
      ]
     },
     "execution_count": 5,
     "metadata": {},
     "output_type": "execute_result"
    }
   ],
   "source": [
    "-v  # negates all components"
   ]
  },
  {
   "cell_type": "code",
   "execution_count": 6,
   "metadata": {},
   "outputs": [
    {
     "data": {
      "text/plain": [
       "Vector2(1,5)"
      ]
     },
     "execution_count": 6,
     "metadata": {},
     "output_type": "execute_result"
    }
   ],
   "source": [
    "+v  # same as v"
   ]
  },
  {
   "cell_type": "markdown",
   "metadata": {},
   "source": [
    "Finally, there is now a method `__abs__` that makes it so `abs(v)` returns a float which is the length of the vector `v`.  It's natural to use `abs` for this since in mathematics, both the length of a vector and the absolute value of a real number are referred to as the \"magnitude\" of the corresponding object."
   ]
  },
  {
   "cell_type": "code",
   "execution_count": 9,
   "metadata": {},
   "outputs": [
    {
     "data": {
      "text/plain": [
       "5.0990195135927845"
      ]
     },
     "execution_count": 9,
     "metadata": {},
     "output_type": "execute_result"
    }
   ],
   "source": [
    "abs(v)"
   ]
  },
  {
   "cell_type": "markdown",
   "metadata": {},
   "source": [
    "This means you can find the distance between two points using `abs(P-Q)`!"
   ]
  },
  {
   "cell_type": "code",
   "execution_count": 11,
   "metadata": {},
   "outputs": [
    {
     "data": {
      "text/plain": [
       "5.0"
      ]
     },
     "execution_count": 11,
     "metadata": {},
     "output_type": "execute_result"
    }
   ],
   "source": [
    "# Distance from (1,2) to (4,6) should be 5\n",
    "abs( plane.Point2(1,2) - plane.Point2(4,6) )"
   ]
  },
  {
   "cell_type": "markdown",
   "metadata": {},
   "source": [
    "However, some things are missing, and this problem asks you to add them."
   ]
  },
  {
   "cell_type": "markdown",
   "metadata": {},
   "source": [
    "### A. Vector subtraction\n",
    "\n",
    "At the moment, vectors support addition but not subtraction.  Fix that.  The difference of two vectors `u-v` should give a new vector with the property that `(u-v)+v` is equal to `u`."
   ]
  },
  {
   "cell_type": "code",
   "execution_count": 8,
   "metadata": {},
   "outputs": [
    {
     "ename": "TypeError",
     "evalue": "unsupported operand type(s) for -: 'Vector2' and 'Vector2'",
     "output_type": "error",
     "traceback": [
      "\u001b[0;31m---------------------------------------------------------------------------\u001b[0m",
      "\u001b[0;31mTypeError\u001b[0m                                 Traceback (most recent call last)",
      "\u001b[0;32m/tmp/ipykernel_198085/1335678657.py\u001b[0m in \u001b[0;36m<module>\u001b[0;34m\u001b[0m\n\u001b[0;32m----> 1\u001b[0;31m \u001b[0mv\u001b[0m\u001b[0;34m-\u001b[0m\u001b[0mv\u001b[0m  \u001b[0;31m# subtraction doesn't work yet\u001b[0m\u001b[0;34m\u001b[0m\u001b[0;34m\u001b[0m\u001b[0m\n\u001b[0m",
      "\u001b[0;31mTypeError\u001b[0m: unsupported operand type(s) for -: 'Vector2' and 'Vector2'"
     ]
    }
   ],
   "source": [
    "v-v  # subtraction doesn't work yet"
   ]
  },
  {
   "cell_type": "markdown",
   "metadata": {},
   "source": [
    "### B. Boolean coercion"
   ]
  },
  {
   "cell_type": "markdown",
   "metadata": {},
   "source": [
    "The special method `__bool__` decides whether an object evaluates to `True` or `False` if used in a place where a boolean is expected (e.g. `if A:` is equivalent to `if A.__bool__():`).\n",
    "\n",
    "For numbers in Python, zero converts to False and all other numbers convert to True.\n",
    "\n",
    "It would be natural to make `Vector2` objects behave similarly, where the zero vector (with components `0,0`) evaluates to `False` and all other vectors evaluate to `True`.\n",
    "\n",
    "Add a `__bool__` method to the `Vector2` class for this purpose.  You can find more info about the `__bool__` method at [`https://docs.python.org/3/reference/datamodel.html#object.__bool__`](https://docs.python.org/3/reference/datamodel.html#object.__bool__)"
   ]
  },
  {
   "cell_type": "markdown",
   "metadata": {},
   "source": [
    "### C. Indexed item access\n",
    "\n",
    "If `v` is a vector or point, we can get the x component with `v.x`.  In some cases, it might be natural to also treat the vector or point like a list and retrieve the x component with `v[0]`.  Similarly, we'd want `v[1]` to give the y component.\n",
    "\n",
    "Thankfully, Python translates `v[i]` into the method call `v.__getitem__(i)`, so this is possible!  Write a `__getitem__` method for the `Vector2` and `Point2` classes so that index 0 gives the x component, index 1 gives the y component, and any other index raises the same type of error (`IndexError`) you get when you ask for an invalid index from a list:"
   ]
  },
  {
   "cell_type": "markdown",
   "metadata": {},
   "source": [
    "## 2. `Antistr`\n",
    "\n",
    "In Physics, antimatter refers to a type of matter composed of particles that are \"opposite\" of the ones that make up the majority of the matter around us.  For example, there are antiprotons, antielectrons (positrons), etc..\n",
    "\n",
    "When a particle collides with its corresponding antiparticle, the two particles annihilate and a huge amount of energy is released.  (For this reason, keeping any amount of antimatter around is both dangerous and difficult.)\n",
    "\n",
    "Make a class `Antistr` that behaves like an \"antimatter\" to ordinary Python strings:  An `Antistr` can be created from a string, but then represents the sequence of \"anticharacters\" of all the characters in the string.\n",
    "\n",
    "Adding strings is like putting matter together.  Usually, when you add two Python strings you just get a longer string obtained by joining the two strings together:"
   ]
  },
  {
   "cell_type": "code",
   "execution_count": 15,
   "metadata": {},
   "outputs": [
    {
     "data": {
      "text/plain": [
       "'vanilla'"
      ]
     },
     "execution_count": 15,
     "metadata": {},
     "output_type": "execute_result"
    }
   ],
   "source": [
    "\"van\" + \"illa\""
   ]
  },
  {
   "cell_type": "markdown",
   "metadata": {},
   "source": [
    "But if you add a Python string to the corresponding antistring (`Antistr`), they should annihilate and release energy.  This should correspond to the message \"BOOM!\" being printed on the terminal, and an empty string being returned:"
   ]
  },
  {
   "cell_type": "code",
   "execution_count": 31,
   "metadata": {},
   "outputs": [
    {
     "name": "stdout",
     "output_type": "stream",
     "text": [
      "BOOM!\n"
     ]
    },
    {
     "data": {
      "text/plain": [
       "''"
      ]
     },
     "execution_count": 31,
     "metadata": {},
     "output_type": "execute_result"
    }
   ],
   "source": [
    "Antistr(\"quail\") + \"quail\"  # prints a message about energy release, then returns empty str"
   ]
  },
  {
   "cell_type": "code",
   "execution_count": 25,
   "metadata": {},
   "outputs": [
    {
     "name": "stdout",
     "output_type": "stream",
     "text": [
      "BOOM!\n"
     ]
    },
    {
     "data": {
      "text/plain": [
       "''"
      ]
     },
     "execution_count": 25,
     "metadata": {},
     "output_type": "execute_result"
    }
   ],
   "source": [
    "\"shark\" + Antistr(\"shark\")"
   ]
  },
  {
   "cell_type": "markdown",
   "metadata": {},
   "source": [
    "More generally, it should be possible for an antistring to annihilate just part of a string, as long as the string ends with or begins with the same characters as are in the antistring:"
   ]
  },
  {
   "cell_type": "code",
   "execution_count": 27,
   "metadata": {},
   "outputs": [
    {
     "name": "stdout",
     "output_type": "stream",
     "text": [
      "BOOM!\n"
     ]
    },
    {
     "data": {
      "text/plain": [
       "'car'"
      ]
     },
     "execution_count": 27,
     "metadata": {},
     "output_type": "execute_result"
    }
   ],
   "source": [
    "\"carpet\" + Antistr(\"pet\")  # anti-pet annihilates pet, leaving just car"
   ]
  },
  {
   "cell_type": "code",
   "execution_count": 28,
   "metadata": {},
   "outputs": [
    {
     "name": "stdout",
     "output_type": "stream",
     "text": [
      "BOOM!\n"
     ]
    },
    {
     "data": {
      "text/plain": [
       "'inspired'"
      ]
     },
     "execution_count": 28,
     "metadata": {},
     "output_type": "execute_result"
    }
   ],
   "source": [
    "Antistr(\"un\") + \"uninspired\""
   ]
  },
  {
   "cell_type": "markdown",
   "metadata": {},
   "source": [
    "However, if any anticharacters are left over in this process (don't annihilate identical characters from the string), then an exception should be raised."
   ]
  },
  {
   "cell_type": "code",
   "execution_count": 30,
   "metadata": {},
   "outputs": [
    {
     "ename": "ValueError",
     "evalue": "Operation results in dangerous unshielded antistring",
     "output_type": "error",
     "traceback": [
      "\u001b[0;31m---------------------------------------------------------------------------\u001b[0m",
      "\u001b[0;31mValueError\u001b[0m                                Traceback (most recent call last)",
      "\u001b[0;32m/tmp/ipykernel_198085/633364138.py\u001b[0m in \u001b[0;36m<module>\u001b[0;34m\u001b[0m\n\u001b[1;32m      1\u001b[0m \u001b[0;31m# time and anti-time annihilate, but antistring \" for a snack\" is left\u001b[0m\u001b[0;34m\u001b[0m\u001b[0;34m\u001b[0m\u001b[0m\n\u001b[1;32m      2\u001b[0m \u001b[0;31m# and that is an error\u001b[0m\u001b[0;34m\u001b[0m\u001b[0;34m\u001b[0m\u001b[0m\n\u001b[0;32m----> 3\u001b[0;31m \u001b[0;34m\"extensive downtime\"\u001b[0m \u001b[0;34m+\u001b[0m \u001b[0mAntistr\u001b[0m\u001b[0;34m(\u001b[0m\u001b[0;34m\"time for a snack\"\u001b[0m\u001b[0;34m)\u001b[0m\u001b[0;34m\u001b[0m\u001b[0;34m\u001b[0m\u001b[0m\n\u001b[0m",
      "\u001b[0;32m/tmp/ipykernel_198085/2992101141.py\u001b[0m in \u001b[0;36m__radd__\u001b[0;34m(self, other)\u001b[0m\n\u001b[1;32m     15\u001b[0m                 \u001b[0;32mreturn\u001b[0m \u001b[0mother\u001b[0m\u001b[0;34m[\u001b[0m\u001b[0;34m:\u001b[0m\u001b[0;34m-\u001b[0m\u001b[0mlen\u001b[0m\u001b[0;34m(\u001b[0m\u001b[0mself\u001b[0m\u001b[0;34m.\u001b[0m\u001b[0ms\u001b[0m\u001b[0;34m)\u001b[0m\u001b[0;34m]\u001b[0m\u001b[0;34m\u001b[0m\u001b[0;34m\u001b[0m\u001b[0m\n\u001b[1;32m     16\u001b[0m             \u001b[0;32melse\u001b[0m\u001b[0;34m:\u001b[0m\u001b[0;34m\u001b[0m\u001b[0;34m\u001b[0m\u001b[0m\n\u001b[0;32m---> 17\u001b[0;31m                 \u001b[0;32mraise\u001b[0m \u001b[0mValueError\u001b[0m\u001b[0;34m(\u001b[0m\u001b[0;34m\"Operation results in dangerous unshielded antistring\"\u001b[0m\u001b[0;34m)\u001b[0m\u001b[0;34m\u001b[0m\u001b[0;34m\u001b[0m\u001b[0m\n\u001b[0m",
      "\u001b[0;31mValueError\u001b[0m: Operation results in dangerous unshielded antistring"
     ]
    }
   ],
   "source": [
    "# time and anti-time annihilate, but antistring \" for a snack\" is left \n",
    "# and that is an error\n",
    "\"extensive downtime\" + Antistr(\"time for a snack\") "
   ]
  },
  {
   "cell_type": "markdown",
   "metadata": {},
   "source": [
    "To do this, you'll need to have suitable `__add__` and `__radd__` methods in your `Antistr` class, as well as a constructor that accepts a string."
   ]
  },
  {
   "cell_type": "markdown",
   "metadata": {},
   "source": [
    "## 3. Thermostat model\n",
    "\n",
    "This exercise is about making a class that can change state depending on a specified pattern of responses to external input.  It's not about operator overloading.\n",
    "\n",
    "Imagine a simplified thermostat that controls heating and cooling of a hotel room.  The physical interface might look like this:\n",
    "![](images/ws3-thermostat.png)\n",
    "\n",
    "It has three buttons:  `\"up\"`, `\"down\"`, and `\"mode\"`.  It keeps track of the user's desired temperature, the room temperature (which isn't shown), and it can turn two devices on or off: a heater and an air conditioner.\n",
    "\n",
    "Pressing `\"up\"` increases the desired temperature by one degree, unless the system is in \"off\" mode in which case it does nothing.\n",
    "\n",
    "Pressing `\"down\"` increases the desired temperature by one degree, unless the system is in \"off\" mode in which case it does nothing.\n",
    "\n",
    "Pressing `\"mode\"` button cycles between operating modes in this order: heat -> cool -> auto -> off (after which it repeats the cycle, going back to heat).\n",
    "When the system is in heat, cool, or auto mode, it shows the desired temperature on its display panel.  But in off mode, it knows the most recently set desired temperature, but does not show it on the display.\n",
    "\n",
    "The mode, desired temp, and room temp determine what the thermostat does as follows:\n",
    "* If the system is in Heat or Auto mode, the heater is turned on exactly when the room temperature is lower than the desired temperature; in any other mode, the heater is off.\n",
    "* If the system is in Cool or Auto mode, the AC is turned on exactly when the room temperature is higher than the desired temperature; in any other mode, the AC if off.\n",
    "\n",
    "Write a class `Thermostat` with the following attributes and methods that can be used to simulate this system:\n",
    "* `ac_is_on` - attribute, a boolean, always indicating whether the AC is turned on\n",
    "* `heat_is_on` - attribute, a boolean, always indicating whether the heater is turned on\n",
    "* `__init__(self)` - method, initializes a new thermostat in which the mode is `\"off\"`, and both the room and the desired temperature are `68`.\n",
    "* `room_temp(self,x)` - method, tells the thermostat that the room temperature is `x` and have it react accordingly.\n",
    "* `press(self,btn)` - method, simulates the press of a button; the value of `btn` should be one of `\"up\"`, `\"down\"`, or `\"mode\"`.\n",
    "* `get_display(self)` -  method, retrieves the text currently displayed on the control panel, in one of these formats:\n",
    "    * `\"72/cool\"` in cool mode (with 72 being the desired temp)\n",
    "    * `\"65/heat\"` in heat mode (with 65 being the desired temp)\n",
    "    * `\"70/auto\"` in auto mode (with 70 being the desired temp)\n",
    "    * `\"--/off\"` in off mode\n",
    "* `__str__(self)` and `__repr__(self)` - methods that return the same thing, a string in this format:\n",
    "```\n",
    "Thermostat(mode=\"off\",display=\"--/off\",room=68,desired=68,ac_is_on=False,heat_is_on=False)\n",
    "```\n",
    "\n",
    "Hints:\n",
    "* Have attributes of the class that represent its current state (i.e. mode, room temp, desired temp)\n",
    "* The response to button presses will behave differently depending on aspects of that state, and may modify the state attributes\n",
    "\n",
    "Below is an example of using the class, with commentary."
   ]
  },
  {
   "cell_type": "code",
   "execution_count": 164,
   "metadata": {},
   "outputs": [
    {
     "name": "stdout",
     "output_type": "stream",
     "text": [
      "Thermostat(mode=\"off\",display=\"--/off\",room=68,desired=68,ac_is_on=False,heat_is_on=False)\n"
     ]
    }
   ],
   "source": [
    "T = Thermostat()\n",
    "print(T) # Shows initial state"
   ]
  },
  {
   "cell_type": "code",
   "execution_count": 165,
   "metadata": {},
   "outputs": [
    {
     "name": "stdout",
     "output_type": "stream",
     "text": [
      "Thermostat(mode=\"off\",display=\"--/off\",room=68,desired=68,ac_is_on=False,heat_is_on=False)\n"
     ]
    }
   ],
   "source": [
    "T.press(\"up\") # In \"off\" mode, pressing up does nothing.  Still set to 68\n",
    "print(T)"
   ]
  },
  {
   "cell_type": "code",
   "execution_count": 166,
   "metadata": {},
   "outputs": [
    {
     "name": "stdout",
     "output_type": "stream",
     "text": [
      "Thermostat(mode=\"heat\",display=\"68/heat\",room=68,desired=68,ac_is_on=False,heat_is_on=False)\n"
     ]
    }
   ],
   "source": [
    "T.press(\"mode\") # Cycle from \"off\" to \"heat\" mode\n",
    "# Room still at desired temp, so heater and AC are both off\n",
    "print(T)"
   ]
  },
  {
   "cell_type": "code",
   "execution_count": 167,
   "metadata": {},
   "outputs": [
    {
     "name": "stdout",
     "output_type": "stream",
     "text": [
      "68/heat\n"
     ]
    }
   ],
   "source": [
    "print(T.get_display())  # Show just what would be on the display"
   ]
  },
  {
   "cell_type": "code",
   "execution_count": 168,
   "metadata": {},
   "outputs": [
    {
     "name": "stdout",
     "output_type": "stream",
     "text": [
      "Thermostat(mode=\"heat\",display=\"68/heat\",room=67,desired=68,ac_is_on=False,heat_is_on=True)\n"
     ]
    }
   ],
   "source": [
    "T.room_temp(67) # Temp now too low, so the heater will turn on\n",
    "print(T)"
   ]
  },
  {
   "cell_type": "code",
   "execution_count": 169,
   "metadata": {},
   "outputs": [
    {
     "name": "stdout",
     "output_type": "stream",
     "text": [
      "Thermostat(mode=\"heat\",display=\"67/heat\",room=67,desired=67,ac_is_on=False,heat_is_on=False)\n"
     ]
    }
   ],
   "source": [
    "T.press(\"down\") # Desired temp goes down, now equal to room temp, so heater off\n",
    "print(T)"
   ]
  },
  {
   "cell_type": "code",
   "execution_count": 170,
   "metadata": {},
   "outputs": [
    {
     "name": "stdout",
     "output_type": "stream",
     "text": [
      "Thermostat(mode=\"cool\",display=\"67/cool\",room=67,desired=67,ac_is_on=False,heat_is_on=False)\n"
     ]
    }
   ],
   "source": [
    "T.press(\"mode\") # Cycle from \"heat\" to \"cool\" mode.  Heater and AC off.\n",
    "print(T)"
   ]
  },
  {
   "cell_type": "code",
   "execution_count": 171,
   "metadata": {},
   "outputs": [
    {
     "name": "stdout",
     "output_type": "stream",
     "text": [
      "Thermostat(mode=\"auto\",display=\"67/auto\",room=67,desired=67,ac_is_on=False,heat_is_on=False)\n"
     ]
    }
   ],
   "source": [
    "T.press(\"mode\") # Cycle from \"cool\" to \"auto\" mode.  Heater and AC off.\n",
    "print(T)"
   ]
  },
  {
   "cell_type": "code",
   "execution_count": 172,
   "metadata": {},
   "outputs": [
    {
     "name": "stdout",
     "output_type": "stream",
     "text": [
      "Thermostat(mode=\"auto\",display=\"67/auto\",room=72,desired=67,ac_is_on=True,heat_is_on=False)\n"
     ]
    }
   ],
   "source": [
    "T.room_temp(72) # Room temp is now too high, AC will turn on.\n",
    "print(T)"
   ]
  },
  {
   "cell_type": "code",
   "execution_count": 173,
   "metadata": {},
   "outputs": [
    {
     "name": "stdout",
     "output_type": "stream",
     "text": [
      "Thermostat(mode=\"auto\",display=\"67/auto\",room=59,desired=67,ac_is_on=False,heat_is_on=True)\n"
     ]
    }
   ],
   "source": [
    "T.room_temp(59) # Room temp is now too low, heater will turn on.\n",
    "print(T)"
   ]
  },
  {
   "cell_type": "code",
   "execution_count": 174,
   "metadata": {},
   "outputs": [
    {
     "name": "stdout",
     "output_type": "stream",
     "text": [
      "Thermostat(mode=\"auto\",display=\"66/auto\",room=59,desired=66,ac_is_on=False,heat_is_on=True)\n",
      "Thermostat(mode=\"auto\",display=\"65/auto\",room=59,desired=65,ac_is_on=False,heat_is_on=True)\n",
      "Thermostat(mode=\"auto\",display=\"64/auto\",room=59,desired=64,ac_is_on=False,heat_is_on=True)\n",
      "Thermostat(mode=\"auto\",display=\"63/auto\",room=59,desired=63,ac_is_on=False,heat_is_on=True)\n",
      "Thermostat(mode=\"auto\",display=\"62/auto\",room=59,desired=62,ac_is_on=False,heat_is_on=True)\n",
      "Thermostat(mode=\"auto\",display=\"61/auto\",room=59,desired=61,ac_is_on=False,heat_is_on=True)\n",
      "Thermostat(mode=\"auto\",display=\"60/auto\",room=59,desired=60,ac_is_on=False,heat_is_on=True)\n",
      "Thermostat(mode=\"auto\",display=\"59/auto\",room=59,desired=59,ac_is_on=False,heat_is_on=False)\n",
      "Thermostat(mode=\"auto\",display=\"58/auto\",room=59,desired=58,ac_is_on=True,heat_is_on=False)\n",
      "Thermostat(mode=\"auto\",display=\"57/auto\",room=59,desired=57,ac_is_on=True,heat_is_on=False)\n"
     ]
    }
   ],
   "source": [
    "# Repeatedly lower the desired temp while in auto mode\n",
    "# For a while, heat will stay on.\n",
    "# Then the room temp and desired temp will be equal, and both heat and AC will be off\n",
    "# Then the room temp will be higher than the desired temp, and the AC will turn on\n",
    "for i in range(10):\n",
    "    T.press(\"down\")\n",
    "    print(T)"
   ]
  }
 ],
 "metadata": {
  "kernelspec": {
   "display_name": "Python 3 (ipykernel)",
   "language": "python",
   "name": "python3"
  },
  "language_info": {
   "codemirror_mode": {
    "name": "ipython",
    "version": 3
   },
   "file_extension": ".py",
   "mimetype": "text/x-python",
   "name": "python",
   "nbconvert_exporter": "python",
   "pygments_lexer": "ipython3",
   "version": "3.10.6"
  }
 },
 "nbformat": 4,
 "nbformat_minor": 4
}
