{
 "cells": [
  {
   "cell_type": "markdown",
   "metadata": {},
   "source": [
    "# MCS 275 Spring 2022 Worksheet 7 Solutions\n",
    "\n",
    "* Course instructor: Emily Dumas\n",
    "* Contributors to this document: Johnny Joyce, Kylash Viswanathan"
   ]
  },
  {
   "cell_type": "markdown",
   "metadata": {},
   "source": [
    "## Topics\n",
    "\n",
    "The main topic of this worksheet is **sorting**, and the recursive algorithms for sorting we covered in Lectures 13 and 14.\n",
    "\n",
    "## Resources\n",
    "\n",
    "These things might be helpful while working on the problems.  Remember that for worksheets,  we don't strictly limit what resources you can consult, so these are only suggestions.\n",
    "\n",
    "* [Lecture 13 - Mergesort](http://dumas.io/teaching/2023/spring/mcs275/slides/lecture13.html)\n",
    "* [Lecture 14 - Quicksort](http://dumas.io/teaching/2023/spring/mcs275/slides/lecture14.html)\n",
    "* [Lecture 15 - Comparison sorts](http://dumas.io/teaching/2023/spring/mcs275/slides/lecture15.html)\n",
    "* [sorts.py](https://github.com/emilydumas/mcs275spring2023/blob/main/samplecode/recursion/sorts.py)\n",
    "* [sortdemo.ipynb](https://github.com/emilydumas/mcs275spring2023/blob/main/samplecode/recursion/sortdemo.ipynb)\n",
    "* [Downey's book](https://greenteapress.com/thinkpython2/html/)\n",
    "* MCS 260 course materials from Fall 2021:\n",
    "    * [Slides, homework, worksheets, and projects](https://www.dumas.io/teaching/2021/fall/mcs260/)\n",
    "    * [Sample programs](https://github.com/emilydumas/mcs260fall2021/tree/main/samplecode)"
   ]
  },
  {
   "cell_type": "markdown",
   "metadata": {},
   "source": [
    "### 1. Merge sorted stacks\n",
    "\n",
    "Recall that a *stack* is a data structure that mimics a physical stack of items, where the only available operations are to remove the top item (\"pop\") or add a new item to the top (\"push\").\n",
    "\n",
    "In Python, you can simulate a stack using a list by limiting yourself to only calling the methods\n",
    "* `.pop()` for the stack pop operation, and\n",
    "* `.append(x)` for the stack push operation\n",
    "In this way, the end of the list becomes the top of the stack.\n",
    "\n",
    "In mergesort, the main step was to create a function that can merge two sorted lists.  We made a version of this that uses indexing by integers.  However, the algorithm for merging two sorted lists only ever needs to look at the \"next\" item from each of the lists, meaning it can also be implemented using stacks.\n",
    "\n",
    "Make a function `merge_sorted_stacks(A,B,S)` that takes two stacks `A` and `B` whose elements are in sorted order, with the top of each stack being the smallest element, and an initially empty stack `S`.  The function should merge the two stacks into a single reverse-sorted stack `S`.  It can destroy `A` and `B` as it does so.\n",
    "\n",
    "Remember, `A`, `B`, and `S` will actually be Python list objects.  The only thing that makes them stacks is that you won't use any methods or operations on them except `.pop()` and `.append(x)`.\n",
    "\n",
    "For example, `merge_sorted_stacks` should function as follows:"
   ]
  },
  {
   "cell_type": "code",
   "execution_count": 3,
   "metadata": {},
   "outputs": [
    {
     "data": {
      "text/plain": [
       "[0, 1, 2, 3, 3, 4, 5, 6]"
      ]
     },
     "execution_count": 3,
     "metadata": {},
     "output_type": "execute_result"
    }
   ],
   "source": [
    "# Example with numbers\n",
    "# A list of numbers is a sorted stack if it is in descending order\n",
    "# meaning the top of stack (last element of the list) is the smallest.\n",
    "A = [5,3,1]\n",
    "B = [6,4,3,2,0]\n",
    "S = []\n",
    "merge_sorted_stacks(A,B,S)\n",
    "S  # will be a reverse sorted stack: top=last element will be largest element"
   ]
  },
  {
   "cell_type": "code",
   "execution_count": 4,
   "metadata": {},
   "outputs": [
    {
     "data": {
      "text/plain": [
       "['aardvark', 'asp', 'kangaroo', 'newt', 'zebra']"
      ]
     },
     "execution_count": 4,
     "metadata": {},
     "output_type": "execute_result"
    }
   ],
   "source": [
    "# Example with strings\n",
    "# A list of strings is a sorted stack if it is in reverse alphabetical order\n",
    "# meaning the top of stack (last element of the list) is the earliest in \n",
    "# the Python string order\n",
    "S = []\n",
    "merge_sorted_stacks(\n",
    "    [\"zebra\",\"kangaroo\",\"aardvark\"],\n",
    "    [\"newt\",\"asp\"],\n",
    "    S)\n",
    "S"
   ]
  },
  {
   "cell_type": "markdown",
   "metadata": {},
   "source": [
    "## Solution"
   ]
  },
  {
   "cell_type": "code",
   "execution_count": 1,
   "metadata": {},
   "outputs": [],
   "source": [
    "def merge_sorted_stacks(A,B,S=[]):\n",
    "    \"\"\"Takes two sorted stacks A and B. Returns merged sorted stack.\"\"\"\n",
    "    # A_next and B_next should represent the next item to be taken off the stack\n",
    "    A_next = A.pop()\n",
    "    B_next = B.pop()\n",
    "    \n",
    "    # Take items from A and B until one list is empty\n",
    "    while True:\n",
    "        \n",
    "        if A_next <= B_next:\n",
    "            S.append(A_next)\n",
    "            if len(A) == 0: # If there's nothing left in A, stop the loop\n",
    "                S.append(B_next) # There's still an item from B that we need to append\n",
    "                break\n",
    "            else:\n",
    "                A_next = A.pop()\n",
    "            \n",
    "        else:\n",
    "            S.append(B_next)\n",
    "            if len(B) == 0:\n",
    "                S.append(A_next) # There's still an item from A that we need to append\n",
    "                break\n",
    "            else:\n",
    "                B_next = B.pop()\n",
    "            \n",
    "    # After the loop has finished, one of the two lists may still have items in it\n",
    "    # So take all the remaining items and put them in S.\n",
    "    while len(A) != 0:\n",
    "        A_next = A.pop()\n",
    "        S.append(A_next)\n",
    "    while len(B) != 0:\n",
    "        B_next = B.pop()\n",
    "        S.append(B_next)\n",
    "    \n",
    "    return S"
   ]
  },
  {
   "cell_type": "markdown",
   "metadata": {},
   "source": [
    "## 2. Quicksort with other pivot strategies\n",
    "\n",
    "The quicksort implementation we discussed in lecture uses the last element of the list as a pivot.  Let's explore other options.\n",
    "\n",
    "Make a new version of `quicksort` that has an optional argument `pivot_strategy` with default value `\"last\"`.  Implement these other behaviors for the following values:\n",
    "* `\"first\"` - Always use the first element as the pivot\n",
    "* `\"middle\"` - Use an element as close as possible to the middle of the list as the pivot\n",
    "* `\"random\"` - Select the pivot position at random\n",
    "\n",
    "(Of course, quicksort is always operating on the part of the list between `start` and `end`, so all instances of \"first\", \"last\", etc., are understood relative to that part.  For example, \"first\" means index `start`.)\n",
    "\n",
    "Test your modified version of quicksort to confirm that it works properly with each strategy.\n",
    "\n",
    "Don't forget that the `pivot_strategy` argument needs to be propagated to the recursive calls!"
   ]
  },
  {
   "cell_type": "markdown",
   "metadata": {},
   "source": [
    "# Solution"
   ]
  },
  {
   "cell_type": "markdown",
   "metadata": {},
   "source": [
    "Below is a modified version of the code from `sorts.py`"
   ]
  },
  {
   "cell_type": "code",
   "execution_count": 2,
   "metadata": {},
   "outputs": [],
   "source": [
    "def partition(L, start, end, verbose=False, pivot_strategy=\"last\"):\n",
    "    \"\"\"\n",
    "    Partition L[start:end] using the\n",
    "    last element (L[end-1]) as the pivot.\n",
    "    Returns the position of the pivot.\n",
    "    \"\"\"\n",
    "    # Choose the index of the pivot\n",
    "    if pivot_strategy == \"last\":\n",
    "        pivot_index = end - 1\n",
    "    elif pivot_strategy == \"first\":\n",
    "        pivot_index = start\n",
    "    elif pivot_strategy == \"middle\":\n",
    "        pivot_index = (start + end) // 2\n",
    "    elif pivot_strategy == \"random\":\n",
    "        pivot_index = random.choice(range(start,end-1))\n",
    "    \n",
    "    # Put the pivot at the end\n",
    "    L[pivot_index], L[end - 1] = L[end - 1], L[pivot_index]\n",
    "\n",
    "    # Define the pivot. Now the rest of the algorithm can proceed without any changes\n",
    "    pivot = L[end - 1]\n",
    "        \n",
    "    dst = start\n",
    "    for src in range(start, end):  # challenge Q: Why can't we use range(start,end-1)\n",
    "        if L[src] < pivot:\n",
    "            # swap L[src], L[dst]\n",
    "            L[src], L[dst] = L[dst], L[src]\n",
    "            dst += 1\n",
    "\n",
    "    # put the pivot into its final place\n",
    "    L[end - 1], L[dst] = L[dst], L[end - 1]\n",
    "    if verbose:\n",
    "        print(\"Partitioned into:\", L[start:dst], \" \", L[dst], \" \", L[dst + 1 : end])\n",
    "    return dst\n",
    "\n",
    "def quicksort(L, start=0, end=None, verbose=False, pivot_strategy=\"last\"):\n",
    "    \"\"\"\n",
    "    Sort L[start:end] in place using\n",
    "    quicksort.  Modifies L, returns nothing.\n",
    "    \"\"\"\n",
    "    if end == None:\n",
    "        # default to end of L\n",
    "        end = len(L)\n",
    "    # Are we done yet?!\n",
    "    if end - start <= 1:\n",
    "        return\n",
    "    # Not done yet, need to partition L\n",
    "    m = partition(L, start, end, verbose, pivot_strategy)\n",
    "    # m is now the pivot position\n",
    "    quicksort(L, start, m, verbose, pivot_strategy)  # orange (less than pivot)\n",
    "    quicksort(L, m + 1, end, verbose, pivot_strategy)  # purple (>= pivot)"
   ]
  },
  {
   "cell_type": "markdown",
   "metadata": {},
   "source": [
    "## 3. Pathological test data generator\n",
    "\n",
    "We discussed in class that `quicksort` with last element pivots behaves poorly (quadratic time) on sorted input.  I mentioned that \"nearly sorted input\" also creates problems.  But the phrase \"nearly sorted\" is not precise, and could have many interpretations.\n",
    "\n",
    "Write the following functions to generate lists that are far from randomly ordered, for testing purposes:\n",
    "* `nearly_sorted1(n,frac=0.1)` - Returns a list of length `n`.  That list should contain consecutive integers, except that `int(frac*n)` of them are replaced with random values chosen from the range `-2*n` to `3*n`.  That is, fraction `frac` of the positions are chosen randomly from a wider range, but the rest are linearly increasing.\n",
    "* `nearly_sorted2(n)` - Returns a list of length `n`.  The difference between any entry and the one before it is a number randomly chosen from these options: `[-1,0,1,2,3,4,5]`.  Since most of these values are positive, the list \"mostly increases\" and so could be considered \"nearly sorted\".  Unlike `nearly_sorted1`, this one doesn't produce lists where an entry is very far from the ones on either side of it.\n",
    "* `nearly_sorted3(n,k=3)` - Returns a list of length `n` obtained from `list(range(n))` as follows:  First, that list is broken into `k` pieces of similar size.  Then, those pieces are reassembled in a random order.  For example, if `n=10` and `k=2` you might get a return value like `[5,6,7,8,9,0,1,2,3,4]` because pieces `[0,1,2,3,4]` and `[5,6,7,8,9]` were reassembled in the opposite order.  Since the resulting list is likely to have long sublists that are in increasing order, it could be considered \"nearly sorted\"."
   ]
  },
  {
   "cell_type": "markdown",
   "metadata": {},
   "source": [
    "## Solution"
   ]
  },
  {
   "cell_type": "code",
   "execution_count": 5,
   "metadata": {},
   "outputs": [
    {
     "name": "stdout",
     "output_type": "stream",
     "text": [
      "[0, 1, 2, 3, 4, -17, 6, 7, 8, 9]\n"
     ]
    }
   ],
   "source": [
    "import random\n",
    "\n",
    "def nearly_sorted1(n, frac=0.1):\n",
    "    \"\"\"Generates list of integers 0 to n-1. Replaces n*frac with random ints\"\"\"\n",
    "    L = list(range(n))\n",
    "    to_replace = random.sample(L, int(frac*n)) # Randomly choose n*frac items to replace\n",
    "    for i in to_replace:\n",
    "        L[i] = random.randint(-2*n, 3*n)\n",
    "    return L\n",
    "\n",
    "print(nearly_sorted1(10))"
   ]
  },
  {
   "cell_type": "code",
   "execution_count": 6,
   "metadata": {},
   "outputs": [
    {
     "name": "stdout",
     "output_type": "stream",
     "text": [
      "[0, 2, 1, 5, 9, 10, 9, 8, 10, 12]\n"
     ]
    }
   ],
   "source": [
    "def nearly_sorted2(n):\n",
    "    \"\"\"List of n items starting at 0. Each successive element randomly differs from the\n",
    "    last by one of: -1,0,1,2,3,4,5\"\"\"\n",
    "    L = [0]\n",
    "    for i in range(n-1):\n",
    "        L.append( L[-1] + random.choice((-1,0,1,2,3,4,5)))\n",
    "    return L\n",
    "\n",
    "print(nearly_sorted2(10))"
   ]
  },
  {
   "cell_type": "code",
   "execution_count": 7,
   "metadata": {},
   "outputs": [
    {
     "name": "stdout",
     "output_type": "stream",
     "text": [
      "The list was split into the following pieces: [[5, 6, 7], [0, 1, 2, 3, 4], [8, 9]]\n",
      "[5, 6, 7, 0, 1, 2, 3, 4, 8, 9]\n"
     ]
    }
   ],
   "source": [
    "def nearly_sorted3(n, k=3):\n",
    "    \"\"\"Takes list with numbers 0 to n-1. Breaks into k pieces, shuffles, then re-assembles\"\"\"\n",
    "    L = list(range(n))\n",
    "    \n",
    "    # Choose k-1 indices in ascending order where we'll \"split\" the list.\n",
    "    # Don't choose index 0 or -1 because this will result in one of our pieces\n",
    "    # being empty (i.e. L[0:0] is empty and L[-1:-1] is empty)\n",
    "    indices = sorted(random.sample(L[1:-1], k-1))\n",
    "    \n",
    "    pieces = []\n",
    "    \n",
    "    # First piece is from index 0 up to our first randomly-chosen index\n",
    "    pieces.append(L[:indices[0]])\n",
    "    \n",
    "    # Middle pieces\n",
    "    for i in range(1, k-1):\n",
    "        pieces.append( L[indices[i-1]:indices[i]] )\n",
    "        \n",
    "    # Last piece is from last randomly-chosen index onwards\n",
    "    pieces.append( L[indices[-1]:])\n",
    "    \n",
    "    random.shuffle(pieces)\n",
    "    print(\"The list was split into the following pieces:\", pieces)\n",
    "    \n",
    "    # Put our pieces back into one list\n",
    "    L = []\n",
    "    for piece in pieces:\n",
    "        L.extend(piece)\n",
    "    return L\n",
    "\n",
    "\n",
    "print(nearly_sorted3(10, k=3))"
   ]
  },
  {
   "cell_type": "markdown",
   "metadata": {},
   "source": [
    "## 4. Quicksort stress test\n",
    "\n",
    "Do timing studies of `quicksort` with different pivot strategies on the types of nearly sorted lists generated in the previous problem, for `n=1000`, `n=10_000`, and `n=100_000`.  Do you see a clear difference relative to a randomly shuffled list?  Is there a difference between the strategies?  Between the types of nearly sorted input?"
   ]
  },
  {
   "cell_type": "markdown",
   "metadata": {},
   "source": [
    "## Solution\n",
    "\n",
    "Running the code below in a notebook may result in the Python kernel crashing. If this happens, you can change the recursion limit and try running it again.\n",
    "\n",
    "The output may be difficult to read, so some plots of the data are shown below. This isn't required in the worksheet, but code has been included that was used to generate the plots using Python's `matplotlib` module."
   ]
  },
  {
   "cell_type": "code",
   "execution_count": null,
   "metadata": {
    "scrolled": false
   },
   "outputs": [],
   "source": [
    "import time\n",
    "import sys\n",
    "sys.setrecursionlimit(2000) # Edit this line to change maximum number of recursions to whatever you'd like\n",
    "\n",
    "def timed_quicksort(L, pivot_strategy = \"last\"):\n",
    "    \"\"\"Helper function to run quicksort on a given list and print the time taken\"\"\"\n",
    "    print(\"Timing quicksort on list of length {} with pivot strategy '{}'\".format(len(L), pivot_strategy))\n",
    "    start = time.time()\n",
    "    try:\n",
    "        quicksort(L, pivot_strategy=pivot_strategy)\n",
    "        end = time.time()\n",
    "        assert L == sorted(L), \"Error: List was not sorted properly\" # Make sure the sorting worked\n",
    "        print(\"TIME: {:0.4f} seconds\".format(end-start)) # 4 Decimal places\n",
    "        \n",
    "    # If the test takes too long, print a warning message and continue to the next.\n",
    "    except RecursionError:\n",
    "        print(\"RecursionError: Took more than {} iterations\".format(sys.getrecursionlimit()))\n",
    "        print(\"Continuing to next test...\")\n",
    "    \n",
    "    \n",
    "nearly_sorted_funcs = [nearly_sorted1, nearly_sorted2, nearly_sorted3]\n",
    "lengths = [1000, 10_000, 100_000]\n",
    "pivot_strategies = [\"last\", \"first\", \"middle\", \"random\"]\n",
    "\n",
    "for func in nearly_sorted_funcs:\n",
    "    print(\"Testing function {}\".format(func.__name__))\n",
    "    for length in lengths:\n",
    "        L = func(length)\n",
    "        for pivot_strategy in pivot_strategies:\n",
    "            # Because quicksort operates in-place, we need to make a copy,\n",
    "            # otherwise the list will already be sorted for the next run\n",
    "            L_copy = L.copy()\n",
    "            \n",
    "            timed_quicksort(L_copy, pivot_strategy)"
   ]
  },
  {
   "cell_type": "markdown",
   "metadata": {},
   "source": [
    "## Code to generate plots of data (not required)"
   ]
  },
  {
   "cell_type": "markdown",
   "metadata": {},
   "source": [
    "**Lists of length 1000:**\n",
    "\n",
    "The results for all pivot methods were roughly similar here. We only start to see bigger differences for lists of length 10,000 (see the next cell)."
   ]
  },
  {
   "cell_type": "code",
   "execution_count": 18,
   "metadata": {},
   "outputs": [
    {
     "data": {
      "image/png": "[encoded data removed]",
      "text/plain": [
       "<Figure size 1000x600 with 1 Axes>"
      ]
     },
     "metadata": {},
     "output_type": "display_data"
    }
   ],
   "source": [
    "import matplotlib.pyplot as plt\n",
    "import numpy as np\n",
    "\n",
    "# Code for lists of length 1000. \n",
    "\n",
    "# List entries are time taken in seconds for nearly_sorted1 / nearly_sorted2 / nearly_sorted3\n",
    "last_1000   = [0.003, 0.021, 0.0039]\n",
    "first_1000  = [0.001, 0.004, 0.0381]\n",
    "middle_1000 = [0.0,   0.001, 0.001]\n",
    "random_1000 = [0.001, 0.001, 0.001]\n",
    "\n",
    "plt.figure(figsize=(10,6))\n",
    "\n",
    "plt.plot([1,1,1], last_1000, marker=\"o\", linestyle=\"None\", c = \"red\", label=\"last\", markersize = 10)\n",
    "plt.plot([2,2,2], first_1000, marker=\"o\", linestyle=\"None\", c = \"blue\", label=\"first\", markersize = 10)\n",
    "plt.plot([3,3,3], middle_1000, marker=\"o\", linestyle=\"None\", c = \"green\", label=\"middle\", markersize = 10)\n",
    "plt.plot([4,4,4], random_1000, marker=\"o\", linestyle=\"None\", c = \"black\", label=\"random\", markersize = 10)\n",
    "\n",
    "plt.tick_params(axis='x',which='both',bottom=False) # Disable ticks on x-axis\n",
    "plt.title(\"Lists of length 1000\")\n",
    "plt.ylabel(\"Time (seconds)\")\n",
    "plt.legend(title=\"Pivot strategy\")\n",
    "\n",
    "plt.show()"
   ]
  },
  {
   "cell_type": "markdown",
   "metadata": {},
   "source": [
    "**Lists of length 10,000:**\n",
    "\n",
    "For pivot methods `\"first\"` and `\"last\"`, two out of three tests did not finish.\n",
    "\n",
    "Using pivot method `middle` gave the best results."
   ]
  },
  {
   "cell_type": "code",
   "execution_count": 22,
   "metadata": {},
   "outputs": [
    {
     "data": {
      "image/png": "[encoded data removed]",
      "text/plain": [
       "<Figure size 1000x600 with 1 Axes>"
      ]
     },
     "metadata": {},
     "output_type": "display_data"
    }
   ],
   "source": [
    "# Code for lists of length 10_000. \n",
    "\n",
    "# List entries are time taken in seconds for nearly_sorted1 / nearly_sorted2 / nearly_sorted3\n",
    "last_10000   = [0.033, np.nan, np.nan] # np.nan means trial did not finish\n",
    "first_10000  = [0.0381, np.nan, np.nan]\n",
    "middle_10000 = [0.012, 0.001, 0.01]\n",
    "random_10000 = [0.015, 0.014, 0.014]\n",
    "\n",
    "plt.figure(figsize=(10,6))\n",
    "\n",
    "plt.plot([1,1,1], last_10000, marker=\"o\", linestyle=\"None\", c = \"red\", label=\"last\", markersize = 10)\n",
    "plt.plot([2,2,2], first_10000, marker=\"o\", linestyle=\"None\", c = \"blue\", label=\"first\", markersize = 10)\n",
    "plt.plot([3,3,3], middle_10000, marker=\"o\", linestyle=\"None\", c = \"green\", label=\"middle\", markersize = 10)\n",
    "plt.plot([4,4,4], random_10000, marker=\"o\", linestyle=\"None\", c = \"black\", label=\"random\", markersize = 10)\n",
    "\n",
    "plt.title(\"Lists of length 10,000\")\n",
    "\n",
    "plt.tick_params(axis='x',which='both',bottom=False) # Disable ticks on x-axis\n",
    "plt.ylabel(\"Time\")\n",
    "plt.legend(title=\"Pivot strategy\")\n",
    "\n",
    "plt.show()"
   ]
  },
  {
   "cell_type": "markdown",
   "metadata": {},
   "source": [
    "**Lists of length 100,000:**\n",
    "\n",
    "Not included because there were frequent crashes."
   ]
  },
  {
   "cell_type": "code",
   "execution_count": null,
   "metadata": {},
   "outputs": [],
   "source": []
  }
 ],
 "metadata": {
  "kernelspec": {
   "display_name": "Python 3 (ipykernel)",
   "language": "python",
   "name": "python3"
  },
  "language_info": {
   "codemirror_mode": {
    "name": "ipython",
    "version": 3
   },
   "file_extension": ".py",
   "mimetype": "text/x-python",
   "name": "python",
   "nbconvert_exporter": "python",
   "pygments_lexer": "ipython3",
   "version": "3.9.13"
  }
 },
 "nbformat": 4,
 "nbformat_minor": 4
}
