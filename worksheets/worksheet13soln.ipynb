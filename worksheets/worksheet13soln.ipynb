{
 "cells": [
  {
   "cell_type": "markdown",
   "metadata": {},
   "source": [
    "# MCS 275 Spring 2023 Worksheet 13 Example Solutions\n",
    "\n",
    "* Course instructor: Emily Dumas\n",
    "* Contributors to this document: Johnny Joyce, Kylash Viswanathan"
   ]
  },
  {
   "cell_type": "markdown",
   "metadata": {},
   "source": [
    "## Topics\n",
    "\n",
    "\n",
    "This worksheet focuses on the basics of **HTML/CSS** and the Python web framework **Flask**.  (We'll continue working on Flask in the upcoming week, with more Flask-related exercises coming in Worksheet 14.)\n",
    "\n",
    "## Resources\n",
    "\n",
    "These things might be helpful while working on the problems.  Remember that for worksheets,  we don't strictly limit what resources you can consult, so these are only suggestions.\n",
    "\n",
    "\n",
    "* [Lecture 29 - HTML and CSS](http://dumas.io/teaching/2023/spring/mcs275/slides/lecture29.html)\n",
    "* [Lecture 30 - Planning our web app](http://dumas.io/teaching/2023/spring/mcs275/slides/lecture30.html)\n",
    "* [Lecture 31 - HTTP and Flask](http://dumas.io/teaching/2023/spring/mcs275/slides/lecture31.html)\n",
    "* [Lecture 32 - Using Flask](http://dumas.io/teaching/2023/spring/mcs275/slides/lecture32.html)\n",
    "* [Lecture 33 - Forms](http://dumas.io/teaching/2023/spring/mcs275/slides/lecture33.html)\n",
    "* [w3schools HTML tutorial](https://www.w3schools.com/html/)\n",
    "* [w3schools CSS tutorial](https://www.w3schools.com/css/)\n",
    "* [Flask tutorial](https://flask.palletsprojects.com/en/1.1.x/tutorial/)\n",
    "* [JSFiddle](https://jsfiddle.net/) - place to quickly test HTML+CSS without leaving your browser\n",
    "* Course sample code:\n",
    "    * [html examples (including OrderNova, TrackFlow, and a simple Flask demo](https://github.com/emilydumas/mcs275spring2023/tree/main/samplecode/html)"
   ]
  },
  {
   "cell_type": "markdown",
   "metadata": {},
   "source": [
    "## 1. Big centered 275\n",
    "\n",
    "Here is the code for an HTML document that, when loaded in a browser, just displays the word \"onions\" in the center of the browser window.\n",
    "\n",
    "```html\n",
    "<html>\n",
    "    <head>\n",
    "        <title>No title</title>\n",
    "        <style>\n",
    "            /* Adapted from https://stackoverflow.com/questions/982054/\n",
    "               A class that places the object in the center of the\n",
    "               browser window.  */\n",
    "            .center-screen {\n",
    "                display: flex;\n",
    "                flex-direction: column;\n",
    "                justify-content: center;\n",
    "                align-items: center;\n",
    "                text-align: center;\n",
    "                min-height: 100vh;\n",
    "            }\n",
    "        </style>\n",
    "    </head>\n",
    "    <body>\n",
    "      <div class=\"center-screen\">\n",
    "          onions\n",
    "      </div>\n",
    "    </body>\n",
    "</html>\n",
    "```\n",
    "\n",
    "Put this in an HTML file, save it, and confirm you can load it in a browser.\n",
    "\n",
    "Now, modify it in the following ways."
   ]
  },
  {
   "cell_type": "markdown",
   "metadata": {},
   "source": [
    "### A. External stylesheet\n",
    "\n",
    "The HTML above has inline CSS (that is, it is in a `<style>` tag).  Convert it to use an external stylesheet called `ws13.css`.  Confirm it still works."
   ]
  },
  {
   "cell_type": "markdown",
   "metadata": {},
   "source": [
    "### B. Content and style changes\n",
    "\n",
    "Change the content of the `<div>` from `onions` to the number `275`.  Modify the CSS so that the page has a dark blue background and a pale yellow-white text color, with a sans serif font.\n",
    "\n",
    "In the HTML, apply a second class to the `<div>` called `giant`, and modify the CSS so that class has a font size of `64px`.\n",
    "\n",
    "Also change the title of the page to `Big centered 275`."
   ]
  },
  {
   "cell_type": "markdown",
   "metadata": {},
   "source": [
    "## Solution"
   ]
  },
  {
   "cell_type": "markdown",
   "metadata": {},
   "source": [
    "**Here's what the CSS file may look like:**\n",
    "\n",
    "```css\n",
    "/* Adapted from https://stackoverflow.com/questions/982054/\n",
    "    A class that places the object in the center of the\n",
    "    browser window.  */\n",
    ".center-screen {\n",
    "    display: flex;\n",
    "    flex-direction: column;\n",
    "    justify-content: center;\n",
    "    align-items: center;\n",
    "    text-align: center;\n",
    "    min-height: 100vh;\n",
    "}\n",
    "\n",
    "body{\n",
    "    background-color: darkblue;\n",
    "    color: #FFFBA3; /*     https://htmlcolorcodes.com/     */\n",
    "    font-family: Arial;\n",
    "}\n",
    "\n",
    ".giant{\n",
    "    font-size: 64px;\n",
    "}\n",
    "```"
   ]
  },
  {
   "cell_type": "markdown",
   "metadata": {},
   "source": [
    "**And here's the corresponding HTML file:**\n",
    "\n",
    "```html\n",
    "<html>\n",
    "    <head>\n",
    "        <title>Big centered 275</title>\n",
    "        <link rel=\"stylesheet\" href=\"q1-275.css\">\n",
    "    </head>\n",
    "    <body>\n",
    "        <div class=\"center-screen giant\">\n",
    "            275\n",
    "        </div>\n",
    "    </body>\n",
    "</html>\n",
    "```"
   ]
  },
  {
   "cell_type": "markdown",
   "metadata": {},
   "source": [
    "## 2. Single page utilities\n",
    "\n",
    "This problem asks you to write a Flask application, but a relatively simple one that can probably be done without HTML templates.  You *can* use templates if you want, but it's also OK to just write functions that return strings and embed the HTML in those strings.\n",
    "\n",
    "Make a flask application called `spu.py` (**s**ingle **p**age **u**tilities) that has the following routes, all of which produce a page with a single word or number centered in the browser window, styled as in problem 1.\n",
    "\n",
    "To be clear, we're talking about a single Flask application, and each part of the problem asks you to add another route to it."
   ]
  },
  {
   "cell_type": "markdown",
   "metadata": {},
   "source": [
    "### A. `/coin/`\n",
    "\n",
    "When you visit `localhost:5000/coinflip/` (or the corresponding URL with a different port number that Flask selects), you should see either the word HEADS or TAILS centered on the screen in large letters.  The word is selected at random, with each having a 50% probability."
   ]
  },
  {
   "cell_type": "markdown",
   "metadata": {},
   "source": [
    "### B. `/fib/<n>/`\n",
    "\n",
    "When you visit `localhost:5000/fib/13/` (or the corresponding URL with a different port number that Flask selects), you should see the number 233 centered on the screen in large numerals.  More generally, if you replace 13 in the URL with another positive integer $n$, the page should display the $n^{\\mathrm{th}}$ Fibonacci number $F_n$ in the same way."
   ]
  },
  {
   "cell_type": "markdown",
   "metadata": {},
   "source": [
    "### C. `/switch/<x>/`\n",
    "\n",
    "When you visit `localhost:5000/switch/1/` (or the corresponding URL with a different port number that Flask selects), you see the word ON in the center of the screen in big black letters against a white background.  The word ON is actually a link, and if you click it, it takes you to `/switch/0/`.  That page shows the word OFF in white text on a black background, with OFF being a link to `/switch/1/`.\n",
    "\n",
    "Thus, this part of the app behaves like a light switch.  Clicking toggles it on or off."
   ]
  },
  {
   "cell_type": "markdown",
   "metadata": {},
   "source": [
    "## Solution\n",
    "\n",
    "For simplicity, the solutions in the cells below do not use templates.\n",
    "\n",
    "To see a version of part A that **does use templates**, see this link: **[(Google drive link)](https://drive.google.com/file/d/1JqXrwWkG4vFk6p4mWjPmC3sYVhfNIwsz/view?usp=share_link).**\n",
    "\n",
    "This contains a zip file with the required files arranged as needed (including a `.py` file to run the flask application, a `.HTML` file for the template, and a corresponding `.css` file used by the HTML page). Solutions for questions other than part A using templates are not shown, but the non-template versions can be modified analogously."
   ]
  },
  {
   "cell_type": "code",
   "execution_count": null,
   "metadata": {},
   "outputs": [],
   "source": [
    "import flask\n",
    "import random\n",
    "\n",
    "app = flask.Flask(\"Utilities\")\n",
    "\n",
    "@app.route(\"/coin/\")\n",
    "def coinflip():\n",
    "    \"\"\"Randomly displays \"HEADS\" or \"TAILS\" with 50/50 odds\"\"\"\n",
    "    word = random.choice([\"HEADS\", \"TAILS\"])\n",
    "    return \"\"\"\n",
    "            <!doctype html>\n",
    "            <html> \n",
    "            <head><title>Coin flip</title></head>\n",
    "            <body style=\"display:flex; flex-direction:column; justify-content:center; align-items:center; text-align:center; min-height:100vh;\">\n",
    "            <p style=\"font-size:64px;\">{}</p>\n",
    "            </body>\n",
    "            </html>\n",
    "            \"\"\".format(word)\n",
    "\n",
    "def fib(n):\n",
    "    \"\"\"Recursive function for n-th Fibonacci number\"\"\"\n",
    "    if n == 0 or n == 1:\n",
    "        return n\n",
    "    else:\n",
    "        return fib(n-1) + fib(n-2)\n",
    "\n",
    "@app.route(\"/fib/<n>/\")\n",
    "def fib_webpage(n):\n",
    "    \"\"\"Display n-th Fibonacci number in big numbers in center of screen\"\"\"\n",
    "    n = int(n)\n",
    "    return \"\"\"\n",
    "            <!doctype html>\n",
    "            <html> \n",
    "            <head><title>Fibonacci</title></head>\n",
    "            <body style=\"display:flex; flex-direction:column; justify-content:center; align-items:center; text-align:center; min-height:100vh;\">\n",
    "            <p style=\"font-size:64px;\">{}</p>\n",
    "            </body>\n",
    "            </html>\n",
    "            \"\"\".format(fib(n))\n",
    "\n",
    "@app.route(\"/switch/<x>/\")\n",
    "def switch(x):\n",
    "    \"\"\"Webpage to simulate a light switch\"\"\"\n",
    "    \n",
    "    if int(x) == 1:\n",
    "        text = \"ON\"\n",
    "        background_color = \"white\"\n",
    "        foreground_color = \"black\"\n",
    "        link_destination = 0\n",
    "        \n",
    "    else:\n",
    "        text = \"OFF\"\n",
    "        background_color = \"black\"\n",
    "        foreground_color = \"white\"\n",
    "        link_destination = 1\n",
    "        \n",
    "    return \"\"\"\n",
    "            <!doctype html>\n",
    "            <html> \n",
    "            <head><title>Switch goes wheeeee</title></head>\n",
    "            <body style=\"background-color:{}; display:flex; flex-direction:column; justify-content:center; align-items:center; text-align:center; min-height:100vh;\">\n",
    "            <p>\n",
    "            <a style=\"color:{}; font-size:64px;\" href=/switch/{}/>{}</a>\n",
    "            </p>\n",
    "            </body>\n",
    "            </html>\n",
    "            \"\"\".format(background_color, foreground_color, link_destination, text)\n",
    "\n",
    "\n",
    "app.run()"
   ]
  },
  {
   "cell_type": "markdown",
   "metadata": {},
   "source": [
    "## 3. Elements info app\n",
    "\n",
    "Here's a SQLite database with information about the first 112 chemical elements:\n",
    "\n",
    "* [elements.sqlite](https://github.com/emilydumas/mcs275spring2023/blob/main/worksheets/data/elements.sqlite?raw=true)\n",
    "\n",
    "It has columns:\n",
    "* `number` - the atomic number\n",
    "* `name` - the element name\n",
    "* `symbol` - one- or two-letter symbol for the element\n",
    "* `periodnum` - the number of the period in the periodic table that contains this element\n",
    "* `groupnum` - the number of the group in the periodic table that contains this element\n",
    "* `phase` - whether this element is a solid, liquid, or gas at 25C and 1 atmosphere of pressure\n",
    "* `category` - metal, metalloid, noble gas, etc.\n",
    "* `interesting_fact` - NULL for most, but in some cases contains a sentence with an interesting fact about the element."
   ]
  },
  {
   "cell_type": "markdown",
   "metadata": {},
   "source": [
    "### A. Basic lookup by number\n",
    "\n",
    "Make a Flask application that uses HTML templates and this database to generate a page with information about any element on demand.\n",
    "\n",
    "For example, the endpoint `/element/number/4/` should produce a page looking something like this (note the presence of an interesting fact):"
   ]
  },
  {
   "cell_type": "markdown",
   "metadata": {},
   "source": [
    "<div style=\"padding: 2em; background:#D0D0D0;\">\n",
    "    <h3 style=\"font-size:200%\">Be</h3>\n",
    "               <h3>Beryllium</h3>\n",
    "\n",
    "<p>The element with atomic number 4.  This Alkaline Earth Metal is a solid at standard temperature and pressure.  A brittle, toxic metal when pure, it is a component of gemstones such as emerald and aquamarine.</p>\n",
    "</div>"
   ]
  },
  {
   "cell_type": "markdown",
   "metadata": {},
   "source": [
    "And the endpoint `/element/number/61/` should produce a page looking something like this (note the lack of phase information, and the lack of an interesting fact):"
   ]
  },
  {
   "cell_type": "markdown",
   "metadata": {},
   "source": [
    "<div style=\"padding: 2em; background:#D0D0D0;\">\n",
    "    <h3 style=\"font-size:200%\">Pm</h3>\n",
    "               <h3>Promethium</h3>\n",
    "\n",
    "<p>The element with atomic number 61.  This Lanthanide is an artificially produced element whose phase at standard temperature and pressure is not known.</p>\n",
    "</div>"
   ]
  },
  {
   "cell_type": "markdown",
   "metadata": {},
   "source": [
    "### B. Lookup by symbol\n",
    "\n",
    "Add a feature to the application so it also generates the same sort of page at endpoints that specify an element's symbol such as `/element/symbol/Ag/`."
   ]
  },
  {
   "cell_type": "markdown",
   "metadata": {},
   "source": [
    "## Solution"
   ]
  },
  {
   "cell_type": "code",
   "execution_count": null,
   "metadata": {},
   "outputs": [],
   "source": [
    "import flask\n",
    "import sqlite3\n",
    "\n",
    "app = flask.Flask(\"Elements\")\n",
    "\n",
    "@app.route(\"/element/number/<n>/\")\n",
    "def element_lookup(n):\n",
    "    \"\"\"Webpage with information about element with atomic number `n`.\"\"\"\n",
    "    con = sqlite3.connect(\"elements.sqlite\")\n",
    "    row = con.execute(\"SELECT symbol, name, interesting_fact FROM elements WHERE number=?;\", [int(n)])\n",
    "    symbol, name, fact = row.fetchone()\n",
    "    \n",
    "    if fact is None:\n",
    "        # If a fact is missing, we need to piece one together using other information.\n",
    "        row = con.execute(\"SELECT number, category, phase FROM elements WHERE number=?;\", [int(n)])\n",
    "        number, category, phase = row.fetchone()\n",
    "        fact = \"The element with atomic number {}. This {} is \".format(number, category)\n",
    "        if phase == \"artificial\":\n",
    "            fact += \"an artificially produced element whose phase at standard temperature and pressure is not known.\"\n",
    "        else:\n",
    "            fact += \"a {} at standard temperature and pressure.\".format(phase)\n",
    "            \n",
    "    con.close()\n",
    "    \n",
    "    return \"\"\"\n",
    "            <!doctype html>\n",
    "            <html> \n",
    "            <head><title>Element info</title></head>\n",
    "            <body style=\"font-family: Arial; padding: 2em; background:#D0D0D0;\">\n",
    "            <h1>{}</h1>\n",
    "            <h2>{}</h2>\n",
    "            <p>{}</p>\n",
    "            </body>\n",
    "            </html>\n",
    "            \"\"\".format(symbol, name, fact)\n",
    "\n",
    "@app.route(\"/element/symbol/<symb>/\")\n",
    "def element_lookup_symbol(symb):\n",
    "    \"\"\"Lookup by symbol. Finds the corresponding number then call `element_lookup`.\"\"\"\n",
    "    con = sqlite3.connect(\"elements.sqlite\")\n",
    "    row = con.execute(\"SELECT number FROM elements WHERE symbol=?;\", [symb])\n",
    "    n = row.fetchone()[0]\n",
    "    con.close()\n",
    "    return element_lookup(n)\n",
    "\n",
    "app.run()"
   ]
  },
  {
   "cell_type": "markdown",
   "metadata": {},
   "source": [
    "## 4. Extras (no solutions will be given)\n",
    "\n",
    "If you finish the material above, add additional features to the elements Flask app:"
   ]
  },
  {
   "cell_type": "markdown",
   "metadata": {},
   "source": [
    "### Phase-dependent styling\n",
    "\n",
    "Give the element info pages a different background color (always light in color, but maybe green, purple, yellow, or gray) depending on the phase of the element at room temperature (solid, liquid, gas, or artificial/unknown)."
   ]
  },
  {
   "cell_type": "markdown",
   "metadata": {},
   "source": [
    "### Next/prev links\n",
    "\n",
    "Add links to the elements pages that take you to the next and previous element (by atomic number).  Hydrogen has no previous element, and Copernicium has no next element in this dataset, so handle those possibilities appropriately."
   ]
  },
  {
   "cell_type": "markdown",
   "metadata": {},
   "source": [
    "### Optional photo\n",
    "\n",
    "When asked for an element page, say for element 17, have the application check to see whether a file `117.jpg` exists in the `static/` subdirectory.  If it does, then have that image included on the page.  Add a couple of images of chemical element samples in this way, by finding, downloading, and renaming public-domain images from the web."
   ]
  }
 ],
 "metadata": {
  "kernelspec": {
   "display_name": "Python 3 (ipykernel)",
   "language": "python",
   "name": "python3"
  },
  "language_info": {
   "codemirror_mode": {
    "name": "ipython",
    "version": 3
   },
   "file_extension": ".py",
   "mimetype": "text/x-python",
   "name": "python",
   "nbconvert_exporter": "python",
   "pygments_lexer": "ipython3",
   "version": "3.10.6"
  }
 },
 "nbformat": 4,
 "nbformat_minor": 4
}
