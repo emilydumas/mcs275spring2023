{
 "cells": [
  {
   "cell_type": "markdown",
   "metadata": {},
   "source": [
    "# MCS 275 Spring 2023 Project 3 - DIY Dictionary\n",
    "\n",
    "* Course instructor: Emily Dumas\n",
    "\n",
    "<img src=\"images/proj3-dictionary-tree.jpg\" width=40%>"
   ]
  },
  {
   "cell_type": "markdown",
   "metadata": {},
   "source": [
    "## Instructions\n",
    "\n",
    "### Deadline is 6pm central on Friday 17 March 2023.\n",
    "\n",
    "### Collaboration policy and academic honesty\n",
    "\n",
    "This project must be completed **individually**.  We want to evaluate you on the basis of what you can do by consulting the resources listed below, and without help from anyone other than course staff. Seeking or giving aid on this assignment is prohibited (except for asking course staff); doing so constitutes academic misconduct which can have serious consequences.  If you are unsure about whether something is allowed, ask. The course syllabus contains more information about the course and university policies regarding academic honesty.\n",
    "\n",
    "### Topic\n",
    "\n",
    "In this project you'll build a module that is similar to the work we did in `trees.py` and `integerset.py`, and which implements a partial replacement for Python's `dict` type using a binary search tree as its backing data structure.\n",
    "\n",
    "### Resources you are allowed to consult\n",
    "\n",
    "* Documents and videos posted to the course web page\n",
    "* Any of the optional textbooks listed on the course web page\n",
    "* Course sample code\n",
    "\n",
    "**Ask** if you are unsure whether a resource falls under one of these categories, or if you think I missed an essential resource.\n",
    "\n",
    "### What to do if you are stuck\n",
    "\n",
    "Contact the instructor or your TA by email, in office hours, or on discord."
   ]
  },
  {
   "cell_type": "markdown",
   "metadata": {},
   "source": [
    "## Quick summary\n",
    "\n",
    "Read this section to quickly get an idea of what the project is about.  But understand that the precise specifications in the next section must also be read.\n",
    "\n",
    "### Previous work: `set` and `IntegerSet`\n",
    "\n",
    "In lectures 16-18 of MCS 275, we built classes for binary trees, binary search trees (BST), and then we created a class `IntegerSet` that is similar to Python's built-in `set` type (but which has fewer features and additional restrictions on elements).  The final structure of that work was:\n",
    "* In `trees.py`:\n",
    "    * Class `Node` representing a binary tree where each node stores a `key`\n",
    "    * Class `BST` (a subclass of `Node`) representing a possibly empty BST supporting insertion and search.\n",
    "* In `integerset.py`:\n",
    "    * Class `IntegerSet` for storing an unordered collection of distinct integers, which uses a `BST` as its main data structure.\n",
    "\n",
    "You don't need to know anything about `Node` or `BST` to use `IntegerSet`.  The use of trees is entirely \"behind the scenes\".\n",
    "\n",
    "If you have code that uses Python's `set` type, then you can use `IntegerSet` as a drop-in replacement as long as:\n",
    "* The only objects you store in the set are integers\n",
    "* The only methods you use of the `set` class are `add(...)` and `__contains__(...)` (through the `in` operator)\n",
    "\n",
    "### This project: `dict` and `Dictionary`\n",
    "\n",
    "**In this project you will do something similar for Python's `dict` type.**  That is, you will build a partial replacement called `Dictionary` that uses a variation on a BST for storage.  It will have fewer methods and more restrictions than Python's `dict` type.\n",
    "\n",
    "When you're done, you'll have the following classes and module:\n",
    "\n",
    "* In `proj3.py`:\n",
    "    * Class `KVNode` representing a binary tree where each node stores two values: a `key` and a `value`.\n",
    "    * Class `KVBST` (a subclass of `KVNode`) representing a possibly empty BST that supports searching by `key` and various other operations.\n",
    "    * Class `Dictionary` for storing an unordered collection of key-value pairs, which uses a `KVBST` as its main data structure.\n",
    "\n",
    "When you're done, you will have a class `Dictionary` that would serve as a drop-in replacement for Python's `dict` in any program that:\n",
    "* Only uses dictionary keys that can be compared using `>`, `<`, and `==` (e.g. all integers, or all strings)\n",
    "* Only uses the following features of the dictionary:\n",
    "    * add new key-value pair\n",
    "    * change the value associated to a key\n",
    "    * retrieve the value associated to a key\n",
    "\n",
    "In addition to creating these classes, the project specification below also asks you to write some test code for the new `Dictionary` class.\n",
    "\n",
    "### A few things to keep in mind\n",
    "\n",
    "Before we go into the details of the code you need to write, I want to emphasize a few things about the relation between this project and our previous work in the lecture examples:\n",
    "\n",
    "1. **You're writing a single module** that contains all three classes. That's different from the lecture example which was split between two modules (`trees` and `integerset`).\n",
    "1. **You can (and probably should) adapt code from `trees.py` and `integerset.py` for this project.**  Just make sure anything you adapt it is truly and fully updated, with no inaccurate comments, no parts that are irrelevant or unused, etc..\n",
    "1. **This project will not directly use or import `trees` or `integerset` modules.**  This is about making a bunch of new classes that have some similarities to the ones in those modules, but are different enough that importing is not helpful.\n",
    "1. **You shouldn't use `dict` to store any key-value pairs in this project.**  The whole point is to build a partial replacement for `dict` from scratch.  Similarly, when making `IntegerSet` we didn't use Python's `set` type.\n",
    "1. **`Dictionary` does not impose any type restrictions directly.** Unlike `IntegerSet`, this class doesn't require integer keys, and in general shouldn't do any checking of types."
   ]
  },
  {
   "cell_type": "markdown",
   "metadata": {},
   "source": [
    "## Specifications of the `proj3` module you must write\n",
    "\n",
    "Download the starter pack:\n",
    "\n",
    "* [Project 3 starter pack](https://github.com/emilydumas/mcs275spring2023/blob/main/projects/proj3starter/proj3.py)\n",
    "\n",
    "It contains a file `proj3.py` with three empty class definitions and a placeholder where module test code would go.  Edit that file and submit it as your project.  Make it so that the contents follow the specifications in this section."
   ]
  },
  {
   "cell_type": "markdown",
   "metadata": {},
   "source": [
    "### Class `KVNode`\n",
    "\n",
    "Represents a binary tree with `left` child, `right` child, and `parent` attributes, as well as data attributes `key` and `value` at each node.  The main difference from the `Node` class from lecture is the presence of the additional `value` attribute.\n",
    "\n",
    "#### Constructor\n",
    "* `__init__(self,key=None, value=None, left=None, right=None, parent=None)` - Stores all the arguments as instance attributes.  (It is expected that `left`, `right`, and `parent` are either `None` or are instances of `KVNode`.)\n",
    "\n",
    "#### Required instance attributes\n",
    "All initialized from the constructor arguments.\n",
    "\n",
    "* `left`\n",
    "* `right`\n",
    "* `parent`\n",
    "* `key`\n",
    "* `value`\n",
    "\n",
    "#### Non-constructor methods\n",
    "\n",
    "* `keys(self)` - Returns a list of `key` attributes seen during an **inorder** traversal of the tree.\n",
    "* `values(self)` - Returns a list of `value` attributes seen during an **inorder** traversal of the tree.\n",
    "* `items(self)` - Returns a list of `(key,value)` pairs seen during an **inorder** traversal of the tree.\n",
    "* `nodes(self)` - Returns a list of the node objects seen during an **inorder** traversal of the tree.\n",
    "* `__str__(self)` - Returns the a string like `<57:'onion'>` where `57` is replaced by `repr()` applied to the `key` attribute and `'onion'` by `repr()` applied to the `value` attribute of this node.\n",
    "* `__repr__(self)` - Returns the same thing as `__str__`."
   ]
  },
  {
   "cell_type": "markdown",
   "metadata": {},
   "source": [
    "### Class `KVBST`, a subclass of `KVNode`\n",
    "\n",
    "Represents a binary search tree in which a collection of key-value pairs are ordered by key. That is, any key in the left subtree is less than or equal to the key of this node, and any key in the right subtree is greater than the key of this node.  In particular every key is expected to be comparable to all of the other keys in this tree (though there is no explicit checking for this).\n",
    "\n",
    "The `value` attributes are present at each node but we don't care about their types, how they compare to one another, or even whether they can be compared.\n",
    "\n",
    "As a special case, if an instance has`key` attribute equal to `None` then the binary search tree is considered to be empty, and the first key-value pair that is inserted will live in this node.\n",
    "\n",
    "#### Constructor\n",
    "* Inherited from `KVNode`, not changed.\n",
    "\n",
    "#### Required instance attributes\n",
    "* Inherited from `KVNode`, not changed.\n",
    "\n",
    "#### Non-constructor methods not inherited from superclass\n",
    "\n",
    "* `insert(self,k,v)` - Find a suitable place to add a `KVBST` node to this tree that has key `k` and value `v`, maintaining the search tree property.\n",
    "* `search(self,k)` - Find a node in this tree that has key equal to `k`.  If no such node exists, return `None`.  Otherwise, return the `KVBST` object of the node that was located.\n",
    "    * Must use a binary tree search, not something less efficient like generating a list of all nodes and searching that list."
   ]
  },
  {
   "cell_type": "markdown",
   "metadata": {},
   "source": [
    "### Class `Dictionary` (not a subclass of anything)\n",
    "\n",
    "Represents a partial replacement for `dict` that uses a `KVBST` to store its data.  Supports assigning values to keys, retrieving values by key, and checking whether a key is present.  All keys must be comparable to one another.\n",
    "\n",
    "#### Constructor\n",
    "* `__init__(self,starting_items=None)` - Creates a new empty `KVBST` and stores as an instance attribute `T`.  If `starting_items` is not `None`, assume it is a `dict` object or something that behaves similarly (can iterate over it and get keys; can index it to get values; has a `.items()` method).  Any key-value pair present in `starting_items` is added to this `Dictionary`.  This provides a way to instantiate `Dictionary` and have it immediately populated with keys and values, rather than starting empty.\n",
    "\n",
    "#### Required instance attributes\n",
    "* `T` - an instance of `KVBST` that is used to store the key-value pairs.  Is private, i.e. meant to be used by methods of this class but not accessed directly by users of the class.\n",
    "\n",
    "#### Non-constructor methods\n",
    "\n",
    "* `__contains(self,k)__` - If there is a node in `T` with key `k`, return `True`.  Otherwise, return `False`.\n",
    "    * This is the method that gets called by a statement such as `\"foo\" in D`, if `D` is a `Dictionary` instance.  That would translate to method call `D.__contains__(\"foo\")`.\n",
    "\n",
    "* `__getitem__(self,k)__` - If there is a node in `T` with key `k`, return the `value` attribute of that node.  Otherwise, raise a `KeyError`.\n",
    "    * This is the method that gets called by a statement such as `D[\"foo\"]`, if `D` is a `Dictionary` instance.  That would translate to method call `D.__getitem__(\"foo\")`.\n",
    "\n",
    "* `__setitem__(self,k,v)__` - If there is a node in `T` with key `k`, change its `value` attribute to `v`.  If there is no such node, add one that has key `k` and value `v`.\n",
    "    * This is the method that gets called by a statement such as `D[\"foo\"] = 47`, if `D` is a `Dictionary` instance.  That would translate to method call `D.__setitem__(\"foo\",47)`.\n",
    "* `__str__(self)` - Return a string of this form\n",
    "```text\n",
    "Dictionary({5: 'hello', 11: 'goodbye', 29: False, 58: 8619215})\n",
    "```\n",
    "where the part inside the `{}` characters is a series of comma-separated `key: value` pairs with `key`s in increasing order.  Each key and value should be shown as the string returned by `repr()` applied to that attribute.\n",
    "* `__repr__(self)` - Returns the same thing as `__str__`.\n"
   ]
  },
  {
   "cell_type": "markdown",
   "metadata": {},
   "source": [
    "### REQUIRED TEST CODE\n",
    "\n",
    "In addition to defining the classes, you need to write some code that tests and demonstrates the behavior of `Dictionary`.\n",
    "\n",
    "But that test code must not run when `proj3` is imported as a module.\n",
    "\n",
    "The starter pack has a section that looks like this:"
   ]
  },
  {
   "cell_type": "code",
   "execution_count": 1,
   "metadata": {},
   "outputs": [],
   "source": [
    "if __name__==\"__main__\":\n",
    "    # PUT TEST CODE HERE\n",
    "    pass"
   ]
  },
  {
   "cell_type": "markdown",
   "metadata": {},
   "source": [
    "This conditional checks whether `proj3.py` is being run as a script (e.g. with `python3 proj3.py`).  If it is, the code inside the conditional runs.  So that's where the test code will go.\n",
    "\n",
    "Specifically, add statements that demonstrate and test the `Dictionary` class as follows:\n",
    "1. Create and print an empty `Dictionary`\n",
    "1. Create and print a nonempty `Dictionary`\n",
    "1. Test a `Dictionary` for the values associated with several keys, all of which are present.  Print the key-value pairs.\n",
    "1. Test a `Dictionary` for the values associated with several keys, none of which are present.  That should raise an exception; make sure it does, and catch it using a `try: ... except:` block so it doesn't interrupt the test code.\n",
    "1. Make an empty `Dictionary`, assign a value to a key in that `Dictionary`, then give the same key a new value.  Print the `Dictionary` after each step.\n",
    "1. Make an empty `Dictionary` and add 10,000 key-value pairs, where the keys and values are integers randomly selected from the range 0 to 999,999 (inclusive).  Print a message like \"Adding 10000 key-value pairs\" beforehand, and \"Done\" afterward, but don't print anything during the process.\n",
    "\n",
    "All such test code needs to be in one big indented block under `if __name__==\"__main__\":`.\n",
    "\n",
    "This test code should mean that running\n",
    "```bash\n",
    "python3 proj3.py\n",
    "```\n",
    "in the terminal will provide a nice quick test of the `Dictionary` class, but opening the Python REPL and running\n",
    "```python\n",
    "import proj3\n",
    "```\n",
    "will not result in any test code running.\n",
    "\n",
    "If you want to put code that tests the `KVNode` and `KVBST` classes, you can do so.  However, please put such tests inside the same conditional and **before** the `Dictionary` tests."
   ]
  },
  {
   "cell_type": "markdown",
   "metadata": {},
   "source": [
    "## IMPORTANT RULES YOUR CODE MUST FOLLOW\n",
    "\n",
    "Your project must follow the rules in the [MCS 275 coding standards](https://www.dumas.io/teaching/2023/spring/mcs275/nbview/policies/codestd.html) document.  In addition:\n",
    "1. The only file you submit should be `proj3.py`.\n",
    "1. Have methods in `proj3.py` call one another if/when it is appropriate, rather than needlessly duplicating code.\n",
    "1. Do not include any commented-out code.  Use comments only for explanatory text.\n",
    "1. Do not import any modules in `proj3.py` except those in Python's standard library, as needed.\n",
    "1. Do not use `dict` to store key-value pairs in class `Dictionary`.  Use a `KVBST` instead.\n",
    "1. When imported as a module `proj3.py` must not do anything other than define classes."
   ]
  },
  {
   "cell_type": "markdown",
   "metadata": {},
   "source": [
    "## Examples of behavior of the classes `KVNode`, `KVBST`, and `Dictionary`\n",
    "\n",
    "This section contains some cells of Python code that use a solution to Project 3."
   ]
  },
  {
   "cell_type": "markdown",
   "metadata": {},
   "source": [
    "### Setup"
   ]
  },
  {
   "cell_type": "code",
   "execution_count": 3,
   "metadata": {},
   "outputs": [],
   "source": [
    "from proj3 import KVNode, KVBST, Dictionary"
   ]
  },
  {
   "cell_type": "markdown",
   "metadata": {},
   "source": [
    "### KVNode"
   ]
  },
  {
   "cell_type": "code",
   "execution_count": 4,
   "metadata": {},
   "outputs": [
    {
     "data": {
      "text/plain": [
       "<57:'onion'>"
      ]
     },
     "execution_count": 4,
     "metadata": {},
     "output_type": "execute_result"
    }
   ],
   "source": [
    "# Create a node\n",
    "a = KVNode(key=57,value=\"onion\")\n",
    "a"
   ]
  },
  {
   "cell_type": "code",
   "execution_count": 5,
   "metadata": {},
   "outputs": [
    {
     "data": {
      "text/plain": [
       "<'The ultimate volleyball/programming vacation weekend':191458>"
      ]
     },
     "execution_count": 5,
     "metadata": {},
     "output_type": "execute_result"
    }
   ],
   "source": [
    "# Create another node\n",
    "b = KVNode(key=\"The ultimate volleyball/programming vacation weekend\", value=191458)\n",
    "b"
   ]
  },
  {
   "cell_type": "code",
   "execution_count": 6,
   "metadata": {},
   "outputs": [],
   "source": [
    "# Make one node a child of the other\n",
    "# Their keys are not comparable, but that's OK for `KVNode`\n",
    "a.left = b\n",
    "b.parent = a"
   ]
  },
  {
   "cell_type": "code",
   "execution_count": 7,
   "metadata": {},
   "outputs": [
    {
     "name": "stdout",
     "output_type": "stream",
     "text": [
      "<57:'onion'>\n",
      "\t <'The ultimate volleyball/programming vacation weekend':191458>\n",
      "\t None\n",
      "--------------------------------------------------------------------------------\n",
      "<'The ultimate volleyball/programming vacation weekend':191458>\n",
      "\t None\n",
      "\t None\n"
     ]
    }
   ],
   "source": [
    "# Now we should have\n",
    "#       a\n",
    "#      / \\\n",
    "#     b  None\n",
    "#    / \\\n",
    "# None None\n",
    "print(a)\n",
    "print(\"\\t\",a.left)\n",
    "print(\"\\t\",a.right)\n",
    "print(\"-\"*80)\n",
    "print(b)\n",
    "print(\"\\t\",b.left)\n",
    "print(\"\\t\",b.right)"
   ]
  },
  {
   "cell_type": "markdown",
   "metadata": {},
   "source": [
    "### KVBST"
   ]
  },
  {
   "cell_type": "code",
   "execution_count": 8,
   "metadata": {},
   "outputs": [
    {
     "data": {
      "text/plain": [
       "<None:None>"
      ]
     },
     "execution_count": 8,
     "metadata": {},
     "output_type": "execute_result"
    }
   ],
   "source": [
    "# Make an empty KVBST\n",
    "T = KVBST()\n",
    "T"
   ]
  },
  {
   "cell_type": "code",
   "execution_count": 9,
   "metadata": {},
   "outputs": [],
   "source": [
    "# Add some key/value pairs; these have string keys, and strings are comparable, so it's OK\n",
    "T.insert(\"kitten\",88)\n",
    "T.insert(\"chinchilla\",75)\n",
    "T.insert(\"mole rat\",204)"
   ]
  },
  {
   "cell_type": "code",
   "execution_count": 10,
   "metadata": {},
   "outputs": [
    {
     "name": "stdout",
     "output_type": "stream",
     "text": [
      "<'kitten':88>\n",
      "\t <'chinchilla':75>\n",
      "\t <'mole rat':204>\n"
     ]
    }
   ],
   "source": [
    "# Notice the left child has alphabetically earlier key\n",
    "# and the right child has alphabetically later key\n",
    "print(T)\n",
    "print(\"\\t\",T.left)\n",
    "print(\"\\t\",T.right)"
   ]
  },
  {
   "cell_type": "code",
   "execution_count": 11,
   "metadata": {},
   "outputs": [],
   "source": [
    "# No other children present\n",
    "assert T.left.left == None\n",
    "assert T.left.right == None\n",
    "assert T.right.left == None\n",
    "assert T.right.right == None"
   ]
  },
  {
   "cell_type": "code",
   "execution_count": 12,
   "metadata": {},
   "outputs": [],
   "source": [
    "# Check parent relations\n",
    "assert T.right.parent == T\n",
    "assert T.left.parent == T"
   ]
  },
  {
   "cell_type": "markdown",
   "metadata": {},
   "source": [
    "### Dictionary"
   ]
  },
  {
   "cell_type": "code",
   "execution_count": 13,
   "metadata": {},
   "outputs": [
    {
     "data": {
      "text/plain": [
       "Dictionary({})"
      ]
     },
     "execution_count": 13,
     "metadata": {},
     "output_type": "execute_result"
    }
   ],
   "source": [
    "# Make an empty dictionary\n",
    "D = Dictionary()\n",
    "D"
   ]
  },
  {
   "cell_type": "code",
   "execution_count": 14,
   "metadata": {},
   "outputs": [],
   "source": [
    "# Add some stuff\n",
    "D[5] = \"haberdasher\"\n",
    "D[9] = \"oxygen\"\n",
    "D[2] = \"priority\""
   ]
  },
  {
   "cell_type": "code",
   "execution_count": 15,
   "metadata": {},
   "outputs": [
    {
     "data": {
      "text/plain": [
       "Dictionary({2: 'priority', 5: 'haberdasher', 9: 'oxygen'})"
      ]
     },
     "execution_count": 15,
     "metadata": {},
     "output_type": "execute_result"
    }
   ],
   "source": [
    "D"
   ]
  },
  {
   "cell_type": "code",
   "execution_count": 16,
   "metadata": {},
   "outputs": [],
   "source": [
    "# Change some stuff\n",
    "D[9] = \"argon\"  # modify\n",
    "D[11] = \"transformers lunchbox\" # add"
   ]
  },
  {
   "cell_type": "code",
   "execution_count": 17,
   "metadata": {},
   "outputs": [
    {
     "data": {
      "text/plain": [
       "Dictionary({2: 'priority', 5: 'haberdasher', 9: 'argon', 11: 'transformers lunchbox'})"
      ]
     },
     "execution_count": 17,
     "metadata": {},
     "output_type": "execute_result"
    }
   ],
   "source": [
    "D"
   ]
  },
  {
   "cell_type": "code",
   "execution_count": 18,
   "metadata": {},
   "outputs": [
    {
     "data": {
      "text/plain": [
       "<5:'haberdasher'>"
      ]
     },
     "execution_count": 18,
     "metadata": {},
     "output_type": "execute_result"
    }
   ],
   "source": [
    "# What's the root node of the underlying tree?\n",
    "D.T"
   ]
  },
  {
   "cell_type": "code",
   "execution_count": 19,
   "metadata": {},
   "outputs": [
    {
     "data": {
      "text/plain": [
       "False"
      ]
     },
     "execution_count": 19,
     "metadata": {},
     "output_type": "execute_result"
    }
   ],
   "source": [
    "# Check membership as key\n",
    "8 in D"
   ]
  },
  {
   "cell_type": "code",
   "execution_count": 20,
   "metadata": {},
   "outputs": [
    {
     "data": {
      "text/plain": [
       "True"
      ]
     },
     "execution_count": 20,
     "metadata": {},
     "output_type": "execute_result"
    }
   ],
   "source": [
    "# Check membership as key\n",
    "9 in D"
   ]
  },
  {
   "cell_type": "code",
   "execution_count": 21,
   "metadata": {},
   "outputs": [
    {
     "data": {
      "text/plain": [
       "'priority'"
      ]
     },
     "execution_count": 21,
     "metadata": {},
     "output_type": "execute_result"
    }
   ],
   "source": [
    "# Retrieve value associated to key\n",
    "D[2]"
   ]
  },
  {
   "cell_type": "code",
   "execution_count": 22,
   "metadata": {},
   "outputs": [
    {
     "name": "stdout",
     "output_type": "stream",
     "text": [
      "That generated an exception of type KeyError\n"
     ]
    }
   ],
   "source": [
    "# Attempt to retrieve value for key that isn't there\n",
    "try:\n",
    "    D[88461713]\n",
    "except Exception as e:\n",
    "    print(\"That generated an exception of type\",e.__class__.__name__)    "
   ]
  },
  {
   "cell_type": "code",
   "execution_count": 23,
   "metadata": {},
   "outputs": [
    {
     "name": "stdout",
     "output_type": "stream",
     "text": [
      "That generated an exception of type TypeError\n"
     ]
    }
   ],
   "source": [
    "# Attempt to get a key that isn't comparable to the ones already there\n",
    "# will generate an exception because comparison is attempted\n",
    "# (I catch the exception to avoid printing the solution code\n",
    "# as part of the traceback!)\n",
    "try:\n",
    "    D[\"reconsidering\"]  # str not comparable to int\n",
    "except Exception as e:\n",
    "    print(\"That generated an exception of type\",e.__class__.__name__)"
   ]
  },
  {
   "cell_type": "code",
   "execution_count": 24,
   "metadata": {},
   "outputs": [],
   "source": [
    "# Make a Dictionary that starts with some items in it\n",
    "# by passing `starting_items`\n",
    "E = Dictionary({3:17, 2:25, 6:0, 5:0, 1:42})"
   ]
  },
  {
   "cell_type": "code",
   "execution_count": 25,
   "metadata": {},
   "outputs": [
    {
     "data": {
      "text/plain": [
       "Dictionary({1: 42, 2: 25, 3: 17, 5: 0, 6: 0})"
      ]
     },
     "execution_count": 25,
     "metadata": {},
     "output_type": "execute_result"
    }
   ],
   "source": [
    "E"
   ]
  },
  {
   "cell_type": "code",
   "execution_count": 26,
   "metadata": {},
   "outputs": [
    {
     "data": {
      "text/plain": [
       "25"
      ]
     },
     "execution_count": 26,
     "metadata": {},
     "output_type": "execute_result"
    }
   ],
   "source": [
    "E[2]"
   ]
  },
  {
   "cell_type": "code",
   "execution_count": 27,
   "metadata": {},
   "outputs": [
    {
     "name": "stdout",
     "output_type": "stream",
     "text": [
      "That generated an exception of type KeyError\n"
     ]
    }
   ],
   "source": [
    "try:\n",
    "    E[4]\n",
    "except Exception as e:\n",
    "    print(\"That generated an exception of type\",e.__class__.__name__)"
   ]
  },
  {
   "cell_type": "code",
   "execution_count": 28,
   "metadata": {},
   "outputs": [],
   "source": [
    "E[2]=10000000000"
   ]
  },
  {
   "cell_type": "code",
   "execution_count": 29,
   "metadata": {},
   "outputs": [
    {
     "data": {
      "text/plain": [
       "10000000000"
      ]
     },
     "execution_count": 29,
     "metadata": {},
     "output_type": "execute_result"
    }
   ],
   "source": [
    "E[2]"
   ]
  },
  {
   "cell_type": "markdown",
   "metadata": {},
   "source": [
    "## How your project will be graded\n",
    "\n",
    "### Autograder: 35 points\n",
    "\n",
    "The autograder tests your module and grades it based on its behavior.  The test code in `proj3.py` won't be tested by the autograder.\n",
    "\n",
    "### Manual review: 15 points\n",
    "\n",
    "I will review your code and look for adherence to the coding standards and other rules given above.  I will also check that the test code in `proj3.py` does what was specified above."
   ]
  },
  {
   "cell_type": "markdown",
   "metadata": {},
   "source": [
    "## Revision history\n",
    "\n",
    "* 2023-03-05 Initial publication"
   ]
  }
 ],
 "metadata": {
  "kernelspec": {
   "display_name": "Python 3 (ipykernel)",
   "language": "python",
   "name": "python3"
  },
  "language_info": {
   "codemirror_mode": {
    "name": "ipython",
    "version": 3
   },
   "file_extension": ".py",
   "mimetype": "text/x-python",
   "name": "python",
   "nbconvert_exporter": "python",
   "pygments_lexer": "ipython3",
   "version": "3.10.6"
  }
 },
 "nbformat": 4,
 "nbformat_minor": 4
}
