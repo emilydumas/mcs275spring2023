{
 "cells": [
  {
   "cell_type": "markdown",
   "metadata": {},
   "source": [
    "# MCS 275 Spring 2023 Homework 3 Solutions\n",
    "\n",
    "* Course Instructor: Emily Dumas\n",
    "* Contributors to this document: Kylash Viswanathan"
   ]
  },
  {
   "cell_type": "markdown",
   "metadata": {},
   "source": [
    "## Instructions:\n",
    "\n",
    "* Complete the problems below, which ask you to write Python scripts.\n",
    "* Upload your python code directly to gradescope, i.e. upload the `.py` files containing your work.\n",
    "\n",
    "### Deadline\n",
    "This homework assignment must be submitted in Gradescope by **Noon central time on Tuesday 31 January 2023**.\n",
    "\n",
    "### Collaboration\n",
    "\n",
    "**Collaboration is prohibited**, and you may only access resources (books, online, etc.) listed below.\n",
    "\n",
    "### Content\n",
    "This assignment is about object-oriented programming, based on worksheets 1-3 and lectures 1-4.  It focuses on the material of worksheet 3.\n",
    "\n",
    "### Resources you may consult\n",
    "\n",
    "The course materials you may refer to for this homework are:\n",
    "* [Worksheet 3 Solutions](https://www.dumas.io/teaching/2023/spring/mcs275/nbview/worksheets/worksheet3soln.html)\n",
    "* [Lecture 3](https://www.dumas.io/teaching/2023/spring/mcs275/slides/lecture3.html) - Python tour part 2\n",
    "* [Lecture 4](https://www.dumas.io/teaching/2023/spring/mcs275/slides/lecture4.html) - Overloading\n",
    "* Any other lecture of MCS 275 spring 2023.\n",
    "* [Python tour](https://www.dumas.io/teaching/2023/spring/mcs275/nbview/samplecode/python_tour.html)\n",
    "* These other things that are allowed, but probably not needed:\n",
    "    * Any of the MCS 275 slide presentations\n",
    "    * Slides from any lecture of the previous course, [MCS 260, Fall 2021](https://www.dumas.io/teaching/2021/fall/mcs260/).\n",
    "    * Any lecture video posted on the [course Blackboard site](https://uic.blackboard.com/ultra/courses/_247708_1/cl/outline)\n",
    "    * [Downey's book](https://greenteapress.com/thinkpython2/html/)\n",
    "    * Any other textbook listed on the course blackboard site under \"Textbooks\"\n",
    "* Examples from our [sample code repository](https://github.com/emilydumas/mcs275spring2023/tree/main/samplecode)\n",
    "\n",
    "### Point distribution\n",
    "\n",
    "This homework assignment has 2 problems, numbered 2 and 3.  The grading breakdown is:\n",
    "\n",
    "| Points | Item |\n",
    "| --- | --- |\n",
    "| 3 | Autograder |\n",
    "| 6 | Problem 2 |\n",
    "| 6 | Problem 3 |\n",
    "| **15** | Total |\n",
    "\n",
    "The part marked \"autograder\" reflects points assigned to your submission based on some simple automated checks for Python syntax, etc.  The result of these checks is shown immediately after you submit.\n",
    "\n",
    "### What to do if you're stuck\n",
    "\n",
    "Ask your instructor or TA a question by email, in office hours, or on discord."
   ]
  },
  {
   "cell_type": "markdown",
   "metadata": {},
   "source": [
    "## Problem 1 doesn't exist\n",
    "\n",
    "In Gradescope, the score assigned to your homework submission by the autograder (checking for syntax and docstrings) will be recorded as \"Problem 1\".  Therefore, the numbering of the actual problems begins with 2.\n",
    "\n",
    "**This will happen on every assignment this semester.**  Starting on the next homework, I won't comment on this practice in the homework, and will just omit problem 1."
   ]
  },
  {
   "cell_type": "markdown",
   "metadata": {},
   "source": [
    "## Problem 2: The universal mimetic class\n",
    "\n",
    "Put the work you do for this problem in a file `hwk3prob2.py`.\n",
    "\n",
    "Make a Python class `UniversalMimic` whose constructor takes no arguments (e.g. you can make one with `UniversalMimic()`).  Use operator overloading to make it so that any instance of this class thinks it is equal to every other object.  For example:"
   ]
  },
  {
   "cell_type": "code",
   "execution_count": 3,
   "metadata": {},
   "outputs": [],
   "source": [
    "U = UniversalMimic()"
   ]
  },
  {
   "cell_type": "code",
   "execution_count": 4,
   "metadata": {},
   "outputs": [
    {
     "data": {
      "text/plain": [
       "True"
      ]
     },
     "execution_count": 4,
     "metadata": {},
     "output_type": "execute_result"
    }
   ],
   "source": [
    "1 == U"
   ]
  },
  {
   "cell_type": "code",
   "execution_count": 5,
   "metadata": {},
   "outputs": [
    {
     "data": {
      "text/plain": [
       "True"
      ]
     },
     "execution_count": 5,
     "metadata": {},
     "output_type": "execute_result"
    }
   ],
   "source": [
    "U == 0"
   ]
  },
  {
   "cell_type": "code",
   "execution_count": 6,
   "metadata": {},
   "outputs": [
    {
     "data": {
      "text/plain": [
       "True"
      ]
     },
     "execution_count": 6,
     "metadata": {},
     "output_type": "execute_result"
    }
   ],
   "source": [
    "U == None"
   ]
  },
  {
   "cell_type": "code",
   "execution_count": 7,
   "metadata": {},
   "outputs": [
    {
     "data": {
      "text/plain": [
       "True"
      ]
     },
     "execution_count": 7,
     "metadata": {},
     "output_type": "execute_result"
    }
   ],
   "source": [
    "U == \"a slice of apple pie\""
   ]
  },
  {
   "cell_type": "code",
   "execution_count": 8,
   "metadata": {},
   "outputs": [
    {
     "data": {
      "text/plain": [
       "True"
      ]
     },
     "execution_count": 8,
     "metadata": {},
     "output_type": "execute_result"
    }
   ],
   "source": [
    "U == 2.75"
   ]
  },
  {
   "cell_type": "code",
   "execution_count": 9,
   "metadata": {},
   "outputs": [
    {
     "data": {
      "text/plain": [
       "True"
      ]
     },
     "execution_count": 9,
     "metadata": {},
     "output_type": "execute_result"
    }
   ],
   "source": [
    "U == { \"course\": \"MCS 275\", \"meeting time\": \"12:00pm\", \"enrollment_max\": 28 }"
   ]
  },
  {
   "cell_type": "markdown",
   "metadata": {},
   "source": [
    "Note that in an expression like `A == UniversalMimic()`, it's possible that `A` might have its own `__eq__` method that returns `False`, and since Python checks with the left object first, you can't avoid this test returning `False`.  Don't worry about that.  Just make your best effort to ensure all equality comparisons this class controls will return `True`.\n",
    "\n",
    "**Remark:** This is a contrived test of overloading, and not something you should do in actual code."
   ]
  },
  {
   "cell_type": "markdown",
   "metadata": {},
   "source": [
    "### Solution"
   ]
  },
  {
   "cell_type": "code",
   "execution_count": 2,
   "metadata": {},
   "outputs": [],
   "source": [
    "class UniversalMimic:\n",
    "    \"The UniversalMimic class identifies as being equal to all other objects\"\n",
    "\n",
    "    # Note that no constructor is required as all objects inherit the no-argument constructor from the object class\n",
    "    \n",
    "    def __eq__(self, other):\n",
    "        \"Returns true for all objects\"\n",
    "        return True\n",
    "\n"
   ]
  },
  {
   "cell_type": "markdown",
   "metadata": {},
   "source": [
    "## Problem 3: Into the third dimension\n",
    "\n",
    "Put the work you do for this problem in a file `hwk3prob3.py`.\n",
    "\n",
    "In lecture 4, we built a module [`plane.py`](https://github.com/emilydumas/mcs275spring2023/blob/main/samplecode/oop/plane.py) that represents\n",
    "* Two-dimensional points $(x,y)$ using the `Point2` class, and\n",
    "* Two-dimensional vectors $\\langle x,y \\rangle$ using the `Vector2` class\n",
    "\n",
    "Take that module and modify it (renaming it to `hwk3prob3.py`) so that it instead contains these two classes:\n",
    "* `Point3` representing three-dimensional points $(x,y,z)$ and\n",
    "* `Vector3` representing three-dimensional vectors $\\langle x,y,z \\rangle$.\n",
    "\n",
    "Mostly this will involve small changes to account for the third coordinate/component.\n",
    "\n",
    "But also add one new method to `Vector3`:\n",
    "* `def cross(self,other):` : Returns the vector cross product $(\\mathrm{self}) \\times (\\mathrm{other})$.  Thus if `v` and `w` are `Vector3` objects, you can compute the cross product (which is another `Vector3`) as `v.cross(w)`.\n",
    "\n",
    "Also take care to update `__abs__` so it knows the right way to compute length in 3 dimensions.\n",
    "\n",
    "### 3D geometry\n",
    "\n",
    "No prerequisite course of MCS 275 has 3-dimensional geometry in its required topic list, so here are the things you need to know in this problem:\n",
    "* Adding 3-dimensional vectors to each other and to points is just like the 2-dimensional case: It happens separately for each component, but now there are $x$, $y$, and $z$ components.\n",
    "* The vector cross product is given by this formula:\n",
    "$$ \\langle a,b,c \\rangle \\times \\langle d,e,f \\rangle = \\langle bf - ce, \\, cd-af, \\, ae-bd\\rangle $$\n",
    "* The length of vector $\\langle a,b,c \\rangle$ is given by the formula\n",
    "$$\\sqrt{a^2 + b^2 + c^2}.$$\n",
    "\n",
    "If anything about the geometric side of this question is unclear, please ask!  We mean for it to be a question about translating those ideas into code."
   ]
  },
  {
   "cell_type": "markdown",
   "metadata": {},
   "source": [
    "### Solution"
   ]
  },
  {
   "cell_type": "code",
   "execution_count": null,
   "metadata": {},
   "outputs": [],
   "source": [
    "\n",
    "class Point3:\n",
    "    \"3D Point representation in the plane\"\n",
    "\n",
    "    def __init__(self, x, y, z):\n",
    "        \"Initialize new point from x, y, and z coordinates\"\n",
    "        self.x = x\n",
    "        self.y = y\n",
    "        self.z = z\n",
    "\n",
    "    def __eq__(self, other):\n",
    "        \"points are equal if and only if they have same coordinates\"\n",
    "        if isinstance(other, Point3):\n",
    "            return (self.x == other.x) and (self.y == other.y) and (self.z == other.z)\n",
    "        else:\n",
    "            return False\n",
    "\n",
    "    def __add__(self, other):\n",
    "        \"point3 + vector3 addition\"\n",
    "        if isinstance(other, Vector3):\n",
    "            #add Point3 to another Vector3\n",
    "            return Point3(self.x + other.x, self.y + other.y, self.z + other.z)\n",
    "        else:\n",
    "            # dont allow Point3 addition to other objects\n",
    "            return NotImplemented  \n",
    "\n",
    "    def __sub__(self, other):\n",
    "        \"point-point subtraction, gives displacement vector\"\n",
    "        if isinstance(other, Point3):\n",
    "            return Vector3(self.x - other.x, self.y - other.y, self.z - other.z)\n",
    "        else:\n",
    "            return NotImplemented\n",
    "\n",
    "    def __str__(self):\n",
    "        \"human-readable string representation\"\n",
    "        return \"Point3({},{},{})\".format(self.x, self.y, self.z)\n",
    "\n",
    "    def __repr__(self):\n",
    "        \"unambiguous string representation\"\n",
    "        return str(self)\n",
    "\n",
    "    def distance_to(self, other):\n",
    "        \"get distance between two points\"\n",
    "        if isinstance(other, Point3):\n",
    "            return abs(self - other)\n",
    "        else:\n",
    "            raise TypeError(\"A Point3 object is needed to compute the distance\")\n",
    "\n",
    "\n",
    "class Vector3:\n",
    "    \"Displacement 3D vector in the plane\"\n",
    "\n",
    "    def __init__(self, x, y, z):\n",
    "        \"Initialize new vector from x, y, and z components\"\n",
    "        self.x = x\n",
    "        self.y = y\n",
    "        self.z = z\n",
    "\n",
    "    def __eq__(self, other):\n",
    "        \"vectors are equal if and only if they have same components\"\n",
    "        if isinstance(other, Vector3):\n",
    "            return (self.x == other.x) and (self.y == other.y) and (self.z == other.z)\n",
    "        else:\n",
    "            return False\n",
    "\n",
    "    def __add__(self, other):\n",
    "        \"vector addition\"\n",
    "        if isinstance(other, Vector3):\n",
    "            # vector+vector = vector\n",
    "            return Vector3(self.x + other.x, self.y + other.y, self.z + other.z)\n",
    "        elif isinstance(other, Point3):\n",
    "            # vector + point = point\n",
    "            return Point3(self.x + other.x, self.y + other.y, self.z + other.z)\n",
    "        else:\n",
    "            # vector + anything else = nonsense\n",
    "            return NotImplemented  # return this to forbid the requested operation\n",
    "\n",
    "    def __mul__(self, other):\n",
    "        \"vector-scalar multiplication\"\n",
    "        if isinstance(other, (float, int)):  # isinstance allows a tuple of types\n",
    "            # vector*scalar is vector\n",
    "            return Vector3(self.x * other, self.y * other, self.z * other)\n",
    "        else:\n",
    "            return NotImplemented\n",
    "\n",
    "    def __rmul__(self, other):\n",
    "        \"scalar-vector multiplication\"\n",
    "        # Called if other*self already attempted but failed\n",
    "        # for example if other is an int or float and self is a Vector3\n",
    "        # This \"second chance\" reflected version of multiplication lets the\n",
    "        # right hand operand decide what to do.  In this case, we just decide\n",
    "        # that other*self is the same as self*other (handled by Vector3.__mul__ above)\n",
    "        return self * other\n",
    "\n",
    "    def __neg__(self):\n",
    "        \"unary minus\"\n",
    "        return Vector3(-self.x, -self.y, -self.z)\n",
    "\n",
    "    def __pos__(self):\n",
    "        \"unary plus: return a copy of the object\"\n",
    "        return self\n",
    "\n",
    "    def __abs__(self):\n",
    "        \"abs means length of a vector\"\n",
    "        return (self.x * self.x + self.y * self.y + self.z * self.z) ** 0.5  \n",
    "\n",
    "    def __str__(self):\n",
    "        \"human-readable string representation\"\n",
    "        return \"Vector3({},{},{})\".format(self.x, self.y, self.z)\n",
    "\n",
    "    def __repr__(self):\n",
    "        \"unambiguous string representation\"\n",
    "        return str(self)\n",
    "\n",
    "    def cross(self, other):\n",
    "        \"computes and returns the cross product of two 3D vectors\"\n",
    "        x_cross_comp = self.y * other.z - self.z * other.y\n",
    "        y_cross_comp = self.z * other.x - self.x * other.z\n",
    "        z_cross_comp = self.x * other.y - self.y * other.x\n",
    "        return Vector3(x_cross_comp, y_cross_comp, z_cross_comp)\n",
    "\n"
   ]
  },
  {
   "cell_type": "markdown",
   "metadata": {},
   "source": [
    "### Revision history\n",
    "\n",
    "* 2023-01-26 Initial publication"
   ]
  }
 ],
 "metadata": {
  "kernelspec": {
   "display_name": "Python 3 (ipykernel)",
   "language": "python",
   "name": "python3"
  },
  "language_info": {
   "codemirror_mode": {
    "name": "ipython",
    "version": 3
   },
   "file_extension": ".py",
   "mimetype": "text/x-python",
   "name": "python",
   "nbconvert_exporter": "python",
   "pygments_lexer": "ipython3",
   "version": "3.10.6"
  }
 },
 "nbformat": 4,
 "nbformat_minor": 4
}
