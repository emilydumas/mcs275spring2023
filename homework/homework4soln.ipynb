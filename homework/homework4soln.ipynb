{
 "cells": [
  {
   "cell_type": "markdown",
   "metadata": {},
   "source": [
    "# MCS 275 Spring 2023 Homework 4 Solutions\n",
    "\n",
    "* Course Instructor: Emily Dumas\n",
    "* Contributors to this document: Johnny Joyce"
   ]
  },
  {
   "cell_type": "markdown",
   "metadata": {},
   "source": [
    "## Instructions:\n",
    "\n",
    "* Complete the problems below, which ask you to write Python scripts.\n",
    "* Upload your python code directly to gradescope, i.e. upload the `.py` files containing your work.\n",
    "\n",
    "### Deadline\n",
    "This homework assignment must be submitted in Gradescope by **Noon central time on Tuesday February 7, 2023**.\n",
    "\n",
    "### Collaboration\n",
    "\n",
    "**Collaboration is prohibited**, and you may only access resources (books, online, etc.) listed below.\n",
    "\n",
    "### Content\n",
    "This assignment is about object-oriented programming, especially subclasses and inheritance.  It focuses on the material of worksheet 4.\n",
    "\n",
    "### Resources you may consult\n",
    "\n",
    "Most relevant:\n",
    "* [Worksheet 4 Solutions](https://www.dumas.io/teaching/2023/spring/mcs275/nbview/worksheets/worksheet4soln.html)\n",
    "* [Lecture 4 - Operator Overloading](https://www.dumas.io/teaching/2023/spring/mcs275/slides/lecture4.html)\n",
    "* [Lecture 5 - Inheritance](https://www.dumas.io/teaching/2023/spring/mcs275/slides/lecture5.html)\n",
    "* [Lecture 6 - Inheritance part 2](https://www.dumas.io/teaching/2023/spring/mcs275/slides/lecture6.html)\n",
    "* Examples from our [sample code repository](https://github.com/emilydumas/mcs275spring2023/tree/main/samplecode)\n",
    "\n",
    "Less likely to be relevant, but also allowed:\n",
    "* Any other lecture of MCS 275 spring 2023.\n",
    "* [Python tour](https://www.dumas.io/teaching/2023/spring/mcs275/nbview/samplecode/python_tour.html)\n",
    "* Slides from any lecture of my most recent MCS 260 course [MCS 260, Fall 2021](https://www.dumas.io/teaching/2021/fall/mcs260/).\n",
    "* Any lecture video posted on our [course Blackboard site](https://uic.blackboard.com/ultra/courses/_247708_1/cl/outline)\n",
    "* [Downey's book](https://greenteapress.com/thinkpython2/html/)\n",
    "* Any other textbook listed on the course blackboard site under \"Textbooks\"\n",
    "\n",
    "### Point distribution\n",
    "\n",
    "This homework assignment has 2 problems, numbered 2 and 3.  The grading breakdown is:\n",
    "\n",
    "| Points | Item |\n",
    "| --- | --- |\n",
    "| 3 | Autograder |\n",
    "| 6 | Problem 2 |\n",
    "| 6 | Problem 3 |\n",
    "| **15** | Total |\n",
    "\n",
    "The part marked \"autograder\" reflects points assigned to your submission based on some simple automated checks for Python syntax, etc.  The result of these checks is shown immediately after you submit.\n",
    "\n",
    "### What to do if you're stuck\n",
    "\n",
    "Ask your instructor or TA a question by email, in office hours, or on discord."
   ]
  },
  {
   "cell_type": "markdown",
   "metadata": {},
   "source": [
    "## Problem 1 doesn't exist\n",
    "\n",
    "In Gradescope, the score assigned to your homework submission by the autograder (checking for syntax and docstrings) will be recorded as \"Problem 1\".  Therefore, the numbering of the actual problems begins with 2.\n",
    "\n",
    "**This will happen on every assignment this semester.**  Starting on the next homework, I won't comment on this practice in the homework, and will just omit problem 1."
   ]
  },
  {
   "cell_type": "markdown",
   "metadata": {},
   "source": [
    "## Get `bots.py`\n",
    "\n",
    "Both problems on this assignment involve adding subclasses to `bots.py`.  So you'll need to grab a copy of that example module to modify in this project:\n",
    "* [bots.py](https://raw.githubusercontent.com/daviddumas/mcs275spring2023/main/samplecode/oop/bots.py)\n",
    "* [plane.py](https://raw.githubusercontent.com/daviddumas/mcs275spring2023/main/samplecode/oop/plane.py)\n",
    "\n",
    "The second file (`plane.py`) is used by `bots.py` but won't be modified for this assignment.\n",
    "\n",
    "**When you submit this homework, upload the modified file `bots.py` and nothing else.**"
   ]
  },
  {
   "cell_type": "markdown",
   "metadata": {},
   "source": [
    "## Problem 2: `HoverBot`\n",
    "\n",
    "Make a subclass `HoverBot` of `Bot` whose constructor expects to be given another `Bot` instance (the *target*), and which then always makes sure it remains near that robot, but moves randomly around it.  So it \"hovers\" near a given robot.\n",
    "\n",
    "Specifically, \"hovering\" should mean that the target robot and the `HoverBot` always have positions that differ by one of $\\langle 1,0\\rangle$, $\\langle -1,0\\rangle$, $\\langle 0,1\\rangle$, $\\langle 0,-1\\rangle$.    The `HoverBot` constructor should accept an argument `target` that is expected to be an instance of `Bot`.  This argument should be stored as an instance attribute (`self.target`).\n",
    "\n",
    "Any time the `HoverBot` needs to make a decision about its position (e.g. in the constructor or in `update`), it should check the target position and add a random vector from the list given above to decide on its own position.  It should not modify the target robot at all."
   ]
  },
  {
   "cell_type": "markdown",
   "metadata": {},
   "source": [
    "## Solution"
   ]
  },
  {
   "cell_type": "code",
   "execution_count": null,
   "metadata": {},
   "outputs": [],
   "source": [
    "class HoverBot(Bot):\n",
    "    \"\"\"Bot that hovers near another given bot\"\"\"\n",
    "    \n",
    "    symbol = \"H\"\n",
    "    steps = [\n",
    "        plane.Vector2(1, 0),\n",
    "        plane.Vector2(-1, 0),\n",
    "        plane.Vector2(0, 1),\n",
    "        plane.Vector2(0, -1),\n",
    "    ]\n",
    "    \n",
    "    def __init__(self, target):\n",
    "        \"\"\"`target` argument is the bot that HoverBot should hover near\"\"\"\n",
    "        \n",
    "        self.target = target\n",
    "        position = self.target.position + random.choice(self.steps)\n",
    "        super().__init__(position)\n",
    "        \n",
    "        \n",
    "    def update(self):\n",
    "        \"\"\"Keep current position 1 away from target\"\"\"\n",
    "        \n",
    "        # Copy target's position and offset by 1\n",
    "        self.position = self.target.position + random.choice(self.steps)"
   ]
  },
  {
   "cell_type": "markdown",
   "metadata": {},
   "source": [
    "### Example of `HoverBot` behavior\n",
    "\n",
    "Here's an example of how `HoverBot` should behave.  In this case it is asked to hover near a `PatrolBot`.  Notice the two move around but their positions always differ by $\\langle 1,0\\rangle$, $\\langle -1,0\\rangle$, $\\langle 0,1\\rangle$, or $\\langle 0,-1\\rangle$."
   ]
  },
  {
   "cell_type": "code",
   "execution_count": 17,
   "metadata": {},
   "outputs": [
    {
     "name": "stdout",
     "output_type": "stream",
     "text": [
      "PatrolBot at Point2(0,0)\n",
      "HoverBot at Point2(1,0)\n",
      "Difference=Vector2(1,0)\n",
      "\n",
      "PatrolBot at Point2(2,1)\n",
      "HoverBot at Point2(1,1)\n",
      "Difference=Vector2(-1,0)\n",
      "\n",
      "PatrolBot at Point2(4,2)\n",
      "HoverBot at Point2(5,2)\n",
      "Difference=Vector2(1,0)\n",
      "\n",
      "PatrolBot at Point2(6,3)\n",
      "HoverBot at Point2(7,3)\n",
      "Difference=Vector2(1,0)\n",
      "\n",
      "PatrolBot at Point2(8,4)\n",
      "HoverBot at Point2(8,3)\n",
      "Difference=Vector2(0,-1)\n",
      "\n",
      "PatrolBot at Point2(10,5)\n",
      "HoverBot at Point2(11,5)\n",
      "Difference=Vector2(1,0)\n",
      "\n",
      "PatrolBot at Point2(12,6)\n",
      "HoverBot at Point2(12,5)\n",
      "Difference=Vector2(0,-1)\n",
      "\n",
      "PatrolBot at Point2(14,7)\n",
      "HoverBot at Point2(15,7)\n",
      "Difference=Vector2(1,0)\n",
      "\n",
      "PatrolBot at Point2(16,8)\n",
      "HoverBot at Point2(15,8)\n",
      "Difference=Vector2(-1,0)\n",
      "\n",
      "PatrolBot at Point2(18,9)\n",
      "HoverBot at Point2(19,9)\n",
      "Difference=Vector2(1,0)\n",
      "\n"
     ]
    }
   ],
   "source": [
    "import bots\n",
    "import plane\n",
    "\n",
    "B1 = bots.PatrolBot(\n",
    "    position=plane.Point2(0,0),\n",
    "    direction=plane.Vector2(2,1),\n",
    "    n=10\n",
    ")\n",
    "B2 = bots.HoverBot(target=B1)\n",
    "\n",
    "for _ in range(10):\n",
    "    print(\"PatrolBot at {}\".format(B1.position))\n",
    "    print(\"HoverBot at {}\".format(B2.position))\n",
    "    print(\"Difference={}\\n\".format(B2.position-B1.position))\n",
    "    B1.update()\n",
    "    B2.update()"
   ]
  },
  {
   "cell_type": "markdown",
   "metadata": {},
   "source": [
    "## Problem 3: `NoBacktrackWanderBot`\n",
    "\n",
    "Add a subclass `NoBacktrackWanderBot` that behaves similarly to `WanderBot`, taking one random step up, down, left, or right on each step.  However, this class has one essential difference:  The step it chooses will never be the exact opposite of the step it took last time.\n",
    "\n",
    "That is:\n",
    "* On the first call to `update`, this bot does exactly the same thing as a `WanderBot`\n",
    "* On any subsequent call to `update`, this bot knows the step `v` it took last time, and will choose a random step among the ones used by `WanderBot` that are not equal to `-v`.\n",
    "    * e.g. if on step 1 the robot chooses $\\langle 1,0\\rangle$, then on step 2 it will choose one of $\\langle 1,0\\rangle$, $\\langle 0,1\\rangle$, $\\langle 0,-1\\rangle$ at random.\n",
    "    \n",
    "**Note:** This class can inherit directly from `Bot` or from any subclass thereof as you deem appropriate."
   ]
  },
  {
   "cell_type": "markdown",
   "metadata": {},
   "source": [
    "## Solution"
   ]
  },
  {
   "cell_type": "code",
   "execution_count": null,
   "metadata": {},
   "outputs": [],
   "source": [
    "class NoBacktrackWanderBot(Bot):\n",
    "    \"\"\"Similar to WanderBot, but does not take opposite step as last update cycle.\"\"\"\n",
    "    \n",
    "    symbol = \"\\u24E6\" # Unicode ⓦ (W in circle)\n",
    "    \n",
    "    steps = [\n",
    "        plane.Vector2(1, 0),\n",
    "        plane.Vector2(-1, 0),\n",
    "        plane.Vector2(0, 1),\n",
    "        plane.Vector2(0, -1),\n",
    "    ]\n",
    "\n",
    "    def __init__(self, position):\n",
    "        \"\"\"Initialize attribute `last_step` to keep track of previous step taken.\"\"\"\n",
    "        super().__init__(position)\n",
    "        self.last_step = None\n",
    "    \n",
    "    def update(self):\n",
    "        \"\"\"Take a random step. Do not repeat previous step\"\"\"\n",
    "        \n",
    "        # If we've taken a step at least once so far:\n",
    "        if self.last_step is not None:\n",
    "            # Remove `-1 * self.last_step` from list of possibilites\n",
    "            possible_steps = [v for v in self.steps if v != - self.last_step]\n",
    "        else:\n",
    "            # Else, we can choose any direction\n",
    "            possible_steps = self.steps\n",
    "        \n",
    "        # Choose one of these steps at random\n",
    "        v = random.choice(possible_steps)\n",
    "        \n",
    "        # Add v to the position of this robot\n",
    "        self.move(v)\n",
    "        \n",
    "        # Remember step taken for next time\n",
    "        self.last_step = v"
   ]
  },
  {
   "cell_type": "markdown",
   "metadata": {},
   "source": [
    "### Example of `NoBacktrackWanderBot` behavior\n",
    "\n",
    "Here's an example of a short program that simulates a `WanderBot` and which points out each time the robot backtracks on its last step."
   ]
  },
  {
   "cell_type": "code",
   "execution_count": 51,
   "metadata": {},
   "outputs": [
    {
     "name": "stdout",
     "output_type": "stream",
     "text": [
      "WanderBot:\n",
      "   Point2(0,0)\n",
      "   Point2(0,1)\n",
      "   Point2(0,0)  (backtracked!)\n",
      "   Point2(0,1)  (backtracked!)\n",
      "   Point2(1,1)\n",
      "   Point2(1,0)\n",
      "   Point2(0,0)\n",
      "   Point2(1,0)  (backtracked!)\n",
      "   Point2(0,0)  (backtracked!)\n",
      "   Point2(-1,0)\n"
     ]
    }
   ],
   "source": [
    "import bots\n",
    "import plane\n",
    "\n",
    "B = bots.WanderBot(position=plane.Point2(0,0))\n",
    "\n",
    "position_log = []\n",
    "print(B.__class__.__name__ + \":\")\n",
    "for _ in range(10):\n",
    "    position_log.append(B.position)\n",
    "    if len(position_log) > 2 and position_log[-3]==position_log[-1]:\n",
    "        print(\"  \", B.position,\" (backtracked!)\")\n",
    "    else:\n",
    "        print(\"  \", B.position)\n",
    "    B.update()"
   ]
  },
  {
   "cell_type": "markdown",
   "metadata": {},
   "source": [
    "And here is the same program using a `NoBacktrackWanderBot`.  Note that no backtracking steps are detected."
   ]
  },
  {
   "cell_type": "code",
   "execution_count": 52,
   "metadata": {},
   "outputs": [
    {
     "name": "stdout",
     "output_type": "stream",
     "text": [
      "NoBacktrackWanderBot:\n",
      "   Point2(0,0)\n",
      "   Point2(0,-1)\n",
      "   Point2(-1,-1)\n",
      "   Point2(-1,-2)\n",
      "   Point2(0,-2)\n",
      "   Point2(0,-1)\n",
      "   Point2(1,-1)\n",
      "   Point2(1,-2)\n",
      "   Point2(1,-3)\n",
      "   Point2(2,-3)\n"
     ]
    }
   ],
   "source": [
    "import bots\n",
    "import plane\n",
    "\n",
    "B = bots.NoBacktrackWanderBot(position=plane.Point2(0,0))\n",
    "\n",
    "position_log = []\n",
    "print(B.__class__.__name__ + \":\")\n",
    "for _ in range(10):\n",
    "    position_log.append(B.position)\n",
    "    if len(position_log) > 2 and position_log[-3]==position_log[-1]:\n",
    "        print(\"  \", B.position,\" (backtracked!)\")\n",
    "    else:\n",
    "        print(\"  \", B.position)\n",
    "    B.update()"
   ]
  },
  {
   "cell_type": "markdown",
   "metadata": {},
   "source": [
    "## Epilogue\n",
    "\n",
    "![Robots walking off into the distance](images/hw4-robots-sunset.jpg)\n",
    "\n",
    "With the completion of this assignment, our work on the robot simulation in MCS 275 is finally done!  To celebrate, here's a picture created by the AI image generator [DALL-E 2](https://openai.com/dall-e-2/) in response to the prompt\n",
    "> A bunch of happy robots walking off into the distance with a sunset behind them digital art\n"
   ]
  },
  {
   "cell_type": "markdown",
   "metadata": {},
   "source": [
    "### Revision history\n",
    "\n",
    "* 2023-02-02 Initial publication"
   ]
  }
 ],
 "metadata": {
  "kernelspec": {
   "display_name": "Python 3 (ipykernel)",
   "language": "python",
   "name": "python3"
  },
  "language_info": {
   "codemirror_mode": {
    "name": "ipython",
    "version": 3
   },
   "file_extension": ".py",
   "mimetype": "text/x-python",
   "name": "python",
   "nbconvert_exporter": "python",
   "pygments_lexer": "ipython3",
   "version": "3.10.6"
  }
 },
 "nbformat": 4,
 "nbformat_minor": 4
}
