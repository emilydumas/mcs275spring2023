{
 "cells": [
  {
   "cell_type": "markdown",
   "metadata": {},
   "source": [
    "# MCS 275 Spring 2023 Homework 6\n",
    "\n",
    "* Course Instructor: Emily Dumas"
   ]
  },
  {
   "cell_type": "markdown",
   "metadata": {},
   "source": [
    "## Instructions:\n",
    "\n",
    "* Complete the problems below, which ask you to write Python scripts.\n",
    "* Upload your python code directly to gradescope, i.e. upload the `.py` files containing your work.\n",
    "\n",
    "### Deadline\n",
    "This homework assignment must be submitted in Gradescope by **Noon central time on Tuesday February 21, 2023**.\n",
    "\n",
    "### Collaboration\n",
    "\n",
    "**Collaboration is prohibited**, and you may only access resources (books, online, etc.) listed below.\n",
    "\n",
    "### Content\n",
    "This assignment is about recursion with backtracking.  It's a little shorter than usual as I know you're working on Project 2, and this assignment and that project cover some similar ground.\n",
    "\n",
    "### Resources you may consult\n",
    "\n",
    "Most relevant:    \n",
    "* [Worksheet 6 Solutions](https://www.dumas.io/teaching/2023/spring/mcs275/nbview/worksheets/worksheet6soln.html)\n",
    "* [Lecture 10 - Recursion vs iteration](http://dumas.io/teaching/2023/spring/mcs275/slides/lecture10.html)\n",
    "* [Lecture 11 - Recursion vs iteration II](http://dumas.io/teaching/2023/spring/mcs275/slides/lecture11.html)\n",
    "* [Lecture 12 - Recursion with backtracking](http://dumas.io/teaching/2023/spring/mcs275/slides/lecture13.html)\n",
    "* [Sample programs](https://github.com/emilydumas/mcs275spring2023/tree/main/samplecode)\n",
    "* [Downey's book](https://greenteapress.com/thinkpython2/html/)\n",
    "* MCS 260 course materials from Fall 2021:\n",
    "    * [Slides, homework, worksheets, and projects](https://www.dumas.io/teaching/2021/fall/mcs260/)\n",
    "    * [Sample programs](https://github.com/emilydumas/mcs260fall2021/tree/main/samplecode)\n",
    "\n",
    "Less likely to be relevant, but also allowed:\n",
    "* Any other lecture of MCS 275 spring 2023.\n",
    "* [Python tour](https://www.dumas.io/teaching/2023/spring/mcs275/nbview/samplecode/python_tour.html)\n",
    "* Slides from any lecture of my most recent MCS 260 course [MCS 260, Fall 2021](https://www.dumas.io/teaching/2021/fall/mcs260/).\n",
    "* Any lecture video posted on our [course Blackboard site](https://uic.blackboard.com/ultra/courses/_247708_1/cl/outline)\n",
    "* [Downey's book](https://greenteapress.com/thinkpython2/html/)\n",
    "* Any other textbook listed on the course blackboard site under \"Textbooks\"\n",
    "\n",
    "### Point distribution\n",
    "\n",
    "This homework assignment has 3 problems, numbered 2, 3, and 4.  The grading breakdown is:\n",
    "\n",
    "| Points | Item |\n",
    "| --- | --- |\n",
    "| 3 | Autograder |\n",
    "| 6 | Problem 2 |\n",
    "| **9** | Total |\n",
    "\n",
    "The part marked \"autograder\" reflects points assigned to your submission based on some simple automated checks for Python syntax, etc.  The result of these checks is shown immediately after you submit.\n",
    "\n",
    "### What to do if you're stuck\n",
    "\n",
    "Ask your instructor or TA a question by email, in office hours, or on discord."
   ]
  },
  {
   "cell_type": "markdown",
   "metadata": {},
   "source": [
    "## Problem 2: Does the maze have a short solution?\n",
    "\n",
    "Like much of worksheet 6, this problem builds on the work we did in [solvemaze.py](https://github.com/emilydumas/mcs275spring2023/blob/main/samplecode/recursion/solvemaze.py).\n",
    "\n",
    "### What the length of a solution means\n",
    "\n",
    "Recall our convention is that the solution to a maze is a list of `Point2` objects.  The **length** of a solution to the maze is defined as the number of objects in that list.  So if the start is at `Point2(1,1)` and the goal is at the adjacent location `Point2(1,2)`, then the list `[Point2(1,1), Point2(1,2)]` would be a solution of length 2.\n",
    "\n",
    "\n",
    "### Your task\n",
    "\n",
    "Write a function `can_be_solved_maxlen(M,k)` that takes a `Maze` object `M`, an integer `k` and returns a boolean value:\n",
    "* `True` if maze `M` has a solution of length `k` or less.\n",
    "* `False` is returned otherwise (i.e. if `M` has no solution at all, or if all solutions to `M` have length greater than `k`).\n",
    "\n",
    "It would be reasonable to use `depth_first_maze_solution` from `solvemaze.py` as a starting point for your work, modifying it to do what is needed in this problem.\n",
    "\n",
    "Put this function in a file called `mcs275hwk6.py` and upload it.  You don't need to upload any other files (e.g. no need to include `plane.py` or `maze.py`).\n",
    "\n",
    "### Something to be careful about\n",
    "\n",
    "A maze might have multiple solutions.  Suppose you find a solution of length 30.  There might be another solution of length 22, and so you can't necessarily determine the return value for `can_be_solved_maxlen(M,25)` on the basis of the length of the first solution that's found."
   ]
  },
  {
   "cell_type": "markdown",
   "metadata": {},
   "source": [
    "### Revision history\n",
    "\n",
    "* 2023-02-16 Initial publication"
   ]
  }
 ],
 "metadata": {
  "kernelspec": {
   "display_name": "Python 3 (ipykernel)",
   "language": "python",
   "name": "python3"
  },
  "language_info": {
   "codemirror_mode": {
    "name": "ipython",
    "version": 3
   },
   "file_extension": ".py",
   "mimetype": "text/x-python",
   "name": "python",
   "nbconvert_exporter": "python",
   "pygments_lexer": "ipython3",
   "version": "3.10.6"
  }
 },
 "nbformat": 4,
 "nbformat_minor": 4
}
