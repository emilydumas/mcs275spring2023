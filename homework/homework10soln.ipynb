{
 "cells": [
  {
   "cell_type": "markdown",
   "metadata": {},
   "source": [
    "# MCS 275 Spring 2023 Homework 10 Solutions\n",
    "\n",
    "* Course Instructor: Emily Dumas\n",
    "* Contributors to this document: Johnny Joyce"
   ]
  },
  {
   "cell_type": "markdown",
   "metadata": {},
   "source": [
    "## Instructions:\n",
    "\n",
    "* Complete the problems below, which ask you to write Python scripts.\n",
    "* Upload your python code directly to gradescope, i.e. upload the `.py` files containing your work.\n",
    "\n",
    "### Deadline\n",
    "This homework assignment must be submitted in Gradescope by **Noon central time on Tuesday March 28, 2023**.  That's after spring break.\n",
    "\n",
    "### Collaboration\n",
    "\n",
    "**Collaboration is prohibited**, and you may only access resources (books, online, etc.) listed below.\n",
    "\n",
    "### Content\n",
    "\n",
    "This homework is about `numpy`.\n",
    "\n",
    "## Resources you may consult\n",
    "\n",
    "Most relevant:    \n",
    "* [Worksheet 10 Solutions](https://www.dumas.io/teaching/2023/spring/mcs275/nbview/worksheets/worksheet10soln.html)\n",
    "* [VanderPlas](https://jakevdp.github.io/PythonDataScienceHandbook/):\n",
    "    * Chapter 2 covers numpy\n",
    "* [Numpy documentation](https://numpy.org/doc/)\n",
    "* [Course sample code repo](https://github.com/emilydumas/mcs275spring2023/blob/main/samplecode/)\n",
    "* [Lecture 22 - numpy](http://dumas.io/teaching/2023/spring/mcs275/slides/lecture22.html)\n",
    "* [Lecture 23 - numpy 2](http://dumas.io/teaching/2023/spring/mcs275/slides/lecture23.html)\n",
    "* [Lecture 24 - Julia sets](http://dumas.io/teaching/2023/spring/mcs275/slides/lecture24.html)\n",
    "* [Downey's book](https://greenteapress.com/thinkpython2/html/)\n",
    "* MCS 260 course materials from Fall 2021:\n",
    "    * [Slides, homework, worksheets, and projects](https://www.dumas.io/teaching/2021/fall/mcs260/)\n",
    "    * [Sample programs](https://github.com/emilydumas/mcs260fall2021/tree/main/samplecode)\n",
    "\n",
    "Less likely to be relevant, but also allowed:\n",
    "* Any other lecture of MCS 275 spring 2023.\n",
    "* [Python tour](https://www.dumas.io/teaching/2023/spring/mcs275/nbview/samplecode/python_tour.html)\n",
    "* Slides from any lecture of my most recent MCS 260 course [MCS 260, Fall 2021](https://www.dumas.io/teaching/2021/fall/mcs260/).\n",
    "* Any lecture video posted on our [course Blackboard site](https://uic.blackboard.com/ultra/courses/_247708_1/cl/outline)\n",
    "* [Downey's book](https://greenteapress.com/thinkpython2/html/)\n",
    "* Any other textbook listed on the course blackboard site under \"Textbooks\"\n",
    "\n",
    "### Point distribution\n",
    "\n",
    "This homework assignment has 2 problems, numbered 2 and 3.  The grading breakdown is:\n",
    "\n",
    "| Points | Item |\n",
    "| --- | --- |\n",
    "| 3 | Autograder |\n",
    "| 6 | Problem 2 |\n",
    "| 6 | Problem 3 |\n",
    "| **15** | Total |\n",
    "\n",
    "The part marked \"autograder\" reflects points assigned to your submission based on some simple automated checks for Python syntax, etc.  The result of these checks is shown immediately after you submit.\n",
    "\n",
    "### What to do if you're stuck\n",
    "\n",
    "Ask your instructor or TA a question by email, in office hours, or on discord."
   ]
  },
  {
   "cell_type": "markdown",
   "metadata": {},
   "source": [
    "## Problem 2: Zero border\n",
    "\n",
    "Submit your answer to this problem in a file `hwk10prob2.py`.\n",
    "\n",
    "Write a function `zero_border(sh,k,val)` that returns a matrix (2D numpy array) of shape `sh` (a tuple of two integers) in which all entries are filled with value `val` except for those that are `k` steps or fewer from the edges of the edges of the matrix.\n",
    "\n",
    "In doing so, follow these rules:\n",
    "* Do not make any explicit `for` or `while` loops that involve a number of steps that depends on either of the entries in `sh`.  That is, a call to\n",
    "```python\n",
    "zero_border( (100_000, 50_000), 3, 275)\n",
    "```\n",
    "can't have any explicit `for` or `while` loops that run anywhere close to 50,000 times.\n",
    "* Do not create any arrays of shape other than `sh`.\n",
    "\n",
    "The first of these rules is meant to force you to use `numpy` constructions in an appropriate way, rather than relying on slower Python-based looping constructions.\n",
    "\n",
    "Here's some sample output from the function."
   ]
  },
  {
   "cell_type": "code",
   "execution_count": 27,
   "metadata": {},
   "outputs": [
    {
     "data": {
      "text/plain": [
       "array([[ 0,  0,  0,  0,  0],\n",
       "       [ 0, 12, 12, 12,  0],\n",
       "       [ 0, 12, 12, 12,  0],\n",
       "       [ 0, 12, 12, 12,  0],\n",
       "       [ 0,  0,  0,  0,  0]])"
      ]
     },
     "execution_count": 27,
     "metadata": {},
     "output_type": "execute_result"
    }
   ],
   "source": [
    "zero_border( (5,5), 1, 12)"
   ]
  },
  {
   "cell_type": "code",
   "execution_count": 28,
   "metadata": {},
   "outputs": [
    {
     "data": {
      "text/plain": [
       "array([[ 0,  0,  0,  0,  0],\n",
       "       [ 0,  0,  0,  0,  0],\n",
       "       [ 0,  0, 12,  0,  0],\n",
       "       [ 0,  0,  0,  0,  0],\n",
       "       [ 0,  0,  0,  0,  0]])"
      ]
     },
     "execution_count": 28,
     "metadata": {},
     "output_type": "execute_result"
    }
   ],
   "source": [
    "zero_border( (5,5), 2, 12)"
   ]
  },
  {
   "cell_type": "code",
   "execution_count": 29,
   "metadata": {},
   "outputs": [
    {
     "data": {
      "text/plain": [
       "array([[0, 0, 0, 0, 0],\n",
       "       [0, 0, 0, 0, 0],\n",
       "       [0, 0, 0, 0, 0],\n",
       "       [0, 0, 0, 0, 0],\n",
       "       [0, 0, 0, 0, 0]])"
      ]
     },
     "execution_count": 29,
     "metadata": {},
     "output_type": "execute_result"
    }
   ],
   "source": [
    "zero_border( (5,5), 3, 12)"
   ]
  },
  {
   "cell_type": "code",
   "execution_count": 30,
   "metadata": {},
   "outputs": [
    {
     "data": {
      "text/plain": [
       "array([[0, 0, 0, 0, 0],\n",
       "       [0, 0, 0, 0, 0],\n",
       "       [0, 0, 0, 0, 0],\n",
       "       [0, 0, 0, 0, 0],\n",
       "       [0, 0, 0, 0, 0]])"
      ]
     },
     "execution_count": 30,
     "metadata": {},
     "output_type": "execute_result"
    }
   ],
   "source": [
    "zero_border( (5,5), 200, 12)"
   ]
  },
  {
   "cell_type": "code",
   "execution_count": 31,
   "metadata": {},
   "outputs": [
    {
     "data": {
      "text/plain": [
       "array([[12, 12, 12, 12, 12],\n",
       "       [12, 12, 12, 12, 12],\n",
       "       [12, 12, 12, 12, 12],\n",
       "       [12, 12, 12, 12, 12],\n",
       "       [12, 12, 12, 12, 12]])"
      ]
     },
     "execution_count": 31,
     "metadata": {},
     "output_type": "execute_result"
    }
   ],
   "source": [
    "zero_border( (5,5), 0, 12)"
   ]
  },
  {
   "cell_type": "code",
   "execution_count": 32,
   "metadata": {},
   "outputs": [
    {
     "data": {
      "text/plain": [
       "array([[ 0,  0,  0,  0,  0,  0,  0,  0],\n",
       "       [ 0, 77, 77, 77, 77, 77, 77,  0],\n",
       "       [ 0, 77, 77, 77, 77, 77, 77,  0],\n",
       "       [ 0, 77, 77, 77, 77, 77, 77,  0],\n",
       "       [ 0, 77, 77, 77, 77, 77, 77,  0],\n",
       "       [ 0,  0,  0,  0,  0,  0,  0,  0]])"
      ]
     },
     "execution_count": 32,
     "metadata": {},
     "output_type": "execute_result"
    }
   ],
   "source": [
    "zero_border( (6,8), 1, 77)"
   ]
  },
  {
   "cell_type": "code",
   "execution_count": 33,
   "metadata": {},
   "outputs": [
    {
     "data": {
      "text/plain": [
       "array([[ 0,  0,  0,  0,  0,  0,  0,  0],\n",
       "       [ 0,  0,  0,  0,  0,  0,  0,  0],\n",
       "       [ 0,  0, 77, 77, 77, 77,  0,  0],\n",
       "       [ 0,  0, 77, 77, 77, 77,  0,  0],\n",
       "       [ 0,  0,  0,  0,  0,  0,  0,  0],\n",
       "       [ 0,  0,  0,  0,  0,  0,  0,  0]])"
      ]
     },
     "execution_count": 33,
     "metadata": {},
     "output_type": "execute_result"
    }
   ],
   "source": [
    "zero_border( (6,8), 2, 77)"
   ]
  },
  {
   "cell_type": "markdown",
   "metadata": {},
   "source": [
    "## Solution"
   ]
  },
  {
   "cell_type": "markdown",
   "metadata": {},
   "source": [
    "**Method 1:** Fill an array with `val`, then add in the zeros:"
   ]
  },
  {
   "cell_type": "code",
   "execution_count": null,
   "metadata": {},
   "outputs": [],
   "source": [
    "import numpy as np\n",
    "\n",
    "def zero_border(sh,k,val):\n",
    "    \"\"\"Returns numpy array of size `sh` with zeros on border of size `k` and `val` elsewhere\"\"\"\n",
    "    m = np.full(sh, val)\n",
    "    m[:k] = 0 # Top\n",
    "    m[-k:] = 0 # Bottom\n",
    "    m[ : , :k ] = 0 # Left\n",
    "    m[ : , -k:] = 0 # Right\n",
    "    return m"
   ]
  },
  {
   "cell_type": "markdown",
   "metadata": {},
   "source": [
    "**Method 2:** Fill an array with zeros, then put in the given value everywhere except the border:"
   ]
  },
  {
   "cell_type": "code",
   "execution_count": null,
   "metadata": {},
   "outputs": [],
   "source": [
    "def zero_border(sh,k,val):\n",
    "    \"\"\"Returns numpy array of size `sh` with zeros on border of size `k` and `val` elsewhere\"\"\"\n",
    "    m = np.zeros(sh, dtype=int)\n",
    "    m[k:-k, k:-k] = val\n",
    "    return m"
   ]
  },
  {
   "cell_type": "markdown",
   "metadata": {},
   "source": [
    "## Problem 3: Pixels brighter than the onion\n",
    "\n",
    "Submit your answer to this problem in a file `hwk10prob3.py`.\n",
    "\n",
    "Write a program that expects expects there to be two grayscale image files of the same dimensions in the current directory:\n",
    "* `ws10_grayscale_onion.png` from worksheet 10 and\n",
    "* `photo.png`\n",
    "\n",
    "The program should load these images into numpy arrays, and then use numpy functions and features to answer this question (printing the answer to the terminal):\n",
    "\n",
    "* How many pixels in `photo.png` are brighter (larger grayscale value) than the corresponding pixel in `ws10_grayscale_onion.png`?\n",
    "    * Note: Pixels of equal value don't count; you only care about pixels where `photo.png` is strictly brighter.\n",
    "* What percentage of the pixels in this image does this represent?\n",
    "\n",
    "As with the previous problem, avoid explicit iteration (for or while loops) where the number of steps is one of the image dimensions.\n",
    "\n",
    "The output should look like this (replacing the pixel count and percentage with the actual values):\n",
    "```txt\n",
    "Comparing ws10_grayscale_onion.png and photo.png.\n",
    "Result:\n",
    "photo.png has 1591 pixels that are brighter than the corresponding ones in ws10_grayscale_onion.png.\n",
    "That corresponds to 1.33% of the pixels in photo.png being brighter.\n",
    "```\n",
    "\n",
    "You may copy the image-array conversion functions introduced in worksheet 10 into your solution and use them.  Here they are for reference:"
   ]
  },
  {
   "cell_type": "code",
   "execution_count": 2,
   "metadata": {},
   "outputs": [],
   "source": [
    "import PIL.Image\n",
    "import numpy as np\n",
    "\n",
    "def load_image_to_array(fn):\n",
    "    \"Open image file with name `fn` and return as a numpy array`\"\n",
    "    img = PIL.Image.open(fn)\n",
    "    return np.array(img)\n",
    "\n",
    "def save_array_to_image(fn,A):\n",
    "    \"Save 2D array `A` with dtype `uint8` to file named `fn`\"\n",
    "    assert A.ndims == 2\n",
    "    assert A.dtype == np.dtype(\"uint8\")\n",
    "    img = PIL.Image.fromarray(A)\n",
    "    img.save(fn)"
   ]
  },
  {
   "cell_type": "markdown",
   "metadata": {},
   "source": [
    "## Solution"
   ]
  },
  {
   "cell_type": "markdown",
   "metadata": {},
   "source": [
    "For this example solution, let's use the image we made in Problem 2 of Worksheet 10 where the average brightness of pixels on each row was taken:\n",
    "\n",
    "![ws10_grayscale_onion_rowavg](images/ws10_grayscale_onion_rowavg.png)\n",
    "\n",
    "Using this image is convenient because it has the same dimensions as the original onion image. Let's save this as `photo.png`. Then we can use the following code:"
   ]
  },
  {
   "cell_type": "code",
   "execution_count": 3,
   "metadata": {},
   "outputs": [
    {
     "name": "stdout",
     "output_type": "stream",
     "text": [
      "Comparing ws10_grayscale_onion.png and photo.png.\n",
      "Result:\n",
      "photo.png has 72212 pixels that are brighter than the corresponding ones in ws10_grayscale_onion.png\n",
      "That corresponds to 60.18% of the pixels in photo.png being brighter.\n"
     ]
    }
   ],
   "source": [
    "fn1 = \"ws10_grayscale_onion.png\"\n",
    "fn2 = \"photo.png\" # Row-average image\n",
    "onion = load_image_to_array(fn1)\n",
    "photo = load_image_to_array(fn2)\n",
    "\n",
    "# Number of pixels in `photo` brighter than in `onion`\n",
    "num_brighter = np.sum(photo > onion)\n",
    "\n",
    "# Percentage of pixels brighter\n",
    "percent_brighter = 100 * num_brighter / onion.size\n",
    "\n",
    "# Output\n",
    "print(\"Comparing {} and {}.\".format(fn1, fn2))\n",
    "print(\"Result:\")\n",
    "print(\"{} has {} pixels that are brighter than the corresponding ones in {}\".format(fn2, num_brighter, fn1))\n",
    "print(\"That corresponds to {:.2f}% of the pixels in {} being brighter.\".format(percent_brighter, fn2))"
   ]
  },
  {
   "cell_type": "markdown",
   "metadata": {},
   "source": [
    "### Revision history\n",
    "\n",
    "* 2023-03-16 Initial publication"
   ]
  }
 ],
 "metadata": {
  "kernelspec": {
   "display_name": "Python 3 (ipykernel)",
   "language": "python",
   "name": "python3"
  },
  "language_info": {
   "codemirror_mode": {
    "name": "ipython",
    "version": 3
   },
   "file_extension": ".py",
   "mimetype": "text/x-python",
   "name": "python",
   "nbconvert_exporter": "python",
   "pygments_lexer": "ipython3",
   "version": "3.9.13"
  }
 },
 "nbformat": 4,
 "nbformat_minor": 4
}
