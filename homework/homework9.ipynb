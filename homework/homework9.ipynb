{
 "cells": [
  {
   "cell_type": "markdown",
   "metadata": {},
   "source": [
    "# MCS 275 Spring 2023 Homework 9\n",
    "\n",
    "* Course Instructor: Emily Dumas"
   ]
  },
  {
   "cell_type": "markdown",
   "metadata": {},
   "source": [
    "## Instructions:\n",
    "\n",
    "* Complete the problems below, which ask you to write Python scripts.\n",
    "* Upload your python code directly to gradescope, i.e. upload the `.py` files containing your work.\n",
    "\n",
    "### Deadline\n",
    "This homework assignment must be submitted in Gradescope by **Noon central time on Tuesday March 14, 2023**.\n",
    "\n",
    "### Collaboration\n",
    "\n",
    "**Collaboration is prohibited**, and you may only access resources (books, online, etc.) listed below.\n",
    "\n",
    "### Content\n",
    "\n",
    "This homework is about two of the topics we covered last week:\n",
    "* JSON\n",
    "* Bitmap images using Pillow\n",
    "\n",
    "## Resources you may consult\n",
    "\n",
    "Most relevant:    \n",
    "* [Worksheet 9 Solutions](https://www.dumas.io/teaching/2023/spring/mcs275/nbview/worksheets/worksheet9soln.html)\n",
    "* [Lecture 19 - set and defaultdict](http://dumas.io/teaching/2023/spring/mcs275/slides/lecture19.html)\n",
    "* [Lecture 20 - CSV and JSON](http://dumas.io/teaching/2023/spring/mcs275/slides/lecture20.html)\n",
    "* [Lecture 21 - Pillow](http://dumas.io/teaching/2023/spring/mcs275/slides/lecture21.html)\n",
    "* [Pillow documentation](https://pillow.readthedocs.io/en/stable/)\n",
    "* [Course sample code repo](https://github.com/emilydumas/mcs275spring2023/tree/main/samplecode)\n",
    "* [Downey's book](https://greenteapress.com/thinkpython2/html/)\n",
    "* MCS 260 course materials from Fall 2021:\n",
    "    * [Slides, homework, worksheets, and projects](https://www.dumas.io/teaching/2021/fall/mcs260/)\n",
    "    * [Sample programs](https://github.com/emilydumas/mcs260fall2021/tree/main/samplecode)\n",
    "\n",
    "Less likely to be relevant, but also allowed:\n",
    "* Any other lecture of MCS 275 spring 2023.\n",
    "* [Python tour](https://www.dumas.io/teaching/2023/spring/mcs275/nbview/samplecode/python_tour.html)\n",
    "* Slides from any lecture of my most recent MCS 260 course [MCS 260, Fall 2021](https://www.dumas.io/teaching/2021/fall/mcs260/).\n",
    "* Any lecture video posted on our [course Blackboard site](https://uic.blackboard.com/ultra/courses/_247708_1/cl/outline)\n",
    "* [Downey's book](https://greenteapress.com/thinkpython2/html/)\n",
    "* Any other textbook listed on the course blackboard site under \"Textbooks\"\n",
    "\n",
    "### Point distribution\n",
    "\n",
    "This homework assignment has 2 problems, numbered 2 and 3.  The grading breakdown is:\n",
    "\n",
    "| Points | Item |\n",
    "| --- | --- |\n",
    "| 3 | Autograder |\n",
    "| 6 | Problem 2 |\n",
    "| 6 | Problem 3 |\n",
    "| **15** | Total |\n",
    "\n",
    "The part marked \"autograder\" reflects points assigned to your submission based on some simple automated checks for Python syntax, etc.  The result of these checks is shown immediately after you submit.\n",
    "\n",
    "### What to do if you're stuck\n",
    "\n",
    "Ask your instructor or TA a question by email, in office hours, or on discord."
   ]
  },
  {
   "cell_type": "markdown",
   "metadata": {},
   "source": [
    "## Problem 2: When the fall begins and ends\n",
    "\n",
    "Put your solution to this problem in a file `hwk9prob2.py`.\n",
    "\n",
    "Here is a JSON file containing information about UIC's academic calendar, as it appeared on UIC's web site in August of 2020.\n",
    "\n",
    "* [uic_caldata_2020.json](data/uic_caldata_2020.json)\n",
    "\n",
    "Download it and save it in the place where you work on this homework.\n",
    "\n",
    "Specifically, the file contains data about these years:\n",
    "* 2019\n",
    "* 2020\n",
    "* 2021\n",
    "* 2022\n",
    "* 2023\n",
    "\n",
    "And in most of those years, it contains data about these terms of study:\n",
    "* spring\n",
    "* summer1 (the shorter summer session)\n",
    "* summer2 (the longer summer session)\n",
    "* fall\n",
    "(Spring 2019 and fall 2023 are not present in this dataset.)\n",
    "\n",
    "For each term, the file contains information about the start date, end date, holidays, etc.\n",
    "\n",
    "**Write a Python program that reads this file (using the `json` module) and lists the start and end date of every Fall semester for which information is available in the file.**\n",
    "\n",
    "Rather than hard-coding the specific years present in this file in your program, try to make a program that do the same thing for any `json` file in the same format as this one, e.g.~one generated more recently which contains 2023-2027.\n",
    "\n",
    "The expected output for this JSON file is:\n",
    "```text\n",
    "Fall 2019: 2019-08-26 to 2019-12-06\n",
    "Fall 2020: 2020-08-24 to 2020-12-04\n",
    "Fall 2021: 2021-08-23 to 2021-12-03\n",
    "Fall 2022: 2022-08-22 to 2022-12-02\n",
    "```\n",
    "\n",
    "**Note:** Most of the work for this problem lies in understanding the structure of the data inside the JSON file.  I recommend exploring it in a Python notebook so you can find the information you need, then write a program to extract that information systematically."
   ]
  },
  {
   "cell_type": "markdown",
   "metadata": {},
   "source": [
    "## Problem 3: Stripe maker\n",
    "\n",
    "Put your solution to this problem in a file `hwk9prob3.py`.\n",
    "\n",
    "Using Pillow (module `PIL`), write a function `stripe_maker` that will create a bitmap image file of a specified name with colored stripes.  The function definition should be:"
   ]
  },
  {
   "cell_type": "code",
   "execution_count": null,
   "metadata": {},
   "outputs": [],
   "source": [
    "def stripe_maker(\n",
    "    fn,\n",
    "    size=(300, 200),\n",
    "    orientation=\"diagonal\",\n",
    "    colors=[(255,255,255),(0,0,0)],\n",
    "    stripe_thickness=10,\n",
    "):\n",
    "    \"\"\"\n",
    "    Create an image whose dimensions are given by tuple `size`, filled with stripes.\n",
    "    The stripes cycle between the colors in the list `colors`, in order, repeating\n",
    "    until the image is filled.  The orientation of the stripes is controller by\n",
    "    argument `orientation`, which can have values:\n",
    "    * \"horizontal\" - The stripes are horizontal, with height `stripe_thickness` pixels\n",
    "    * \"vertical\" - The stripes are vertical, with width `stripe_thickness` pixels\n",
    "    * \"diagonal\" - The stripes are diagonal, going from lower left to upper right at an\n",
    "       angle of 45 degrees.  The width and height of any stripe (which are equal due to\n",
    "       the 45 degree angle) is `stripe_thickness` pixels.\n",
    "\n",
    "    The resulting image is then saved to a bitmap image file whose name is given by\n",
    "    argument `fn`.\n",
    "    \"\"\""
   ]
  },
  {
   "cell_type": "markdown",
   "metadata": {},
   "source": [
    "The docstring above explains what the function should do."
   ]
  },
  {
   "cell_type": "markdown",
   "metadata": {},
   "source": [
    "Here's a few samples of what the resulting image files should look like, for various combinations of arguments."
   ]
  },
  {
   "cell_type": "code",
   "execution_count": 29,
   "metadata": {},
   "outputs": [
    {
     "data": {
      "image/png": "[encoded data removed]",
      "text/plain": [
       "<PIL.PngImagePlugin.PngImageFile image mode=RGB size=100x100 at 0x7F7E180C74C0>"
      ]
     },
     "execution_count": 29,
     "metadata": {},
     "output_type": "execute_result"
    }
   ],
   "source": [
    "stripe_maker(\n",
    "    fn=\"sample1.png\",\n",
    "    size=(100,100),\n",
    "    orientation=\"horizontal\",\n",
    "    colors=[(255,255,128),(128,128,255)]\n",
    ")\n",
    "# Now let's see what was created\n",
    "img = Image.open(\"sample1.png\")\n",
    "img"
   ]
  },
  {
   "cell_type": "code",
   "execution_count": 30,
   "metadata": {},
   "outputs": [
    {
     "data": {
      "image/png": "[encoded data removed]",
      "text/plain": [
       "<PIL.PngImagePlugin.PngImageFile image mode=RGB size=500x150 at 0x7F7E180C76A0>"
      ]
     },
     "execution_count": 30,
     "metadata": {},
     "output_type": "execute_result"
    }
   ],
   "source": [
    "# Note that more than two colors are supported!\n",
    "stripe_maker(\n",
    "    fn=\"sample2.png\",\n",
    "    size=(500,150),\n",
    "    orientation=\"diagonal\",\n",
    "    colors=[(168, 230, 207),\n",
    "            (220, 237, 193),\n",
    "            (255, 211, 182),\n",
    "            (255, 170, 165),\n",
    "            (255, 139, 148)],\n",
    "    stripe_thickness=30\n",
    ")\n",
    "# Now let's see what was created\n",
    "img = Image.open(\"sample2.png\")\n",
    "img"
   ]
  },
  {
   "cell_type": "code",
   "execution_count": 31,
   "metadata": {},
   "outputs": [
    {
     "data": {
      "image/png": "[encoded data removed]",
      "text/plain": [
       "<PIL.PngImagePlugin.PngImageFile image mode=RGB size=93x131 at 0x7F7E180C6C50>"
      ]
     },
     "execution_count": 31,
     "metadata": {},
     "output_type": "execute_result"
    }
   ],
   "source": [
    "stripe_maker(\n",
    "    fn=\"sample3.png\",\n",
    "    size=(93,131),\n",
    "    orientation=\"vertical\",\n",
    "    colors=[(64,64,64),(96,96,96),(128,128,128)],\n",
    "    stripe_thickness=5\n",
    ")\n",
    "# Now let's see what was created\n",
    "img = Image.open(\"sample3.png\")\n",
    "img"
   ]
  },
  {
   "cell_type": "code",
   "execution_count": 41,
   "metadata": {},
   "outputs": [
    {
     "data": {
      "image/png": "[encoded data removed]",
      "text/plain": [
       "<PIL.PngImagePlugin.PngImageFile image mode=RGB size=300x200 at 0x7F7E103DA590>"
      ]
     },
     "execution_count": 41,
     "metadata": {},
     "output_type": "execute_result"
    }
   ],
   "source": [
    "stripe_maker(fn=\"sample4.png\",stripe_thickness=80) # use mostly default arguments\n",
    "# Now let's see what was created\n",
    "img = Image.open(\"sample4.png\")\n",
    "img"
   ]
  },
  {
   "cell_type": "markdown",
   "metadata": {},
   "source": [
    "### Revision history\n",
    "\n",
    "* 2023-03-10 Initial publication"
   ]
  }
 ],
 "metadata": {
  "kernelspec": {
   "display_name": "Python 3 (ipykernel)",
   "language": "python",
   "name": "python3"
  },
  "language_info": {
   "codemirror_mode": {
    "name": "ipython",
    "version": 3
   },
   "file_extension": ".py",
   "mimetype": "text/x-python",
   "name": "python",
   "nbconvert_exporter": "python",
   "pygments_lexer": "ipython3",
   "version": "3.10.6"
  }
 },
 "nbformat": 4,
 "nbformat_minor": 4
}
