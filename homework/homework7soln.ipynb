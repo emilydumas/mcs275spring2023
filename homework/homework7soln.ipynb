{
 "cells": [
  {
   "cell_type": "markdown",
   "metadata": {},
   "source": [
    "# MCS 275 Spring 2023 Homework 7 Solutions\n",
    "\n",
    "* Course Instructor: Emily Dumas\n",
    "* Contributors to this document: Johnny Joyce"
   ]
  },
  {
   "cell_type": "markdown",
   "metadata": {},
   "source": [
    "## Instructions:\n",
    "\n",
    "* Complete the problems below, which ask you to write Python scripts.\n",
    "* Upload your python code directly to gradescope, i.e. upload the `.py` files containing your work.\n",
    "\n",
    "### Deadline\n",
    "This homework assignment must be submitted in Gradescope by **Noon central time on Tuesday February 28, 2023**.\n",
    "\n",
    "### Collaboration\n",
    "\n",
    "**Collaboration is prohibited**, and you may only access resources (books, online, etc.) listed below.\n",
    "\n",
    "### Content\n",
    "This assignment is about recursive sorting algorithms.\n",
    "\n",
    "### Resources you may consult\n",
    "\n",
    "Most relevant:    \n",
    "* [Worksheet 7 Solutions](https://www.dumas.io/teaching/2023/spring/mcs275/nbview/worksheets/worksheet7soln.html)\n",
    "* [Lecture 13 - Mergesort](http://dumas.io/teaching/2023/spring/mcs275/slides/lecture13.html)\n",
    "* [Lecture 14 - Quicksort](http://dumas.io/teaching/2023/spring/mcs275/slides/lecture14.html)\n",
    "* [Lecture 15 - Comparison sorts](http://dumas.io/teaching/2023/spring/mcs275/slides/lecture15.html)\n",
    "* [sorts.py](https://github.com/emilydumas/mcs275spring2023/blob/main/samplecode/recursion/sorts.py)\n",
    "* [sortdemo.ipynb](https://github.com/emilydumas/mcs275spring2023/blob/main/samplecode/recursion/sortdemo.ipynb)\n",
    "* [Sample programs](https://github.com/emilydumas/mcs275spring2023/tree/main/samplecode)\n",
    "* [Downey's book](https://greenteapress.com/thinkpython2/html/)\n",
    "* MCS 260 course materials from Fall 2021:\n",
    "    * [Slides, homework, worksheets, and projects](https://www.dumas.io/teaching/2021/fall/mcs260/)\n",
    "    * [Sample programs](https://github.com/emilydumas/mcs260fall2021/tree/main/samplecode)\n",
    "\n",
    "Less likely to be relevant, but also allowed:\n",
    "* Any other lecture of MCS 275 spring 2023.\n",
    "* [Python tour](https://www.dumas.io/teaching/2023/spring/mcs275/nbview/samplecode/python_tour.html)\n",
    "* Slides from any lecture of my most recent MCS 260 course [MCS 260, Fall 2021](https://www.dumas.io/teaching/2021/fall/mcs260/).\n",
    "* Any lecture video posted on our [course Blackboard site](https://uic.blackboard.com/ultra/courses/_247708_1/cl/outline)\n",
    "* [Downey's book](https://greenteapress.com/thinkpython2/html/)\n",
    "* Any other textbook listed on the course blackboard site under \"Textbooks\"\n",
    "\n",
    "### Point distribution\n",
    "\n",
    "This homework assignment has 2 problems, numbered 2 and 3.  The grading breakdown is:\n",
    "\n",
    "| Points | Item |\n",
    "| --- | --- |\n",
    "| 3 | Autograder |\n",
    "| 6 | Problem 2 |\n",
    "| 6 | Problem 3 |\n",
    "| **15** | Total |\n",
    "\n",
    "The part marked \"autograder\" reflects points assigned to your submission based on some simple automated checks for Python syntax, etc.  The result of these checks is shown immediately after you submit.\n",
    "\n",
    "### What to do if you're stuck\n",
    "\n",
    "Ask your instructor or TA a question by email, in office hours, or on discord."
   ]
  },
  {
   "cell_type": "markdown",
   "metadata": {},
   "source": [
    "## Problem 2: Initial sorted segment length\n",
    "\n",
    "Submit all work for this problem in a file called `hwk7prob2.py`.\n",
    "\n",
    "Write a function `ISS_len(L)` that takes a nonempty list `L` whose elements support comparison, and which returns the largest integer `k` such that `L[:k]` is already sorted.  (We then refer to `L[:k]` as the **initial sorted segment** of `L`, since it's the longest initial segment of `L` that is sorted.)\n",
    "\n",
    "Since a 1-element list is always sorted, the returned value will always be greater than or equal to 1.\n",
    "\n",
    "**Don't call any sorting function to achieve this**; instead, search through the list and look for the first place where an element is larger than the one after it (or if that never occurs).  You can determine `k` from this information."
   ]
  },
  {
   "cell_type": "markdown",
   "metadata": {},
   "source": [
    "## Solution"
   ]
  },
  {
   "cell_type": "code",
   "execution_count": null,
   "metadata": {},
   "outputs": [],
   "source": [
    "def ISS_len(L):\n",
    "    \"\"\"Returns length of initial segment of L with fully sorted entries\"\"\"\n",
    "    if len(L) == 1:\n",
    "        return 1\n",
    "    k = 1\n",
    "    while k <= len(L):\n",
    "        if L[k-1] <= L[k]:\n",
    "            k += 1\n",
    "        else:\n",
    "            break\n",
    "    return k"
   ]
  },
  {
   "cell_type": "markdown",
   "metadata": {},
   "source": [
    "## Problem 3: Quergesort\n",
    "\n",
    "Submit all work for this problem in a file called `hwk7prob3.py`.\n",
    "\n",
    "Suppose you can't decide between quicksort and mergesort, so you decide to combine them into a single sorting algoritm that operates as quicksort at the top level of recursion (partitioning and calling itself on the pieces), as mergesort at the next level (cutting into pieces of equal size, recursively sorting them, then merging the results), then quick again, then merge again, all the way down.  This problem asks you to write such a \"quergesort\" function.\n",
    "\n",
    "Since mergesort was written as a transformation in class (returns a new list) while quicksort was written as a mutation (reorders elements of the original list), we need to decide on one of those to use throughout this new sort.  **We choose to make it a mutation, so it returns nothing and modifies the list given as an argument.**\n",
    "\n",
    "The quergesort algorithm, more precisely, is:\n",
    "* Like quicksort, it accepts a list `L` and `start` and `end` indices specifying the part to operate on.\n",
    "* The function also accepts a `mode` argument with default value `\"quick\"`.  This argument controls which mode the function is currently working in.\n",
    "* In mode `\"quick\"`, the function does the following:\n",
    "    * If the list has 0 or 1 elements, returns.  Otherwise...\n",
    "    * Partitions the part of the list it's working on\n",
    "    * Calls `quergesort` with `mode=\"merge\"` on the part before the pivot\n",
    "    * Calls `quergesort` with `mode=\"merge\"` on the part after the pivot\n",
    "* In mode `\"merge\"`, the function does the following:\n",
    "    * If the list has 0 or 1 elements, returns.  Otherwise...\n",
    "    * Decides on an index that would split this part of the list into roughly equal-size parts.\n",
    "    * Calls `quergesort` with `mode=\"quick\"` to operate on the first part\n",
    "    * Calls `quergesort` with `mode=\"quick\"` to operate on the second part\n",
    "    * Uses `merge` to merge the two now-sorted parts into a new list\n",
    "    * Copies the values in the new merged, sorted list back into the part of the original list we're supposed to operate on. \n",
    "\n",
    "Notice that in mode \"quick\", the next calls use mode \"merge\", and vice versa, so the function always switches modes at the next level of recursion.\n",
    "\n",
    "Use the following function definition line and docstring."
   ]
  },
  {
   "cell_type": "code",
   "execution_count": null,
   "metadata": {},
   "outputs": [],
   "source": [
    "def quergesort(L,start=0,end=None,mode=\"quick\"):\n",
    "    \"\"\"\n",
    "    Recursively sort `L` in place using alternating rounds of partioning (like \n",
    "    quicksort) and split+merge (like mergesort).\n",
    "    \"\"\""
   ]
  },
  {
   "cell_type": "markdown",
   "metadata": {},
   "source": [
    "You can copy the functions `merge` and `partition` from the course sample code in `sorts.py` directly into your solution file.  You don't need to write those functions again, and should call those functions as part of your solution.\n",
    "\n",
    "Do not call `quicksort` or `mergesort` from this function.  Only call:\n",
    "* Built-in functions\n",
    "* `partition`\n",
    "* `merge`\n",
    "* `quergesort`"
   ]
  },
  {
   "cell_type": "markdown",
   "metadata": {},
   "source": [
    "## Solution"
   ]
  },
  {
   "cell_type": "code",
   "execution_count": 2,
   "metadata": {},
   "outputs": [],
   "source": [
    "def quergesort(L,start=0,end=None,mode=\"quick\"):\n",
    "    \"\"\"\n",
    "    Recursively sort `L` in place using alternating rounds of partioning (like \n",
    "    quicksort) and split+merge (like mergesort).\n",
    "    \"\"\"\n",
    "    if end == None:\n",
    "        end = len(L) # Default value of `end`\n",
    "    \n",
    "    if end - start <= 1: # Note that len(L) never changes - so we instead need to use start and end\n",
    "        return\n",
    "        \n",
    "    if mode == \"quick\":\n",
    "        m = partition(L, start, end) # `m` is the pivot index\n",
    "        quergesort(L, start, m, mode=\"merge\") # Quergesort everything in front of the pivot\n",
    "        quergesort(L, m+1, end, mode=\"merge\") # Quergesort everything after the pivot\n",
    "        \n",
    "    else:\n",
    "        m = (start + end) // 2 # midpoint\n",
    "        quergesort(L, start, m, mode=\"quick\")\n",
    "        quergesort(L, m, end, mode=\"quick\")\n",
    "        \n",
    "        # Replace the part of original list L that we're operating on\n",
    "        # with a merged version of the two sorted lists\n",
    "        merged_list = merge(L[start:m], L[m:end])\n",
    "        L[start:end] = merged_list"
   ]
  },
  {
   "cell_type": "markdown",
   "metadata": {},
   "source": [
    "The folllowing code snippet can also be added to the module to help test our `quergesort` function. If `quergesort` does not fully sort any of the test lists, the tests will stop and produce an error. Otherwise, we will get a message that the tests have passed."
   ]
  },
  {
   "cell_type": "code",
   "execution_count": 3,
   "metadata": {},
   "outputs": [
    {
     "name": "stdout",
     "output_type": "stream",
     "text": [
      "*************\n",
      "* QUERGESORT *\n",
      "*************\n",
      "\n",
      "Verbose test with input [7, 6, 2, 3, 5, 8, 1, 4] \n",
      "--BEGIN FUNCTION CALL--\n",
      "--END FUNCTION CALL--\n",
      "After quergesort, list contains [1, 2, 3, 4, 5, 6, 7, 8]\n",
      "\n",
      "Testing quergesort on 10000 permutations of range(0,100):\n",
      "PASS - All tested permutations correctly sorted.\n"
     ]
    }
   ],
   "source": [
    "if __name__ == \"__main__\":\n",
    "    import random\n",
    "    num_random_tests = 10_000\n",
    "    print(\"*************\")\n",
    "    print(\"* QUERGESORT *\")\n",
    "    print(\"*************\")\n",
    "    L = [7, 6, 2, 3, 5, 8, 1, 4]\n",
    "    print(\"\\nVerbose test with input\", L, \"\\n--BEGIN FUNCTION CALL--\")\n",
    "    quergesort(L)\n",
    "    print(\"--END FUNCTION CALL--\\nAfter quergesort, list contains\", L)\n",
    "\n",
    "    print(\"\\nTesting quergesort on\", num_random_tests, \"permutations of range(0,100):\")\n",
    "    orig = list(range(100))\n",
    "    for _ in range(num_random_tests):\n",
    "        L = list(orig)  # make a copy of `orig`\n",
    "        random.shuffle(L)\n",
    "        quergesort(L)\n",
    "        assert orig == L, \"Sorted list was different from original.\\n Original:\\n{}\\n Sorted: {}\\n\".format(orig, L)\n",
    "    print(\"PASS - All tested permutations correctly sorted.\")"
   ]
  },
  {
   "cell_type": "markdown",
   "metadata": {},
   "source": [
    "### Revision history\n",
    "\n",
    "* 2023-02-23 Initial publication"
   ]
  }
 ],
 "metadata": {
  "kernelspec": {
   "display_name": "Python 3 (ipykernel)",
   "language": "python",
   "name": "python3"
  },
  "language_info": {
   "codemirror_mode": {
    "name": "ipython",
    "version": 3
   },
   "file_extension": ".py",
   "mimetype": "text/x-python",
   "name": "python",
   "nbconvert_exporter": "python",
   "pygments_lexer": "ipython3",
   "version": "3.8.12"
  }
 },
 "nbformat": 4,
 "nbformat_minor": 4
}
