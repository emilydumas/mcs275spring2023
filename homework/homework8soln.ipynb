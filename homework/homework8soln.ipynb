{
 "cells": [
  {
   "cell_type": "markdown",
   "metadata": {},
   "source": [
    "# MCS 275 Spring 2023 Homework 8 Solutions\n",
    "\n",
    "* Course Instructor: Emily Dumas\n",
    "* Contributors to this document: Emily Dumas, Johnny Joyce"
   ]
  },
  {
   "cell_type": "markdown",
   "metadata": {},
   "source": [
    "## Instructions:\n",
    "\n",
    "* Complete the problems below, which ask you to write Python scripts.\n",
    "* Upload your python code directly to gradescope, i.e. upload the `.py` files containing your work.\n",
    "\n",
    "### Deadline\n",
    "This homework assignment must be submitted in Gradescope by **Noon central time on Tuesday March 7, 2023**.\n",
    "\n",
    "### Collaboration\n",
    "\n",
    "**Collaboration is prohibited**, and you may only access resources (books, online, etc.) listed below.\n",
    "\n",
    "### Content\n",
    "This assignment is about trees.\n",
    "\n",
    "### Resources you may consult\n",
    "\n",
    "Most relevant:    \n",
    "* [Worksheet 8 Solutions](https://www.dumas.io/teaching/2023/spring/mcs275/nbview/worksheets/worksheet8soln.html)\n",
    "* [Lecture 16 - Trees](http://dumas.io/teaching/2023/spring/mcs275/slides/lecture16.html)\n",
    "* [Lecture 17 - BST](http://dumas.io/teaching/2023/spring/mcs275/slides/lecture17.html)\n",
    "* [Lecture 18 - Traversals](http://dumas.io/teaching/2023/spring/mcs275/slides/lecture18.html)\n",
    "* [Chapter 7 of Miller and Ranum](https://runestone.academy/runestone/books/published/pythonds/Trees/toctree.html)\n",
    "* [trees.py](https://github.com/emilydumas/mcs275spring2023/blob/main/samplecode/datastructures/trees.py)\n",
    "* [treevis.py](https://github.com/emilydumas/mcs275spring2023/blob/main/samplecode/datastructures/treevis.py)\n",
    "* [treeutil.py](https://github.com/emilydumas/mcs275spring2023/blob/main/samplecode/datastructures/treeutil.py)\n",
    "* [treeutil documentation](https://github.com/emilydumas/mcs275spring2023/blob/main/samplecode/datastructures/treeutil.md)\n",
    "* [Sample programs](https://github.com/emilydumas/mcs275spring2023/tree/main/samplecode)\n",
    "* [Downey's book](https://greenteapress.com/thinkpython2/html/)\n",
    "* MCS 260 course materials from Fall 2021:\n",
    "    * [Slides, homework, worksheets, and projects](https://www.dumas.io/teaching/2021/fall/mcs260/)\n",
    "    * [Sample programs](https://github.com/emilydumas/mcs260fall2021/tree/main/samplecode)\n",
    "\n",
    "Less likely to be relevant, but also allowed:\n",
    "* Any other lecture of MCS 275 spring 2023.\n",
    "* [Python tour](https://www.dumas.io/teaching/2023/spring/mcs275/nbview/samplecode/python_tour.html)\n",
    "* Slides from any lecture of my most recent MCS 260 course [MCS 260, Fall 2021](https://www.dumas.io/teaching/2021/fall/mcs260/).\n",
    "* Any lecture video posted on our [course Blackboard site](https://uic.blackboard.com/ultra/courses/_247708_1/cl/outline)\n",
    "* [Downey's book](https://greenteapress.com/thinkpython2/html/)\n",
    "* Any other textbook listed on the course blackboard site under \"Textbooks\"\n",
    "\n",
    "### Point distribution\n",
    "\n",
    "This homework assignment has 2 problems, numbered 2 and 3.  The grading breakdown is:\n",
    "\n",
    "| Points | Item |\n",
    "| --- | --- |\n",
    "| 3 | Autograder |\n",
    "| 6 | Problem 2 |\n",
    "| 6 | Problem 3 |\n",
    "| **15** | Total |\n",
    "\n",
    "The part marked \"autograder\" reflects points assigned to your submission based on some simple automated checks for Python syntax, etc.  The result of these checks is shown immediately after you submit.\n",
    "\n",
    "### What to do if you're stuck\n",
    "\n",
    "Ask your instructor or TA a question by email, in office hours, or on discord."
   ]
  },
  {
   "cell_type": "markdown",
   "metadata": {},
   "source": [
    "## Problem 2: Common ancestor\n",
    "\n",
    "If `x` and `y` are two nodes of the same binary tree (as `Node` objects), then the root node is an ancestor of both of them (or is equal to one or both of them).  So we see that any two nodes in a binary tree have a common ancestor.\n",
    "\n",
    "Furthermore, any two nodes have a unique *lowest common ancestor*, i.e. the node `a` that is a common ancestor of both `x` and `y`, and such that no child of `a` is an ancestor of both `x` and `y`.  Another way to describe `a` is that if you take the path in the tree that starts at `x` and ends at `y`, then `a` is the node on that path that is closest to the root.  (And it's possible that `a` might be equal to `x` or to `y`, if one of `x` and `y` is an ancestor of the other.)\n",
    "\n",
    "Write a function `lowest_common_ancestor(x,y)` that takes two `Node` objects `x` and `y` and returns their lowest common ancestor (another `Node` object).  If there is no common ancestor (i.e. if `x` and `y` lie in different trees), return `None`.\n",
    "\n",
    "Submit this function in a file `hwk8prob2.py`."
   ]
  },
  {
   "cell_type": "markdown",
   "metadata": {},
   "source": [
    "## Solution\n",
    "\n",
    "This solution uses a helper function `ancestors` (which is the same as in the example solution for worksheet 8, problem 1). This returns a list of all ancestors of a given node, starting with the node itself, then its parent, then its parent's parent, etc."
   ]
  },
  {
   "cell_type": "code",
   "execution_count": null,
   "metadata": {},
   "outputs": [],
   "source": [
    "def ancestors(x):\n",
    "    \"\"\"\n",
    "    Given node, returns list containing its parent, its parent's parent, etc.\n",
    "    \"\"\"\n",
    "    L = [x]\n",
    "    while L[-1].parent != None: # While we can find a parent of the most recently-found parent\n",
    "        L.append(L[-1].parent) # Put parent into the list\n",
    "    return L\n",
    "\n",
    "def lowest_common_ancestor(x,y):\n",
    "    \"\"\"\n",
    "    Given nodes `x` and `y`, returns common ancestor of x, y that has shortest distance to x and y\n",
    "    \"\"\"\n",
    "    # Pre-compute ancestors for each node (so we don't have to call ancestors() many times in a loop)\n",
    "    ancestors_x = ancestors(x)\n",
    "    ancestors_y = ancestors(y)\n",
    "    \n",
    "    # Since ancestors are in order, the first match we find must be the lowest common ancestor\n",
    "    for node in ancestors_x:\n",
    "        if node in ancestors_y:\n",
    "            return node\n",
    "    \n",
    "    # If no common ancestor is found, return None\n",
    "    return None"
   ]
  },
  {
   "cell_type": "markdown",
   "metadata": {},
   "source": [
    "## Problem 3: Ideal BST insert order\n",
    "\n",
    "A binary tree with $(2^n-1)$ nodes can be \"perfect\" or \"full\" in the sense that it has as many nodes as possible for its depth.  Here are some pictures of full binary trees:\n",
    "\n",
    "![](images/hw8-fulltrees.png)\n",
    "\n",
    "Now suppose we insert the integers $1$, $2$, ... $2^n-1$ into a binary search tree. We might get a full tree, or might not, depending on the order:\n",
    "\n",
    "![](images/hw8-insertorder.png)\n",
    "\n",
    "Write a function `ideal_insert_order(n)` that returns a list containing the integers from $1$ to $2^n-1$ (inclusive) in an order so that inserting them into a BST in that order results in a full tree.\n",
    "\n",
    "For example, `ideal_insert_order(3)` might return `[4,2,1,3,6,5,7]`.  (There are many other possible correct answers.  But for example returning `[1,2,3,4,5,6,7]` would be wrong:  Inserting in that order doesn't give a full tree.)\n",
    "\n",
    "It's important your function works for any `n` (subject only to limits imposed by time, memory, and/or recursion depth) and is not hard-coded to work only for a single value or a few of them.\n",
    "\n",
    "Submit this function in a file `hwk8prob3.py`."
   ]
  },
  {
   "cell_type": "markdown",
   "metadata": {},
   "source": [
    "## Solutions"
   ]
  },
  {
   "cell_type": "markdown",
   "metadata": {},
   "source": [
    "There are many ways to solve this question, so a few different versions are given:\n",
    "\n",
    "* `ideal_insert_order1` is a recursive implementation inspired by mergesort.\n",
    "* `ideal_insert_order2` is a recursive implementation that makes a list following a certain pattern, which ensures it is an ideal insert order.\n",
    "* `ideal_insert_order3` is a solution that creates a tree with blank nodes, fills it in as a BST, then performs a preorder traversal.\n",
    "* `ideal_insert_order4` solves the question in a single statement using possibly-surprising methods.\n",
    "\n",
    "Solutions 1 and 2 are the **most accessible** and are rather similar to one another.  Solution 3 is the **most direct** (but longest). Solution 4 can be an **interesting challenge** to think about.\n",
    "\n",
    "The final cell in this notebook also contains some code that can be used to verify that the solutions work as intended."
   ]
  },
  {
   "cell_type": "markdown",
   "metadata": {},
   "source": [
    "### Solution 1 (recursive, like mergesort)"
   ]
  },
  {
   "cell_type": "code",
   "execution_count": null,
   "metadata": {},
   "outputs": [],
   "source": [
    "def ideal_insert_order1(n, keys = None):\n",
    "    \"\"\"\n",
    "    An approach inspired by mergesort. Initialize a list of keys called `keys`. At \n",
    "    each step take the middle element of `keys` and put it in a list `L`. Then extend\n",
    "    L by making recursive calls on everything to the left of L and everything to the\n",
    "    right.\n",
    "    \"\"\"\n",
    "    if keys is None:\n",
    "        keys = list(range(1, 2**n))\n",
    "        \n",
    "    if len(keys) <= 1: # Base case\n",
    "        return keys\n",
    "    \n",
    "    middle = len(keys)//2\n",
    "    L = [keys[middle]] # Insert the \"middle\" key \n",
    "    \n",
    "    # Split the list down the middle and make a recursive call on each side\n",
    "    L += ideal_insert_order1(n, keys[:middle])\n",
    "    L += ideal_insert_order1(n, keys[middle+1:])\n",
    "    \n",
    "    return L"
   ]
  },
  {
   "cell_type": "markdown",
   "metadata": {},
   "source": [
    "### Solution 2 (Recursive, based on a pattern in the sequence)"
   ]
  },
  {
   "cell_type": "markdown",
   "metadata": {},
   "source": [
    "Here's a solution you might develop if you notice that the ideal insert order `4,2,1,3,6,5,7` begins with a power of two, and the rest of it consists of two parts `2,1,3` and `6,5,7` that differ by adding a constant (`6,5,7` is obtained from `2,1,3` by adding `4` to each term)."
   ]
  },
  {
   "cell_type": "code",
   "execution_count": null,
   "metadata": {},
   "outputs": [],
   "source": [
    "# The most accessible recursive solution based on\n",
    "# recognizing a pattern in ideal insert orders:\n",
    "def ideal_insert_order2(n):\n",
    "    \"\"\"\n",
    "    Find order of insertion for integers 1...2**n-1 that results in a full\n",
    "    binary tree. Do so by making a list of those integers where the first\n",
    "    element of the list is the median, and where dividing the rest into two\n",
    "    halves `A` and `B` gives:\n",
    "    * Every element of `A` is less than the median\n",
    "    * Every element of `B` is greater than the median\n",
    "    * All the conditions in this list hold for `A`\n",
    "    * All the conditions in this list hold for `B`\n",
    "    This ensures that when the first element is used as the root, all of `A`\n",
    "    ends up in the left subtree and all of `B` ends up in the right subtree. In\n",
    "    particular the left and right subtrees contain the same number of elements.\n",
    "    That this is recursively true at each stage (with each subtree having 2**k-1\n",
    "    elements for some k) ensures the resulting tree is full.\n",
    "    \"\"\"\n",
    "    if n == 1:\n",
    "        return [1]\n",
    "    L = ideal_insert_order2(n - 1)\n",
    "    return [2 * L[0]] + L + [2 * L[0] + x for x in L]\n",
    "# power of two-^       part     part shifted by constant"
   ]
  },
  {
   "cell_type": "markdown",
   "metadata": {},
   "source": [
    "### Solution 3 (most direct solution: make a blank tree and fill it in)"
   ]
  },
  {
   "cell_type": "markdown",
   "metadata": {},
   "source": [
    "This solution being \"most direct\" means it applies the definition of an ideal insert order in the most straightforward way.  It makes a full tree, fills it with values, then traverses in preorder to determine an insert sequence that would give that tree.\n",
    "\n",
    "This ends up being a longer solution, but completely valid."
   ]
  },
  {
   "cell_type": "code",
   "execution_count": null,
   "metadata": {},
   "outputs": [],
   "source": [
    "from trees import Node\n",
    "\n",
    "def depth(T):\n",
    "    \"\"\"\n",
    "    Depth of a binary tree (in edges). Could use the method requested in\n",
    "    worksheet 8 instead, if present.\n",
    "    \"\"\"\n",
    "    if T == None:\n",
    "        # returning -1 here means we cancel count of edge\n",
    "        # that leads to an absent child.\n",
    "        return -1\n",
    "    return 1 + max(depth(T.left), depth(T.right))\n",
    "\n",
    "\n",
    "def blank_full_tree(d, parent=None):\n",
    "    \"\"\"\n",
    "    Create a full binary tree of depth `d`.  If given, `parent` sets the parent\n",
    "    of the root node of that tree. Returns the root node.\n",
    "    \"\"\"\n",
    "    if d < 0:\n",
    "        return None\n",
    "    n = Node(parent=parent)\n",
    "    n.left = blank_full_tree(d - 1, parent=n)\n",
    "    n.right = blank_full_tree(d - 1, parent=n)\n",
    "    return n\n",
    "\n",
    "\n",
    "def inorder_nodes(T):\n",
    "    \"\"\"\n",
    "    Do an inorder traversal of binary tree `T` and return a list of node objects\n",
    "    in the order visited. This is very similar to `Node.inorder` except that it\n",
    "    returns the nodes themselves rather than just the keys.\n",
    "    \"\"\"\n",
    "    if T == None:\n",
    "        return []\n",
    "    return inorder_nodes(T.left) + [T] + inorder_nodes(T.right)\n",
    "\n",
    "\n",
    "def ideal_insert_order3(n):\n",
    "    \"\"\"\n",
    "    Find order of insertion for integers 1...2**n-1 that results in a full\n",
    "    binary tree. Do so by making a full tree that has no keys (all are None),\n",
    "    then traversing it inorder and adding keys that are ascending integers as we\n",
    "    go. Then the list of keys seen in a preorder traversal will provide a way to\n",
    "    duplicate the tree, i.e. an ideal insertion order.\n",
    "    \"\"\"\n",
    "    # Make an full tree with all keys `None`\n",
    "    T = blank_full_tree(n - 1)\n",
    "    # Fill it with integers 1..2**n-1 in way so that\n",
    "    # it is a valid BST (i.e. preorder = ascending order)\n",
    "    for i, node in enumerate(inorder_nodes(T)):\n",
    "        node.key = i + 1\n",
    "    N = 2 ** n - 1\n",
    "    assert i + 1 == N  # check that we had the expected number of nodes!\n",
    "    # Now the preorder is an insert order that will reproduce the\n",
    "    # tree!\n",
    "    return T.preorder()"
   ]
  },
  {
   "cell_type": "markdown",
   "metadata": {},
   "source": [
    "### Solution 4 (Challenging: sort by binary representation)"
   ]
  },
  {
   "cell_type": "markdown",
   "metadata": {},
   "source": [
    "Fun puzzle: Show that this solution really works!"
   ]
  },
  {
   "cell_type": "code",
   "execution_count": null,
   "metadata": {},
   "outputs": [],
   "source": [
    "def ideal_insert_order4(n):\n",
    "    \"\"\"\n",
    "    Find order of insertion for integers 1...2**n-1 that results in a full\n",
    "    binary tree. It turns out that one such order is obtained by the following:\n",
    "    * List all the integers (e.g. 1,2,3,4,5,6,7)\n",
    "    * Sort by the number of `1` bits when the number is represented in binary (low to high)\n",
    "      e.g. 1=0b001, 2=0b010, 4=0b001, 3=0b110, 5=0b101, 6=0b011, 7=0b111\n",
    "    * Within numbers with the same `1`-bit count, sort by the corresponding\n",
    "      numeric value, but in decreasing order.\n",
    "      e.g. [#1bits = 1]  4=0b100, 2=0b010, 1=0b001,\n",
    "           [#1bits = 2]  6=0b110, 5=0b101, 3=0b011,\n",
    "           [#1bits = 3]  7=0b111\n",
    "    * Return the associated order of the integers e.g. 4, 2, 1, 6, 5, 3, 7\n",
    "\n",
    "    We don't mean to imply that this is an easily discoverable characterization,\n",
    "    nor that it's within the scope of MCS 275. But when combined with some\n",
    "    built-in constructions (like binary conversion, anonymous functions,\n",
    "    range(), sorting with custom order, etc.) it yields a solution in one\n",
    "    statement. That's why we choose to show it here.\n",
    "\n",
    "    HOWEVER, note this doesn't return the same list as `ideal_insert_order1` and\n",
    "    `ideal_insert_order2`.  There are many possible ideal insert orders, as the\n",
    "    assignment explains.\n",
    "    \"\"\"\n",
    "    return sorted(\n",
    "        range(1, 2 ** n),  # integers 1..2**n-1\n",
    "        key=lambda k: (  # sort by tuple\n",
    "            bin(k).count(\"1\"),  # count 1-bits in binary\n",
    "            -k,  # secondary factor: sort by numeric value, decreasing\n",
    "        ),\n",
    "    )"
   ]
  },
  {
   "cell_type": "markdown",
   "metadata": {},
   "source": [
    "### Code for testing:"
   ]
  },
  {
   "cell_type": "code",
   "execution_count": 7,
   "metadata": {},
   "outputs": [
    {
     "name": "stdout",
     "output_type": "stream",
     "text": [
      "TESTING SOLUTION: ideal_insert_order1\n",
      "The nodes we want to insert are: [1, 2, 3, 4, 5, 6, 7, 8, 9, 10, 11, 12, 13, 14, 15]\n",
      "The resulting tree is:\n",
      "              <8>\n",
      "\n",
      "      <4>             <12>\n",
      "\n",
      "  <2>     <6>     <10>    <14>\n",
      "\n",
      "<1> <3> <5> <7> <9> <11> <13> <15>\n",
      "\n",
      "\n",
      "TESTING SOLUTION: ideal_insert_order2\n",
      "The nodes we want to insert are: [1, 2, 3, 4, 5, 6, 7, 8, 9, 10, 11, 12, 13, 14, 15]\n",
      "The resulting tree is:\n",
      "              <8>\n",
      "\n",
      "      <4>             <12>\n",
      "\n",
      "  <2>     <6>     <10>    <14>\n",
      "\n",
      "<1> <3> <5> <7> <9> <11> <13> <15>\n",
      "\n",
      "\n",
      "TESTING SOLUTION: ideal_insert_order3\n",
      "The nodes we want to insert are: [1, 2, 3, 4, 5, 6, 7, 8, 9, 10, 11, 12, 13, 14, 15]\n",
      "The resulting tree is:\n",
      "              <8>\n",
      "\n",
      "      <4>             <12>\n",
      "\n",
      "  <2>     <6>     <10>    <14>\n",
      "\n",
      "<1> <3> <5> <7> <9> <11> <13> <15>\n",
      "\n",
      "\n",
      "TESTING SOLUTION: ideal_insert_order4\n",
      "The nodes we want to insert are: [1, 2, 3, 4, 5, 6, 7, 8, 9, 10, 11, 12, 13, 14, 15]\n",
      "The resulting tree is:\n",
      "              <8>\n",
      "\n",
      "      <4>             <12>\n",
      "\n",
      "  <2>     <6>     <10>    <14>\n",
      "\n",
      "<1> <3> <5> <7> <9> <11> <13> <15>\n",
      "\n",
      "\n"
     ]
    }
   ],
   "source": [
    "import trees\n",
    "import treevis\n",
    "\n",
    "# List of solutions we're checking\n",
    "iio_fns = [\n",
    "    ideal_insert_order1,\n",
    "    ideal_insert_order2,\n",
    "    ideal_insert_order3,\n",
    "    ideal_insert_order4\n",
    "]\n",
    "\n",
    "n = 4\n",
    "\n",
    "for iio in iio_fns:\n",
    "    print(\"TESTING SOLUTION:\",iio.__name__)\n",
    "    T = trees.BST()\n",
    "    for node in ideal_insert_order1(n):\n",
    "        T.insert(node) # Insert nodes in the order given by our function\n",
    "    \n",
    "    print(\"The nodes we want to insert are: {}\".format(list(range(1, 2**n))))\n",
    "    print(\"The resulting tree is:\")\n",
    "    treevis.treeprint(T)\n",
    "    print()"
   ]
  },
  {
   "cell_type": "markdown",
   "metadata": {},
   "source": [
    "### Revision history\n",
    "\n",
    "* 2023-03-03 Initial publication"
   ]
  }
 ],
 "metadata": {
  "kernelspec": {
   "display_name": "Python 3 (ipykernel)",
   "language": "python",
   "name": "python3"
  },
  "language_info": {
   "codemirror_mode": {
    "name": "ipython",
    "version": 3
   },
   "file_extension": ".py",
   "mimetype": "text/x-python",
   "name": "python",
   "nbconvert_exporter": "python",
   "pygments_lexer": "ipython3",
   "version": "3.10.6"
  }
 },
 "nbformat": 4,
 "nbformat_minor": 4
}
