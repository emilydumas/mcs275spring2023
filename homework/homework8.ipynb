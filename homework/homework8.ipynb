{
 "cells": [
  {
   "cell_type": "markdown",
   "metadata": {},
   "source": [
    "# MCS 275 Spring 2023 Homework 8\n",
    "\n",
    "* Course Instructor: Emily Dumas"
   ]
  },
  {
   "cell_type": "markdown",
   "metadata": {},
   "source": [
    "## Instructions:\n",
    "\n",
    "* Complete the problems below, which ask you to write Python scripts.\n",
    "* Upload your python code directly to gradescope, i.e. upload the `.py` files containing your work.\n",
    "\n",
    "### Deadline\n",
    "This homework assignment must be submitted in Gradescope by **Noon central time on Tuesday March 7, 2023**.\n",
    "\n",
    "### Collaboration\n",
    "\n",
    "**Collaboration is prohibited**, and you may only access resources (books, online, etc.) listed below.\n",
    "\n",
    "### Content\n",
    "This assignment is about trees.\n",
    "\n",
    "### Resources you may consult\n",
    "\n",
    "Most relevant:    \n",
    "* [Worksheet 8 Solutions](https://www.dumas.io/teaching/2023/spring/mcs275/nbview/worksheets/worksheet8soln.html)\n",
    "* [Lecture 16 - Trees](http://dumas.io/teaching/2023/spring/mcs275/slides/lecture16.html)\n",
    "* [Lecture 17 - BST](http://dumas.io/teaching/2023/spring/mcs275/slides/lecture17.html)\n",
    "* [Lecture 18 - Traversals](http://dumas.io/teaching/2023/spring/mcs275/slides/lecture18.html)\n",
    "* [Chapter 7 of Miller and Ranum](https://runestone.academy/runestone/books/published/pythonds/Trees/toctree.html)\n",
    "* [trees.py](https://github.com/emilydumas/mcs275spring2023/blob/main/samplecode/datastructures/trees.py)\n",
    "* [treevis.py](https://github.com/emilydumas/mcs275spring2023/blob/main/samplecode/datastructures/treevis.py)\n",
    "* [treeutil.py](https://github.com/emilydumas/mcs275spring2023/blob/main/samplecode/datastructures/treeutil.py)\n",
    "* [treeutil documentation](https://github.com/emilydumas/mcs275spring2023/blob/main/samplecode/datastructures/treeutil.md)\n",
    "* [Sample programs](https://github.com/emilydumas/mcs275spring2023/tree/main/samplecode)\n",
    "* [Downey's book](https://greenteapress.com/thinkpython2/html/)\n",
    "* MCS 260 course materials from Fall 2021:\n",
    "    * [Slides, homework, worksheets, and projects](https://www.dumas.io/teaching/2021/fall/mcs260/)\n",
    "    * [Sample programs](https://github.com/emilydumas/mcs260fall2021/tree/main/samplecode)\n",
    "\n",
    "Less likely to be relevant, but also allowed:\n",
    "* Any other lecture of MCS 275 spring 2023.\n",
    "* [Python tour](https://www.dumas.io/teaching/2023/spring/mcs275/nbview/samplecode/python_tour.html)\n",
    "* Slides from any lecture of my most recent MCS 260 course [MCS 260, Fall 2021](https://www.dumas.io/teaching/2021/fall/mcs260/).\n",
    "* Any lecture video posted on our [course Blackboard site](https://uic.blackboard.com/ultra/courses/_247708_1/cl/outline)\n",
    "* [Downey's book](https://greenteapress.com/thinkpython2/html/)\n",
    "* Any other textbook listed on the course blackboard site under \"Textbooks\"\n",
    "\n",
    "### Point distribution\n",
    "\n",
    "This homework assignment has 2 problems, numbered 2 and 3.  The grading breakdown is:\n",
    "\n",
    "| Points | Item |\n",
    "| --- | --- |\n",
    "| 3 | Autograder |\n",
    "| 6 | Problem 2 |\n",
    "| 6 | Problem 3 |\n",
    "| **15** | Total |\n",
    "\n",
    "The part marked \"autograder\" reflects points assigned to your submission based on some simple automated checks for Python syntax, etc.  The result of these checks is shown immediately after you submit.\n",
    "\n",
    "### What to do if you're stuck\n",
    "\n",
    "Ask your instructor or TA a question by email, in office hours, or on discord."
   ]
  },
  {
   "cell_type": "markdown",
   "metadata": {},
   "source": [
    "## Problem 2: Common ancestor\n",
    "\n",
    "If `x` and `y` are two nodes of the same binary tree (as `Node` objects), then the root node is an ancestor of both of them (or is equal to one or both of them).  So we see that any two nodes in a binary tree have a common ancestor.\n",
    "\n",
    "Furthermore, any two nodes have a unique *lowest common ancestor*, i.e. the node `a` that is a common ancestor of both `x` and `y`, and such that no child of `a` is an ancestor of both `x` and `y`.  Another way to describe `a` is that if you take the path in the tree that starts at `x` and ends at `y`, then `a` is the node on that path that is closest to the root.  (And it's possible that `a` might be equal to `x` or to `y`, if one of `x` and `y` is an ancestor of the other.)\n",
    "\n",
    "Write a function `lowest_common_ancestor(x,y)` that takes two `Node` objects `x` and `y` and returns their lowest common ancestor (another `Node` object).  If there is no common ancestor (i.e. if `x` and `y` lie in different trees), return `None`.\n",
    "\n",
    "Submit this function in a file `hwk8prob2.py`."
   ]
  },
  {
   "cell_type": "markdown",
   "metadata": {},
   "source": [
    "## Problem 3: Ideal BST insert order\n",
    "\n",
    "A binary tree with $(2^n-1)$ nodes can be \"perfect\" or \"full\" in the sense that it has as many nodes as possible for its depth.  Here are some pictures of full binary trees:\n",
    "\n",
    "![](images/hw8-fulltrees.png)\n",
    "\n",
    "Now suppose we insert the integers $1$, $2$, ... $2^n-1$ into a binary search tree. We might get a full tree, or might not, depending on the order:\n",
    "\n",
    "![](images/hw8-insertorder.png)\n",
    "\n",
    "Write a function `ideal_insert_order(n)` that returns a list containing the integers from $1$ to $2^n-1$ (inclusive) in an order so that inserting them into a BST in that order results in a full tree.\n",
    "\n",
    "For example, `ideal_insert_order(3)` might return `[4,2,1,3,6,5,7]`.  (There are many other possible correct answers.  But for example returning `[1,2,3,4,5,6,7]` would be wrong:  Inserting in that order doesn't give a full tree.)\n",
    "\n",
    "It's important your function works for any `n` (subject only to limits imposed by time, memory, and/or recursion depth) and is not hard-coded to work only for a single value or a few of them.\n",
    "\n",
    "Submit this function in a file `hwk8prob3.py`."
   ]
  },
  {
   "cell_type": "markdown",
   "metadata": {},
   "source": [
    "### Revision history\n",
    "\n",
    "* 2023-03-03 Initial publication"
   ]
  }
 ],
 "metadata": {
  "kernelspec": {
   "display_name": "Python 3 (ipykernel)",
   "language": "python",
   "name": "python3"
  },
  "language_info": {
   "codemirror_mode": {
    "name": "ipython",
    "version": 3
   },
   "file_extension": ".py",
   "mimetype": "text/x-python",
   "name": "python",
   "nbconvert_exporter": "python",
   "pygments_lexer": "ipython3",
   "version": "3.10.6"
  }
 },
 "nbformat": 4,
 "nbformat_minor": 4
}
