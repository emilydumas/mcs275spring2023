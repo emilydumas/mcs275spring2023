{
 "cells": [
  {
   "cell_type": "markdown",
   "metadata": {},
   "source": [
    "# MCS 275 Spring 2023 Homework 6 Solutions\n",
    "\n",
    "* Course Instructor: Emily Dumas\n",
    "* Contributors to this document: Johnny Joyce"
   ]
  },
  {
   "cell_type": "markdown",
   "metadata": {},
   "source": [
    "## Instructions:\n",
    "\n",
    "* Complete the problems below, which ask you to write Python scripts.\n",
    "* Upload your python code directly to gradescope, i.e. upload the `.py` files containing your work.\n",
    "\n",
    "### Deadline\n",
    "This homework assignment must be submitted in Gradescope by **Noon central time on Tuesday February 21, 2023**.\n",
    "\n",
    "### Collaboration\n",
    "\n",
    "**Collaboration is prohibited**, and you may only access resources (books, online, etc.) listed below.\n",
    "\n",
    "### Content\n",
    "This assignment is about recursion with backtracking.  It's a little shorter than usual as I know you're working on Project 2, and this assignment and that project cover some similar ground.\n",
    "\n",
    "### Resources you may consult\n",
    "\n",
    "Most relevant:    \n",
    "* [Worksheet 6 Solutions](https://www.dumas.io/teaching/2023/spring/mcs275/nbview/worksheets/worksheet6soln.html)\n",
    "* [Lecture 10 - Recursion vs iteration](http://dumas.io/teaching/2023/spring/mcs275/slides/lecture10.html)\n",
    "* [Lecture 11 - Recursion vs iteration II](http://dumas.io/teaching/2023/spring/mcs275/slides/lecture11.html)\n",
    "* [Lecture 12 - Recursion with backtracking](http://dumas.io/teaching/2023/spring/mcs275/slides/lecture13.html)\n",
    "* [Sample programs](https://github.com/emilydumas/mcs275spring2023/tree/main/samplecode)\n",
    "* [Downey's book](https://greenteapress.com/thinkpython2/html/)\n",
    "* MCS 260 course materials from Fall 2021:\n",
    "    * [Slides, homework, worksheets, and projects](https://www.dumas.io/teaching/2021/fall/mcs260/)\n",
    "    * [Sample programs](https://github.com/emilydumas/mcs260fall2021/tree/main/samplecode)\n",
    "\n",
    "Less likely to be relevant, but also allowed:\n",
    "* Any other lecture of MCS 275 spring 2023.\n",
    "* [Python tour](https://www.dumas.io/teaching/2023/spring/mcs275/nbview/samplecode/python_tour.html)\n",
    "* Slides from any lecture of my most recent MCS 260 course [MCS 260, Fall 2021](https://www.dumas.io/teaching/2021/fall/mcs260/).\n",
    "* Any lecture video posted on our [course Blackboard site](https://uic.blackboard.com/ultra/courses/_247708_1/cl/outline)\n",
    "* [Downey's book](https://greenteapress.com/thinkpython2/html/)\n",
    "* Any other textbook listed on the course blackboard site under \"Textbooks\"\n",
    "\n",
    "### Point distribution\n",
    "\n",
    "This homework assignment has 3 problems, numbered 2, 3, and 4.  The grading breakdown is:\n",
    "\n",
    "| Points | Item |\n",
    "| --- | --- |\n",
    "| 3 | Autograder |\n",
    "| 6 | Problem 2 |\n",
    "| **9** | Total |\n",
    "\n",
    "The part marked \"autograder\" reflects points assigned to your submission based on some simple automated checks for Python syntax, etc.  The result of these checks is shown immediately after you submit.\n",
    "\n",
    "### What to do if you're stuck\n",
    "\n",
    "Ask your instructor or TA a question by email, in office hours, or on discord."
   ]
  },
  {
   "cell_type": "markdown",
   "metadata": {},
   "source": [
    "## Problem 2: Does the maze have a short solution?\n",
    "\n",
    "Like much of worksheet 6, this problem builds on the work we did in [solvemaze.py](https://github.com/emilydumas/mcs275spring2023/blob/main/samplecode/recursion/solvemaze.py).\n",
    "\n",
    "### What the length of a solution means\n",
    "\n",
    "Recall our convention is that the solution to a maze is a list of `Point2` objects.  The **length** of a solution to the maze is defined as the number of objects in that list.  So if the start is at `Point2(1,1)` and the goal is at the adjacent location `Point2(1,2)`, then the list `[Point2(1,1), Point2(1,2)]` would be a solution of length 2.\n",
    "\n",
    "\n",
    "### Your task\n",
    "\n",
    "Write a function `can_be_solved_maxlen(M,k)` that takes a `Maze` object `M`, an integer `k` and returns a boolean value:\n",
    "* `True` if maze `M` has a solution of length `k` or less.\n",
    "* `False` is returned otherwise (i.e. if `M` has no solution at all, or if all solutions to `M` have length greater than `k`).\n",
    "\n",
    "It would be reasonable to use `depth_first_maze_solution` from `solvemaze.py` as a starting point for your work, modifying it to do what is needed in this problem.\n",
    "\n",
    "Put this function in a file called `mcs275hwk6.py` and upload it.  You don't need to upload any other files (e.g. no need to include `plane.py` or `maze.py`).\n",
    "\n",
    "### Something to be careful about\n",
    "\n",
    "A maze might have multiple solutions.  Suppose you find a solution of length 30.  There might be another solution of length 22, and so you can't necessarily determine the return value for `can_be_solved_maxlen(M,25)` on the basis of the length of the first solution that's found."
   ]
  },
  {
   "cell_type": "markdown",
   "metadata": {},
   "source": [
    "## Solution"
   ]
  },
  {
   "cell_type": "markdown",
   "metadata": {},
   "source": [
    "### Method 1: Depth-limited search (best)"
   ]
  },
  {
   "cell_type": "markdown",
   "metadata": {},
   "source": [
    "The code below is an example of a modified version of the depth-first search algorithm, which is called [**depth-limited search**](https://iq.opengenus.org/depth-limited-search/). The key difference here is that if we ever attempt to consider a route that is longer than `k`, we abandon the route.\n",
    "\n",
    "One advantage of this method is that we're only ever considering solutions that are short enough, so we don't need a helper function (unlike in method 2). Another advantage is that this function is much faster than method 2 because there are fewer paths for our recursive function to consider, but method 2 must consider every possible path of the maze.\n",
    "\n",
    "To see the difference between the original `depth_first_maze_solution` and our modified version `can_be_solved_maxlen`, see the following diffchecker link: https://www.diffchecker.com/5ThwZVtG"
   ]
  },
  {
   "cell_type": "code",
   "execution_count": null,
   "metadata": {},
   "outputs": [],
   "source": [
    "def can_be_solved_maxlen(M, k, path=None,verbose=False):\n",
    "    \"\"\"\n",
    "    Returns True if a solution to `M` can be found which is of length\n",
    "    at most `k` (starting from `path`, if given). Else, returns False.\n",
    "    \"\"\"\n",
    "\n",
    "    if path == None:\n",
    "        # no path was specified, initialize it with [M.start]\n",
    "        path = [ M.start ]\n",
    "\n",
    "    if verbose:\n",
    "        print(\"Considering:\",path)\n",
    "\n",
    "    if path[-1] == M.goal:\n",
    "        # path ends with goal, meaning it's a solution\n",
    "        return True\n",
    "    \n",
    "    # If there are no more steps to take and we haven't reached the goal,\n",
    "    # then don't make another recursive call\n",
    "    if k == 0:\n",
    "        return False\n",
    "\n",
    "    possible_next_locations = M.free_neighbors(path[-1])\n",
    "    for x in possible_next_locations:\n",
    "        if x in path:\n",
    "            # skip x\n",
    "            continue # do not execute the rest of the loop body\n",
    "                     # immediately begin the next iteration.\n",
    "        # x should be considered\n",
    "        new_path = path + [x]\n",
    "        # Ask for a solution that continues from new_path \n",
    "        # Reduce `k` by 1 because we've now made another move.\n",
    "        solution = can_be_solved_maxlen(M, k-1, new_path,verbose)\n",
    "        if solution: # If we've found `True` at any point in our search, return True.\n",
    "            return True\n",
    "\n",
    "    # What now? If we end up here, it means no next step leads to a solution\n",
    "    # Hence `path` leads to only dead ends\n",
    "    # We therefore BACKTRACK\n",
    "    if verbose:\n",
    "        print(\"GIVING UP ON:\",path)\n",
    "    return False"
   ]
  },
  {
   "cell_type": "markdown",
   "metadata": {},
   "source": [
    "### Method 2: Find *all* possible solutions (also works, but is slower)"
   ]
  },
  {
   "cell_type": "markdown",
   "metadata": {},
   "source": [
    "We can modify `depth_first_maze_solution` to return every possible solution to the maze. We would use this as a helper function for `can_be_solved_maxlen`, which would check if any of the solutions are of length `k` or less.\n",
    "\n",
    "To see the difference between the original `depth_first_maze_solution` and our modified version `depth_first_all_maze_solutions`, see the following diffchecker link: https://www.diffchecker.com/zLS2aXh6/"
   ]
  },
  {
   "cell_type": "code",
   "execution_count": null,
   "metadata": {},
   "outputs": [],
   "source": [
    "def depth_first_all_maze_solutions(M,path=None,verbose=False):\n",
    "    \"\"\"\n",
    "    Find all solutions to Maze `M` that begin with `path` (if given),\n",
    "    returning a list where every entry is itself a sublist representing a\n",
    "    single solution to the maze.\n",
    "    \"\"\"\n",
    "    if path == None:\n",
    "        # no path was specified, initialize it with [M.start]\n",
    "        path = [ M.start ]\n",
    "\n",
    "    if verbose:\n",
    "        print(\"Considering:\",path)\n",
    "\n",
    "    if path[-1] == M.goal:\n",
    "        # path ends with goal, meaning it's a solution\n",
    "        return [path] # Put the path into a list\n",
    "\n",
    "    possible_next_locations = M.free_neighbors(path[-1])\n",
    "    solutions = []\n",
    "    for x in possible_next_locations:\n",
    "        if x in path:\n",
    "            # skip x\n",
    "            continue # do not execute the rest of the loop body\n",
    "                     # immediately begin the next iteration.\n",
    "        # x should be considered\n",
    "        new_path = path + [x]\n",
    "        # Ask for a solution that continues from new_path            \n",
    "        solution = depth_first_all_maze_solutions(M,new_path,verbose)\n",
    "        if len(solution) > 0:\n",
    "            solutions.extend(solution) # Keep all solutions found from recursive call\n",
    "\n",
    "    # Always return our list of solutions (which may be empty)\n",
    "    return solutions"
   ]
  },
  {
   "cell_type": "markdown",
   "metadata": {},
   "source": [
    "We can use the following code snippet to verify that we find all possible solutions. By creating a $2\\times2$ maze with the start in the upper left corner and the goal in the bottom right, there should only be two possible solutions."
   ]
  },
  {
   "cell_type": "code",
   "execution_count": 1,
   "metadata": {},
   "outputs": [
    {
     "name": "stdout",
     "output_type": "stream",
     "text": [
      "Solution 1: [Point2(0,0), Point2(1,0), Point2(1,1)]\n",
      "Solution 2: [Point2(0,0), Point2(0,1), Point2(1,1)]\n"
     ]
    }
   ],
   "source": [
    "M = maze.Maze(2, 2, start=Point2(0,0), goal=Point2(1,1))\n",
    "\n",
    "# We expect to see two possible solutions for this maze\n",
    "solutions = depth_first_all_maze_solutions(M)\n",
    "for i, solution in enumerate(solutions):\n",
    "    print(\"Solution {}: {}\".format(i+1, solution))"
   ]
  },
  {
   "cell_type": "markdown",
   "metadata": {},
   "source": [
    "Finally, we need to make our function to check if any of the solutions are short enough:"
   ]
  },
  {
   "cell_type": "code",
   "execution_count": null,
   "metadata": {},
   "outputs": [],
   "source": [
    "def can_be_solved_maxlen(M, k):\n",
    "    \"\"\"Check each solution of the maze. If any are less than length k, return True. Else, return False\"\"\"\n",
    "    \n",
    "    for solution in depth_first_all_maze_solutions(M):\n",
    "        if len(solution) <= k:\n",
    "            return True\n",
    "        \n",
    "    # We only reach this line when no suitable solutions are found, so return False\n",
    "    return False"
   ]
  },
  {
   "cell_type": "markdown",
   "metadata": {},
   "source": [
    "### Revision history\n",
    "\n",
    "* 2023-02-16 Initial publication"
   ]
  }
 ],
 "metadata": {
  "kernelspec": {
   "display_name": "Python 3 (ipykernel)",
   "language": "python",
   "name": "python3"
  },
  "language_info": {
   "codemirror_mode": {
    "name": "ipython",
    "version": 3
   },
   "file_extension": ".py",
   "mimetype": "text/x-python",
   "name": "python",
   "nbconvert_exporter": "python",
   "pygments_lexer": "ipython3",
   "version": "3.9.13"
  }
 },
 "nbformat": 4,
 "nbformat_minor": 4
}
