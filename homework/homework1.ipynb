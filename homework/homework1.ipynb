{
 "cells": [
  {
   "cell_type": "markdown",
   "metadata": {},
   "source": [
    "# MCS 275 Spring 2023 Homework 1\n",
    "\n",
    "* Course Instructor: Emily Dumas"
   ]
  },
  {
   "cell_type": "markdown",
   "metadata": {},
   "source": [
    "## Instructions:\n",
    "\n",
    "* Complete the problems below, which ask you to write Python scripts.\n",
    "* Upload your python code directly to gradescope, i.e. upload the `.py` files containing your work.  (If you upload a screenshot or other file format, you won't get credit.)\n",
    "\n",
    "### Deadline\n",
    "This homework assignment must be submitted in Gradescope by **Noon central time on Wednesday 18 January 2023**.\n",
    "\n",
    "(Note:That's a deviation from the usual schedule where homework is due on Tuesdays.)\n",
    "\n",
    "### Collaboration\n",
    "\n",
    "**Collaboration is prohibited**, and you may only access resources (books, online, etc.) listed below.\n",
    "\n",
    "### Content\n",
    "This assignment is based on the first week of lecture, so it's basically some MCS 260-level coding exercises.  Homework 2 will be similar, but more challenging.  Homework 3 will be about new material.\n",
    "\n",
    "### Resources you may consult\n",
    "\n",
    "The course materials you may refer to for this homework are:\n",
    "* [Worksheet 1 Solutions](https://www.dumas.io/teaching/2023/spring/mcs275/nbview/worksheets/worksheet1soln.html)\n",
    "* [Python tour](https://www.dumas.io/teaching/2023/spring/mcs275/nbview/samplecode/python_tour.html)\n",
    "* These other things that are allowed, but probably not needed:\n",
    "    * Any of the MCS 275 slide presentations\n",
    "    * Slides from any lecture of the previous course, [MCS 260, Fall 2021](https://www.dumas.io/teaching/2021/fall/mcs260/).\n",
    "    * Any lecture video posted on the [course Blackboard site](https://uic.blackboard.com/ultra/courses/_247708_1/cl/outline)\n",
    "    * [Downey's book](https://greenteapress.com/thinkpython2/html/)\n",
    "    * Any other textbook listed on the course blackboard site under \"Textbooks\"\n",
    "    * Anything in the course [sample code repository](https://github.com/emilydumas/mcs275spring2023/tree/main/samplecode).\n",
    "\n",
    "### Point distribution\n",
    "\n",
    "This homework assignment has 2 problems, numbered 2 and 3.  The grading breakdown is:\n",
    "\n",
    "| Points | Item |\n",
    "| --- | --- |\n",
    "| 3 | Autograder |\n",
    "| 6 | Problem 2 |\n",
    "| 6 | Problem 3 |\n",
    "| **15** | Total |\n",
    "\n",
    "The part marked \"autograder\" reflects points assigned to your submission based on some simple automated checks for Python syntax, etc.  The result of these checks is shown immediately after you submit.\n",
    "\n",
    "### What to do if you're stuck\n",
    "\n",
    "Ask your instructor or TA a question by email, in office hours, or on discord."
   ]
  },
  {
   "cell_type": "markdown",
   "metadata": {},
   "source": [
    "## Problem 1 doesn't exist\n",
    "\n",
    "In Gradescope, the score assigned to your homework submission by the autograder (checking for syntax and docstrings) will be recorded as \"Problem 1\".  Therefore, the numbering of the actual problems begins with 2.\n",
    "\n",
    "**This will happen on every assignment this semester.**"
   ]
  },
  {
   "cell_type": "markdown",
   "metadata": {},
   "source": [
    "## Problem 2: Grid window"
   ]
  },
  {
   "cell_type": "markdown",
   "metadata": {},
   "source": [
    "One of the exercises on worksheet 1 asked you to make a program to draw a box using unicode box-drawing characters.  A 10x5 box (width x height) of that type looks like this:\n",
    "```\n",
    "╔════════╗ \n",
    "║        ║\n",
    "║        ║\n",
    "║        ║\n",
    "╚════════╝\n",
    "```\n",
    "In this problem you'll modify this program in a few ways.  First, we'll deal with a simpler version of box-drawing that doesn't involve so many unusual characters.  Instead, `+` will be used for corners and `-` or `|` will be used for edges.  The box above would be rendered this way as follows:\n",
    "```\n",
    "+--------+ \n",
    "|        |\n",
    "|        |\n",
    "|        |\n",
    "+--------+ \n",
    "```\n",
    "In addition to changing the box-drawing symbols, for this problem you will want to think of the box drawn by the other program as a window (as you might have on the wall to look outside), to which we'll be adding a grid that subdivides that window into smaller panes.  For example, if the box above were subdivided into a 3x2 grid (horizontal count x vertical count), we'd get this:\n",
    "```\n",
    "+--+--+--+ \n",
    "|  |  |  |\n",
    "+--+--+--+\n",
    "|  |  |  |\n",
    "+--+--+--+ \n",
    "```\n",
    "Notice that `+` is used for corners and for all 3- and 4-way junctions.\n",
    "\n",
    "Now, critically, we fix terminology to describe this situation.  The grid window shown above would be called a **3x2 grid of 4x3 panes** because:\n",
    "* The smallest rectangles in the picture are 4x3 when you include the outline, like this:\n",
    "\n",
    "```\n",
    "+--+  4 characters wide\n",
    "|  |  3 lines tall\n",
    "+--+\n",
    "```\n",
    "\n",
    "* It's described as a 3x2 grid because there are 3 rectangles horizontally, and 2 rectangles vertically.\n",
    "\n",
    "**Write a program called `hwk1prob2.py` that contains the following:**\n",
    "* A function `gridwindow` that accepts four integer arguments `nx`,`ny`, `xsize`, `ysize` and returns a string.  If printed to the screen, that string should look like a `nx` x `ny` grid of `xsize` x `ysize` panes.\n",
    "* A main program that calls the function `gridwindow`, using the first four command line arguments to get the function arguments (which need conversion to integers), and which prints the return value to the terminal.\n",
    "\n",
    "So for example\n",
    "```\n",
    "python3 hwk1prob2.py 2 5 4 3\n",
    "```\n",
    "means \"2x5 grid of 4x3 panes\" and should print the following to the terminal and exit:\n",
    "```\n",
    "+--+--+\n",
    "|  |  |\n",
    "+--+--+\n",
    "|  |  |\n",
    "+--+--+\n",
    "|  |  |\n",
    "+--+--+\n",
    "|  |  |\n",
    "+--+--+\n",
    "|  |  |\n",
    "+--+--+\n",
    "```\n",
    "\n",
    "**Notes and tricky spots**\n",
    "* This program shouldn't do any file input or output.  That's a difference from worksheet 1 which also changes which command line arguments you need to use for the dimensions.\n",
    "* Note that `xsize` and `ysize` are the sizes of the smallest rectangles you see, not the overall window.\n",
    "* We don't duplicate the edges of adjacent rectangles, i.e. this would be incorrect:\n",
    "\n",
    "```\n",
    "+--++--++--+\n",
    "|  ||  ||  |\n",
    "+--++--++--+   INCORRECT!\n",
    "+--++--++--+\n",
    "|  ||  ||  |\n",
    "+--++--++--+\n",
    "```\n",
    "\n",
    "* You can assume `nx` and `ny` are at least 1, and that `xsize` and `ysize` are at least 2.\n"
   ]
  },
  {
   "cell_type": "markdown",
   "metadata": {},
   "source": [
    "## Problem 3: All-digit square\n",
    "\n",
    "Write a program that will find and print the smallest integer perfect square (a number of the form `a**2`, with `a` an integer) whose expression in base 10 (decimal) contains every one of the digits `0`, `1`, `2`, ..., `9`.\n",
    "\n",
    "Note you're printing `a**2` (the square), not the number `a` whose square has this property.\n",
    "\n",
    "Submit this program as `hwk1prob3.py`."
   ]
  },
  {
   "cell_type": "markdown",
   "metadata": {},
   "source": [
    "### Revision history\n",
    "\n",
    "* 2023-01-12 Initial publication"
   ]
  }
 ],
 "metadata": {
  "kernelspec": {
   "display_name": "Python 3 (ipykernel)",
   "language": "python",
   "name": "python3"
  },
  "language_info": {
   "codemirror_mode": {
    "name": "ipython",
    "version": 3
   },
   "file_extension": ".py",
   "mimetype": "text/x-python",
   "name": "python",
   "nbconvert_exporter": "python",
   "pygments_lexer": "ipython3",
   "version": "3.10.6"
  }
 },
 "nbformat": 4,
 "nbformat_minor": 4
}
