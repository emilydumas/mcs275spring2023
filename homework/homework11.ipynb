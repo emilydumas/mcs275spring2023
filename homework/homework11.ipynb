{
 "cells": [
  {
   "cell_type": "markdown",
   "metadata": {},
   "source": [
    "# MCS 275 Spring 2023 Homework 11\n",
    "\n",
    "* Course Instructor: Emily Dumas"
   ]
  },
  {
   "cell_type": "markdown",
   "metadata": {},
   "source": [
    "## Instructions:\n",
    "\n",
    "* Complete the problems below, which ask you to write matplotlib code in a Python notebook.\n",
    "* Upload the resulting notebook directly to gradescope, i.e. upload the `.ipynb` file containing your work.\n",
    "\n",
    "### Deadline\n",
    "This homework assignment must be submitted in Gradescope by **Noon central time on Tuesday April 4, 2023**.\n",
    "\n",
    "### Collaboration\n",
    "\n",
    "**Collaboration is prohibited**, and you may only access resources (books, online, etc.) listed below.\n",
    "\n",
    "### Content\n",
    "\n",
    "This homework is about `matplotlib`.\n",
    "\n",
    "## Resources you may consult\n",
    "\n",
    "Most relevant:    \n",
    "* [Worksheet 11 Solutions](https://www.dumas.io/teaching/2023/spring/mcs275/nbview/worksheets/worksheet11soln.html)\n",
    "* [Lecture 24 - Julia sets](http://dumas.io/teaching/2023/spring/mcs275/slides/lecture24.html)\n",
    "* [Lecture 25 - Matplotlib](http://dumas.io/teaching/2023/spring/mcs275/slides/lecture25.html)\n",
    "* [Lecture 26 - Matplotlib 2](http://dumas.io/teaching/2023/spring/mcs275/slides/lecture26.html)\n",
    "* [VanderPlas](https://jakevdp.github.io/PythonDataScienceHandbook/):\n",
    "    * Chapter 2 covers numpy\n",
    "* [Numpy documentation](https://numpy.org/doc/)\n",
    "* [Course sample code repo](https://github.com/emilydumas/mcs275spring2023/blob/main/samplecode/)\n",
    "* [Downey's book](https://greenteapress.com/thinkpython2/html/)\n",
    "* MCS 260 course materials from Fall 2021:\n",
    "    * [Slides, homework, worksheets, and projects](https://www.dumas.io/teaching/2021/fall/mcs260/)\n",
    "    * [Sample programs](https://github.com/emilydumas/mcs260fall2021/tree/main/samplecode)\n",
    "\n",
    "Less likely to be relevant, but also allowed:\n",
    "* Any other lecture of MCS 275 spring 2023.\n",
    "* [Python tour](https://www.dumas.io/teaching/2023/spring/mcs275/nbview/samplecode/python_tour.html)\n",
    "* Slides from any lecture of my most recent MCS 260 course [MCS 260, Fall 2021](https://www.dumas.io/teaching/2021/fall/mcs260/).\n",
    "* Any lecture video posted on our [course Blackboard site](https://uic.blackboard.com/ultra/courses/_247708_1/cl/outline)\n",
    "* [Downey's book](https://greenteapress.com/thinkpython2/html/)\n",
    "* Any other textbook listed on the course blackboard site under \"Textbooks\"\n",
    "\n",
    "### Point distribution\n",
    "\n",
    "This homework assignment has 2 problems, numbered 2 and 3.  The grading breakdown is:\n",
    "\n",
    "| Points | Item |\n",
    "| --- | --- |\n",
    "| 3 | Autograder |\n",
    "| 6 | Problem 2 |\n",
    "| 6 | Problem 3 |\n",
    "| **15** | Total |\n",
    "\n",
    "The part marked \"autograder\" reflects points assigned to your submission based on some simple automated checks for Python syntax, etc.  The result of these checks is shown immediately after you submit.\n",
    "\n",
    "### What to do if you're stuck\n",
    "\n",
    "Ask your instructor or TA a question by email, in office hours, or on discord."
   ]
  },
  {
   "cell_type": "markdown",
   "metadata": {},
   "source": [
    "## Submit as a notebook\n",
    "\n",
    "Submit your work on this assignment as a notebook file `hwk11.ipynb`.  You can create that notebook from scratch or you can just add your solutions to the notebook file containing the assignment.  Do whatever you find most convenient."
   ]
  },
  {
   "cell_type": "markdown",
   "metadata": {},
   "source": [
    "## Problem 2: Plot from description\n",
    "\n",
    "Make a figure with a single set of axes.  The horizontal axis should be labeled $n$ and the vertical axis should be labeled $y$.  Two sets of data should be shown on those axes:\n",
    "* For integers $n$ from 0 to 20, the points $(n,\\log(F_n))$ where $F_n$ is the $n^{\\mathrm{th}}$ Fibonacci number, should be marked by blue dots (not joined by lines at all).\n",
    "* The line $y = c n$ where $c=\\log \\left ( \\frac{1 + \\sqrt{5}}{2} \\right ) \\approx 0.48121182505960347$ is drawn in red, with a thin line width.\n",
    "\n",
    "Give the plot a title \"Log Fibonacci numbers\".\n",
    "\n",
    "Note: The $n^{\\mathrm{th}}$ Fibonacci number is quite close to $\\left (\\frac{1 + \\sqrt{5}}{2} \\right)^n$, so your plot should show a line and a bunch of dots that are close to that line!"
   ]
  },
  {
   "cell_type": "markdown",
   "metadata": {},
   "source": [
    "## Problem 3: Plot from picture\n",
    "\n",
    "Write matplotlib code to produce a plot as similar to this one as you can manage.  (Including the grid lines you see here is optional; they're the default in the stylesheet recommended in VanderPlas's book.)\n",
    "\n",
    "![](images/hw11-intended-output.png)"
   ]
  },
  {
   "cell_type": "markdown",
   "metadata": {},
   "source": [
    "### Revision history\n",
    "\n",
    "* 2023-03-31 Initial publication"
   ]
  }
 ],
 "metadata": {
  "kernelspec": {
   "display_name": "Python 3 (ipykernel)",
   "language": "python",
   "name": "python3"
  },
  "language_info": {
   "codemirror_mode": {
    "name": "ipython",
    "version": 3
   },
   "file_extension": ".py",
   "mimetype": "text/x-python",
   "name": "python",
   "nbconvert_exporter": "python",
   "pygments_lexer": "ipython3",
   "version": "3.10.6"
  }
 },
 "nbformat": 4,
 "nbformat_minor": 4
}
